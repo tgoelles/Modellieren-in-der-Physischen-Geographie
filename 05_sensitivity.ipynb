{
 "cells": [
  {
   "cell_type": "markdown",
   "metadata": {},
   "source": [
    "# Sensitivity analysis \n",
    "using OGGM edu glacier model\n",
    "by Thomas Gölles, 2024"
   ]
  },
  {
   "cell_type": "code",
   "execution_count": 29,
   "metadata": {},
   "outputs": [
    {
     "name": "stdout",
     "output_type": "stream",
     "text": [
      "salib version:  1.4.7\n"
     ]
    }
   ],
   "source": [
    "from oggm_edu import GlacierBed, Glacier, MassBalance, GlacierCollection\n",
    "import SALib\n",
    "from SALib.sample.sobol import sample\n",
    "from SALib.analyze.sobol import analyze\n",
    "import numpy as np\n",
    "\n",
    "from matplotlib import pyplot as plt\n",
    "\n",
    "print(\"salib version: \", SALib.__version__)"
   ]
  },
  {
   "cell_type": "markdown",
   "metadata": {},
   "source": [
    "## General OGGM definitions"
   ]
  },
  {
   "cell_type": "code",
   "execution_count": null,
   "metadata": {},
   "outputs": [],
   "source": [
    "# Lets define the bed.\n",
    "# Top and bottom altitude.\n",
    "top = 5000\n",
    "bottom = 0\n",
    "# How far does the accumulation area extend?\n",
    "accumulation_fraction = 1 / 3\n",
    "# ELA altitude\n",
    "ela_alt = (top - bottom) * (1 - accumulation_fraction)\n",
    "# Accumulation area starts out as 1000 m. wide.\n",
    "top_width = 1000\n",
    "# 500 m. wide after ELA.\n",
    "ela_width = 500\n",
    "\n",
    "# Bed, note that we increase the map_dx here,\n",
    "# we increase the grid point spacing.\n",
    "bed = GlacierBed(\n",
    "    altitudes=[top, ela_alt, bottom],\n",
    "    widths=[top_width, ela_width, ela_width],\n",
    "    map_dx=200,\n",
    ")"
   ]
  },
  {
   "cell_type": "markdown",
   "metadata": {},
   "source": [
    "Lets investigate how the mass blance influences the volume"
   ]
  },
  {
   "cell_type": "code",
   "execution_count": null,
   "metadata": {},
   "outputs": [],
   "source": [
    "mb_gradient = 7\n",
    "mass_balance = MassBalance(ela=ela_alt, gradient=mb_gradient)"
   ]
  },
  {
   "cell_type": "code",
   "execution_count": null,
   "metadata": {},
   "outputs": [],
   "source": [
    "mass_balance.ela"
   ]
  },
  {
   "cell_type": "code",
   "execution_count": null,
   "metadata": {},
   "outputs": [],
   "source": [
    "glacier = Glacier(bed, mass_balance=mass_balance)\n",
    "glacier.progress_to_equilibrium()"
   ]
  },
  {
   "cell_type": "code",
   "execution_count": null,
   "metadata": {},
   "outputs": [],
   "source": [
    "glacier"
   ]
  },
  {
   "cell_type": "code",
   "execution_count": null,
   "metadata": {},
   "outputs": [],
   "source": [
    "glacier.plot()"
   ]
  },
  {
   "cell_type": "code",
   "execution_count": null,
   "metadata": {},
   "outputs": [],
   "source": [
    "glacier.plot_history()"
   ]
  },
  {
   "cell_type": "code",
   "execution_count": null,
   "metadata": {},
   "outputs": [],
   "source": [
    "glacier.history"
   ]
  },
  {
   "cell_type": "markdown",
   "metadata": {},
   "source": [
    "We need a function which takes the mb_graident and gives us the resulting glacier in quilibrium. Then we varay the massbalance gradient and analyse the outcome."
   ]
  },
  {
   "cell_type": "code",
   "execution_count": null,
   "metadata": {},
   "outputs": [],
   "source": [
    "def evaluate_model(mb_gradient):\n",
    "    mass_balance = MassBalance(ela=ela_alt, gradient=mb_gradient)\n",
    "    glacier = Glacier(bed, mass_balance=mass_balance)\n",
    "    glacier.progress_to_equilibrium()\n",
    "    return glacier"
   ]
  },
  {
   "cell_type": "markdown",
   "metadata": {},
   "source": [
    "## OAT sensitivity analysis"
   ]
  },
  {
   "cell_type": "markdown",
   "metadata": {},
   "source": [
    "We interessed in the equilibirum glacier volume. And we want to know how the glacier reacts to massbalance gadients form 0.01 to 10."
   ]
  },
  {
   "cell_type": "code",
   "execution_count": null,
   "metadata": {},
   "outputs": [],
   "source": [
    "mb_gradient_min = 0.01\n",
    "mb_gradient_max = 10\n",
    "number_of_samples = 100\n",
    "np.random.seed(0)  # so the results are reproducible and everyone gets the same results\n",
    "mb_gradient_samples = np.random.uniform(\n",
    "    mb_gradient_min, mb_gradient_max, number_of_samples\n",
    ")\n",
    "mb_gradient_samples"
   ]
  },
  {
   "cell_type": "markdown",
   "metadata": {},
   "source": [
    "Ok, now we have the sample for our one one at the time sensitivity analysis."
   ]
  },
  {
   "cell_type": "markdown",
   "metadata": {},
   "source": [
    "Now lets generate a list with all the glaciers for the different mass balance gradients. We need an empty list to which we append the results run in a for loop:"
   ]
  },
  {
   "cell_type": "code",
   "execution_count": null,
   "metadata": {},
   "outputs": [],
   "source": [
    "results = []\n",
    "for mb_gradient in mb_gradient_samples:\n",
    "    glacier = evaluate_model(mb_gradient)\n",
    "    results.append(glacier)\n",
    "    print(f\"Done with mb_gradient: {mb_gradient}\")"
   ]
  },
  {
   "cell_type": "markdown",
   "metadata": {},
   "source": [
    "Now OGGM_edu has a usefull class called GlacierCollection"
   ]
  },
  {
   "cell_type": "code",
   "execution_count": null,
   "metadata": {},
   "outputs": [],
   "source": [
    "ota_runs = GlacierCollection(results)"
   ]
  },
  {
   "cell_type": "markdown",
   "metadata": {},
   "source": [
    "Now lets plot the equilibrium volume vs the mass balance gradient:"
   ]
  },
  {
   "cell_type": "code",
   "execution_count": null,
   "metadata": {},
   "outputs": [],
   "source": [
    "plt.scatter(mb_gradient_samples, ota_runs.summary()[\"Volume [km3]\"])\n",
    "plt.xlabel(\"Mass balance gradient\")\n",
    "plt.ylabel(\"Volume [km3]\")"
   ]
  },
  {
   "cell_type": "markdown",
   "metadata": {},
   "source": [
    "What do we see here?\n",
    "\n",
    "* The volume depends on the mass balance gradient\n",
    "* it is non-linear\n",
    "* it looks exponential\n",
    "* where there is a lot of change at low mass balance gradients we have rader few points"
   ]
  },
  {
   "cell_type": "markdown",
   "metadata": {},
   "source": [
    "What are soem real world implications*\n",
    "\n",
    "* Glaciers with low mass balance gradient are more sensitive to climate"
   ]
  },
  {
   "cell_type": "markdown",
   "metadata": {},
   "source": [
    "Limitations of OAT:\n",
    "\n",
    "* no interactions between multiple factors \n",
    "* in reality multiply factors change at teh same time\n",
    "\n",
    "OAT is usefull for inital insights but to capture feedbacks more advanced sensitivity analysis methods are needed."
   ]
  },
  {
   "cell_type": "markdown",
   "metadata": {},
   "source": [
    "## Using SALib and the Sobol method with one varible"
   ]
  },
  {
   "cell_type": "markdown",
   "metadata": {},
   "source": [
    "Lets repeat the same experiment but using SALib.\n",
    "First we need to defien the \"priboblem\", i.e, the epxeriment \n",
    "Again vary the mb gradient form 0.01 to 10"
   ]
  },
  {
   "cell_type": "code",
   "execution_count": null,
   "metadata": {},
   "outputs": [],
   "source": [
    "problem = {\"num_vars\": 1, \"names\": [\"mb_gradient\"], \"bounds\": [[0.01, 10]]}"
   ]
  },
  {
   "cell_type": "markdown",
   "metadata": {},
   "source": [
    "Instead of choosing randomly we use the Sobol sampler"
   ]
  },
  {
   "cell_type": "code",
   "execution_count": null,
   "metadata": {},
   "outputs": [],
   "source": [
    "number_of_samples = 50"
   ]
  },
  {
   "cell_type": "markdown",
   "metadata": {},
   "source": [
    "Now lets generate the samples. i.e. the list of inputs to test the model with"
   ]
  },
  {
   "cell_type": "code",
   "execution_count": null,
   "metadata": {},
   "outputs": [],
   "source": [
    "param_values = sobol.sample(problem, number_of_samples)"
   ]
  },
  {
   "cell_type": "code",
   "execution_count": null,
   "metadata": {},
   "outputs": [],
   "source": [
    "param_values"
   ]
  },
  {
   "cell_type": "markdown",
   "metadata": {},
   "source": [
    "we reuse the function \"elevate_model\" from above. Which takes the mb_gradient as input and runs the glacier to equilibrium.\n",
    "We need to adjust the for loop a bit since, the param_values with our sampel is a list of lists. (therfore the forcing[0])\n",
    "\n"
   ]
  },
  {
   "cell_type": "code",
   "execution_count": null,
   "metadata": {},
   "outputs": [],
   "source": [
    "results = []\n",
    "for forcing in param_values:\n",
    "    mb_gradient = forcing[0]\n",
    "    glacier = evaluate_model(forcing)\n",
    "    results.append(glacier)\n",
    "    print(f\"Done with mb_gradient: {mb_gradient}\")"
   ]
  },
  {
   "cell_type": "code",
   "execution_count": null,
   "metadata": {},
   "outputs": [],
   "source": [
    "sobol_runs = GlacierCollection(results)"
   ]
  },
  {
   "cell_type": "code",
   "execution_count": null,
   "metadata": {},
   "outputs": [],
   "source": [
    "plt.scatter(param_values, sobol_runs.summary()[\"Volume [km3]\"])\n",
    "plt.xlabel(\"Mass balance gradient\")\n",
    "plt.ylabel(\"Volume [km3]\")"
   ]
  },
  {
   "cell_type": "markdown",
   "metadata": {},
   "source": [
    "What to we see here?\n",
    "\n",
    "* more evently spaced samples\n",
    "* the same conclustions as with the somple OAT approach.\n",
    "\n",
    "Now we can actually analyse the Sobol Sensitivity measures:"
   ]
  },
  {
   "cell_type": "code",
   "execution_count": 30,
   "metadata": {},
   "outputs": [],
   "source": [
    "sobol_result = analyze(problem, sobol_runs.summary()[\"Volume [km3]\"].values)"
   ]
  },
  {
   "cell_type": "code",
   "execution_count": 31,
   "metadata": {},
   "outputs": [
    {
     "data": {
      "text/plain": [
       "{'S1': array([1.03197198]),\n",
       " 'S1_conf': array([0.39282944]),\n",
       " 'ST': array([0.99928594]),\n",
       " 'ST_conf': array([0.24081578]),\n",
       " 'S2': array([[nan]]),\n",
       " 'S2_conf': array([[nan]])}"
      ]
     },
     "execution_count": 31,
     "metadata": {},
     "output_type": "execute_result"
    }
   ],
   "source": [
    "sobol_result"
   ]
  },
  {
   "cell_type": "markdown",
   "metadata": {},
   "source": [
    "What do the values mean?\n",
    "\n",
    "* S1 is the first-order sensitivity index and should be between 0 and 1\n",
    "* S1 is larger than 1 => might need more samples. In this case it should be 1 since all the Variance of the output is form one input (the mass balance gradient)\n",
    "* S1_conf quite large so significant uncertainties about the S1\n",
    "\n",
    "* ST the Total Sensitivity Index sould also be 1 and the same is S1 since ther are not interactions with other variables\n",
    "\n",
    "* S2 has a  not a number value (nan), since we only had one paramter.\n",
    "\n",
    "So sobol sensitivity for one varialbe gives not much more insight then OTA, but now lets try it for multiple inputs\n"
   ]
  },
  {
   "cell_type": "markdown",
   "metadata": {},
   "source": [
    "## Sobol sensitivity for multiple inputs"
   ]
  },
  {
   "cell_type": "code",
   "execution_count": 35,
   "metadata": {},
   "outputs": [],
   "source": [
    "def evaluate_model_multi(mb_gradient, ela_width, add_to_with_at_top):\n",
    "    top = 5000\n",
    "    bottom = 0\n",
    "\n",
    "    accumulation_fraction = 1 / 3\n",
    "    ela_alt = (top - bottom) * (1 - accumulation_fraction)\n",
    "    top_width = ela_width + add_to_with_at_top\n",
    "    bed = GlacierBed(\n",
    "        altitudes=[top, ela_alt, bottom],\n",
    "        widths=[top_width, ela_width, ela_width],\n",
    "        map_dx=200,\n",
    "    )\n",
    "    mass_balance = MassBalance(ela=ela_alt, gradient=mb_gradient)\n",
    "    glacier = Glacier(bed, mass_balance=mass_balance)\n",
    "    glacier.progress_to_equilibrium()\n",
    "    return glacier"
   ]
  },
  {
   "cell_type": "code",
   "execution_count": 39,
   "metadata": {},
   "outputs": [],
   "source": [
    "problem = {\n",
    "    \"num_vars\": 3,\n",
    "    \"names\": [\"mb_gradient\", \"ela_width\", \"add_to_with_at_top\"],\n",
    "    \"bounds\": [\n",
    "        [0.01, 10],\n",
    "        [500, 2000],\n",
    "        [0, 1000],\n",
    "    ],\n",
    "}"
   ]
  },
  {
   "cell_type": "code",
   "execution_count": 40,
   "metadata": {},
   "outputs": [],
   "source": [
    "number_of_samples = 50"
   ]
  },
  {
   "cell_type": "code",
   "execution_count": 41,
   "metadata": {},
   "outputs": [],
   "source": [
    "param_values = sample(problem, number_of_samples)"
   ]
  },
  {
   "cell_type": "code",
   "execution_count": 44,
   "metadata": {},
   "outputs": [
    {
     "name": "stdout",
     "output_type": "stream",
     "text": [
      "Done with forcings: [   7.19280545 1174.74333104  683.43541026]\n",
      "Done with forcings: [9.76726892e-01 1.17474333e+03 6.83435410e+02]\n",
      "Done with forcings: [   7.19280545 1838.0190758   683.43541026]\n",
      "Done with forcings: [   7.19280545 1174.74333104   86.19310148]\n",
      "Done with forcings: [   7.19280545 1838.0190758    86.19310148]\n",
      "Done with forcings: [9.76726892e-01 1.17474333e+03 8.61931015e+01]\n",
      "Done with forcings: [9.76726892e-01 1.83801908e+03 6.83435410e+02]\n",
      "Done with forcings: [9.76726892e-01 1.83801908e+03 8.61931015e+01]\n",
      "Done with forcings: [8.10892029e-01 1.65748920e+03 5.93973454e+01]\n",
      "Done with forcings: [   6.77541345 1657.48919966   59.39734541]\n",
      "Done with forcings: [8.10892029e-01 9.13826796e+02 5.93973454e+01]\n",
      "Done with forcings: [8.10892029e-01 1.65748920e+03 9.51836203e+02]\n",
      "Done with forcings: [8.10892029e-01 9.13826796e+02 9.51836203e+02]\n",
      "Done with forcings: [   6.77541345 1657.48919966  951.83620322]\n",
      "Done with forcings: [  6.77541345 913.82679576  59.39734541]\n",
      "Done with forcings: [  6.77541345 913.82679576 951.83620322]\n",
      "Done with forcings: [  3.84542504 814.10325365 971.1360978 ]\n",
      "Done with forcings: [  4.84722024 814.10325365 971.1360978 ]\n",
      "Done with forcings: [  3.84542504 715.4346006  971.1360978 ]\n",
      "Done with forcings: [  3.84542504 814.10325365 682.50118662]\n",
      "Done with forcings: [  3.84542504 715.4346006  682.50118662]\n",
      "Done with forcings: [  4.84722024 814.10325365 682.50118662]\n",
      "Done with forcings: [  4.84722024 715.4346006  971.1360978 ]\n",
      "Done with forcings: [  4.84722024 715.4346006  682.50118662]\n",
      "Done with forcings: [   8.08245968 1268.85740738  349.08041637]\n",
      "Done with forcings: [   8.06576793 1268.85740738  349.08041637]\n",
      "Done with forcings: [   8.08245968 1286.5945776   349.08041637]\n",
      "Done with forcings: [   8.08245968 1268.85740738  293.01715083]\n",
      "Done with forcings: [   8.08245968 1286.5945776   293.01715083]\n",
      "Done with forcings: [   8.06576793 1268.85740738  293.01715083]\n",
      "Done with forcings: [   8.06576793 1286.5945776   349.08041637]\n",
      "Done with forcings: [   8.06576793 1286.5945776   293.01715083]\n",
      "Done with forcings: [  9.2323266  672.39360185 203.75137962]\n",
      "Done with forcings: [  9.32570233 672.39360185 203.75137962]\n",
      "Done with forcings: [   9.2323266  1541.26843764  203.75137962]\n",
      "Done with forcings: [  9.2323266  672.39360185 153.80198602]\n",
      "Done with forcings: [   9.2323266  1541.26843764  153.80198602]\n",
      "Done with forcings: [  9.32570233 672.39360185 153.80198602]\n",
      "Done with forcings: [   9.32570233 1541.26843764  203.75137962]\n",
      "Done with forcings: [   9.32570233 1541.26843764  153.80198602]\n",
      "Done with forcings: [   2.5377303  1506.51861634  585.5747126 ]\n",
      "Done with forcings: [   3.5665728  1506.51861634  585.5747126 ]\n",
      "Done with forcings: [  2.5377303  613.13861609 585.5747126 ]\n",
      "Done with forcings: [   2.5377303  1506.51861634  761.30443625]\n",
      "Done with forcings: [  2.5377303  613.13861609 761.30443625]\n",
      "Done with forcings: [   3.5665728  1506.51861634  761.30443625]\n",
      "Done with forcings: [  3.5665728  613.13861609 585.5747126 ]\n",
      "Done with forcings: [  3.5665728  613.13861609 761.30443625]\n",
      "Done with forcings: [   2.11889151 1038.13273739  383.8035753 ]\n",
      "Done with forcings: [   5.5332534  1038.13273739  383.8035753 ]\n",
      "Done with forcings: [   2.11889151 1163.09923446  383.8035753 ]\n",
      "Done with forcings: [   2.11889151 1038.13273739  624.86581318]\n",
      "Done with forcings: [   2.11889151 1163.09923446  624.86581318]\n",
      "Done with forcings: [   5.5332534  1038.13273739  624.86581318]\n",
      "Done with forcings: [   5.5332534  1163.09923446  383.8035753 ]\n",
      "Done with forcings: [   5.5332534  1163.09923446  624.86581318]\n",
      "Done with forcings: [   6.04385302 1891.50761114  763.69898859]\n",
      "Done with forcings: [   2.19816915 1891.50761114  763.69898859]\n",
      "Done with forcings: [   6.04385302 1741.12491496  763.69898859]\n",
      "Done with forcings: [   6.04385302 1891.50761114  477.72964183]\n",
      "Done with forcings: [   6.04385302 1741.12491496  477.72964183]\n",
      "Done with forcings: [   2.19816915 1891.50761114  477.72964183]\n",
      "Done with forcings: [   2.19816915 1741.12491496  763.69898859]\n",
      "Done with forcings: [   2.19816915 1741.12491496  477.72964183]\n",
      "Done with forcings: [  5.16660853 718.26430736 479.27533649]\n",
      "Done with forcings: [  2.58440632 718.26430736 479.27533649]\n",
      "Done with forcings: [   5.16660853 1030.06991092  479.27533649]\n",
      "Done with forcings: [  5.16660853 718.26430736 330.4938823 ]\n",
      "Done with forcings: [   5.16660853 1030.06991092  330.4938823 ]\n",
      "Done with forcings: [  2.58440632 718.26430736 330.4938823 ]\n",
      "Done with forcings: [   2.58440632 1030.06991092  479.27533649]\n",
      "Done with forcings: [   2.58440632 1030.06991092  330.4938823 ]\n",
      "Done with forcings: [   1.59800295 1366.74342118  857.19276965]\n",
      "Done with forcings: [   9.54686027 1366.74342118  857.19276965]\n",
      "Done with forcings: [1.59800295e+00 1.95636867e+03 8.57192770e+02]\n",
      "Done with forcings: [   1.59800295 1366.74342118  691.90160092]\n",
      "Done with forcings: [1.59800295e+00 1.95636867e+03 6.91901601e+02]\n",
      "Done with forcings: [   9.54686027 1366.74342118  691.90160092]\n",
      "Done with forcings: [   9.54686027 1956.36866661  857.19276965]\n",
      "Done with forcings: [   9.54686027 1956.36866661  691.90160092]\n",
      "Done with forcings: [   3.69732871 1085.85756458  175.17413478]\n",
      "Done with forcings: [   1.36752573 1085.85756458  175.17413478]\n",
      "Done with forcings: [   3.69732871 1407.68980887  175.17413478]\n",
      "Done with forcings: [   3.69732871 1085.85756458  922.66242858]\n",
      "Done with forcings: [   3.69732871 1407.68980887  922.66242858]\n",
      "Done with forcings: [   1.36752573 1085.85756458  922.66242858]\n",
      "Done with forcings: [1.36752573e+00 1.40768981e+03 1.75174135e+02]\n",
      "Done with forcings: [1.36752573e+00 1.40768981e+03 9.22662429e+02]\n",
      "Done with forcings: [   9.48916533 1749.8782943   551.1629479 ]\n",
      "Done with forcings: [   5.91508053 1749.8782943   551.1629479 ]\n",
      "Done with forcings: [  9.48916533 828.56550673 551.1629479 ]\n",
      "Done with forcings: [   9.48916533 1749.8782943    37.24402189]\n",
      "Done with forcings: [  9.48916533 828.56550673  37.24402189]\n",
      "Done with forcings: [   5.91508053 1749.8782943    37.24402189]\n",
      "Done with forcings: [  5.91508053 828.56550673 551.1629479 ]\n",
      "Done with forcings: [  5.91508053 828.56550673  37.24402189]\n",
      "Done with forcings: [  8.1426566  939.73040394 876.6686134 ]\n",
      "Done with forcings: [  7.17157799 939.73040394 876.6686134 ]\n",
      "Done with forcings: [  8.1426566  591.37819102 876.6686134 ]\n",
      "Done with forcings: [  8.1426566  939.73040394 397.77268004]\n",
      "Done with forcings: [  8.1426566  591.37819102 397.77268004]\n",
      "Done with forcings: [  7.17157799 939.73040394 397.77268004]\n",
      "Done with forcings: [  7.17157799 591.37819102 876.6686134 ]\n",
      "Done with forcings: [  7.17157799 591.37819102 397.77268004]\n",
      "Done with forcings: [   4.88581936 1986.0976371   256.53738715]\n",
      "Done with forcings: [9.27399080e-02 1.98609764e+03 2.56537387e+02]\n",
      "Done with forcings: [   4.88581936 1515.93669318  256.53738715]\n",
      "Done with forcings: [   4.88581936 1986.0976371   501.69610605]\n",
      "Done with forcings: [   4.88581936 1515.93669318  501.69610605]\n",
      "Done with forcings: [9.27399080e-02 1.98609764e+03 5.01696106e+02]\n",
      "Done with forcings: [9.27399080e-02 1.51593669e+03 2.56537387e+02]\n",
      "Done with forcings: [9.27399080e-02 1.51593669e+03 5.01696106e+02]\n",
      "Done with forcings: [4.09817340e-01 5.80211669e+02 7.11008378e+02]\n",
      "Done with forcings: [  8.31041416 580.21166874 711.0083783 ]\n",
      "Done with forcings: [4.09817340e-01 1.71304717e+03 7.11008378e+02]\n",
      "Done with forcings: [4.09817340e-01 5.80211669e+02 8.65185481e+02]\n",
      "Done with forcings: [4.09817340e-01 1.71304717e+03 8.65185481e+02]\n",
      "Done with forcings: [  8.31041416 580.21166874 865.18548056]\n",
      "Done with forcings: [   8.31041416 1713.04717241  711.0083783 ]\n",
      "Done with forcings: [   8.31041416 1713.04717241  865.18548056]\n",
      "Done with forcings: [   6.51403204 1596.34450264   92.85835829]\n",
      "Done with forcings: [   3.80256883 1596.34450264   92.85835829]\n",
      "Done with forcings: [   6.51403204 1144.45066079   92.85835829]\n",
      "Done with forcings: [   6.51403204 1596.34450264  221.79427277]\n",
      "Done with forcings: [   6.51403204 1144.45066079  221.79427277]\n",
      "Done with forcings: [   3.80256883 1596.34450264  221.79427277]\n",
      "Done with forcings: [   3.80256883 1144.45066079   92.85835829]\n",
      "Done with forcings: [   3.80256883 1144.45066079  221.79427277]\n",
      "Done with forcings: [  6.61248108 545.20361638 831.37878217]\n",
      "Done with forcings: [  5.24163165 545.20361638 831.37878217]\n",
      "Done with forcings: [   6.61248108 1335.03770595  831.37878217]\n",
      "Done with forcings: [  6.61248108 545.20361638 547.34414723]\n",
      "Done with forcings: [   6.61248108 1335.03770595  547.34414723]\n",
      "Done with forcings: [  5.24163165 545.20361638 547.34414723]\n",
      "Done with forcings: [   5.24163165 1335.03770595  831.37878217]\n",
      "Done with forcings: [   5.24163165 1335.03770595  547.34414723]\n",
      "Done with forcings: [2.30262528e-01 1.53771555e+03 4.57336958e+02]\n",
      "Done with forcings: [   2.02146439 1537.71555424  457.3369585 ]\n",
      "Done with forcings: [2.30262528e-01 7.60604048e+02 4.57336958e+02]\n",
      "Done with forcings: [2.30262528e-01 1.53771555e+03 4.12688680e+02]\n",
      "Done with forcings: [2.30262528e-01 7.60604048e+02 4.12688680e+02]\n",
      "Done with forcings: [   2.02146439 1537.71555424  412.68867999]\n",
      "Done with forcings: [  2.02146439 760.60404815 457.3369585 ]\n",
      "Done with forcings: [  2.02146439 760.60404815 412.68867999]\n",
      "Done with forcings: [  4.51355771 881.09727576 510.69277432]\n",
      "Done with forcings: [  8.95143921 881.09727576 510.69277432]\n",
      "Done with forcings: [  4.51355771 957.71392388 510.69277432]\n",
      "Done with forcings: [  4.51355771 881.09727576 205.90373129]\n",
      "Done with forcings: [  4.51355771 957.71392388 205.90373129]\n",
      "Done with forcings: [  8.95143921 881.09727576 205.90373129]\n",
      "Done with forcings: [  8.95143921 957.71392388 510.69277432]\n",
      "Done with forcings: [  8.95143921 957.71392388 205.90373129]\n",
      "Done with forcings: [   8.75089696 1951.08518144  138.64084426]\n",
      "Done with forcings: [   3.16031715 1951.08518144  138.64084426]\n",
      "Done with forcings: [   8.75089696 1888.11109215  138.64084426]\n",
      "Done with forcings: [   8.75089696 1951.08518144  816.60954561]\n",
      "Done with forcings: [   8.75089696 1888.11109215  816.60954561]\n",
      "Done with forcings: [   3.16031715 1951.08518144  816.60954561]\n",
      "Done with forcings: [   3.16031715 1888.11109215  138.64084426]\n",
      "Done with forcings: [   3.16031715 1888.11109215  816.60954561]\n",
      "Done with forcings: [   9.90045943 1120.97861618  304.83520031]\n",
      "Done with forcings: [   4.3973611  1120.97861618  304.83520031]\n",
      "Done with forcings: [   9.90045943 1785.67781765  304.83520031]\n",
      "Done with forcings: [   9.90045943 1120.97861618  739.53149095]\n",
      "Done with forcings: [   9.90045943 1785.67781765  739.53149095]\n",
      "Done with forcings: [   4.3973611  1120.97861618  739.53149095]\n",
      "Done with forcings: [   4.3973611  1785.67781765  304.83520031]\n",
      "Done with forcings: [   4.3973611  1785.67781765  739.53149095]\n",
      "Done with forcings: [   3.20616767 1808.62024194  936.65478192]\n",
      "Done with forcings: [   7.73513212 1808.62024194  936.65478192]\n",
      "Done with forcings: [   3.20616767 1212.43357705  936.65478192]\n",
      "Done with forcings: [   3.20616767 1808.62024194  347.33046871]\n",
      "Done with forcings: [   3.20616767 1212.43357705  347.33046871]\n",
      "Done with forcings: [   7.73513212 1808.62024194  347.33046871]\n",
      "Done with forcings: [   7.73513212 1212.43357705  936.65478192]\n",
      "Done with forcings: [   7.73513212 1212.43357705  347.33046871]\n",
      "Done with forcings: [  1.53856731 777.0018517   95.21970619]\n",
      "Done with forcings: [7.65598108e-01 7.77001852e+02 9.52197062e+01]\n",
      "Done with forcings: [  1.53856731 663.75563573  95.21970619]\n",
      "Done with forcings: [  1.53856731 777.0018517   23.33510201]\n",
      "Done with forcings: [  1.53856731 663.75563573  23.33510201]\n",
      "Done with forcings: [7.65598108e-01 7.77001852e+02 2.33351020e+01]\n",
      "Done with forcings: [  0.76559811 663.75563573  95.21970619]\n",
      "Done with forcings: [  0.76559811 663.75563573  23.33510201]\n",
      "Done with forcings: [   5.46322361 1401.860293    725.1188783 ]\n",
      "Done with forcings: [   6.51823002 1401.860293    725.1188783 ]\n",
      "Done with forcings: [   5.46322361 1584.17280996  725.1188783 ]\n",
      "Done with forcings: [   5.46322361 1401.860293    876.00730732]\n",
      "Done with forcings: [   5.46322361 1584.17280996  876.00730732]\n",
      "Done with forcings: [   6.51823002 1401.860293    876.00730732]\n",
      "Done with forcings: [   6.51823002 1584.17280996  725.1188783 ]\n",
      "Done with forcings: [   6.51823002 1584.17280996  876.00730732]\n",
      "Done with forcings: [  5.82527488 979.39528245   2.21891329]\n",
      "Done with forcings: [  8.71911591 979.39528245   2.21891329]\n",
      "Done with forcings: [  5.82527488 785.24856595   2.21891329]\n",
      "Done with forcings: [  5.82527488 979.39528245 806.96499068]\n",
      "Done with forcings: [  5.82527488 785.24856595 806.96499068]\n",
      "Done with forcings: [  8.71911591 979.39528245 806.96499068]\n",
      "Done with forcings: [  8.71911591 785.24856595   2.21891329]\n",
      "Done with forcings: [  8.71911591 785.24856595 806.96499068]\n",
      "Done with forcings: [   2.25636417 1856.39064992  630.13259508]\n",
      "Done with forcings: [   4.17436202 1856.39064992  630.13259508]\n",
      "Done with forcings: [   2.25636417 1357.39416257  630.13259508]\n",
      "Done with forcings: [   2.25636417 1856.39064992  168.67114045]\n",
      "Done with forcings: [   2.25636417 1357.39416257  168.67114045]\n",
      "Done with forcings: [   4.17436202 1856.39064992  168.67114045]\n",
      "Done with forcings: [   4.17436202 1357.39416257  630.13259508]\n",
      "Done with forcings: [   4.17436202 1357.39416257  168.67114045]\n",
      "Done with forcings: [  3.10694733 637.27228204 339.73053936]\n",
      "Done with forcings: [  7.35069551 637.27228204 339.73053936]\n",
      "Done with forcings: [   3.10694733 1907.35381981  339.73053936]\n",
      "Done with forcings: [  3.10694733 637.27228204 461.88190021]\n",
      "Done with forcings: [   3.10694733 1907.35381981  461.88190021]\n",
      "Done with forcings: [  7.35069551 637.27228204 461.88190021]\n",
      "Done with forcings: [   7.35069551 1907.35381981  339.73053936]\n",
      "Done with forcings: [   7.35069551 1907.35381981  461.88190021]\n",
      "Done with forcings: [   8.89908857 1447.77693693  965.72311129]\n",
      "Done with forcings: [3.81934603e-01 1.44777694e+03 9.65723111e+02]\n",
      "Done with forcings: [  8.89908857 985.10560207 965.72311129]\n",
      "Done with forcings: [   8.89908857 1447.77693693  576.27378125]\n",
      "Done with forcings: [  8.89908857 985.10560207 576.27378125]\n",
      "Done with forcings: [3.81934603e-01 1.44777694e+03 5.76273781e+02]\n",
      "Done with forcings: [3.81934603e-01 9.85105602e+02 9.65723111e+02]\n",
      "Done with forcings: [3.81934603e-01 9.85105602e+02 5.76273781e+02]\n",
      "Done with forcings: [  7.55227509 872.73629243 602.7522292 ]\n",
      "Done with forcings: [  1.62225829 872.73629243 602.7522292 ]\n",
      "Done with forcings: [   7.55227509 1093.30672678  602.7522292 ]\n",
      "Done with forcings: [  7.55227509 872.73629243 999.42115508]\n",
      "Done with forcings: [   7.55227509 1093.30672678  999.42115508]\n",
      "Done with forcings: [  1.62225829 872.73629243 999.42115508]\n",
      "Done with forcings: [   1.62225829 1093.30672678  602.7522292 ]\n",
      "Done with forcings: [   1.62225829 1093.30672678  999.42115508]\n",
      "Done with forcings: [   4.29574239 1303.86995245  232.61724412]\n",
      "Done with forcings: [   6.12867448 1303.86995245  232.61724412]\n",
      "Done with forcings: [   4.29574239 1670.30387232  232.61724412]\n",
      "Done with forcings: [   4.29574239 1303.86995245  103.04792318]\n",
      "Done with forcings: [   4.29574239 1670.30387232  103.04792318]\n",
      "Done with forcings: [   6.12867448 1303.86995245  103.04792318]\n",
      "Done with forcings: [   6.12867448 1670.30387232  232.61724412]\n",
      "Done with forcings: [   6.12867448 1670.30387232  103.04792318]\n",
      "Done with forcings: [1.06848356e+00 1.20975165e+03 7.97424781e+02]\n",
      "Done with forcings: [   2.91263413 1209.75165162  797.42478114]\n",
      "Done with forcings: [1.06848356e+00 1.47191224e+03 7.97424781e+02]\n",
      "Done with forcings: [1.06848356e+00 1.20975165e+03 2.79094041e+02]\n",
      "Done with forcings: [1.06848356e+00 1.47191224e+03 2.79094041e+02]\n",
      "Done with forcings: [   2.91263413 1209.75165162  279.09404133]\n",
      "Done with forcings: [   2.91263413 1471.91223595  797.42478114]\n",
      "Done with forcings: [   2.91263413 1471.91223595  279.09404133]\n",
      "Done with forcings: [   7.17239305 1716.11787984  429.27851249]\n",
      "Done with forcings: [   9.99915123 1716.11787984  429.27851249]\n",
      "Done with forcings: [  7.17239305 541.88126745 429.27851249]\n",
      "Done with forcings: [   7.17239305 1716.11787984  635.89458726]\n",
      "Done with forcings: [  7.17239305 541.88126745 635.89458726]\n",
      "Done with forcings: [   9.99915123 1716.11787984  635.89458726]\n",
      "Done with forcings: [  9.99915123 541.88126745 429.27851249]\n",
      "Done with forcings: [  9.99915123 541.88126745 635.89458726]\n",
      "Done with forcings: [  6.93780158 795.55520415 163.85897901]\n",
      "Done with forcings: [  6.26528643 795.55520415 163.85897901]\n",
      "Done with forcings: [   6.93780158 1748.15610237  163.85897901]\n",
      "Done with forcings: [  6.93780158 795.55520415 582.81541802]\n",
      "Done with forcings: [   6.93780158 1748.15610237  582.81541802]\n",
      "Done with forcings: [  6.26528643 795.55520415 582.81541802]\n",
      "Done with forcings: [   6.26528643 1748.15610237  163.85897901]\n",
      "Done with forcings: [   6.26528643 1748.15610237  582.81541802]\n",
      "Done with forcings: [1.14455489e+00 1.27850767e+03 5.32037550e+02]\n",
      "Done with forcings: [8.61274018e-01 1.27850767e+03 5.32037550e+02]\n",
      "Done with forcings: [1.14455489e+00 1.20308869e+03 5.32037550e+02]\n",
      "Done with forcings: [1.14455489e+00 1.27850767e+03 4.39577934e+02]\n",
      "Done with forcings: [1.14455489e+00 1.20308869e+03 4.39577934e+02]\n",
      "Done with forcings: [8.61274018e-01 1.27850767e+03 4.39577934e+02]\n",
      "Done with forcings: [8.61274018e-01 1.20308869e+03 5.32037550e+02]\n",
      "Done with forcings: [8.61274018e-01 1.20308869e+03 4.39577934e+02]\n",
      "Done with forcings: [   4.21937162 1184.39352652  498.46404232]\n",
      "Done with forcings: [   7.63827986 1184.39352652  498.46404232]\n",
      "Done with forcings: [  4.21937162 626.57849491 498.46404232]\n",
      "Done with forcings: [   4.21937162 1184.39352652  178.15790791]\n",
      "Done with forcings: [  4.21937162 626.57849491 178.15790791]\n",
      "Done with forcings: [   7.63827986 1184.39352652  178.15790791]\n",
      "Done with forcings: [  7.63827986 626.57849491 498.46404232]\n",
      "Done with forcings: [  7.63827986 626.57849491 178.15790791]\n",
      "Done with forcings: [   7.78717687 1638.94121721  868.56671795]\n",
      "Done with forcings: [   4.64912842 1638.94121721  868.56671795]\n",
      "Done with forcings: [   7.78717687 1574.48299183  868.56671795]\n",
      "Done with forcings: [   7.78717687 1638.94121721  781.7464117 ]\n",
      "Done with forcings: [   7.78717687 1574.48299183  781.7464117 ]\n",
      "Done with forcings: [   4.64912842 1638.94121721  781.7464117 ]\n",
      "Done with forcings: [   4.64912842 1574.48299183  868.56671795]\n",
      "Done with forcings: [   4.64912842 1574.48299183  781.7464117 ]\n",
      "Done with forcings: [   8.97637239 1040.45873648  699.92411602]\n",
      "Done with forcings: [   3.3742778  1040.45873648  699.92411602]\n",
      "Done with forcings: [   8.97637239 1255.39033907  699.92411602]\n",
      "Done with forcings: [   8.97637239 1040.45873648  642.52026472]\n",
      "Done with forcings: [   8.97637239 1255.39033907  642.52026472]\n",
      "Done with forcings: [   3.3742778  1040.45873648  642.52026472]\n",
      "Done with forcings: [   3.3742778  1255.39033907  699.92411602]\n",
      "Done with forcings: [   3.3742778  1255.39033907  642.52026472]\n",
      "Done with forcings: [   2.87112879 1874.4244501    73.96027725]\n",
      "Done with forcings: [   8.89482722 1874.4244501    73.96027725]\n",
      "Done with forcings: [  2.87112879 699.6119367   73.96027725]\n",
      "Done with forcings: [   2.87112879 1874.4244501   256.95017539]\n",
      "Done with forcings: [  2.87112879 699.6119367  256.95017539]\n",
      "Done with forcings: [   8.89482722 1874.4244501   256.95017539]\n",
      "Done with forcings: [  8.89482722 699.6119367   73.96027725]\n",
      "Done with forcings: [  8.89482722 699.6119367  256.95017539]\n",
      "Done with forcings: [  2.49249272 655.31041846 895.62639594]\n",
      "Done with forcings: [  2.07932894 655.31041846 895.62639594]\n",
      "Done with forcings: [  2.49249272 877.67870957 895.62639594]\n",
      "Done with forcings: [  2.49249272 655.31041846 112.61849664]\n",
      "Done with forcings: [  2.49249272 877.67870957 112.61849664]\n",
      "Done with forcings: [  2.07932894 655.31041846 112.61849664]\n",
      "Done with forcings: [  2.07932894 877.67870957 895.62639594]\n",
      "Done with forcings: [  2.07932894 877.67870957 112.61849664]\n",
      "Done with forcings: [   5.74769132 1508.84463778  267.68398844]\n",
      "Done with forcings: [   5.02892349 1508.84463778  267.68398844]\n",
      "Done with forcings: [   5.74769132 1827.50647049  267.68398844]\n",
      "Done with forcings: [   5.74769132 1508.84463778  974.36291073]\n",
      "Done with forcings: [   5.74769132 1827.50647049  974.36291073]\n",
      "Done with forcings: [   5.02892349 1508.84463778  974.36291073]\n",
      "Done with forcings: [   5.02892349 1827.50647049  267.68398844]\n",
      "Done with forcings: [   5.02892349 1827.50647049  974.36291073]\n",
      "Done with forcings: [   5.53959762 1086.46121109  991.07355718]\n",
      "Done with forcings: [   9.74494291 1086.46121109  991.07355718]\n",
      "Done with forcings: [   5.53959762 1127.89548561  991.07355718]\n",
      "Done with forcings: [   5.53959762 1086.46121109  842.66061336]\n",
      "Done with forcings: [   5.53959762 1127.89548561  842.66061336]\n",
      "Done with forcings: [   9.74494291 1086.46121109  842.66061336]\n",
      "Done with forcings: [   9.74494291 1127.89548561  991.07355718]\n",
      "Done with forcings: [   9.74494291 1127.89548561  842.66061336]\n",
      "Done with forcings: [1.30366810e+00 1.73473493e+03 3.61202880e+02]\n",
      "Done with forcings: [   3.01192323 1734.73493475  361.20287981]\n",
      "Done with forcings: [1.30366810e+00 1.68257527e+03 3.61202880e+02]\n",
      "Done with forcings: [1.30366810e+00 1.73473493e+03 1.95370852e+02]\n",
      "Done with forcings: [1.30366810e+00 1.68257527e+03 1.95370852e+02]\n",
      "Done with forcings: [   3.01192323 1734.73493475  195.37085202]\n",
      "Done with forcings: [   3.01192323 1682.57526634  361.20287981]\n",
      "Done with forcings: [   3.01192323 1682.57526634  195.37085202]\n",
      "Done with forcings: [  3.44075762 703.12088076 671.37150094]\n",
      "Done with forcings: [  6.03056225 703.12088076 671.37150094]\n",
      "Done with forcings: [   3.44075762 1506.15642034  671.37150094]\n",
      "Done with forcings: [  3.44075762 703.12088076 433.84162989]\n",
      "Done with forcings: [   3.44075762 1506.15642034  433.84162989]\n",
      "Done with forcings: [  6.03056225 703.12088076 433.84162989]\n",
      "Done with forcings: [   6.03056225 1506.15642034  671.37150094]\n",
      "Done with forcings: [   6.03056225 1506.15642034  433.84162989]\n",
      "Done with forcings: [   9.8243859  1367.34713474   39.52343203]\n",
      "Done with forcings: [   1.87764356 1367.34713474   39.52343203]\n",
      "Done with forcings: [  9.8243859  554.49759355  39.52343203]\n",
      "Done with forcings: [   9.8243859  1367.34713474  541.67886823]\n",
      "Done with forcings: [  9.8243859  554.49759355 541.67886823]\n",
      "Done with forcings: [   1.87764356 1367.34713474  541.67886823]\n",
      "Done with forcings: [  1.87764356 554.49759355  39.52343203]\n",
      "Done with forcings: [  1.87764356 554.49759355 541.67886823]\n",
      "Done with forcings: [  8.51476681 560.67373324 403.96763664]\n",
      "Done with forcings: [  0.597079   560.67373324 403.96763664]\n",
      "Done with forcings: [  8.51476681 867.82245198 403.96763664]\n",
      "Done with forcings: [  8.51476681 560.67373324 902.21847873]\n",
      "Done with forcings: [  8.51476681 867.82245198 902.21847873]\n",
      "Done with forcings: [5.97079001e-01 5.60673733e+02 9.02218479e+02]\n",
      "Done with forcings: [5.97079001e-01 8.67822452e+02 4.03967637e+02]\n",
      "Done with forcings: [5.97079001e-01 8.67822452e+02 9.02218479e+02]\n",
      "Done with forcings: [   4.59113915 1607.2021001   776.0521071 ]\n",
      "Done with forcings: [   7.29038936 1607.2021001   776.0521071 ]\n",
      "Done with forcings: [   4.59113915 1415.45332875  776.0521071 ]\n",
      "Done with forcings: [   4.59113915 1607.2021001    12.8862597 ]\n",
      "Done with forcings: [   4.59113915 1415.45332875   12.8862597 ]\n",
      "Done with forcings: [   7.29038936 1607.2021001    12.8862597 ]\n",
      "Done with forcings: [   7.29038936 1415.45332875  776.0521071 ]\n",
      "Done with forcings: [   7.29038936 1415.45332875   12.8862597 ]\n",
      "Done with forcings: [1.52981867e-01 9.50587979e+02 1.91460839e+02]\n",
      "Done with forcings: [  4.23341509 950.58797905 191.46083854]\n",
      "Done with forcings: [1.52981867e-01 1.99031555e+03 1.91460839e+02]\n",
      "Done with forcings: [1.52981867e-01 9.50587979e+02 3.68643750e+02]\n",
      "Done with forcings: [1.52981867e-01 1.99031555e+03 3.68643750e+02]\n",
      "Done with forcings: [  4.23341509 950.58797905 368.64374951]\n",
      "Done with forcings: [   4.23341509 1990.31555327  191.46083854]\n",
      "Done with forcings: [   4.23341509 1990.31555327  368.64374951]\n",
      "Done with forcings: [   6.84830227 1966.55972395  565.47011435]\n",
      "Done with forcings: [   8.50271835 1966.55972395  565.47011435]\n",
      "Done with forcings: [   6.84830227 1042.77727846  565.47011435]\n",
      "Done with forcings: [   6.84830227 1966.55972395  733.95002168]\n",
      "Done with forcings: [   6.84830227 1042.77727846  733.95002168]\n",
      "Done with forcings: [   8.50271835 1966.55972395  733.95002168]\n",
      "Done with forcings: [   8.50271835 1042.77727846  565.47011435]\n",
      "Done with forcings: [   8.50271835 1042.77727846  733.95002168]\n",
      "Done with forcings: [  6.27912278 915.28360965 327.42378581]\n",
      "Done with forcings: [  2.45355412 915.28360965 327.42378581]\n",
      "Done with forcings: [   6.27912278 1624.20866871  327.42378581]\n",
      "Done with forcings: [  6.27912278 915.28360965  59.52612218]\n",
      "Done with forcings: [   6.27912278 1624.20866871   59.52612218]\n",
      "Done with forcings: [  2.45355412 915.28360965  59.52612218]\n",
      "Done with forcings: [   2.45355412 1624.20866871  327.42378581]\n",
      "Done with forcings: [   2.45355412 1624.20866871   59.52612218]\n",
      "Done with forcings: [4.86181304e-01 1.90800107e+03 9.45606115e+02]\n",
      "Done with forcings: [   5.43514087 1908.00107177  945.60611527]\n",
      "Done with forcings: [4.86181304e-01 6.70831795e+02 9.45606115e+02]\n",
      "Done with forcings: [4.86181304e-01 1.90800107e+03 9.16112140e+02]\n",
      "Done with forcings: [4.86181304e-01 6.70831795e+02 9.16112140e+02]\n",
      "Done with forcings: [   5.43514087 1908.00107177  916.11213982]\n",
      "Done with forcings: [  5.43514087 670.83179485 945.60611527]\n",
      "Done with forcings: [  5.43514087 670.83179485 916.11213982]\n"
     ]
    }
   ],
   "source": [
    "results = []\n",
    "for forcing in param_values:\n",
    "    glacier = evaluate_model_multi(\n",
    "        mb_gradient=forcing[0], ela_width=forcing[1], add_to_with_at_top=forcing[2]\n",
    "    )\n",
    "    results.append(glacier)\n",
    "    print(f\"Done with forcings: {forcing}\")"
   ]
  },
  {
   "cell_type": "code",
   "execution_count": 45,
   "metadata": {},
   "outputs": [],
   "source": [
    "sobol_results_multi = GlacierCollection(results)"
   ]
  },
  {
   "cell_type": "code",
   "execution_count": 47,
   "metadata": {},
   "outputs": [
    {
     "data": {
      "text/html": [
       "<div>\n",
       "<style scoped>\n",
       "    .dataframe tbody tr th:only-of-type {\n",
       "        vertical-align: middle;\n",
       "    }\n",
       "\n",
       "    .dataframe tbody tr th {\n",
       "        vertical-align: top;\n",
       "    }\n",
       "\n",
       "    .dataframe thead th {\n",
       "        text-align: right;\n",
       "    }\n",
       "</style>\n",
       "<table border=\"1\" class=\"dataframe\">\n",
       "  <thead>\n",
       "    <tr style=\"text-align: right;\">\n",
       "      <th></th>\n",
       "      <th>Id</th>\n",
       "      <th>Type</th>\n",
       "      <th>Age</th>\n",
       "      <th>Length [m]</th>\n",
       "      <th>Area [km2]</th>\n",
       "      <th>Volume [km3]</th>\n",
       "      <th>Max ice thickness [m]</th>\n",
       "      <th>Max ice velocity [m/yr]</th>\n",
       "      <th>AAR [%]</th>\n",
       "      <th>Response time [yrs]</th>\n",
       "      <th>...</th>\n",
       "      <th>Basal sliding</th>\n",
       "      <th>Bed type</th>\n",
       "      <th>Top [m]</th>\n",
       "      <th>Bottom [m]</th>\n",
       "      <th>Width(s) [m]</th>\n",
       "      <th>Length [km]</th>\n",
       "      <th>ELA [m]</th>\n",
       "      <th>Original ELA [m]</th>\n",
       "      <th>Temperature bias [C]</th>\n",
       "      <th>Gradient [mm/m/yr]</th>\n",
       "    </tr>\n",
       "    <tr>\n",
       "      <th>Glacier</th>\n",
       "      <th></th>\n",
       "      <th></th>\n",
       "      <th></th>\n",
       "      <th></th>\n",
       "      <th></th>\n",
       "      <th></th>\n",
       "      <th></th>\n",
       "      <th></th>\n",
       "      <th></th>\n",
       "      <th></th>\n",
       "      <th></th>\n",
       "      <th></th>\n",
       "      <th></th>\n",
       "      <th></th>\n",
       "      <th></th>\n",
       "      <th></th>\n",
       "      <th></th>\n",
       "      <th></th>\n",
       "      <th></th>\n",
       "      <th></th>\n",
       "      <th></th>\n",
       "    </tr>\n",
       "  </thead>\n",
       "  <tbody>\n",
       "    <tr>\n",
       "      <th>1</th>\n",
       "      <td>212</td>\n",
       "      <td>Glacier</td>\n",
       "      <td>128</td>\n",
       "      <td>33600.0</td>\n",
       "      <td>44.050393</td>\n",
       "      <td>12.822311</td>\n",
       "      <td>331.388012</td>\n",
       "      <td>840.436256</td>\n",
       "      <td>53.064023</td>\n",
       "      <td>NaN</td>\n",
       "      <td>...</td>\n",
       "      <td>0</td>\n",
       "      <td>Linear bed with a variable width</td>\n",
       "      <td>5000</td>\n",
       "      <td>0</td>\n",
       "      <td>[1858.178741298616, 1174.7433310374618, 1174.7...</td>\n",
       "      <td>40.0</td>\n",
       "      <td>3333.333333</td>\n",
       "      <td>3333.333333</td>\n",
       "      <td>0</td>\n",
       "      <td>7.192805</td>\n",
       "    </tr>\n",
       "    <tr>\n",
       "      <th>2</th>\n",
       "      <td>213</td>\n",
       "      <td>Glacier</td>\n",
       "      <td>550</td>\n",
       "      <td>32000.0</td>\n",
       "      <td>42.170804</td>\n",
       "      <td>8.098186</td>\n",
       "      <td>218.599687</td>\n",
       "      <td>159.795087</td>\n",
       "      <td>53.200589</td>\n",
       "      <td>NaN</td>\n",
       "      <td>...</td>\n",
       "      <td>0</td>\n",
       "      <td>Linear bed with a variable width</td>\n",
       "      <td>5000</td>\n",
       "      <td>0</td>\n",
       "      <td>[1858.178741298616, 1174.7433310374618, 1174.7...</td>\n",
       "      <td>40.0</td>\n",
       "      <td>3333.333333</td>\n",
       "      <td>3333.333333</td>\n",
       "      <td>0</td>\n",
       "      <td>0.976727</td>\n",
       "    </tr>\n",
       "    <tr>\n",
       "      <th>3</th>\n",
       "      <td>214</td>\n",
       "      <td>Glacier</td>\n",
       "      <td>136</td>\n",
       "      <td>32800.0</td>\n",
       "      <td>64.866043</td>\n",
       "      <td>18.622332</td>\n",
       "      <td>325.090900</td>\n",
       "      <td>782.612653</td>\n",
       "      <td>52.396171</td>\n",
       "      <td>NaN</td>\n",
       "      <td>...</td>\n",
       "      <td>0</td>\n",
       "      <td>Linear bed with a variable width</td>\n",
       "      <td>5000</td>\n",
       "      <td>0</td>\n",
       "      <td>[2521.454486064613, 1838.0190758034587, 1838.0...</td>\n",
       "      <td>40.0</td>\n",
       "      <td>3333.333333</td>\n",
       "      <td>3333.333333</td>\n",
       "      <td>0</td>\n",
       "      <td>7.192805</td>\n",
       "    </tr>\n",
       "    <tr>\n",
       "      <th>4</th>\n",
       "      <td>215</td>\n",
       "      <td>Glacier</td>\n",
       "      <td>131</td>\n",
       "      <td>31400.0</td>\n",
       "      <td>37.464434</td>\n",
       "      <td>10.547657</td>\n",
       "      <td>315.129642</td>\n",
       "      <td>685.290395</td>\n",
       "      <td>51.084285</td>\n",
       "      <td>NaN</td>\n",
       "      <td>...</td>\n",
       "      <td>0</td>\n",
       "      <td>Linear bed with a variable width</td>\n",
       "      <td>5000</td>\n",
       "      <td>0</td>\n",
       "      <td>[1260.936432518065, 1174.7433310374618, 1174.7...</td>\n",
       "      <td>40.0</td>\n",
       "      <td>3333.333333</td>\n",
       "      <td>3333.333333</td>\n",
       "      <td>0</td>\n",
       "      <td>7.192805</td>\n",
       "    </tr>\n",
       "    <tr>\n",
       "      <th>5</th>\n",
       "      <td>216</td>\n",
       "      <td>Glacier</td>\n",
       "      <td>144</td>\n",
       "      <td>31400.0</td>\n",
       "      <td>58.291293</td>\n",
       "      <td>16.333137</td>\n",
       "      <td>314.178132</td>\n",
       "      <td>672.382983</td>\n",
       "      <td>50.810668</td>\n",
       "      <td>NaN</td>\n",
       "      <td>...</td>\n",
       "      <td>0</td>\n",
       "      <td>Linear bed with a variable width</td>\n",
       "      <td>5000</td>\n",
       "      <td>0</td>\n",
       "      <td>[1924.212177284062, 1838.0190758034587, 1838.0...</td>\n",
       "      <td>40.0</td>\n",
       "      <td>3333.333333</td>\n",
       "      <td>3333.333333</td>\n",
       "      <td>0</td>\n",
       "      <td>7.192805</td>\n",
       "    </tr>\n",
       "    <tr>\n",
       "      <th>...</th>\n",
       "      <td>...</td>\n",
       "      <td>...</td>\n",
       "      <td>...</td>\n",
       "      <td>...</td>\n",
       "      <td>...</td>\n",
       "      <td>...</td>\n",
       "      <td>...</td>\n",
       "      <td>...</td>\n",
       "      <td>...</td>\n",
       "      <td>...</td>\n",
       "      <td>...</td>\n",
       "      <td>...</td>\n",
       "      <td>...</td>\n",
       "      <td>...</td>\n",
       "      <td>...</td>\n",
       "      <td>...</td>\n",
       "      <td>...</td>\n",
       "      <td>...</td>\n",
       "      <td>...</td>\n",
       "      <td>...</td>\n",
       "      <td>...</td>\n",
       "    </tr>\n",
       "    <tr>\n",
       "      <th>396</th>\n",
       "      <td>607</td>\n",
       "      <td>Glacier</td>\n",
       "      <td>911</td>\n",
       "      <td>31000.0</td>\n",
       "      <td>65.285985</td>\n",
       "      <td>10.825811</td>\n",
       "      <td>187.552428</td>\n",
       "      <td>83.732315</td>\n",
       "      <td>52.655049</td>\n",
       "      <td>NaN</td>\n",
       "      <td>...</td>\n",
       "      <td>0</td>\n",
       "      <td>Linear bed with a variable width</td>\n",
       "      <td>5000</td>\n",
       "      <td>0</td>\n",
       "      <td>[2824.113211594522, 1908.0010717734694, 1908.0...</td>\n",
       "      <td>40.0</td>\n",
       "      <td>3333.333333</td>\n",
       "      <td>3333.333333</td>\n",
       "      <td>0</td>\n",
       "      <td>0.486181</td>\n",
       "    </tr>\n",
       "    <tr>\n",
       "      <th>397</th>\n",
       "      <td>608</td>\n",
       "      <td>Glacier</td>\n",
       "      <td>821</td>\n",
       "      <td>34200.0</td>\n",
       "      <td>29.080399</td>\n",
       "      <td>4.999022</td>\n",
       "      <td>201.088397</td>\n",
       "      <td>112.295684</td>\n",
       "      <td>55.709100</td>\n",
       "      <td>NaN</td>\n",
       "      <td>...</td>\n",
       "      <td>0</td>\n",
       "      <td>Linear bed with a variable width</td>\n",
       "      <td>5000</td>\n",
       "      <td>0</td>\n",
       "      <td>[1586.9439346715808, 670.8317948505282, 670.83...</td>\n",
       "      <td>40.0</td>\n",
       "      <td>3333.333333</td>\n",
       "      <td>3333.333333</td>\n",
       "      <td>0</td>\n",
       "      <td>0.486181</td>\n",
       "    </tr>\n",
       "    <tr>\n",
       "      <th>398</th>\n",
       "      <td>609</td>\n",
       "      <td>Glacier</td>\n",
       "      <td>158</td>\n",
       "      <td>33200.0</td>\n",
       "      <td>69.483587</td>\n",
       "      <td>19.028133</td>\n",
       "      <td>310.631705</td>\n",
       "      <td>646.393024</td>\n",
       "      <td>52.220056</td>\n",
       "      <td>NaN</td>\n",
       "      <td>...</td>\n",
       "      <td>0</td>\n",
       "      <td>Linear bed with a variable width</td>\n",
       "      <td>5000</td>\n",
       "      <td>0</td>\n",
       "      <td>[2824.113211594522, 1908.0010717734694, 1908.0...</td>\n",
       "      <td>40.0</td>\n",
       "      <td>3333.333333</td>\n",
       "      <td>3333.333333</td>\n",
       "      <td>0</td>\n",
       "      <td>5.435141</td>\n",
       "    </tr>\n",
       "    <tr>\n",
       "      <th>399</th>\n",
       "      <td>610</td>\n",
       "      <td>Glacier</td>\n",
       "      <td>144</td>\n",
       "      <td>37000.0</td>\n",
       "      <td>31.156337</td>\n",
       "      <td>8.951980</td>\n",
       "      <td>334.672517</td>\n",
       "      <td>852.299497</td>\n",
       "      <td>54.784584</td>\n",
       "      <td>NaN</td>\n",
       "      <td>...</td>\n",
       "      <td>0</td>\n",
       "      <td>Linear bed with a variable width</td>\n",
       "      <td>5000</td>\n",
       "      <td>0</td>\n",
       "      <td>[1616.4379101246595, 670.8317948505282, 670.83...</td>\n",
       "      <td>40.0</td>\n",
       "      <td>3333.333333</td>\n",
       "      <td>3333.333333</td>\n",
       "      <td>0</td>\n",
       "      <td>5.435141</td>\n",
       "    </tr>\n",
       "    <tr>\n",
       "      <th>400</th>\n",
       "      <td>611</td>\n",
       "      <td>Glacier</td>\n",
       "      <td>141</td>\n",
       "      <td>36800.0</td>\n",
       "      <td>30.824561</td>\n",
       "      <td>8.848658</td>\n",
       "      <td>333.742367</td>\n",
       "      <td>849.835243</td>\n",
       "      <td>54.733172</td>\n",
       "      <td>NaN</td>\n",
       "      <td>...</td>\n",
       "      <td>0</td>\n",
       "      <td>Linear bed with a variable width</td>\n",
       "      <td>5000</td>\n",
       "      <td>0</td>\n",
       "      <td>[1586.9439346715808, 670.8317948505282, 670.83...</td>\n",
       "      <td>40.0</td>\n",
       "      <td>3333.333333</td>\n",
       "      <td>3333.333333</td>\n",
       "      <td>0</td>\n",
       "      <td>5.435141</td>\n",
       "    </tr>\n",
       "  </tbody>\n",
       "</table>\n",
       "<p>400 rows × 21 columns</p>\n",
       "</div>"
      ],
      "text/plain": [
       "Glacier collection with 400 glaciers."
      ]
     },
     "execution_count": 47,
     "metadata": {},
     "output_type": "execute_result"
    }
   ],
   "source": [
    "sobol_results_multi"
   ]
  },
  {
   "cell_type": "markdown",
   "metadata": {},
   "source": [
    "Lets now blot the mass balance gradient and volume"
   ]
  },
  {
   "cell_type": "code",
   "execution_count": 51,
   "metadata": {},
   "outputs": [
    {
     "data": {
      "text/plain": [
       "Text(0, 0.5, 'Volume [km3]')"
      ]
     },
     "execution_count": 51,
     "metadata": {},
     "output_type": "execute_result"
    },
    {
     "data": {
      "image/png": "[encoded data removed]",
      "text/plain": [
       "<Figure size 640x480 with 1 Axes>"
      ]
     },
     "metadata": {},
     "output_type": "display_data"
    }
   ],
   "source": [
    "mb_gradients = param_values[:, 0]\n",
    "plt.scatter(mb_gradients, sobol_results_multi.summary()[\"Volume [km3]\"])\n",
    "plt.xlabel(\"Mass balance gradient\")\n",
    "plt.ylabel(\"Volume [km3]\")"
   ]
  },
  {
   "cell_type": "markdown",
   "metadata": {},
   "source": [
    "What do we see here?\n",
    "\n",
    "* there is much mor variation in total\n",
    "* not just depending on the Mass balance gradient\n",
    "* The OTA relation ship is still visible\n",
    "\n",
    "Lets look at the other values"
   ]
  },
  {
   "cell_type": "code",
   "execution_count": 52,
   "metadata": {},
   "outputs": [
    {
     "data": {
      "text/plain": [
       "Text(0, 0.5, 'Volume [km3]')"
      ]
     },
     "execution_count": 52,
     "metadata": {},
     "output_type": "execute_result"
    },
    {
     "data": {
      "image/png": "[encoded data removed]",
      "text/plain": [
       "<Figure size 640x480 with 1 Axes>"
      ]
     },
     "metadata": {},
     "output_type": "display_data"
    }
   ],
   "source": [
    "ela_widths = param_values[:, 1]\n",
    "plt.scatter(ela_widths, sobol_results_multi.summary()[\"Volume [km3]\"])\n",
    "plt.xlabel(\"ELA width\")\n",
    "plt.ylabel(\"Volume [km3]\")"
   ]
  },
  {
   "cell_type": "markdown",
   "metadata": {},
   "source": [
    "* looks like a linear relationship and interactions with other iputs\n",
    "* not supprising the wider the glacier is at the larger it is, but it is not the only relevant intput"
   ]
  },
  {
   "cell_type": "code",
   "execution_count": 53,
   "metadata": {},
   "outputs": [
    {
     "data": {
      "text/plain": [
       "Text(0, 0.5, 'Volume [km3]')"
      ]
     },
     "execution_count": 53,
     "metadata": {},
     "output_type": "execute_result"
    },
    {
     "data": {
      "image/png": "[encoded data removed]",
      "text/plain": [
       "<Figure size 640x480 with 1 Axes>"
      ]
     },
     "metadata": {},
     "output_type": "display_data"
    }
   ],
   "source": [
    "add_to_with_at_tops = param_values[:, 1]\n",
    "plt.scatter(add_to_with_at_tops, sobol_results_multi.summary()[\"Volume [km3]\"])\n",
    "plt.xlabel(\"add_to_with_at_tops [m]\")\n",
    "plt.ylabel(\"Volume [km3]\")"
   ]
  },
  {
   "cell_type": "markdown",
   "metadata": {},
   "source": [
    "* similar to ELA widht"
   ]
  },
  {
   "cell_type": "code",
   "execution_count": 55,
   "metadata": {},
   "outputs": [],
   "source": [
    "sobol_multi = analyze(problem, sobol_results_multi.summary()[\"Volume [km3]\"].values)"
   ]
  },
  {
   "cell_type": "code",
   "execution_count": 57,
   "metadata": {},
   "outputs": [],
   "source": [
    "total_Si, first_Si, second_Si = sobol_multi.to_df()"
   ]
  },
  {
   "cell_type": "code",
   "execution_count": null,
   "metadata": {},
   "outputs": [],
   "source": []
  },
  {
   "cell_type": "code",
   "execution_count": 58,
   "metadata": {},
   "outputs": [
    {
     "data": {
      "text/html": [
       "<div>\n",
       "<style scoped>\n",
       "    .dataframe tbody tr th:only-of-type {\n",
       "        vertical-align: middle;\n",
       "    }\n",
       "\n",
       "    .dataframe tbody tr th {\n",
       "        vertical-align: top;\n",
       "    }\n",
       "\n",
       "    .dataframe thead th {\n",
       "        text-align: right;\n",
       "    }\n",
       "</style>\n",
       "<table border=\"1\" class=\"dataframe\">\n",
       "  <thead>\n",
       "    <tr style=\"text-align: right;\">\n",
       "      <th></th>\n",
       "      <th>ST</th>\n",
       "      <th>ST_conf</th>\n",
       "    </tr>\n",
       "  </thead>\n",
       "  <tbody>\n",
       "    <tr>\n",
       "      <th>mb_gradient</th>\n",
       "      <td>0.337805</td>\n",
       "      <td>0.177487</td>\n",
       "    </tr>\n",
       "    <tr>\n",
       "      <th>ela_width</th>\n",
       "      <td>0.634788</td>\n",
       "      <td>0.229653</td>\n",
       "    </tr>\n",
       "    <tr>\n",
       "      <th>add_to_with_at_top</th>\n",
       "      <td>0.061444</td>\n",
       "      <td>0.027373</td>\n",
       "    </tr>\n",
       "  </tbody>\n",
       "</table>\n",
       "</div>"
      ],
      "text/plain": [
       "                          ST   ST_conf\n",
       "mb_gradient         0.337805  0.177487\n",
       "ela_width           0.634788  0.229653\n",
       "add_to_with_at_top  0.061444  0.027373"
      ]
     },
     "execution_count": 58,
     "metadata": {},
     "output_type": "execute_result"
    }
   ],
   "source": [
    "total_Si"
   ]
  },
  {
   "cell_type": "code",
   "execution_count": 62,
   "metadata": {},
   "outputs": [
    {
     "data": {
      "text/plain": [
       "ST         1.034036\n",
       "ST_conf    0.434513\n",
       "dtype: float64"
      ]
     },
     "execution_count": 62,
     "metadata": {},
     "output_type": "execute_result"
    }
   ],
   "source": [
    "total_Si.sum()"
   ]
  },
  {
   "cell_type": "markdown",
   "metadata": {},
   "source": [
    "Total Effect:\n",
    "\n",
    "So the largest total effect comes form the ELA with, followed by the mb_gradient.\n",
    "the added glacier witha the top as a rather small effect.\n",
    "Although note theat eh confidence intervall is rather larger, which ist moste likely du to the small sample size."
   ]
  },
  {
   "cell_type": "code",
   "execution_count": 59,
   "metadata": {},
   "outputs": [
    {
     "data": {
      "text/html": [
       "<div>\n",
       "<style scoped>\n",
       "    .dataframe tbody tr th:only-of-type {\n",
       "        vertical-align: middle;\n",
       "    }\n",
       "\n",
       "    .dataframe tbody tr th {\n",
       "        vertical-align: top;\n",
       "    }\n",
       "\n",
       "    .dataframe thead th {\n",
       "        text-align: right;\n",
       "    }\n",
       "</style>\n",
       "<table border=\"1\" class=\"dataframe\">\n",
       "  <thead>\n",
       "    <tr style=\"text-align: right;\">\n",
       "      <th></th>\n",
       "      <th>S1</th>\n",
       "      <th>S1_conf</th>\n",
       "    </tr>\n",
       "  </thead>\n",
       "  <tbody>\n",
       "    <tr>\n",
       "      <th>mb_gradient</th>\n",
       "      <td>0.254378</td>\n",
       "      <td>0.235710</td>\n",
       "    </tr>\n",
       "    <tr>\n",
       "      <th>ela_width</th>\n",
       "      <td>0.676555</td>\n",
       "      <td>0.255472</td>\n",
       "    </tr>\n",
       "    <tr>\n",
       "      <th>add_to_with_at_top</th>\n",
       "      <td>0.072225</td>\n",
       "      <td>0.082782</td>\n",
       "    </tr>\n",
       "  </tbody>\n",
       "</table>\n",
       "</div>"
      ],
      "text/plain": [
       "                          S1   S1_conf\n",
       "mb_gradient         0.254378  0.235710\n",
       "ela_width           0.676555  0.255472\n",
       "add_to_with_at_top  0.072225  0.082782"
      ]
     },
     "execution_count": 59,
     "metadata": {},
     "output_type": "execute_result"
    }
   ],
   "source": [
    "first_Si"
   ]
  },
  {
   "cell_type": "markdown",
   "metadata": {},
   "source": [
    "S1 effect:\n",
    "\n",
    "The S1 index represents the direct effect of each input parameter on the output variance, without considering any interaction effects.\n",
    "The ranking is the same as for the ST"
   ]
  },
  {
   "cell_type": "code",
   "execution_count": 60,
   "metadata": {},
   "outputs": [
    {
     "data": {
      "text/html": [
       "<div>\n",
       "<style scoped>\n",
       "    .dataframe tbody tr th:only-of-type {\n",
       "        vertical-align: middle;\n",
       "    }\n",
       "\n",
       "    .dataframe tbody tr th {\n",
       "        vertical-align: top;\n",
       "    }\n",
       "\n",
       "    .dataframe thead th {\n",
       "        text-align: right;\n",
       "    }\n",
       "</style>\n",
       "<table border=\"1\" class=\"dataframe\">\n",
       "  <thead>\n",
       "    <tr style=\"text-align: right;\">\n",
       "      <th></th>\n",
       "      <th>S2</th>\n",
       "      <th>S2_conf</th>\n",
       "    </tr>\n",
       "  </thead>\n",
       "  <tbody>\n",
       "    <tr>\n",
       "      <th>(mb_gradient, ela_width)</th>\n",
       "      <td>0.067363</td>\n",
       "      <td>0.357392</td>\n",
       "    </tr>\n",
       "    <tr>\n",
       "      <th>(mb_gradient, add_to_with_at_top)</th>\n",
       "      <td>0.137232</td>\n",
       "      <td>0.269820</td>\n",
       "    </tr>\n",
       "    <tr>\n",
       "      <th>(ela_width, add_to_with_at_top)</th>\n",
       "      <td>0.007516</td>\n",
       "      <td>0.345432</td>\n",
       "    </tr>\n",
       "  </tbody>\n",
       "</table>\n",
       "</div>"
      ],
      "text/plain": [
       "                                         S2   S2_conf\n",
       "(mb_gradient, ela_width)           0.067363  0.357392\n",
       "(mb_gradient, add_to_with_at_top)  0.137232  0.269820\n",
       "(ela_width, add_to_with_at_top)    0.007516  0.345432"
      ]
     },
     "execution_count": 60,
     "metadata": {},
     "output_type": "execute_result"
    }
   ],
   "source": [
    "second_Si"
   ]
  },
  {
   "cell_type": "markdown",
   "metadata": {},
   "source": [
    "S2 effect\n",
    "\n",
    "Mass balance gradient and add with to topa interact the most. Likely toto a larger accumulation area when the with at the top is larger and therfore the mass balance gradient has a larger effect.\n",
    "The S2 conf values are quite high, so the conclusions need to be taken with a caution. A larger number of samples would be a good start to investigate this futher and see if it reduces the S2_conf values."
   ]
  },
  {
   "cell_type": "code",
   "execution_count": 56,
   "metadata": {},
   "outputs": [
    {
     "data": {
      "text/plain": [
       "array([<Axes: >, <Axes: >, <Axes: >], dtype=object)"
      ]
     },
     "execution_count": 56,
     "metadata": {},
     "output_type": "execute_result"
    },
    {
     "data": {
      "image/png": "[encoded data removed]",
      "text/plain": [
       "<Figure size 640x480 with 3 Axes>"
      ]
     },
     "metadata": {},
     "output_type": "display_data"
    }
   ],
   "source": [
    "sobol_multi.plot()"
   ]
  }
 ],
 "metadata": {
  "kernelspec": {
   "display_name": "base",
   "language": "python",
   "name": "python3"
  },
  "language_info": {
   "codemirror_mode": {
    "name": "ipython",
    "version": 3
   },
   "file_extension": ".py",
   "mimetype": "text/x-python",
   "name": "python",
   "nbconvert_exporter": "python",
   "pygments_lexer": "ipython3",
   "version": "3.11.5"
  }
 },
 "nbformat": 4,
 "nbformat_minor": 2
}
