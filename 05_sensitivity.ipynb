{
 "cells": [
  {
   "cell_type": "markdown",
   "metadata": {},
   "source": [
    "# Sensitivity analysis \n",
    "\n",
    "using OGGM edu glacier model\n",
    "\n",
    "## Acknowledgement\n",
    "\n",
    "by Thomas Gölles, 2024"
   ]
  },
  {
   "cell_type": "code",
   "execution_count": null,
   "metadata": {},
   "outputs": [],
   "source": [
    "from oggm_edu import GlacierBed, Glacier, MassBalance, GlacierCollection\n",
    "import SALib\n",
    "from SALib.sample.sobol import sample\n",
    "from SALib.analyze.sobol import analyze\n",
    "import numpy as np\n",
    "\n",
    "from matplotlib import pyplot as plt\n",
    "\n",
    "print(\"salib version: \", SALib.__version__)"
   ]
  },
  {
   "cell_type": "markdown",
   "metadata": {},
   "source": [
    "## General OGGM definitions"
   ]
  },
  {
   "cell_type": "code",
   "execution_count": null,
   "metadata": {},
   "outputs": [],
   "source": [
    "# Lets define the bed.\n",
    "# Top and bottom altitude.\n",
    "top = 5000\n",
    "bottom = 0\n",
    "# How far does the accumulation area extend?\n",
    "accumulation_fraction = 1 / 3\n",
    "# ELA altitude\n",
    "ela_alt = (top - bottom) * (1 - accumulation_fraction)\n",
    "# Accumulation area starts out as 1000 m. wide.\n",
    "top_width = 1000\n",
    "# 500 m. wide after ELA.\n",
    "ela_width = 500\n",
    "\n",
    "# Bed, note that we increase the map_dx here,\n",
    "# we increase the grid point spacing.\n",
    "bed = GlacierBed(\n",
    "    altitudes=[top, ela_alt, bottom],\n",
    "    widths=[top_width, ela_width, ela_width],\n",
    "    map_dx=200,\n",
    ")"
   ]
  },
  {
   "cell_type": "markdown",
   "metadata": {},
   "source": [
    "Lets investigate how the mass blance influences the volume"
   ]
  },
  {
   "cell_type": "code",
   "execution_count": null,
   "metadata": {},
   "outputs": [],
   "source": [
    "mb_gradient = 7\n",
    "mass_balance = MassBalance(ela=ela_alt, gradient=mb_gradient)"
   ]
  },
  {
   "cell_type": "code",
   "execution_count": null,
   "metadata": {},
   "outputs": [],
   "source": [
    "glacier = Glacier(bed, mass_balance=mass_balance)\n",
    "glacier.progress_to_equilibrium()"
   ]
  },
  {
   "cell_type": "code",
   "execution_count": null,
   "metadata": {},
   "outputs": [],
   "source": [
    "glacier"
   ]
  },
  {
   "cell_type": "code",
   "execution_count": null,
   "metadata": {},
   "outputs": [],
   "source": [
    "glacier.plot()"
   ]
  },
  {
   "cell_type": "code",
   "execution_count": null,
   "metadata": {},
   "outputs": [],
   "source": [
    "glacier.plot_history()"
   ]
  },
  {
   "cell_type": "code",
   "execution_count": null,
   "metadata": {},
   "outputs": [],
   "source": [
    "glacier.history"
   ]
  },
  {
   "cell_type": "markdown",
   "metadata": {},
   "source": [
    "We need a function which takes the mb_graident and gives us the resulting glacier in quilibrium. Then we varay the massbalance gradient and analyse the outcome."
   ]
  },
  {
   "cell_type": "code",
   "execution_count": null,
   "metadata": {},
   "outputs": [],
   "source": [
    "def evaluate_model(mb_gradient):\n",
    "    mass_balance = MassBalance(ela=ela_alt, gradient=mb_gradient)\n",
    "    glacier = Glacier(bed, mass_balance=mass_balance)\n",
    "    glacier.progress_to_equilibrium()\n",
    "    return glacier"
   ]
  },
  {
   "cell_type": "markdown",
   "metadata": {},
   "source": [
    "## OAT sensitivity analysis"
   ]
  },
  {
   "cell_type": "markdown",
   "metadata": {},
   "source": [
    "We interessed in the equilibirum glacier volume. And we want to know how the glacier reacts to massbalance gadients form 0.01 to 10."
   ]
  },
  {
   "cell_type": "code",
   "execution_count": null,
   "metadata": {},
   "outputs": [],
   "source": [
    "mb_gradient_min = 0.01\n",
    "mb_gradient_max = 10\n",
    "number_of_samples = 100\n",
    "np.random.seed(0)  # so the results are reproducible and everyone gets the same results\n",
    "mb_gradient_samples = np.random.uniform(\n",
    "    mb_gradient_min, mb_gradient_max, number_of_samples\n",
    ")\n",
    "mb_gradient_samples"
   ]
  },
  {
   "cell_type": "markdown",
   "metadata": {},
   "source": [
    "Ok, now we have the sample for our one one at the time sensitivity analysis."
   ]
  },
  {
   "cell_type": "markdown",
   "metadata": {},
   "source": [
    "Now lets generate a list with all the glaciers for the different mass balance gradients. We need an empty list to which we append the results run in a for loop:"
   ]
  },
  {
   "cell_type": "code",
   "execution_count": null,
   "metadata": {},
   "outputs": [],
   "source": [
    "results = []\n",
    "for mb_gradient in mb_gradient_samples:\n",
    "    glacier = evaluate_model(mb_gradient)\n",
    "    results.append(glacier)\n",
    "    print(f\"Done with mb_gradient: {mb_gradient}\")"
   ]
  },
  {
   "cell_type": "markdown",
   "metadata": {},
   "source": [
    "Now OGGM_edu has a usefull class called GlacierCollection"
   ]
  },
  {
   "cell_type": "code",
   "execution_count": null,
   "metadata": {},
   "outputs": [],
   "source": [
    "ota_runs = GlacierCollection(results)"
   ]
  },
  {
   "cell_type": "code",
   "execution_count": null,
   "metadata": {},
   "outputs": [],
   "source": [
    "# plot mass balances\n",
    "fig, ax = plt.subplots()\n",
    "for glacier in ota_runs.glaciers:\n",
    "    ax.plot(\n",
    "        glacier.annual_mass_balance,\n",
    "        glacier.bed.bed_h,\n",
    "        label=f\"Glacier {glacier.id}, \" + f\"gradient {glacier.mass_balance.gradient}\",\n",
    "    )\n",
    "    # Add each ELA.\n",
    "    # elas.append(glacier.mass_balance.ela)\n",
    "    # Add labels.\n",
    "    ax.set_xlabel(\"Annual mass balance [m yr-1]\")\n",
    "    ax.set_ylabel(\"Altitude [m]\")"
   ]
  },
  {
   "cell_type": "markdown",
   "metadata": {},
   "source": [
    "Now lets plot the equilibrium volume vs the mass balance gradient:"
   ]
  },
  {
   "cell_type": "code",
   "execution_count": null,
   "metadata": {},
   "outputs": [],
   "source": [
    "plt.scatter(mb_gradient_samples, ota_runs.summary()[\"Volume [km3]\"])\n",
    "plt.xlabel(\"Mass balance gradient\")\n",
    "plt.ylabel(\"Volume [km3]\")"
   ]
  },
  {
   "cell_type": "markdown",
   "metadata": {},
   "source": [
    "What do we see here?\n",
    "\n",
    "* The volume depends on the mass balance gradient\n",
    "* it is non-linear\n",
    "* it looks exponential\n",
    "* where there is a lot of change at low mass balance gradients we have rader few points"
   ]
  },
  {
   "cell_type": "markdown",
   "metadata": {},
   "source": [
    "What are soem real world implications*\n",
    "\n",
    "* Glaciers with low mass balance gradient are more sensitive to climate"
   ]
  },
  {
   "cell_type": "markdown",
   "metadata": {},
   "source": [
    "Limitations of OAT:\n",
    "\n",
    "* no interactions between multiple factors \n",
    "* in reality multiply factors change at teh same time\n",
    "\n",
    "OAT is usefull for inital insights but to capture feedbacks more advanced sensitivity analysis methods are needed."
   ]
  },
  {
   "cell_type": "markdown",
   "metadata": {},
   "source": [
    "## Using SALib and the Sobol method with one varible"
   ]
  },
  {
   "cell_type": "markdown",
   "metadata": {},
   "source": [
    "Lets repeat the same experiment but using SALib.\n",
    "First we need to defien the \"priboblem\", i.e, the epxeriment \n",
    "Again vary the mb gradient form 0.01 to 10"
   ]
  },
  {
   "cell_type": "code",
   "execution_count": null,
   "metadata": {},
   "outputs": [],
   "source": [
    "problem = {\"num_vars\": 1, \"names\": [\"mb_gradient\"], \"bounds\": [[0.01, 10]]}"
   ]
  },
  {
   "cell_type": "markdown",
   "metadata": {},
   "source": [
    "Instead of choosing randomly we use the Sobol sampler"
   ]
  },
  {
   "cell_type": "code",
   "execution_count": null,
   "metadata": {},
   "outputs": [],
   "source": [
    "number_of_samples = 50"
   ]
  },
  {
   "cell_type": "markdown",
   "metadata": {},
   "source": [
    "Now lets generate the samples. i.e. the list of inputs to test the model with"
   ]
  },
  {
   "cell_type": "code",
   "execution_count": null,
   "metadata": {},
   "outputs": [],
   "source": [
    "param_values = sample(problem, number_of_samples)"
   ]
  },
  {
   "cell_type": "code",
   "execution_count": null,
   "metadata": {},
   "outputs": [],
   "source": [
    "param_values"
   ]
  },
  {
   "cell_type": "markdown",
   "metadata": {},
   "source": [
    "we reuse the function \"elevate_model\" from above. Which takes the mb_gradient as input and runs the glacier to equilibrium.\n",
    "We need to adjust the for loop a bit since, the param_values with our sampel is a list of lists. (therfore the forcing[0])\n",
    "\n"
   ]
  },
  {
   "cell_type": "code",
   "execution_count": null,
   "metadata": {},
   "outputs": [],
   "source": [
    "results = []\n",
    "for forcing in param_values:\n",
    "    mb_gradient = forcing[0]\n",
    "    glacier = evaluate_model(forcing)\n",
    "    results.append(glacier)\n",
    "    print(f\"Done with mb_gradient: {mb_gradient}\")"
   ]
  },
  {
   "cell_type": "code",
   "execution_count": null,
   "metadata": {},
   "outputs": [],
   "source": [
    "sobol_runs = GlacierCollection(results)"
   ]
  },
  {
   "cell_type": "code",
   "execution_count": null,
   "metadata": {},
   "outputs": [],
   "source": [
    "plt.scatter(param_values, sobol_runs.summary()[\"Volume [km3]\"])\n",
    "plt.xlabel(\"Mass balance gradient\")\n",
    "plt.ylabel(\"Volume [km3]\")"
   ]
  },
  {
   "cell_type": "markdown",
   "metadata": {},
   "source": [
    "What to we see here?\n",
    "\n",
    "* more evently spaced samples\n",
    "* the same conclustions as with the somple OAT approach.\n",
    "\n",
    "Now we can actually analyse the Sobol Sensitivity measures:"
   ]
  },
  {
   "cell_type": "code",
   "execution_count": null,
   "metadata": {},
   "outputs": [],
   "source": [
    "sobol_result = analyze(problem, sobol_runs.summary()[\"Volume [km3]\"].values)"
   ]
  },
  {
   "cell_type": "code",
   "execution_count": null,
   "metadata": {},
   "outputs": [],
   "source": [
    "sobol_result"
   ]
  },
  {
   "cell_type": "markdown",
   "metadata": {},
   "source": [
    "What do the values mean?\n",
    "\n",
    "* S1 is the first-order sensitivity index and should be between 0 and 1\n",
    "* S1 is larger than 1 => might need more samples. In this case it should be 1 since all the Variance of the output is form one input (the mass balance gradient)\n",
    "* S1_conf quite large so significant uncertainties about the S1\n",
    "\n",
    "* ST the Total Sensitivity Index sould also be 1 and the same is S1 since ther are not interactions with other variables\n",
    "\n",
    "* S2 has a  not a number value (nan), since we only had one paramter.\n",
    "\n",
    "So sobol sensitivity for one varialbe gives not much more insight then OTA, but now lets try it for multiple inputs\n"
   ]
  },
  {
   "cell_type": "markdown",
   "metadata": {},
   "source": [
    "## Sobol sensitivity for multiple inputs"
   ]
  },
  {
   "cell_type": "code",
   "execution_count": null,
   "metadata": {},
   "outputs": [],
   "source": [
    "def evaluate_model_multi(mb_gradient, ela_width, add_to_with_at_top):\n",
    "    top = 5000\n",
    "    bottom = 0\n",
    "\n",
    "    accumulation_fraction = 1 / 3\n",
    "    ela_alt = (top - bottom) * (1 - accumulation_fraction)\n",
    "    top_width = ela_width + add_to_with_at_top\n",
    "    bed = GlacierBed(\n",
    "        altitudes=[top, ela_alt, bottom],\n",
    "        widths=[top_width, ela_width, ela_width],\n",
    "        map_dx=200,\n",
    "    )\n",
    "    mass_balance = MassBalance(ela=ela_alt, gradient=mb_gradient)\n",
    "    glacier = Glacier(bed, mass_balance=mass_balance)\n",
    "    glacier.progress_to_equilibrium()\n",
    "    return glacier"
   ]
  },
  {
   "cell_type": "code",
   "execution_count": null,
   "metadata": {},
   "outputs": [],
   "source": [
    "problem = {\n",
    "    \"num_vars\": 3,\n",
    "    \"names\": [\"mb_gradient\", \"ela_width\", \"add_to_with_at_top\"],\n",
    "    \"bounds\": [\n",
    "        [0.01, 10],\n",
    "        [500, 2000],\n",
    "        [0, 1000],\n",
    "    ],\n",
    "}"
   ]
  },
  {
   "cell_type": "code",
   "execution_count": null,
   "metadata": {},
   "outputs": [],
   "source": [
    "number_of_samples = 50"
   ]
  },
  {
   "cell_type": "code",
   "execution_count": null,
   "metadata": {},
   "outputs": [],
   "source": [
    "param_values = sample(problem, number_of_samples)"
   ]
  },
  {
   "cell_type": "code",
   "execution_count": null,
   "metadata": {},
   "outputs": [],
   "source": [
    "results = []\n",
    "for forcing in param_values:\n",
    "    glacier = evaluate_model_multi(\n",
    "        mb_gradient=forcing[0], ela_width=forcing[1], add_to_with_at_top=forcing[2]\n",
    "    )\n",
    "    results.append(glacier)\n",
    "    print(f\"Done with forcings: {forcing}\")"
   ]
  },
  {
   "cell_type": "code",
   "execution_count": null,
   "metadata": {},
   "outputs": [],
   "source": [
    "sobol_results_multi = GlacierCollection(results)"
   ]
  },
  {
   "cell_type": "code",
   "execution_count": null,
   "metadata": {},
   "outputs": [],
   "source": [
    "sobol_results_multi"
   ]
  },
  {
   "cell_type": "markdown",
   "metadata": {},
   "source": [
    "Lets now blot the mass balance gradient and volume"
   ]
  },
  {
   "cell_type": "code",
   "execution_count": null,
   "metadata": {},
   "outputs": [],
   "source": [
    "mb_gradients = param_values[:, 0]\n",
    "plt.scatter(mb_gradients, sobol_results_multi.summary()[\"Volume [km3]\"])\n",
    "plt.xlabel(\"Mass balance gradient\")\n",
    "plt.ylabel(\"Volume [km3]\")"
   ]
  },
  {
   "cell_type": "markdown",
   "metadata": {},
   "source": [
    "What do we see here?\n",
    "\n",
    "* there is much mor variation in total\n",
    "* not just depending on the Mass balance gradient\n",
    "* The OTA relation ship is still visible\n",
    "\n",
    "Lets look at the other values"
   ]
  },
  {
   "cell_type": "code",
   "execution_count": null,
   "metadata": {},
   "outputs": [],
   "source": [
    "ela_widths = param_values[:, 1]\n",
    "plt.scatter(ela_widths, sobol_results_multi.summary()[\"Volume [km3]\"])\n",
    "plt.xlabel(\"ELA width\")\n",
    "plt.ylabel(\"Volume [km3]\")"
   ]
  },
  {
   "cell_type": "markdown",
   "metadata": {},
   "source": [
    "* looks like a linear relationship and interactions with other iputs\n",
    "* not supprising the wider the glacier is at the larger it is, but it is not the only relevant intput"
   ]
  },
  {
   "cell_type": "code",
   "execution_count": null,
   "metadata": {},
   "outputs": [],
   "source": [
    "add_to_with_at_tops = param_values[:, 2]\n",
    "plt.scatter(add_to_with_at_tops, sobol_results_multi.summary()[\"Volume [km3]\"])\n",
    "plt.xlabel(\"add_to_with_at_tops [m]\")\n",
    "plt.ylabel(\"Volume [km3]\")"
   ]
  },
  {
   "cell_type": "markdown",
   "metadata": {},
   "source": [
    "* All over the place, looks like no stron correlation"
   ]
  },
  {
   "cell_type": "code",
   "execution_count": null,
   "metadata": {},
   "outputs": [],
   "source": [
    "sobol_multi = analyze(problem, sobol_results_multi.summary()[\"Volume [km3]\"].values)"
   ]
  },
  {
   "cell_type": "code",
   "execution_count": null,
   "metadata": {},
   "outputs": [],
   "source": [
    "total_Si, first_Si, second_Si = sobol_multi.to_df()"
   ]
  },
  {
   "cell_type": "code",
   "execution_count": null,
   "metadata": {},
   "outputs": [],
   "source": [
    "total_Si"
   ]
  },
  {
   "cell_type": "code",
   "execution_count": null,
   "metadata": {},
   "outputs": [],
   "source": [
    "total_Si.sum()"
   ]
  },
  {
   "cell_type": "markdown",
   "metadata": {},
   "source": [
    "Total Effect:\n",
    "\n",
    "So the largest total effect comes form the ELA with, followed by the mb_gradient.\n",
    "the added glacier witha the top as a rather small effect.\n",
    "Although note theat eh confidence intervall is rather larger, which ist moste likely du to the small sample size."
   ]
  },
  {
   "cell_type": "code",
   "execution_count": null,
   "metadata": {},
   "outputs": [],
   "source": [
    "first_Si"
   ]
  },
  {
   "cell_type": "markdown",
   "metadata": {},
   "source": [
    "S1 effect:\n",
    "\n",
    "The S1 index represents the direct effect of each input parameter on the output variance, without considering any interaction effects.\n",
    "The ranking is the same as for the ST"
   ]
  },
  {
   "cell_type": "code",
   "execution_count": null,
   "metadata": {},
   "outputs": [],
   "source": [
    "second_Si"
   ]
  },
  {
   "cell_type": "markdown",
   "metadata": {},
   "source": [
    "S2 effect\n",
    "\n",
    "Mass balance gradient and add with to topa interact the most. Likely toto a larger accumulation area when the with at the top is larger and therfore the mass balance gradient has a larger effect.\n",
    "The S2 conf values are quite high, so the conclusions need to be taken with a caution. A larger number of samples would be a good start to investigate this futher and see if it reduces the S2_conf values."
   ]
  },
  {
   "cell_type": "code",
   "execution_count": null,
   "metadata": {},
   "outputs": [],
   "source": [
    "sobol_multi.plot()"
   ]
  },
  {
   "cell_type": "code",
   "execution_count": null,
   "metadata": {},
   "outputs": [],
   "source": [
    "sobol_results_multi.glaciers[150].plot()"
   ]
  },
  {
   "cell_type": "code",
   "execution_count": null,
   "metadata": {},
   "outputs": [],
   "source": []
  }
 ],
 "metadata": {
  "kernelspec": {
   "display_name": "base",
   "language": "python",
   "name": "python3"
  },
  "language_info": {
   "codemirror_mode": {
    "name": "ipython",
    "version": 3
   },
   "file_extension": ".py",
   "mimetype": "text/x-python",
   "name": "python",
   "nbconvert_exporter": "python",
   "pygments_lexer": "ipython3",
   "version": "3.11.5"
  }
 },
 "nbformat": 4,
 "nbformat_minor": 2
}
