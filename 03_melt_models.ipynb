{
 "cells": [
  {
   "cell_type": "code",
   "execution_count": null,
   "metadata": {},
   "outputs": [],
   "source": [
    "import numpy as np\n",
    "import pandas as pd\n",
    "import xarray as xr\n",
    "\n",
    "import plotly.express as px"
   ]
  },
  {
   "cell_type": "markdown",
   "metadata": {},
   "source": [
    "# Temperature index models\n",
    "\n",
    "## Acknowledgment\n",
    "\n",
    "by Thomas Gölles 2024"
   ]
  },
  {
   "cell_type": "markdown",
   "metadata": {},
   "source": [
    "## Naive first approach"
   ]
  },
  {
   "cell_type": "code",
   "execution_count": null,
   "metadata": {},
   "outputs": [],
   "source": [
    "degree_day_factor = 8.0  # mm/day/degree celsius\n",
    "temperature_plus = 3.0  # degree celsius\n",
    "delta_time = 4  # day\n",
    "\n",
    "melt = degree_day_factor * temperature_plus * delta_time\n",
    "print(f\"melt of snow for {delta_time} is {melt} mm\")"
   ]
  },
  {
   "cell_type": "markdown",
   "metadata": {},
   "source": [
    "Now lets look at the cumulative melt over 10 days"
   ]
  },
  {
   "cell_type": "code",
   "execution_count": null,
   "metadata": {},
   "outputs": [],
   "source": [
    "n = 11\n",
    "days = range(1, n)\n",
    "melt = 0\n",
    "\n",
    "for day in days:\n",
    "    melt = melt + degree_day_factor * temperature_plus * delta_time\n",
    "    print(f\"cummulative melt of snow for {day} is {melt:.2f} mm\")"
   ]
  },
  {
   "cell_type": "markdown",
   "metadata": {},
   "source": [
    "ok a bit nicer, but the Temperature is still constant. Now use a random tempearature list form -5 to +10"
   ]
  },
  {
   "cell_type": "code",
   "execution_count": null,
   "metadata": {},
   "outputs": [],
   "source": [
    "n = 11\n",
    "days = range(1, n)\n",
    "\n",
    "np.random.seed(42)\n",
    "temperatures = np.random.uniform(-5, 10, len(days))\n",
    "melt = 0\n",
    "\n",
    "for day in days:\n",
    "    temperature_plus = temperatures[day - 1]\n",
    "    melt = melt + degree_day_factor * temperature_plus * delta_time\n",
    "    print(\n",
    "        f\"cummulative melt of snow for {day} with {temperature_plus:.2f}°C is {melt:.2f} mm\"\n",
    "    )"
   ]
  },
  {
   "cell_type": "code",
   "execution_count": null,
   "metadata": {},
   "outputs": [],
   "source": [
    "n = 11\n",
    "days = range(1, n)\n",
    "\n",
    "np.random.seed(42)\n",
    "temperatures = np.random.uniform(-5, 10, len(days))\n",
    "melt = 0\n",
    "\n",
    "for day in days:\n",
    "    current_temperature = temperatures[day - 1]\n",
    "    temperature_plus = np.maximum(current_temperature, 0)\n",
    "    melt = melt + degree_day_factor * temperature_plus * delta_time\n",
    "    print(\n",
    "        f\"cummulative melt of snow for {day} with {current_temperature:.2f}°C is {melt:.2f} mm\"\n",
    "    )"
   ]
  },
  {
   "cell_type": "markdown",
   "metadata": {},
   "source": [
    "## Better use of Python\n",
    "\n",
    "If you often reuse a culation but it in a function.\n",
    "A function starts with \"def\" then the function name you want to have followed by the input argumetnts in ().\n",
    "\n",
    "Here I also used so called typehints like degree_day_factor: float. Which means that we expect a floating point number as the degree day factor. In Python this optional but helps a lot in understanding what is expected.\n",
    "\n",
    "Here I also give a default value of the threshold_temp. This means that if no third argument is given the standard value of 0.0 is used."
   ]
  },
  {
   "cell_type": "code",
   "execution_count": null,
   "metadata": {},
   "outputs": [],
   "source": [
    "def degree_day_model(\n",
    "    temperatures: np.array, degree_day_factor: float, threshold_temp: float = 0.0\n",
    ") -> np.array:\n",
    "    \"\"\"\n",
    "    Estimate daily melt amount using the Degree-Day Model.\n",
    "\n",
    "    Parameters:\n",
    "    temperatures (numpy.array): Array of daily mean air temperatures (°C).\n",
    "    degree_day_factor (float): Degree-day factor (mm °C^-1 day^-1).\n",
    "    threshold_temp (float): Threshold temperature above which melting occurs (°C). Default is 0.0°C.\n",
    "\n",
    "    Returns:\n",
    "    numpy.array: Array of daily melt amounts (mm).\n",
    "    \"\"\"\n",
    "    # Calculate positive temperature differences (temperatures above the threshold)\n",
    "    positive_temperatures = np.maximum(temperatures - threshold_temp, 0)\n",
    "\n",
    "    # Calculate daily melt amounts\n",
    "    daily_melt = positive_temperatures * degree_day_factor\n",
    "\n",
    "    return daily_melt"
   ]
  },
  {
   "cell_type": "code",
   "execution_count": null,
   "metadata": {},
   "outputs": [],
   "source": [
    "temperatures = np.array([-3.2, -1.1, 0.0, 2.2, 5.1, 3.0, 0.0, -2.0])"
   ]
  },
  {
   "cell_type": "code",
   "execution_count": null,
   "metadata": {},
   "outputs": [],
   "source": [
    "ddf = 8.0\n",
    "melt_amounts = degree_day_model(temperatures, degree_day_factor=ddf)\n",
    "melt_amounts"
   ]
  },
  {
   "cell_type": "markdown",
   "metadata": {},
   "source": [
    "note here we used the default value for threshold_temp.\n",
    "So the result is an array of values correspondig to daily temperatures.\n",
    "To make it nicer to work with lets make a pandas dataframe together with the temperatures"
   ]
  },
  {
   "cell_type": "code",
   "execution_count": null,
   "metadata": {},
   "outputs": [],
   "source": [
    "from operator import index\n",
    "\n",
    "\n",
    "melt = pd.DataFrame(\n",
    "    melt_amounts,\n",
    "    index=temperatures,\n",
    "    columns=[f\"melt (mm)\"],\n",
    ")\n",
    "melt.index.name = \"Temperature (°C)\"\n",
    "melt"
   ]
  },
  {
   "cell_type": "code",
   "execution_count": null,
   "metadata": {},
   "outputs": [],
   "source": [
    "melt.plot()"
   ]
  },
  {
   "cell_type": "markdown",
   "metadata": {},
   "source": [
    "### Exersize\n",
    "\n",
    "* plot the curve for different degree day factors.\n",
    "* compare snow and ice: 2.5 to 11.6 mm/(day K)  for snow 6.6 to 20.0 mm/(day K) for ice,\n",
    "* change the function to use SI base units"
   ]
  },
  {
   "cell_type": "markdown",
   "metadata": {},
   "source": [
    "What is the total amount of melt in mm over all days"
   ]
  },
  {
   "cell_type": "code",
   "execution_count": null,
   "metadata": {},
   "outputs": [],
   "source": [
    "melt[\"melt (mm)\"].sum()"
   ]
  },
  {
   "cell_type": "markdown",
   "metadata": {},
   "source": [
    "## Spatial distributed version"
   ]
  },
  {
   "cell_type": "code",
   "execution_count": null,
   "metadata": {},
   "outputs": [],
   "source": [
    "number_of_rows = 25\n",
    "number_of_columns = 10"
   ]
  },
  {
   "cell_type": "code",
   "execution_count": null,
   "metadata": {},
   "outputs": [],
   "source": [
    "np.random.seed(42)\n",
    "temperatures = np.random.uniform(-5, 10, (number_of_rows, number_of_columns))"
   ]
  },
  {
   "cell_type": "code",
   "execution_count": null,
   "metadata": {},
   "outputs": [],
   "source": [
    "melt_amounts_distributed = degree_day_model(temperatures, degree_day_factor=ddf)"
   ]
  },
  {
   "cell_type": "code",
   "execution_count": null,
   "metadata": {},
   "outputs": [],
   "source": [
    "melt_amounts_distributed"
   ]
  },
  {
   "cell_type": "code",
   "execution_count": null,
   "metadata": {},
   "outputs": [],
   "source": [
    "distribued_melt_df = pd.DataFrame(melt_amounts_distributed)\n",
    "distribued_melt_df"
   ]
  },
  {
   "cell_type": "code",
   "execution_count": null,
   "metadata": {},
   "outputs": [],
   "source": [
    "px.imshow(\n",
    "    distribued_melt_df,\n",
    "    origin=\"lower\",\n",
    "    labels=dict(x=\"Column\", y=\"Row\"),\n",
    "    title=\"Plot without Interpolation\",\n",
    ")"
   ]
  },
  {
   "cell_type": "markdown",
   "metadata": {},
   "source": [
    "## Now with space and time"
   ]
  },
  {
   "cell_type": "code",
   "execution_count": null,
   "metadata": {},
   "outputs": [],
   "source": [
    "number_of_rows = 25\n",
    "number_of_columns = 10\n",
    "number_of_days = 10"
   ]
  },
  {
   "cell_type": "code",
   "execution_count": null,
   "metadata": {},
   "outputs": [],
   "source": [
    "np.random.seed(42)\n",
    "temperatures = np.random.uniform(\n",
    "    -5, 10, (number_of_rows, number_of_columns, number_of_days)\n",
    ")"
   ]
  },
  {
   "cell_type": "code",
   "execution_count": null,
   "metadata": {},
   "outputs": [],
   "source": [
    "data_array = xr.DataArray(temperatures, dims=(\"row\", \"column\", \"day\"))"
   ]
  },
  {
   "cell_type": "code",
   "execution_count": null,
   "metadata": {},
   "outputs": [],
   "source": [
    "dataset = xr.Dataset({\"temperature\": data_array})"
   ]
  },
  {
   "cell_type": "code",
   "execution_count": null,
   "metadata": {},
   "outputs": [],
   "source": [
    "dataset"
   ]
  },
  {
   "cell_type": "code",
   "execution_count": null,
   "metadata": {},
   "outputs": [],
   "source": [
    "dataset[\"daily_melt\"] = degree_day_model(dataset[\"temperature\"], degree_day_factor)"
   ]
  },
  {
   "cell_type": "code",
   "execution_count": null,
   "metadata": {},
   "outputs": [],
   "source": [
    "dataset"
   ]
  },
  {
   "cell_type": "code",
   "execution_count": null,
   "metadata": {},
   "outputs": [],
   "source": [
    "import plotly.graph_objects as go\n",
    "\n",
    "ds = dataset"
   ]
  },
  {
   "cell_type": "code",
   "execution_count": null,
   "metadata": {},
   "outputs": [],
   "source": [
    "fig = go.Figure()\n",
    "\n",
    "# Assuming 'row' and 'column' are your spatial dimensions and 'day' is the time dimension\n",
    "for day in range(ds.dims[\"day\"]):\n",
    "    fig.add_trace(\n",
    "        go.Heatmap(\n",
    "            z=ds[\"daily_melt\"].isel(day=day),\n",
    "            x=ds[\"column\"],\n",
    "            y=ds[\"row\"],\n",
    "            showscale=False,\n",
    "        )\n",
    "    )\n",
    "\n",
    "# Make 10th frame visible\n",
    "# fig.data[9].visible = True\n",
    "\n",
    "# Create and add slider\n",
    "steps = []\n",
    "for i in range(len(fig.data)):\n",
    "    step = dict(\n",
    "        method=\"update\",\n",
    "        args=[{\"visible\": [False] * len(fig.data)}, {\"title\": \"Day: \" + str(i)}],\n",
    "    )\n",
    "    step[\"args\"][0][\"visible\"][i] = True  # Toggle i'th trace to \"visible\"\n",
    "    steps.append(step)\n",
    "\n",
    "sliders = [dict(active=10, currentvalue={\"prefix\": \"Day: \"}, steps=steps)]\n",
    "\n",
    "fig.update_layout(sliders=sliders)\n",
    "\n",
    "# Set up the layout\n",
    "fig.update_layout(title=\"Daily Melt Animation\", width=600, height=600, autosize=False)\n",
    "\n",
    "fig.show()"
   ]
  },
  {
   "cell_type": "code",
   "execution_count": null,
   "metadata": {},
   "outputs": [],
   "source": []
  },
  {
   "cell_type": "code",
   "execution_count": null,
   "metadata": {},
   "outputs": [],
   "source": []
  }
 ],
 "metadata": {
  "kernelspec": {
   "display_name": "base",
   "language": "python",
   "name": "python3"
  },
  "language_info": {
   "codemirror_mode": {
    "name": "ipython",
    "version": 3
   },
   "file_extension": ".py",
   "mimetype": "text/x-python",
   "name": "python",
   "nbconvert_exporter": "python",
   "pygments_lexer": "ipython3",
   "version": "3.11.5"
  }
 },
 "nbformat": 4,
 "nbformat_minor": 2
}
