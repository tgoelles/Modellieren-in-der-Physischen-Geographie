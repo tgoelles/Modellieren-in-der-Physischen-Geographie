{
 "cells": [
  {
   "cell_type": "code",
   "execution_count": 2,
   "metadata": {},
   "outputs": [],
   "source": [
    "import xarray as xr\n",
    "from xarray import DataArray\n",
    "import matplotlib.pyplot as plt\n",
    "import cartopy.crs as ccrs\n",
    "import cartopy.feature as cfeature\n",
    "from cartopy.io.img_tiles import OSM\n",
    "from matplotlib.animation import FuncAnimation\n",
    "import numpy as np\n",
    "import pandas as pd"
   ]
  },
  {
   "cell_type": "markdown",
   "metadata": {},
   "source": [
    "# Temperature index models\n",
    "\n",
    "## Acknowledgment\n",
    "\n",
    "by Thomas Gölles 2024"
   ]
  },
  {
   "cell_type": "markdown",
   "metadata": {},
   "source": [
    "## Naive first approach\n",
    "\n",
    "$$\n",
    "\\sum_{i=1}^{n} M_i = DDF \\sum_{i=1}^{n} T^{+} \\Delta t\n",
    "$$"
   ]
  },
  {
   "cell_type": "code",
   "execution_count": 3,
   "metadata": {},
   "outputs": [
    {
     "name": "stdout",
     "output_type": "stream",
     "text": [
      "melt of snow for 4 days is 96.0 mm\n"
     ]
    }
   ],
   "source": [
    "degree_day_factor = 8.0  # mm/day/degree celsius\n",
    "temperature_plus = 3.0  # degree celsius\n",
    "delta_time = 4  # day\n",
    "\n",
    "melt = degree_day_factor * temperature_plus * delta_time\n",
    "print(f\"melt of snow for {delta_time} days is {melt} mm\")"
   ]
  },
  {
   "cell_type": "markdown",
   "metadata": {},
   "source": [
    "Now lets look at the cumulative melt over 10 days"
   ]
  },
  {
   "cell_type": "code",
   "execution_count": 4,
   "metadata": {},
   "outputs": [
    {
     "name": "stdout",
     "output_type": "stream",
     "text": [
      "cummulative melt of snow for 1 is 96.00 mm\n",
      "cummulative melt of snow for 2 is 192.00 mm\n",
      "cummulative melt of snow for 3 is 288.00 mm\n",
      "cummulative melt of snow for 4 is 384.00 mm\n",
      "cummulative melt of snow for 5 is 480.00 mm\n",
      "cummulative melt of snow for 6 is 576.00 mm\n",
      "cummulative melt of snow for 7 is 672.00 mm\n",
      "cummulative melt of snow for 8 is 768.00 mm\n",
      "cummulative melt of snow for 9 is 864.00 mm\n",
      "cummulative melt of snow for 10 is 960.00 mm\n"
     ]
    }
   ],
   "source": [
    "n = 11\n",
    "days = range(1, n)\n",
    "melt = 0\n",
    "\n",
    "for day in days:\n",
    "    melt = melt + degree_day_factor * temperature_plus * delta_time\n",
    "    print(f\"cummulative melt of snow for {day} is {melt:.2f} mm\")"
   ]
  },
  {
   "cell_type": "markdown",
   "metadata": {},
   "source": [
    "ok a bit nicer, but the Temperature is still constant. Now use a random tempearature list form -5 to +10"
   ]
  },
  {
   "cell_type": "code",
   "execution_count": 8,
   "metadata": {},
   "outputs": [
    {
     "name": "stdout",
     "output_type": "stream",
     "text": [
      "melt of snow for 1 with 0.62°C is 19.78 mm  and 19.78 mm in total \n",
      "melt of snow for 2 with 9.26°C is 296.34 mm  and 316.12 mm in total \n",
      "melt of snow for 3 with 5.98°C is 191.36 mm  and 507.48 mm in total \n",
      "melt of snow for 4 with 3.98°C is 127.36 mm  and 634.84 mm in total \n",
      "melt of snow for 5 with -2.66°C is -85.11 mm  and 549.72 mm in total \n",
      "melt of snow for 6 with -2.66°C is -85.12 mm  and 464.60 mm in total \n",
      "melt of snow for 7 with -4.13°C is -132.12 mm  and 332.48 mm in total \n",
      "melt of snow for 8 with 7.99°C is 255.76 mm  and 588.25 mm in total \n",
      "melt of snow for 9 with 4.02°C is 128.54 mm  and 716.78 mm in total \n",
      "melt of snow for 10 with 5.62°C is 179.87 mm  and 896.66 mm in total \n"
     ]
    }
   ],
   "source": [
    "n = 11\n",
    "days = range(1, n)\n",
    "\n",
    "np.random.seed(42)\n",
    "temperatures = np.random.uniform(-5, 10, len(days))\n",
    "total_melt = 0\n",
    "\n",
    "for day in days:\n",
    "    temperature_plus = temperatures[day - 1]\n",
    "    melt = degree_day_factor * temperature_plus * delta_time\n",
    "    total_melt = total_melt + degree_day_factor * temperature_plus * delta_time\n",
    "    print(\n",
    "        f\"melt of snow for {day} with {temperature_plus:.2f}°C is {melt:.2f} mm  and {total_melt:.2f} mm in total \"\n",
    "    )"
   ]
  },
  {
   "cell_type": "markdown",
   "metadata": {},
   "source": [
    "Can you spot the error? Look at those days wiht negative temperatures."
   ]
  },
  {
   "cell_type": "code",
   "execution_count": 11,
   "metadata": {},
   "outputs": [
    {
     "name": "stdout",
     "output_type": "stream",
     "text": [
      "melt of snow for day 1 with 0.62°C is 19.78 mm and 19.78 mm in total \n",
      "melt of snow for day 2 with 9.26°C is 296.34 mm and 316.12 mm in total \n",
      "melt of snow for day 3 with 5.98°C is 191.36 mm and 507.48 mm in total \n",
      "melt of snow for day 4 with 3.98°C is 127.36 mm and 634.84 mm in total \n",
      "melt of snow for day 5 with 0.00°C is 0.00 mm and 634.84 mm in total \n",
      "melt of snow for day 6 with 0.00°C is 0.00 mm and 634.84 mm in total \n",
      "melt of snow for day 7 with 0.00°C is 0.00 mm and 634.84 mm in total \n",
      "melt of snow for day 8 with 7.99°C is 255.76 mm and 890.60 mm in total \n",
      "melt of snow for day 9 with 4.02°C is 128.54 mm and 1019.14 mm in total \n",
      "melt of snow for day 10 with 5.62°C is 179.87 mm and 1199.01 mm in total \n"
     ]
    }
   ],
   "source": [
    "n = 11\n",
    "days = range(1, n)\n",
    "\n",
    "np.random.seed(42)\n",
    "temperatures = np.random.uniform(-5, 10, len(days))\n",
    "total_melt = 0\n",
    "\n",
    "for day in days:\n",
    "    current_temperature = temperatures[day - 1]\n",
    "    temperature_plus = np.maximum(current_temperature, 0)\n",
    "    melt = degree_day_factor * temperature_plus * delta_time\n",
    "    total_melt = total_melt + degree_day_factor * temperature_plus * delta_time\n",
    "    print(\n",
    "        f\"melt of snow for day {day} with {temperature_plus:.2f}°C is {melt:.2f} mm and {total_melt:.2f} mm in total \"\n",
    "    )"
   ]
  },
  {
   "cell_type": "markdown",
   "metadata": {},
   "source": [
    "## Better use of Python\n",
    "\n",
    "If you often reuse a culation but it in a function.\n",
    "A function starts with \"def\" then the function name you want to have followed by the input argumetnts in ().\n",
    "\n",
    "Here I also used so called typehints like degree_day_factor: float. Which means that we expect a floating point number as the degree day factor. In Python this optional but helps a lot in understanding what is expected.\n",
    "\n",
    "Here I also give a default value of the threshold_temp. This means that if no third argument is given the standard value of 0.0 is used."
   ]
  },
  {
   "cell_type": "code",
   "execution_count": null,
   "metadata": {},
   "outputs": [],
   "source": [
    "def degree_day_model(\n",
    "    temperatures: np.ndarray | DataArray,\n",
    "    degree_day_factor: float,\n",
    "    threshold_temp: float = 0.0,\n",
    ") -> np.ndarray | DataArray:\n",
    "    \"\"\"\n",
    "    Estimate daily melt amount using the Degree-Day Model.\n",
    "\n",
    "    Parameters:\n",
    "    temperatures (numpy.array): Array of daily mean air temperatures (°C).\n",
    "    degree_day_factor (float): Degree-day factor (mm °C^-1 day^-1).\n",
    "    threshold_temp (float): Threshold temperature above which melting occurs (°C). Default is 0.0°C.\n",
    "\n",
    "    Returns:\n",
    "    numpy.array: Array of daily melt amounts (mm).\n",
    "    \"\"\"\n",
    "    # Calculate positive temperature differences (temperatures above the threshold)\n",
    "    positive_temperatures = np.maximum(temperatures - threshold_temp, 0)\n",
    "\n",
    "    # Calculate daily melt amounts\n",
    "    daily_melt = positive_temperatures * degree_day_factor\n",
    "\n",
    "    return daily_melt"
   ]
  },
  {
   "cell_type": "code",
   "execution_count": null,
   "metadata": {},
   "outputs": [],
   "source": [
    "temperatures = np.array([-3.2, -1.1, 0.0, 2.2, 5.1, 3.0, 0.0, -2.0])"
   ]
  },
  {
   "cell_type": "code",
   "execution_count": null,
   "metadata": {},
   "outputs": [],
   "source": [
    "ddf = 8.0\n",
    "melt_amounts = degree_day_model(temperatures, degree_day_factor=ddf)\n",
    "melt_amounts"
   ]
  },
  {
   "cell_type": "markdown",
   "metadata": {},
   "source": [
    "note here we used the default value for threshold_temp.\n",
    "So the result is an array of values correspondig to daily temperatures.\n",
    "To make it nicer to work with lets make a pandas dataframe together with the temperatures"
   ]
  },
  {
   "cell_type": "code",
   "execution_count": null,
   "metadata": {},
   "outputs": [],
   "source": [
    "from operator import index\n",
    "\n",
    "\n",
    "melt = pd.DataFrame(\n",
    "    melt_amounts,\n",
    "    index=temperatures,\n",
    "    columns=[f\"melt (mm)\"],\n",
    ")\n",
    "melt.index.name = \"Temperature (°C)\"\n",
    "melt"
   ]
  },
  {
   "cell_type": "code",
   "execution_count": null,
   "metadata": {},
   "outputs": [],
   "source": [
    "melt.plot()"
   ]
  },
  {
   "cell_type": "markdown",
   "metadata": {},
   "source": [
    "### Exersize\n",
    "\n",
    "* plot the curve for different degree day factors.\n",
    "* compare snow and ice: 2.5 to 11.6 mm/(day K)  for snow 6.6 to 20.0 mm/(day K) for ice,\n",
    "* change the function to use SI base units"
   ]
  },
  {
   "cell_type": "markdown",
   "metadata": {},
   "source": [
    "What is the total amount of melt in mm over all days"
   ]
  },
  {
   "cell_type": "code",
   "execution_count": null,
   "metadata": {},
   "outputs": [],
   "source": [
    "melt[\"melt (mm)\"].sum()"
   ]
  },
  {
   "cell_type": "markdown",
   "metadata": {},
   "source": [
    "## Spatial distributed version\n",
    "\n",
    "We take actual weather data from geosphere over the Pasterze region."
   ]
  },
  {
   "cell_type": "markdown",
   "metadata": {},
   "source": [
    "![INCA data auschnitt](figures/Pasterze.png)"
   ]
  },
  {
   "cell_type": "markdown",
   "metadata": {},
   "source": [
    "Load the netcdf dataset"
   ]
  },
  {
   "cell_type": "code",
   "execution_count": null,
   "metadata": {},
   "outputs": [],
   "source": [
    "inca_pasterze = xr.open_dataset(\"data/inca_pasterze.nc\")"
   ]
  },
  {
   "cell_type": "code",
   "execution_count": null,
   "metadata": {},
   "outputs": [],
   "source": [
    "inca_pasterze"
   ]
  },
  {
   "cell_type": "markdown",
   "metadata": {},
   "source": [
    "take onhly the Tempearature at 2 meter varaible called T2M, for one hour to get the spatial extend. \n",
    "Note the dimensions. Ther are 192 time sclices and 9 points in y and 8 points in x direction.\n",
    "The INCA dataset has a resolutution of 1x1 km. Which also determines the resolution on which we can calculate the melt.\n",
    "\n",
    "IMPORTANT: Since our model expects Day as the time unit we need to be carefull and take daily averages. Always think about the units of input and outputs!"
   ]
  },
  {
   "cell_type": "code",
   "execution_count": null,
   "metadata": {},
   "outputs": [],
   "source": [
    "# Compute daily averages\n",
    "daily_averages = inca_pasterze.resample(time=\"1D\").mean()"
   ]
  },
  {
   "cell_type": "code",
   "execution_count": null,
   "metadata": {},
   "outputs": [],
   "source": [
    "temperatures = daily_averages[\"T2M\"]\n",
    "temperature_example = temperatures.sel(time=\"2023-07-01T00:00:00\")\n",
    "temperature_example.plot()"
   ]
  },
  {
   "cell_type": "code",
   "execution_count": null,
   "metadata": {},
   "outputs": [],
   "source": [
    "type(temperature_example)"
   ]
  },
  {
   "cell_type": "code",
   "execution_count": null,
   "metadata": {},
   "outputs": [],
   "source": [
    "melt_amounts_distributed = degree_day_model(temperature_example, degree_day_factor=ddf)\n",
    "melt_amounts_distributed.name = \"melt per day (mm)\""
   ]
  },
  {
   "cell_type": "code",
   "execution_count": null,
   "metadata": {},
   "outputs": [],
   "source": [
    "melt_amounts_distributed.plot()"
   ]
  },
  {
   "cell_type": "markdown",
   "metadata": {},
   "source": [
    "## Now with space and time\n",
    "\n",
    "We have data over 8 days lets see the resulting melt"
   ]
  },
  {
   "cell_type": "code",
   "execution_count": null,
   "metadata": {},
   "outputs": [],
   "source": [
    "tempeartures = daily_averages[\"T2M\"]\n",
    "tempeartures"
   ]
  },
  {
   "cell_type": "markdown",
   "metadata": {},
   "source": [
    "The original"
   ]
  },
  {
   "cell_type": "code",
   "execution_count": null,
   "metadata": {},
   "outputs": [],
   "source": [
    "melt_result = degree_day_model(temperatures, degree_day_factor)\n",
    "melt_result.name = \"melt (mm)\""
   ]
  },
  {
   "cell_type": "code",
   "execution_count": null,
   "metadata": {},
   "outputs": [],
   "source": [
    "melt_result"
   ]
  },
  {
   "cell_type": "markdown",
   "metadata": {},
   "source": [
    "Thats the result. Now we can plot and animate the result.\n",
    "\n",
    "Basically this an open street map as a background and then makes a plot for each timestep. The result is then saved as gif.\n",
    "It takes about a minute to run.\n",
    "\n",
    "**WARNING Do not run this below on binder, it takes up to much memory.**"
   ]
  },
  {
   "cell_type": "code",
   "execution_count": null,
   "metadata": {},
   "outputs": [],
   "source": [
    "# Initialize the figure\n",
    "fig = plt.figure(figsize=(10, 10))\n",
    "osm_tiles = OSM()\n",
    "ax = plt.axes(projection=osm_tiles.crs)\n",
    "ax.add_feature(cfeature.COASTLINE)\n",
    "ax.add_feature(cfeature.BORDERS, linestyle=\":\")\n",
    "\n",
    "# Pre-calculate extent to avoid recalculating it each frame\n",
    "lat_min, lat_max = np.min(melt_result.lat.values), np.max(melt_result.lat.values)\n",
    "lon_min, lon_max = np.min(melt_result.lon.values), np.max(melt_result.lon.values)\n",
    "ax.set_extent([lon_min, lon_max, lat_min, lat_max], crs=ccrs.PlateCarree())\n",
    "\n",
    "# Add base map once (assumes all slices have similar extents)\n",
    "ax.add_image(osm_tiles, 12)\n",
    "\n",
    "# Prepare colorbar (setup with dummy data)\n",
    "sm = plt.cm.ScalarMappable(cmap=\"viridis\", norm=plt.Normalize(vmin=0, vmax=150))\n",
    "sm._A = []  # dummy data for ScalarMappable\n",
    "cbar = plt.colorbar(sm, ax=ax, shrink=0.5, aspect=20, label=\"Melt per day (mm)\")\n",
    "\n",
    "\n",
    "# The update function for the animation\n",
    "previous_collections = []  # Store previous plot references\n",
    "\n",
    "\n",
    "def update(frame):\n",
    "    global previous_collections  # Refer to the global list\n",
    "    # Remove previous collections\n",
    "    for collection in previous_collections:\n",
    "        collection.remove()\n",
    "    previous_collections.clear()  # Clear the list after removal\n",
    "\n",
    "    data_slice = melt_result.isel(time=frame)\n",
    "    new_collection = ax.pcolormesh(\n",
    "        data_slice.lon,\n",
    "        data_slice.lat,\n",
    "        data_slice.values,\n",
    "        transform=ccrs.PlateCarree(),\n",
    "        cmap=\"viridis\",\n",
    "        alpha=0.5,\n",
    "    )\n",
    "    previous_collections.append(new_collection)  # Add new plot to the list\n",
    "    time_formatted = pd.to_datetime(data_slice.time.values).strftime(\"%Y-%m-%d\")\n",
    "    ax.set_title(f\"Day: {time_formatted}\")\n",
    "\n",
    "\n",
    "# Create animation\n",
    "ani = FuncAnimation(fig, update, frames=len(melt_result.time), interval=200)\n",
    "\n",
    "ani.save(\"figures/melt_rate_animation.gif\", dpi=300)"
   ]
  }
 ],
 "metadata": {
  "kernelspec": {
   "display_name": "base",
   "language": "python",
   "name": "python3"
  },
  "language_info": {
   "codemirror_mode": {
    "name": "ipython",
    "version": 3
   },
   "file_extension": ".py",
   "mimetype": "text/x-python",
   "name": "python",
   "nbconvert_exporter": "python",
   "pygments_lexer": "ipython3",
   "version": "3.11.5"
  }
 },
 "nbformat": 4,
 "nbformat_minor": 2
}
