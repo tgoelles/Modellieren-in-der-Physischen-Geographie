{
 "cells": [
  {
   "cell_type": "code",
   "execution_count": 35,
   "metadata": {},
   "outputs": [],
   "source": [
    "import numpy as np\n",
    "import pandas as pd\n",
    "import xarray as xr\n",
    "\n",
    "import plotly.express as px"
   ]
  },
  {
   "cell_type": "markdown",
   "metadata": {},
   "source": [
    "# Temperature index models"
   ]
  },
  {
   "cell_type": "markdown",
   "metadata": {},
   "source": [
    "## Naive first approach"
   ]
  },
  {
   "cell_type": "code",
   "execution_count": 5,
   "metadata": {},
   "outputs": [
    {
     "name": "stdout",
     "output_type": "stream",
     "text": [
      "melt of snow for 4 is 96.0 mm\n"
     ]
    }
   ],
   "source": [
    "degree_day_factor = 8.0  # mm/day/degree celsius\n",
    "temperature_plus = 3.0  # degree celsius\n",
    "delta_time = 4  # day\n",
    "\n",
    "melt = degree_day_factor * temperature_plus * delta_time\n",
    "print(f\"melt of snow for {delta_time} is {melt} mm\")"
   ]
  },
  {
   "cell_type": "markdown",
   "metadata": {},
   "source": [
    "Now lets look at the cumulative melt over 10 days"
   ]
  },
  {
   "cell_type": "code",
   "execution_count": 6,
   "metadata": {},
   "outputs": [
    {
     "name": "stdout",
     "output_type": "stream",
     "text": [
      "cummulative melt of snow for 1 is 96.00 mm\n",
      "cummulative melt of snow for 2 is 192.00 mm\n",
      "cummulative melt of snow for 3 is 288.00 mm\n",
      "cummulative melt of snow for 4 is 384.00 mm\n",
      "cummulative melt of snow for 5 is 480.00 mm\n",
      "cummulative melt of snow for 6 is 576.00 mm\n",
      "cummulative melt of snow for 7 is 672.00 mm\n",
      "cummulative melt of snow for 8 is 768.00 mm\n",
      "cummulative melt of snow for 9 is 864.00 mm\n",
      "cummulative melt of snow for 10 is 960.00 mm\n"
     ]
    }
   ],
   "source": [
    "n = 11\n",
    "days = range(1, n)\n",
    "melt = 0\n",
    "\n",
    "for day in days:\n",
    "    melt = melt + degree_day_factor * temperature_plus * delta_time\n",
    "    print(f\"cummulative melt of snow for {day} is {melt:.2f} mm\")"
   ]
  },
  {
   "cell_type": "markdown",
   "metadata": {},
   "source": [
    "ok a bit nicer, but the Temperature is still constant. Now use a random tempearature list form -5 to +10"
   ]
  },
  {
   "cell_type": "code",
   "execution_count": 7,
   "metadata": {},
   "outputs": [
    {
     "name": "stdout",
     "output_type": "stream",
     "text": [
      "cummulative melt of snow for 1 with 0.62°C is 19.78 mm\n",
      "cummulative melt of snow for 2 with 9.26°C is 316.12 mm\n",
      "cummulative melt of snow for 3 with 5.98°C is 507.48 mm\n",
      "cummulative melt of snow for 4 with 3.98°C is 634.84 mm\n",
      "cummulative melt of snow for 5 with -2.66°C is 549.72 mm\n",
      "cummulative melt of snow for 6 with -2.66°C is 464.60 mm\n",
      "cummulative melt of snow for 7 with -4.13°C is 332.48 mm\n",
      "cummulative melt of snow for 8 with 7.99°C is 588.25 mm\n",
      "cummulative melt of snow for 9 with 4.02°C is 716.78 mm\n",
      "cummulative melt of snow for 10 with 5.62°C is 896.66 mm\n"
     ]
    }
   ],
   "source": [
    "n = 11\n",
    "days = range(1, n)\n",
    "\n",
    "np.random.seed(42)\n",
    "temperatures = np.random.uniform(-5, 10, len(days))\n",
    "melt = 0\n",
    "\n",
    "for day in days:\n",
    "    temperature_plus = temperatures[day - 1]\n",
    "    melt = melt + degree_day_factor * temperature_plus * delta_time\n",
    "    print(\n",
    "        f\"cummulative melt of snow for {day} with {temperature_plus:.2f}°C is {melt:.2f} mm\"\n",
    "    )"
   ]
  },
  {
   "cell_type": "code",
   "execution_count": 8,
   "metadata": {},
   "outputs": [
    {
     "name": "stdout",
     "output_type": "stream",
     "text": [
      "cummulative melt of snow for 1 with 0.62°C is 19.78 mm\n",
      "cummulative melt of snow for 2 with 9.26°C is 316.12 mm\n",
      "cummulative melt of snow for 3 with 5.98°C is 507.48 mm\n",
      "cummulative melt of snow for 4 with 3.98°C is 634.84 mm\n",
      "cummulative melt of snow for 5 with -2.66°C is 634.84 mm\n",
      "cummulative melt of snow for 6 with -2.66°C is 634.84 mm\n",
      "cummulative melt of snow for 7 with -4.13°C is 634.84 mm\n",
      "cummulative melt of snow for 8 with 7.99°C is 890.60 mm\n",
      "cummulative melt of snow for 9 with 4.02°C is 1019.14 mm\n",
      "cummulative melt of snow for 10 with 5.62°C is 1199.01 mm\n"
     ]
    }
   ],
   "source": [
    "n = 11\n",
    "days = range(1, n)\n",
    "\n",
    "np.random.seed(42)\n",
    "temperatures = np.random.uniform(-5, 10, len(days))\n",
    "melt = 0\n",
    "\n",
    "for day in days:\n",
    "    current_temperature = temperatures[day - 1]\n",
    "    temperature_plus = np.maximum(current_temperature, 0)\n",
    "    melt = melt + degree_day_factor * temperature_plus * delta_time\n",
    "    print(\n",
    "        f\"cummulative melt of snow for {day} with {current_temperature:.2f}°C is {melt:.2f} mm\"\n",
    "    )"
   ]
  },
  {
   "cell_type": "markdown",
   "metadata": {},
   "source": [
    "## actual use of Python"
   ]
  },
  {
   "cell_type": "code",
   "execution_count": 9,
   "metadata": {},
   "outputs": [],
   "source": [
    "def degree_day_model(\n",
    "    temperatures: np.array, degree_day_factor: float, threshold_temp: float = 0.0\n",
    ") -> np.array:\n",
    "    \"\"\"\n",
    "    Estimate daily melt amount using the Degree-Day Model.\n",
    "\n",
    "    Parameters:\n",
    "    temperatures (numpy.array): Array of daily mean air temperatures (°C).\n",
    "    degree_day_factor (float): Degree-day factor (mm °C^-1 day^-1).\n",
    "    threshold_temp (float): Threshold temperature above which melting occurs (°C). Default is 0.0°C.\n",
    "\n",
    "    Returns:\n",
    "    numpy.array: Array of daily melt amounts (mm).\n",
    "    \"\"\"\n",
    "    # Calculate positive temperature differences (temperatures above the threshold)\n",
    "    positive_temperatures = np.maximum(temperatures - threshold_temp, 0)\n",
    "\n",
    "    # Calculate daily melt amounts\n",
    "    daily_melt = positive_temperatures * degree_day_factor\n",
    "\n",
    "    return daily_melt"
   ]
  },
  {
   "cell_type": "code",
   "execution_count": 10,
   "metadata": {},
   "outputs": [],
   "source": [
    "temperatures = np.array([-3.2, -1.1, 0.0, 2.2, 5.1, 3.0, 0.0, -2.0])"
   ]
  },
  {
   "cell_type": "code",
   "execution_count": 11,
   "metadata": {},
   "outputs": [],
   "source": [
    "ddf = 8.0\n",
    "melt_amounts = degree_day_model(temperatures, degree_day_factor=ddf)"
   ]
  },
  {
   "cell_type": "code",
   "execution_count": 12,
   "metadata": {},
   "outputs": [],
   "source": [
    "melt = pd.DataFrame(melt_amounts, index=temperatures, columns=[f\"ddf = {ddf}\"])"
   ]
  },
  {
   "cell_type": "code",
   "execution_count": 13,
   "metadata": {},
   "outputs": [
    {
     "data": {
      "text/plain": [
       "<Axes: >"
      ]
     },
     "execution_count": 13,
     "metadata": {},
     "output_type": "execute_result"
    },
    {
     "data": {
      "image/png": "[encoded data removed]",
      "text/plain": [
       "<Figure size 640x480 with 1 Axes>"
      ]
     },
     "metadata": {},
     "output_type": "display_data"
    }
   ],
   "source": [
    "melt.plot()"
   ]
  },
  {
   "cell_type": "markdown",
   "metadata": {},
   "source": [
    "* change the function to use SI base units\n",
    "* plot the curve for different degree day factors.\n",
    "* compare snow and ice: 2.5 to 11.6 mm/(day K)  for snow 6.6 to 20.0 mm/(day K) for ice,"
   ]
  },
  {
   "cell_type": "markdown",
   "metadata": {},
   "source": [
    "What is the total amount of melt in mm over all days"
   ]
  },
  {
   "cell_type": "code",
   "execution_count": 14,
   "metadata": {},
   "outputs": [
    {
     "data": {
      "text/plain": [
       "82.4"
      ]
     },
     "execution_count": 14,
     "metadata": {},
     "output_type": "execute_result"
    }
   ],
   "source": [
    "melt[\"ddf = 8.0\"].sum()"
   ]
  },
  {
   "cell_type": "markdown",
   "metadata": {},
   "source": [
    "## Spatial distributed version"
   ]
  },
  {
   "cell_type": "code",
   "execution_count": 15,
   "metadata": {},
   "outputs": [],
   "source": [
    "number_of_rows = 25\n",
    "number_of_columns = 10"
   ]
  },
  {
   "cell_type": "code",
   "execution_count": 16,
   "metadata": {},
   "outputs": [],
   "source": [
    "np.random.seed(42)\n",
    "temperatures = np.random.uniform(-5, 10, (number_of_rows, number_of_columns))"
   ]
  },
  {
   "cell_type": "code",
   "execution_count": 17,
   "metadata": {},
   "outputs": [],
   "source": [
    "melt_amounts_distributed = degree_day_model(temperatures, degree_day_factor=ddf)"
   ]
  },
  {
   "cell_type": "code",
   "execution_count": 18,
   "metadata": {},
   "outputs": [
    {
     "data": {
      "text/plain": [
       "array([[ 4.94481426, 74.08571677, 47.83927302, 31.8390181 ,  0.        ,\n",
       "         0.        ,  0.        , 63.94113749, 32.13380141, 44.96870934],\n",
       "       [ 0.        , 76.38918226, 59.8931169 ,  0.        ,  0.        ,\n",
       "         0.        ,  0.        , 22.9707718 , 11.83340224,  0.        ],\n",
       "       [33.42234737,  0.        ,  0.        ,  3.9634212 , 14.72839811,\n",
       "        54.22111537,  0.        , 21.70813261, 31.08974826,  0.        ],\n",
       "       [32.90538223,  0.        ,  0.        , 73.86626447, 75.87584397,\n",
       "        57.00768177,  0.        ,  0.        , 42.10796318, 12.81829925],\n",
       "       [ 0.        , 19.42122921,  0.        , 69.11844825,  0.        ,\n",
       "        39.50267412,  0.        , 22.40816254, 25.60523352,  0.        ],\n",
       "       [76.35015533, 53.0159388 , 72.73987299, 67.37928205, 31.74799746,\n",
       "        70.6249082 ,  0.        ,  0.        ,  0.        ,  0.        ],\n",
       "       [ 6.64127476,  0.        , 59.4485011 ,  2.8103992 ,  0.        ,\n",
       "        25.12352998,  0.        , 56.26363769,  0.        , 78.42643239],\n",
       "       [52.66937232,  0.        ,  0.        , 57.85537141, 44.82288126,\n",
       "        47.48086016, 52.5524416 ,  0.        ,  3.01588743,  0.        ],\n",
       "       [63.57241111, 34.79577522,  0.        ,  0.        ,  0.        ,\n",
       "         0.        , 47.5527414 , 36.50689656, 66.46552911, 16.66579102],\n",
       "       [ 0.        , 45.58937447, 51.29420583, 27.35326371, 52.51606159,\n",
       "        19.25547156, 22.72793953, 11.3049222 ,  0.        ,  0.        ],\n",
       "       [ 0.        , 36.36924935,  0.        , 21.02848294, 68.90797687,\n",
       "         0.        ,  9.24595076, 50.66613663,  0.        ,  0.        ],\n",
       "       [ 0.        ,  0.        , 71.56371828, 56.97444555, 36.00845078,\n",
       "        64.57527082, 56.44064923,  0.        , 67.10707982, 24.72106903],\n",
       "       [56.89281862, 67.53095599,  0.        ,  0.        ,  0.        ,\n",
       "        11.25293464, 58.16177191, 63.28766999,  0.        , 21.28967631],\n",
       "       [10.08932038,  0.        ,  0.        ,  0.51382057, 73.14916447,\n",
       "         0.        , 22.25487461, 44.36227507,  3.63555229, 76.61384993],\n",
       "       [75.49367539,  0.        , 19.66982071,  0.        ,  0.        ,\n",
       "         0.        , 33.14772008, 20.32148279,  0.        ,  0.        ],\n",
       "       [68.99190632,  0.        ,  0.        , 18.73433123, 78.27805449,\n",
       "         0.        , 40.65626569, 51.39435384,  0.        , 47.38596183],\n",
       "       [ 4.13397593, 35.87669967, 36.02356529, 24.29296209,  0.        ,\n",
       "        60.23629947,  0.        ,  0.        ,  0.        , 30.90715318],\n",
       "       [41.30772342,  0.        , 21.451167  ,  0.        , 37.42073485,\n",
       "         0.        , 42.91252857,  6.40824156, 72.40759865,  0.        ],\n",
       "       [ 0.92796213,  0.        , 70.96323419, 65.28072241,  0.        ,\n",
       "        39.19808552, 58.06666402, 26.62409739, 23.5580694 ,  0.        ],\n",
       "       [ 0.        , 67.66589095, 68.05016686, 35.97217487,  0.68357493,\n",
       "         1.90514895, 47.11468146, 67.65323119, 66.45037091, 53.5850655 ],\n",
       "       [37.04379754,  0.        ,  0.        , 67.82650262, 32.77148716,\n",
       "         0.        ,  0.        , 39.62021229,  0.        ,  0.        ],\n",
       "       [25.84805472, 43.02742372, 38.23535114,  0.        , 45.46150656,\n",
       "         0.        ,  0.        , 49.57896861, 37.95594789, 61.90680926],\n",
       "       [38.91354708, 28.1970324 ,  0.        ,  4.12589637,  0.        ,\n",
       "         0.        , 76.76126657,  7.17172696, 67.04558662, 35.73663512],\n",
       "       [55.37735642, 20.31645117, 29.22846616, 19.10212326,  0.        ,\n",
       "        46.69425383,  0.        ,  0.        , 37.45667551,  0.        ],\n",
       "       [72.85503012, 74.47142924, 69.78372683,  4.41904403,  0.        ,\n",
       "        71.39822751, 11.3820978 , 75.99857829, 75.63439725, 62.36113466]])"
      ]
     },
     "execution_count": 18,
     "metadata": {},
     "output_type": "execute_result"
    }
   ],
   "source": [
    "melt_amounts_distributed"
   ]
  },
  {
   "cell_type": "code",
   "execution_count": 19,
   "metadata": {},
   "outputs": [
    {
     "data": {
      "text/html": [
       "<div>\n",
       "<style scoped>\n",
       "    .dataframe tbody tr th:only-of-type {\n",
       "        vertical-align: middle;\n",
       "    }\n",
       "\n",
       "    .dataframe tbody tr th {\n",
       "        vertical-align: top;\n",
       "    }\n",
       "\n",
       "    .dataframe thead th {\n",
       "        text-align: right;\n",
       "    }\n",
       "</style>\n",
       "<table border=\"1\" class=\"dataframe\">\n",
       "  <thead>\n",
       "    <tr style=\"text-align: right;\">\n",
       "      <th></th>\n",
       "      <th>0</th>\n",
       "      <th>1</th>\n",
       "      <th>2</th>\n",
       "      <th>3</th>\n",
       "      <th>4</th>\n",
       "      <th>5</th>\n",
       "      <th>6</th>\n",
       "      <th>7</th>\n",
       "      <th>8</th>\n",
       "      <th>9</th>\n",
       "    </tr>\n",
       "  </thead>\n",
       "  <tbody>\n",
       "    <tr>\n",
       "      <th>0</th>\n",
       "      <td>4.944814</td>\n",
       "      <td>74.085717</td>\n",
       "      <td>47.839273</td>\n",
       "      <td>31.839018</td>\n",
       "      <td>0.000000</td>\n",
       "      <td>0.000000</td>\n",
       "      <td>0.000000</td>\n",
       "      <td>63.941137</td>\n",
       "      <td>32.133801</td>\n",
       "      <td>44.968709</td>\n",
       "    </tr>\n",
       "    <tr>\n",
       "      <th>1</th>\n",
       "      <td>0.000000</td>\n",
       "      <td>76.389182</td>\n",
       "      <td>59.893117</td>\n",
       "      <td>0.000000</td>\n",
       "      <td>0.000000</td>\n",
       "      <td>0.000000</td>\n",
       "      <td>0.000000</td>\n",
       "      <td>22.970772</td>\n",
       "      <td>11.833402</td>\n",
       "      <td>0.000000</td>\n",
       "    </tr>\n",
       "    <tr>\n",
       "      <th>2</th>\n",
       "      <td>33.422347</td>\n",
       "      <td>0.000000</td>\n",
       "      <td>0.000000</td>\n",
       "      <td>3.963421</td>\n",
       "      <td>14.728398</td>\n",
       "      <td>54.221115</td>\n",
       "      <td>0.000000</td>\n",
       "      <td>21.708133</td>\n",
       "      <td>31.089748</td>\n",
       "      <td>0.000000</td>\n",
       "    </tr>\n",
       "    <tr>\n",
       "      <th>3</th>\n",
       "      <td>32.905382</td>\n",
       "      <td>0.000000</td>\n",
       "      <td>0.000000</td>\n",
       "      <td>73.866264</td>\n",
       "      <td>75.875844</td>\n",
       "      <td>57.007682</td>\n",
       "      <td>0.000000</td>\n",
       "      <td>0.000000</td>\n",
       "      <td>42.107963</td>\n",
       "      <td>12.818299</td>\n",
       "    </tr>\n",
       "    <tr>\n",
       "      <th>4</th>\n",
       "      <td>0.000000</td>\n",
       "      <td>19.421229</td>\n",
       "      <td>0.000000</td>\n",
       "      <td>69.118448</td>\n",
       "      <td>0.000000</td>\n",
       "      <td>39.502674</td>\n",
       "      <td>0.000000</td>\n",
       "      <td>22.408163</td>\n",
       "      <td>25.605234</td>\n",
       "      <td>0.000000</td>\n",
       "    </tr>\n",
       "    <tr>\n",
       "      <th>5</th>\n",
       "      <td>76.350155</td>\n",
       "      <td>53.015939</td>\n",
       "      <td>72.739873</td>\n",
       "      <td>67.379282</td>\n",
       "      <td>31.747997</td>\n",
       "      <td>70.624908</td>\n",
       "      <td>0.000000</td>\n",
       "      <td>0.000000</td>\n",
       "      <td>0.000000</td>\n",
       "      <td>0.000000</td>\n",
       "    </tr>\n",
       "    <tr>\n",
       "      <th>6</th>\n",
       "      <td>6.641275</td>\n",
       "      <td>0.000000</td>\n",
       "      <td>59.448501</td>\n",
       "      <td>2.810399</td>\n",
       "      <td>0.000000</td>\n",
       "      <td>25.123530</td>\n",
       "      <td>0.000000</td>\n",
       "      <td>56.263638</td>\n",
       "      <td>0.000000</td>\n",
       "      <td>78.426432</td>\n",
       "    </tr>\n",
       "    <tr>\n",
       "      <th>7</th>\n",
       "      <td>52.669372</td>\n",
       "      <td>0.000000</td>\n",
       "      <td>0.000000</td>\n",
       "      <td>57.855371</td>\n",
       "      <td>44.822881</td>\n",
       "      <td>47.480860</td>\n",
       "      <td>52.552442</td>\n",
       "      <td>0.000000</td>\n",
       "      <td>3.015887</td>\n",
       "      <td>0.000000</td>\n",
       "    </tr>\n",
       "    <tr>\n",
       "      <th>8</th>\n",
       "      <td>63.572411</td>\n",
       "      <td>34.795775</td>\n",
       "      <td>0.000000</td>\n",
       "      <td>0.000000</td>\n",
       "      <td>0.000000</td>\n",
       "      <td>0.000000</td>\n",
       "      <td>47.552741</td>\n",
       "      <td>36.506897</td>\n",
       "      <td>66.465529</td>\n",
       "      <td>16.665791</td>\n",
       "    </tr>\n",
       "    <tr>\n",
       "      <th>9</th>\n",
       "      <td>0.000000</td>\n",
       "      <td>45.589374</td>\n",
       "      <td>51.294206</td>\n",
       "      <td>27.353264</td>\n",
       "      <td>52.516062</td>\n",
       "      <td>19.255472</td>\n",
       "      <td>22.727940</td>\n",
       "      <td>11.304922</td>\n",
       "      <td>0.000000</td>\n",
       "      <td>0.000000</td>\n",
       "    </tr>\n",
       "    <tr>\n",
       "      <th>10</th>\n",
       "      <td>0.000000</td>\n",
       "      <td>36.369249</td>\n",
       "      <td>0.000000</td>\n",
       "      <td>21.028483</td>\n",
       "      <td>68.907977</td>\n",
       "      <td>0.000000</td>\n",
       "      <td>9.245951</td>\n",
       "      <td>50.666137</td>\n",
       "      <td>0.000000</td>\n",
       "      <td>0.000000</td>\n",
       "    </tr>\n",
       "    <tr>\n",
       "      <th>11</th>\n",
       "      <td>0.000000</td>\n",
       "      <td>0.000000</td>\n",
       "      <td>71.563718</td>\n",
       "      <td>56.974446</td>\n",
       "      <td>36.008451</td>\n",
       "      <td>64.575271</td>\n",
       "      <td>56.440649</td>\n",
       "      <td>0.000000</td>\n",
       "      <td>67.107080</td>\n",
       "      <td>24.721069</td>\n",
       "    </tr>\n",
       "    <tr>\n",
       "      <th>12</th>\n",
       "      <td>56.892819</td>\n",
       "      <td>67.530956</td>\n",
       "      <td>0.000000</td>\n",
       "      <td>0.000000</td>\n",
       "      <td>0.000000</td>\n",
       "      <td>11.252935</td>\n",
       "      <td>58.161772</td>\n",
       "      <td>63.287670</td>\n",
       "      <td>0.000000</td>\n",
       "      <td>21.289676</td>\n",
       "    </tr>\n",
       "    <tr>\n",
       "      <th>13</th>\n",
       "      <td>10.089320</td>\n",
       "      <td>0.000000</td>\n",
       "      <td>0.000000</td>\n",
       "      <td>0.513821</td>\n",
       "      <td>73.149164</td>\n",
       "      <td>0.000000</td>\n",
       "      <td>22.254875</td>\n",
       "      <td>44.362275</td>\n",
       "      <td>3.635552</td>\n",
       "      <td>76.613850</td>\n",
       "    </tr>\n",
       "    <tr>\n",
       "      <th>14</th>\n",
       "      <td>75.493675</td>\n",
       "      <td>0.000000</td>\n",
       "      <td>19.669821</td>\n",
       "      <td>0.000000</td>\n",
       "      <td>0.000000</td>\n",
       "      <td>0.000000</td>\n",
       "      <td>33.147720</td>\n",
       "      <td>20.321483</td>\n",
       "      <td>0.000000</td>\n",
       "      <td>0.000000</td>\n",
       "    </tr>\n",
       "    <tr>\n",
       "      <th>15</th>\n",
       "      <td>68.991906</td>\n",
       "      <td>0.000000</td>\n",
       "      <td>0.000000</td>\n",
       "      <td>18.734331</td>\n",
       "      <td>78.278054</td>\n",
       "      <td>0.000000</td>\n",
       "      <td>40.656266</td>\n",
       "      <td>51.394354</td>\n",
       "      <td>0.000000</td>\n",
       "      <td>47.385962</td>\n",
       "    </tr>\n",
       "    <tr>\n",
       "      <th>16</th>\n",
       "      <td>4.133976</td>\n",
       "      <td>35.876700</td>\n",
       "      <td>36.023565</td>\n",
       "      <td>24.292962</td>\n",
       "      <td>0.000000</td>\n",
       "      <td>60.236299</td>\n",
       "      <td>0.000000</td>\n",
       "      <td>0.000000</td>\n",
       "      <td>0.000000</td>\n",
       "      <td>30.907153</td>\n",
       "    </tr>\n",
       "    <tr>\n",
       "      <th>17</th>\n",
       "      <td>41.307723</td>\n",
       "      <td>0.000000</td>\n",
       "      <td>21.451167</td>\n",
       "      <td>0.000000</td>\n",
       "      <td>37.420735</td>\n",
       "      <td>0.000000</td>\n",
       "      <td>42.912529</td>\n",
       "      <td>6.408242</td>\n",
       "      <td>72.407599</td>\n",
       "      <td>0.000000</td>\n",
       "    </tr>\n",
       "    <tr>\n",
       "      <th>18</th>\n",
       "      <td>0.927962</td>\n",
       "      <td>0.000000</td>\n",
       "      <td>70.963234</td>\n",
       "      <td>65.280722</td>\n",
       "      <td>0.000000</td>\n",
       "      <td>39.198086</td>\n",
       "      <td>58.066664</td>\n",
       "      <td>26.624097</td>\n",
       "      <td>23.558069</td>\n",
       "      <td>0.000000</td>\n",
       "    </tr>\n",
       "    <tr>\n",
       "      <th>19</th>\n",
       "      <td>0.000000</td>\n",
       "      <td>67.665891</td>\n",
       "      <td>68.050167</td>\n",
       "      <td>35.972175</td>\n",
       "      <td>0.683575</td>\n",
       "      <td>1.905149</td>\n",
       "      <td>47.114681</td>\n",
       "      <td>67.653231</td>\n",
       "      <td>66.450371</td>\n",
       "      <td>53.585066</td>\n",
       "    </tr>\n",
       "    <tr>\n",
       "      <th>20</th>\n",
       "      <td>37.043798</td>\n",
       "      <td>0.000000</td>\n",
       "      <td>0.000000</td>\n",
       "      <td>67.826503</td>\n",
       "      <td>32.771487</td>\n",
       "      <td>0.000000</td>\n",
       "      <td>0.000000</td>\n",
       "      <td>39.620212</td>\n",
       "      <td>0.000000</td>\n",
       "      <td>0.000000</td>\n",
       "    </tr>\n",
       "    <tr>\n",
       "      <th>21</th>\n",
       "      <td>25.848055</td>\n",
       "      <td>43.027424</td>\n",
       "      <td>38.235351</td>\n",
       "      <td>0.000000</td>\n",
       "      <td>45.461507</td>\n",
       "      <td>0.000000</td>\n",
       "      <td>0.000000</td>\n",
       "      <td>49.578969</td>\n",
       "      <td>37.955948</td>\n",
       "      <td>61.906809</td>\n",
       "    </tr>\n",
       "    <tr>\n",
       "      <th>22</th>\n",
       "      <td>38.913547</td>\n",
       "      <td>28.197032</td>\n",
       "      <td>0.000000</td>\n",
       "      <td>4.125896</td>\n",
       "      <td>0.000000</td>\n",
       "      <td>0.000000</td>\n",
       "      <td>76.761267</td>\n",
       "      <td>7.171727</td>\n",
       "      <td>67.045587</td>\n",
       "      <td>35.736635</td>\n",
       "    </tr>\n",
       "    <tr>\n",
       "      <th>23</th>\n",
       "      <td>55.377356</td>\n",
       "      <td>20.316451</td>\n",
       "      <td>29.228466</td>\n",
       "      <td>19.102123</td>\n",
       "      <td>0.000000</td>\n",
       "      <td>46.694254</td>\n",
       "      <td>0.000000</td>\n",
       "      <td>0.000000</td>\n",
       "      <td>37.456676</td>\n",
       "      <td>0.000000</td>\n",
       "    </tr>\n",
       "    <tr>\n",
       "      <th>24</th>\n",
       "      <td>72.855030</td>\n",
       "      <td>74.471429</td>\n",
       "      <td>69.783727</td>\n",
       "      <td>4.419044</td>\n",
       "      <td>0.000000</td>\n",
       "      <td>71.398228</td>\n",
       "      <td>11.382098</td>\n",
       "      <td>75.998578</td>\n",
       "      <td>75.634397</td>\n",
       "      <td>62.361135</td>\n",
       "    </tr>\n",
       "  </tbody>\n",
       "</table>\n",
       "</div>"
      ],
      "text/plain": [
       "            0          1          2          3          4          5  \\\n",
       "0    4.944814  74.085717  47.839273  31.839018   0.000000   0.000000   \n",
       "1    0.000000  76.389182  59.893117   0.000000   0.000000   0.000000   \n",
       "2   33.422347   0.000000   0.000000   3.963421  14.728398  54.221115   \n",
       "3   32.905382   0.000000   0.000000  73.866264  75.875844  57.007682   \n",
       "4    0.000000  19.421229   0.000000  69.118448   0.000000  39.502674   \n",
       "5   76.350155  53.015939  72.739873  67.379282  31.747997  70.624908   \n",
       "6    6.641275   0.000000  59.448501   2.810399   0.000000  25.123530   \n",
       "7   52.669372   0.000000   0.000000  57.855371  44.822881  47.480860   \n",
       "8   63.572411  34.795775   0.000000   0.000000   0.000000   0.000000   \n",
       "9    0.000000  45.589374  51.294206  27.353264  52.516062  19.255472   \n",
       "10   0.000000  36.369249   0.000000  21.028483  68.907977   0.000000   \n",
       "11   0.000000   0.000000  71.563718  56.974446  36.008451  64.575271   \n",
       "12  56.892819  67.530956   0.000000   0.000000   0.000000  11.252935   \n",
       "13  10.089320   0.000000   0.000000   0.513821  73.149164   0.000000   \n",
       "14  75.493675   0.000000  19.669821   0.000000   0.000000   0.000000   \n",
       "15  68.991906   0.000000   0.000000  18.734331  78.278054   0.000000   \n",
       "16   4.133976  35.876700  36.023565  24.292962   0.000000  60.236299   \n",
       "17  41.307723   0.000000  21.451167   0.000000  37.420735   0.000000   \n",
       "18   0.927962   0.000000  70.963234  65.280722   0.000000  39.198086   \n",
       "19   0.000000  67.665891  68.050167  35.972175   0.683575   1.905149   \n",
       "20  37.043798   0.000000   0.000000  67.826503  32.771487   0.000000   \n",
       "21  25.848055  43.027424  38.235351   0.000000  45.461507   0.000000   \n",
       "22  38.913547  28.197032   0.000000   4.125896   0.000000   0.000000   \n",
       "23  55.377356  20.316451  29.228466  19.102123   0.000000  46.694254   \n",
       "24  72.855030  74.471429  69.783727   4.419044   0.000000  71.398228   \n",
       "\n",
       "            6          7          8          9  \n",
       "0    0.000000  63.941137  32.133801  44.968709  \n",
       "1    0.000000  22.970772  11.833402   0.000000  \n",
       "2    0.000000  21.708133  31.089748   0.000000  \n",
       "3    0.000000   0.000000  42.107963  12.818299  \n",
       "4    0.000000  22.408163  25.605234   0.000000  \n",
       "5    0.000000   0.000000   0.000000   0.000000  \n",
       "6    0.000000  56.263638   0.000000  78.426432  \n",
       "7   52.552442   0.000000   3.015887   0.000000  \n",
       "8   47.552741  36.506897  66.465529  16.665791  \n",
       "9   22.727940  11.304922   0.000000   0.000000  \n",
       "10   9.245951  50.666137   0.000000   0.000000  \n",
       "11  56.440649   0.000000  67.107080  24.721069  \n",
       "12  58.161772  63.287670   0.000000  21.289676  \n",
       "13  22.254875  44.362275   3.635552  76.613850  \n",
       "14  33.147720  20.321483   0.000000   0.000000  \n",
       "15  40.656266  51.394354   0.000000  47.385962  \n",
       "16   0.000000   0.000000   0.000000  30.907153  \n",
       "17  42.912529   6.408242  72.407599   0.000000  \n",
       "18  58.066664  26.624097  23.558069   0.000000  \n",
       "19  47.114681  67.653231  66.450371  53.585066  \n",
       "20   0.000000  39.620212   0.000000   0.000000  \n",
       "21   0.000000  49.578969  37.955948  61.906809  \n",
       "22  76.761267   7.171727  67.045587  35.736635  \n",
       "23   0.000000   0.000000  37.456676   0.000000  \n",
       "24  11.382098  75.998578  75.634397  62.361135  "
      ]
     },
     "execution_count": 19,
     "metadata": {},
     "output_type": "execute_result"
    }
   ],
   "source": [
    "distribued_melt_df = pd.DataFrame(melt_amounts_distributed)\n",
    "distribued_melt_df"
   ]
  },
  {
   "cell_type": "code",
   "execution_count": 28,
   "metadata": {},
   "outputs": [
    {
     "data": {
      "application/vnd.plotly.v1+json": {
       "config": {
        "plotlyServerURL": "https://plot.ly"
       },
       "data": [
        {
         "coloraxis": "coloraxis",
         "hovertemplate": "Column: %{x}<br>Row: %{y}<br>color: %{z}<extra></extra>",
         "name": "0",
         "type": "heatmap",
         "x": [
          0,
          1,
          2,
          3,
          4,
          5,
          6,
          7,
          8,
          9
         ],
         "xaxis": "x",
         "y": [
          0,
          1,
          2,
          3,
          4,
          5,
          6,
          7,
          8,
          9,
          10,
          11,
          12,
          13,
          14,
          15,
          16,
          17,
          18,
          19,
          20,
          21,
          22,
          23,
          24
         ],
         "yaxis": "y",
         "z": [
          [
           4.944814261683499,
           74.08571676918994,
           47.83927301736861,
           31.839018103644392,
           0,
           0,
           0,
           63.94113749299222,
           32.133801409185054,
           44.96870933552546
          ],
          [
           0,
           76.38918225943932,
           59.89311689605061,
           0,
           0,
           0,
           0,
           22.97077179586854,
           11.833402237053892,
           0
          ],
          [
           33.422347366685536,
           0,
           0,
           3.9634211952430043,
           14.728398106044311,
           54.22111536716163,
           0,
           21.70813260963339,
           31.089748263445095,
           0
          ],
          [
           32.905382228172606,
           0,
           0,
           73.86626447039998,
           75.87584396894712,
           57.007681773975335,
           0,
           0,
           42.10796318145883,
           12.818299248752156
          ],
          [
           0,
           19.421229213352422,
           0,
           69.11844824945385,
           0,
           39.502674122477835,
           0,
           22.408162541337298,
           25.605233521193558,
           0
          ],
          [
           76.35015533174703,
           53.015938803333746,
           72.7398729877027,
           67.37928205131786,
           31.747997457330218,
           70.62490820277402,
           0,
           0,
           0,
           0
          ],
          [
           6.641274762737841,
           0,
           59.44850109823152,
           2.8103992032307135,
           0,
           25.123529978989815,
           0,
           56.26363769048476,
           0,
           78.42643239206208
          ],
          [
           52.66937231559889,
           0,
           0,
           57.8553714145801,
           44.82288126171405,
           47.480860164918475,
           52.552441602313486,
           0,
           3.0158874253127133,
           0
          ],
          [
           63.572411105071225,
           34.79577521930695,
           0,
           0,
           0,
           0,
           47.55274140056769,
           36.50689656262558,
           66.46552910915918,
           16.665791019433914
          ],
          [
           0,
           45.5893744667594,
           51.29420583402769,
           27.353263708339547,
           52.51606159454732,
           19.25547156372689,
           22.727939525839286,
           11.304922203025956,
           0,
           0
          ],
          [
           0,
           36.36924935165365,
           0,
           21.02848293976433,
           68.90797687113117,
           0,
           9.245950764275568,
           50.66613662516584,
           0,
           0
          ],
          [
           0,
           0,
           71.56371828110876,
           56.974445547730035,
           36.008450781250815,
           64.57527082252612,
           56.440649227893736,
           0,
           67.10707981879733,
           24.721069029878088
          ],
          [
           56.8928186196875,
           67.5309559908192,
           0,
           0,
           0,
           11.252934635150758,
           58.16177191069917,
           63.287669990761216,
           0,
           21.289676309307886
          ],
          [
           10.089320377853479,
           0,
           0,
           0.5138205684353547,
           73.1491644695023,
           0,
           22.25487460920393,
           44.36227506742134,
           3.6355522855152778,
           76.61384992651529
          ],
          [
           75.49367539305335,
           0,
           19.669820707086252,
           0,
           0,
           0,
           33.14772007758762,
           20.321482787463378,
           0,
           0
          ],
          [
           68.99190631599845,
           0,
           0,
           18.73433123330756,
           78.27805449327208,
           0,
           40.656265688705425,
           51.39435383944611,
           0,
           47.38596183342315
          ],
          [
           4.133975926310387,
           35.87669967122954,
           36.023565291307364,
           24.292962088971016,
           0,
           60.23629947070856,
           0,
           0,
           0,
           30.907153182589017
          ],
          [
           41.30772342107389,
           0,
           21.451166995913717,
           0,
           37.420734849133986,
           0,
           42.91252857229591,
           6.408241556064489,
           72.40759864840814,
           0
          ],
          [
           0.9279621260310211,
           0,
           70.96323419342754,
           65.28072240571773,
           0,
           39.19808552410149,
           58.0666640241459,
           26.62409739193548,
           23.55806940272078,
           0
          ],
          [
           0,
           67.66589095439922,
           68.05016685959966,
           35.97217487279215,
           0.6835749258440815,
           1.9051489535193067,
           47.11468146442873,
           67.65323119430926,
           66.45037091181408,
           53.585065502914865
          ],
          [
           37.04379753851453,
           0,
           0,
           67.82650262324951,
           32.771487159150794,
           0,
           0,
           39.6202122929667,
           0,
           0
          ],
          [
           25.848054723990334,
           43.02742372312319,
           38.23535114031206,
           0,
           45.461506561704304,
           0,
           0,
           49.578968614162896,
           37.95594788566576,
           61.906809259301355
          ],
          [
           38.913547076041205,
           28.197032400256596,
           0,
           4.125896367132023,
           0,
           0,
           76.76126657029347,
           7.171726960011249,
           67.04558662125359,
           35.73663511967155
          ],
          [
           55.377356424997814,
           20.316451172623054,
           29.228466155163094,
           19.102123258263667,
           0,
           46.694253831380635,
           0,
           0,
           37.45667550886014,
           0
          ],
          [
           72.85503012234972,
           74.47142924031048,
           69.78372682645383,
           4.419044030653327,
           0,
           71.39822751052705,
           11.38209779807772,
           75.99857828524034,
           75.63439725071034,
           62.36113465608321
          ]
         ]
        }
       ],
       "layout": {
        "coloraxis": {
         "colorscale": [
          [
           0,
           "#0d0887"
          ],
          [
           0.1111111111111111,
           "#46039f"
          ],
          [
           0.2222222222222222,
           "#7201a8"
          ],
          [
           0.3333333333333333,
           "#9c179e"
          ],
          [
           0.4444444444444444,
           "#bd3786"
          ],
          [
           0.5555555555555556,
           "#d8576b"
          ],
          [
           0.6666666666666666,
           "#ed7953"
          ],
          [
           0.7777777777777778,
           "#fb9f3a"
          ],
          [
           0.8888888888888888,
           "#fdca26"
          ],
          [
           1,
           "#f0f921"
          ]
         ]
        },
        "template": {
         "data": {
          "bar": [
           {
            "error_x": {
             "color": "#2a3f5f"
            },
            "error_y": {
             "color": "#2a3f5f"
            },
            "marker": {
             "line": {
              "color": "#E5ECF6",
              "width": 0.5
             },
             "pattern": {
              "fillmode": "overlay",
              "size": 10,
              "solidity": 0.2
             }
            },
            "type": "bar"
           }
          ],
          "barpolar": [
           {
            "marker": {
             "line": {
              "color": "#E5ECF6",
              "width": 0.5
             },
             "pattern": {
              "fillmode": "overlay",
              "size": 10,
              "solidity": 0.2
             }
            },
            "type": "barpolar"
           }
          ],
          "carpet": [
           {
            "aaxis": {
             "endlinecolor": "#2a3f5f",
             "gridcolor": "white",
             "linecolor": "white",
             "minorgridcolor": "white",
             "startlinecolor": "#2a3f5f"
            },
            "baxis": {
             "endlinecolor": "#2a3f5f",
             "gridcolor": "white",
             "linecolor": "white",
             "minorgridcolor": "white",
             "startlinecolor": "#2a3f5f"
            },
            "type": "carpet"
           }
          ],
          "choropleth": [
           {
            "colorbar": {
             "outlinewidth": 0,
             "ticks": ""
            },
            "type": "choropleth"
           }
          ],
          "contour": [
           {
            "colorbar": {
             "outlinewidth": 0,
             "ticks": ""
            },
            "colorscale": [
             [
              0,
              "#0d0887"
             ],
             [
              0.1111111111111111,
              "#46039f"
             ],
             [
              0.2222222222222222,
              "#7201a8"
             ],
             [
              0.3333333333333333,
              "#9c179e"
             ],
             [
              0.4444444444444444,
              "#bd3786"
             ],
             [
              0.5555555555555556,
              "#d8576b"
             ],
             [
              0.6666666666666666,
              "#ed7953"
             ],
             [
              0.7777777777777778,
              "#fb9f3a"
             ],
             [
              0.8888888888888888,
              "#fdca26"
             ],
             [
              1,
              "#f0f921"
             ]
            ],
            "type": "contour"
           }
          ],
          "contourcarpet": [
           {
            "colorbar": {
             "outlinewidth": 0,
             "ticks": ""
            },
            "type": "contourcarpet"
           }
          ],
          "heatmap": [
           {
            "colorbar": {
             "outlinewidth": 0,
             "ticks": ""
            },
            "colorscale": [
             [
              0,
              "#0d0887"
             ],
             [
              0.1111111111111111,
              "#46039f"
             ],
             [
              0.2222222222222222,
              "#7201a8"
             ],
             [
              0.3333333333333333,
              "#9c179e"
             ],
             [
              0.4444444444444444,
              "#bd3786"
             ],
             [
              0.5555555555555556,
              "#d8576b"
             ],
             [
              0.6666666666666666,
              "#ed7953"
             ],
             [
              0.7777777777777778,
              "#fb9f3a"
             ],
             [
              0.8888888888888888,
              "#fdca26"
             ],
             [
              1,
              "#f0f921"
             ]
            ],
            "type": "heatmap"
           }
          ],
          "heatmapgl": [
           {
            "colorbar": {
             "outlinewidth": 0,
             "ticks": ""
            },
            "colorscale": [
             [
              0,
              "#0d0887"
             ],
             [
              0.1111111111111111,
              "#46039f"
             ],
             [
              0.2222222222222222,
              "#7201a8"
             ],
             [
              0.3333333333333333,
              "#9c179e"
             ],
             [
              0.4444444444444444,
              "#bd3786"
             ],
             [
              0.5555555555555556,
              "#d8576b"
             ],
             [
              0.6666666666666666,
              "#ed7953"
             ],
             [
              0.7777777777777778,
              "#fb9f3a"
             ],
             [
              0.8888888888888888,
              "#fdca26"
             ],
             [
              1,
              "#f0f921"
             ]
            ],
            "type": "heatmapgl"
           }
          ],
          "histogram": [
           {
            "marker": {
             "pattern": {
              "fillmode": "overlay",
              "size": 10,
              "solidity": 0.2
             }
            },
            "type": "histogram"
           }
          ],
          "histogram2d": [
           {
            "colorbar": {
             "outlinewidth": 0,
             "ticks": ""
            },
            "colorscale": [
             [
              0,
              "#0d0887"
             ],
             [
              0.1111111111111111,
              "#46039f"
             ],
             [
              0.2222222222222222,
              "#7201a8"
             ],
             [
              0.3333333333333333,
              "#9c179e"
             ],
             [
              0.4444444444444444,
              "#bd3786"
             ],
             [
              0.5555555555555556,
              "#d8576b"
             ],
             [
              0.6666666666666666,
              "#ed7953"
             ],
             [
              0.7777777777777778,
              "#fb9f3a"
             ],
             [
              0.8888888888888888,
              "#fdca26"
             ],
             [
              1,
              "#f0f921"
             ]
            ],
            "type": "histogram2d"
           }
          ],
          "histogram2dcontour": [
           {
            "colorbar": {
             "outlinewidth": 0,
             "ticks": ""
            },
            "colorscale": [
             [
              0,
              "#0d0887"
             ],
             [
              0.1111111111111111,
              "#46039f"
             ],
             [
              0.2222222222222222,
              "#7201a8"
             ],
             [
              0.3333333333333333,
              "#9c179e"
             ],
             [
              0.4444444444444444,
              "#bd3786"
             ],
             [
              0.5555555555555556,
              "#d8576b"
             ],
             [
              0.6666666666666666,
              "#ed7953"
             ],
             [
              0.7777777777777778,
              "#fb9f3a"
             ],
             [
              0.8888888888888888,
              "#fdca26"
             ],
             [
              1,
              "#f0f921"
             ]
            ],
            "type": "histogram2dcontour"
           }
          ],
          "mesh3d": [
           {
            "colorbar": {
             "outlinewidth": 0,
             "ticks": ""
            },
            "type": "mesh3d"
           }
          ],
          "parcoords": [
           {
            "line": {
             "colorbar": {
              "outlinewidth": 0,
              "ticks": ""
             }
            },
            "type": "parcoords"
           }
          ],
          "pie": [
           {
            "automargin": true,
            "type": "pie"
           }
          ],
          "scatter": [
           {
            "fillpattern": {
             "fillmode": "overlay",
             "size": 10,
             "solidity": 0.2
            },
            "type": "scatter"
           }
          ],
          "scatter3d": [
           {
            "line": {
             "colorbar": {
              "outlinewidth": 0,
              "ticks": ""
             }
            },
            "marker": {
             "colorbar": {
              "outlinewidth": 0,
              "ticks": ""
             }
            },
            "type": "scatter3d"
           }
          ],
          "scattercarpet": [
           {
            "marker": {
             "colorbar": {
              "outlinewidth": 0,
              "ticks": ""
             }
            },
            "type": "scattercarpet"
           }
          ],
          "scattergeo": [
           {
            "marker": {
             "colorbar": {
              "outlinewidth": 0,
              "ticks": ""
             }
            },
            "type": "scattergeo"
           }
          ],
          "scattergl": [
           {
            "marker": {
             "colorbar": {
              "outlinewidth": 0,
              "ticks": ""
             }
            },
            "type": "scattergl"
           }
          ],
          "scattermapbox": [
           {
            "marker": {
             "colorbar": {
              "outlinewidth": 0,
              "ticks": ""
             }
            },
            "type": "scattermapbox"
           }
          ],
          "scatterpolar": [
           {
            "marker": {
             "colorbar": {
              "outlinewidth": 0,
              "ticks": ""
             }
            },
            "type": "scatterpolar"
           }
          ],
          "scatterpolargl": [
           {
            "marker": {
             "colorbar": {
              "outlinewidth": 0,
              "ticks": ""
             }
            },
            "type": "scatterpolargl"
           }
          ],
          "scatterternary": [
           {
            "marker": {
             "colorbar": {
              "outlinewidth": 0,
              "ticks": ""
             }
            },
            "type": "scatterternary"
           }
          ],
          "surface": [
           {
            "colorbar": {
             "outlinewidth": 0,
             "ticks": ""
            },
            "colorscale": [
             [
              0,
              "#0d0887"
             ],
             [
              0.1111111111111111,
              "#46039f"
             ],
             [
              0.2222222222222222,
              "#7201a8"
             ],
             [
              0.3333333333333333,
              "#9c179e"
             ],
             [
              0.4444444444444444,
              "#bd3786"
             ],
             [
              0.5555555555555556,
              "#d8576b"
             ],
             [
              0.6666666666666666,
              "#ed7953"
             ],
             [
              0.7777777777777778,
              "#fb9f3a"
             ],
             [
              0.8888888888888888,
              "#fdca26"
             ],
             [
              1,
              "#f0f921"
             ]
            ],
            "type": "surface"
           }
          ],
          "table": [
           {
            "cells": {
             "fill": {
              "color": "#EBF0F8"
             },
             "line": {
              "color": "white"
             }
            },
            "header": {
             "fill": {
              "color": "#C8D4E3"
             },
             "line": {
              "color": "white"
             }
            },
            "type": "table"
           }
          ]
         },
         "layout": {
          "annotationdefaults": {
           "arrowcolor": "#2a3f5f",
           "arrowhead": 0,
           "arrowwidth": 1
          },
          "autotypenumbers": "strict",
          "coloraxis": {
           "colorbar": {
            "outlinewidth": 0,
            "ticks": ""
           }
          },
          "colorscale": {
           "diverging": [
            [
             0,
             "#8e0152"
            ],
            [
             0.1,
             "#c51b7d"
            ],
            [
             0.2,
             "#de77ae"
            ],
            [
             0.3,
             "#f1b6da"
            ],
            [
             0.4,
             "#fde0ef"
            ],
            [
             0.5,
             "#f7f7f7"
            ],
            [
             0.6,
             "#e6f5d0"
            ],
            [
             0.7,
             "#b8e186"
            ],
            [
             0.8,
             "#7fbc41"
            ],
            [
             0.9,
             "#4d9221"
            ],
            [
             1,
             "#276419"
            ]
           ],
           "sequential": [
            [
             0,
             "#0d0887"
            ],
            [
             0.1111111111111111,
             "#46039f"
            ],
            [
             0.2222222222222222,
             "#7201a8"
            ],
            [
             0.3333333333333333,
             "#9c179e"
            ],
            [
             0.4444444444444444,
             "#bd3786"
            ],
            [
             0.5555555555555556,
             "#d8576b"
            ],
            [
             0.6666666666666666,
             "#ed7953"
            ],
            [
             0.7777777777777778,
             "#fb9f3a"
            ],
            [
             0.8888888888888888,
             "#fdca26"
            ],
            [
             1,
             "#f0f921"
            ]
           ],
           "sequentialminus": [
            [
             0,
             "#0d0887"
            ],
            [
             0.1111111111111111,
             "#46039f"
            ],
            [
             0.2222222222222222,
             "#7201a8"
            ],
            [
             0.3333333333333333,
             "#9c179e"
            ],
            [
             0.4444444444444444,
             "#bd3786"
            ],
            [
             0.5555555555555556,
             "#d8576b"
            ],
            [
             0.6666666666666666,
             "#ed7953"
            ],
            [
             0.7777777777777778,
             "#fb9f3a"
            ],
            [
             0.8888888888888888,
             "#fdca26"
            ],
            [
             1,
             "#f0f921"
            ]
           ]
          },
          "colorway": [
           "#636efa",
           "#EF553B",
           "#00cc96",
           "#ab63fa",
           "#FFA15A",
           "#19d3f3",
           "#FF6692",
           "#B6E880",
           "#FF97FF",
           "#FECB52"
          ],
          "font": {
           "color": "#2a3f5f"
          },
          "geo": {
           "bgcolor": "white",
           "lakecolor": "white",
           "landcolor": "#E5ECF6",
           "showlakes": true,
           "showland": true,
           "subunitcolor": "white"
          },
          "hoverlabel": {
           "align": "left"
          },
          "hovermode": "closest",
          "mapbox": {
           "style": "light"
          },
          "paper_bgcolor": "white",
          "plot_bgcolor": "#E5ECF6",
          "polar": {
           "angularaxis": {
            "gridcolor": "white",
            "linecolor": "white",
            "ticks": ""
           },
           "bgcolor": "#E5ECF6",
           "radialaxis": {
            "gridcolor": "white",
            "linecolor": "white",
            "ticks": ""
           }
          },
          "scene": {
           "xaxis": {
            "backgroundcolor": "#E5ECF6",
            "gridcolor": "white",
            "gridwidth": 2,
            "linecolor": "white",
            "showbackground": true,
            "ticks": "",
            "zerolinecolor": "white"
           },
           "yaxis": {
            "backgroundcolor": "#E5ECF6",
            "gridcolor": "white",
            "gridwidth": 2,
            "linecolor": "white",
            "showbackground": true,
            "ticks": "",
            "zerolinecolor": "white"
           },
           "zaxis": {
            "backgroundcolor": "#E5ECF6",
            "gridcolor": "white",
            "gridwidth": 2,
            "linecolor": "white",
            "showbackground": true,
            "ticks": "",
            "zerolinecolor": "white"
           }
          },
          "shapedefaults": {
           "line": {
            "color": "#2a3f5f"
           }
          },
          "ternary": {
           "aaxis": {
            "gridcolor": "white",
            "linecolor": "white",
            "ticks": ""
           },
           "baxis": {
            "gridcolor": "white",
            "linecolor": "white",
            "ticks": ""
           },
           "bgcolor": "#E5ECF6",
           "caxis": {
            "gridcolor": "white",
            "linecolor": "white",
            "ticks": ""
           }
          },
          "title": {
           "x": 0.05
          },
          "xaxis": {
           "automargin": true,
           "gridcolor": "white",
           "linecolor": "white",
           "ticks": "",
           "title": {
            "standoff": 15
           },
           "zerolinecolor": "white",
           "zerolinewidth": 2
          },
          "yaxis": {
           "automargin": true,
           "gridcolor": "white",
           "linecolor": "white",
           "ticks": "",
           "title": {
            "standoff": 15
           },
           "zerolinecolor": "white",
           "zerolinewidth": 2
          }
         }
        },
        "title": {
         "text": "Plot without Interpolation"
        },
        "xaxis": {
         "anchor": "y",
         "constrain": "domain",
         "domain": [
          0,
          1
         ],
         "scaleanchor": "y",
         "title": {
          "text": "Column"
         }
        },
        "yaxis": {
         "anchor": "x",
         "autorange": true,
         "constrain": "domain",
         "domain": [
          0,
          1
         ],
         "title": {
          "text": "Row"
         }
        }
       }
      }
     },
     "metadata": {},
     "output_type": "display_data"
    }
   ],
   "source": [
    "px.imshow(\n",
    "    distribued_melt_df,\n",
    "    origin=\"lower\",\n",
    "    labels=dict(x=\"Column\", y=\"Row\"),\n",
    "    title=\"Plot without Interpolation\",\n",
    ")"
   ]
  },
  {
   "cell_type": "markdown",
   "metadata": {},
   "source": [
    "## Now with space and time"
   ]
  },
  {
   "cell_type": "code",
   "execution_count": 55,
   "metadata": {},
   "outputs": [],
   "source": [
    "number_of_rows = 25\n",
    "number_of_columns = 10\n",
    "number_of_days = 10"
   ]
  },
  {
   "cell_type": "code",
   "execution_count": 56,
   "metadata": {},
   "outputs": [],
   "source": [
    "np.random.seed(42)\n",
    "temperatures = np.random.uniform(\n",
    "    -5, 10, (number_of_rows, number_of_columns, number_of_days)\n",
    ")"
   ]
  },
  {
   "cell_type": "code",
   "execution_count": 57,
   "metadata": {},
   "outputs": [],
   "source": [
    "data_array = xr.DataArray(temperatures, dims=(\"row\", \"column\", \"day\"))"
   ]
  },
  {
   "cell_type": "code",
   "execution_count": 58,
   "metadata": {},
   "outputs": [],
   "source": [
    "dataset = xr.Dataset({\"temperature\": data_array})"
   ]
  },
  {
   "cell_type": "code",
   "execution_count": 59,
   "metadata": {},
   "outputs": [
    {
     "data": {
      "text/html": [
       "<div><svg style=\"position: absolute; width: 0; height: 0; overflow: hidden\">\n",
       "<defs>\n",
       "<symbol id=\"icon-database\" viewBox=\"0 0 32 32\">\n",
       "<path d=\"M16 0c-8.837 0-16 2.239-16 5v4c0 2.761 7.163 5 16 5s16-2.239 16-5v-4c0-2.761-7.163-5-16-5z\"></path>\n",
       "<path d=\"M16 17c-8.837 0-16-2.239-16-5v6c0 2.761 7.163 5 16 5s16-2.239 16-5v-6c0 2.761-7.163 5-16 5z\"></path>\n",
       "<path d=\"M16 26c-8.837 0-16-2.239-16-5v6c0 2.761 7.163 5 16 5s16-2.239 16-5v-6c0 2.761-7.163 5-16 5z\"></path>\n",
       "</symbol>\n",
       "<symbol id=\"icon-file-text2\" viewBox=\"0 0 32 32\">\n",
       "<path d=\"M28.681 7.159c-0.694-0.947-1.662-2.053-2.724-3.116s-2.169-2.030-3.116-2.724c-1.612-1.182-2.393-1.319-2.841-1.319h-15.5c-1.378 0-2.5 1.121-2.5 2.5v27c0 1.378 1.122 2.5 2.5 2.5h23c1.378 0 2.5-1.122 2.5-2.5v-19.5c0-0.448-0.137-1.23-1.319-2.841zM24.543 5.457c0.959 0.959 1.712 1.825 2.268 2.543h-4.811v-4.811c0.718 0.556 1.584 1.309 2.543 2.268zM28 29.5c0 0.271-0.229 0.5-0.5 0.5h-23c-0.271 0-0.5-0.229-0.5-0.5v-27c0-0.271 0.229-0.5 0.5-0.5 0 0 15.499-0 15.5 0v7c0 0.552 0.448 1 1 1h7v19.5z\"></path>\n",
       "<path d=\"M23 26h-14c-0.552 0-1-0.448-1-1s0.448-1 1-1h14c0.552 0 1 0.448 1 1s-0.448 1-1 1z\"></path>\n",
       "<path d=\"M23 22h-14c-0.552 0-1-0.448-1-1s0.448-1 1-1h14c0.552 0 1 0.448 1 1s-0.448 1-1 1z\"></path>\n",
       "<path d=\"M23 18h-14c-0.552 0-1-0.448-1-1s0.448-1 1-1h14c0.552 0 1 0.448 1 1s-0.448 1-1 1z\"></path>\n",
       "</symbol>\n",
       "</defs>\n",
       "</svg>\n",
       "<style>/* CSS stylesheet for displaying xarray objects in jupyterlab.\n",
       " *\n",
       " */\n",
       "\n",
       ":root {\n",
       "  --xr-font-color0: var(--jp-content-font-color0, rgba(0, 0, 0, 1));\n",
       "  --xr-font-color2: var(--jp-content-font-color2, rgba(0, 0, 0, 0.54));\n",
       "  --xr-font-color3: var(--jp-content-font-color3, rgba(0, 0, 0, 0.38));\n",
       "  --xr-border-color: var(--jp-border-color2, #e0e0e0);\n",
       "  --xr-disabled-color: var(--jp-layout-color3, #bdbdbd);\n",
       "  --xr-background-color: var(--jp-layout-color0, white);\n",
       "  --xr-background-color-row-even: var(--jp-layout-color1, white);\n",
       "  --xr-background-color-row-odd: var(--jp-layout-color2, #eeeeee);\n",
       "}\n",
       "\n",
       "html[theme=dark],\n",
       "body[data-theme=dark],\n",
       "body.vscode-dark {\n",
       "  --xr-font-color0: rgba(255, 255, 255, 1);\n",
       "  --xr-font-color2: rgba(255, 255, 255, 0.54);\n",
       "  --xr-font-color3: rgba(255, 255, 255, 0.38);\n",
       "  --xr-border-color: #1F1F1F;\n",
       "  --xr-disabled-color: #515151;\n",
       "  --xr-background-color: #111111;\n",
       "  --xr-background-color-row-even: #111111;\n",
       "  --xr-background-color-row-odd: #313131;\n",
       "}\n",
       "\n",
       ".xr-wrap {\n",
       "  display: block !important;\n",
       "  min-width: 300px;\n",
       "  max-width: 700px;\n",
       "}\n",
       "\n",
       ".xr-text-repr-fallback {\n",
       "  /* fallback to plain text repr when CSS is not injected (untrusted notebook) */\n",
       "  display: none;\n",
       "}\n",
       "\n",
       ".xr-header {\n",
       "  padding-top: 6px;\n",
       "  padding-bottom: 6px;\n",
       "  margin-bottom: 4px;\n",
       "  border-bottom: solid 1px var(--xr-border-color);\n",
       "}\n",
       "\n",
       ".xr-header > div,\n",
       ".xr-header > ul {\n",
       "  display: inline;\n",
       "  margin-top: 0;\n",
       "  margin-bottom: 0;\n",
       "}\n",
       "\n",
       ".xr-obj-type,\n",
       ".xr-array-name {\n",
       "  margin-left: 2px;\n",
       "  margin-right: 10px;\n",
       "}\n",
       "\n",
       ".xr-obj-type {\n",
       "  color: var(--xr-font-color2);\n",
       "}\n",
       "\n",
       ".xr-sections {\n",
       "  padding-left: 0 !important;\n",
       "  display: grid;\n",
       "  grid-template-columns: 150px auto auto 1fr 20px 20px;\n",
       "}\n",
       "\n",
       ".xr-section-item {\n",
       "  display: contents;\n",
       "}\n",
       "\n",
       ".xr-section-item input {\n",
       "  display: none;\n",
       "}\n",
       "\n",
       ".xr-section-item input + label {\n",
       "  color: var(--xr-disabled-color);\n",
       "}\n",
       "\n",
       ".xr-section-item input:enabled + label {\n",
       "  cursor: pointer;\n",
       "  color: var(--xr-font-color2);\n",
       "}\n",
       "\n",
       ".xr-section-item input:enabled + label:hover {\n",
       "  color: var(--xr-font-color0);\n",
       "}\n",
       "\n",
       ".xr-section-summary {\n",
       "  grid-column: 1;\n",
       "  color: var(--xr-font-color2);\n",
       "  font-weight: 500;\n",
       "}\n",
       "\n",
       ".xr-section-summary > span {\n",
       "  display: inline-block;\n",
       "  padding-left: 0.5em;\n",
       "}\n",
       "\n",
       ".xr-section-summary-in:disabled + label {\n",
       "  color: var(--xr-font-color2);\n",
       "}\n",
       "\n",
       ".xr-section-summary-in + label:before {\n",
       "  display: inline-block;\n",
       "  content: '►';\n",
       "  font-size: 11px;\n",
       "  width: 15px;\n",
       "  text-align: center;\n",
       "}\n",
       "\n",
       ".xr-section-summary-in:disabled + label:before {\n",
       "  color: var(--xr-disabled-color);\n",
       "}\n",
       "\n",
       ".xr-section-summary-in:checked + label:before {\n",
       "  content: '▼';\n",
       "}\n",
       "\n",
       ".xr-section-summary-in:checked + label > span {\n",
       "  display: none;\n",
       "}\n",
       "\n",
       ".xr-section-summary,\n",
       ".xr-section-inline-details {\n",
       "  padding-top: 4px;\n",
       "  padding-bottom: 4px;\n",
       "}\n",
       "\n",
       ".xr-section-inline-details {\n",
       "  grid-column: 2 / -1;\n",
       "}\n",
       "\n",
       ".xr-section-details {\n",
       "  display: none;\n",
       "  grid-column: 1 / -1;\n",
       "  margin-bottom: 5px;\n",
       "}\n",
       "\n",
       ".xr-section-summary-in:checked ~ .xr-section-details {\n",
       "  display: contents;\n",
       "}\n",
       "\n",
       ".xr-array-wrap {\n",
       "  grid-column: 1 / -1;\n",
       "  display: grid;\n",
       "  grid-template-columns: 20px auto;\n",
       "}\n",
       "\n",
       ".xr-array-wrap > label {\n",
       "  grid-column: 1;\n",
       "  vertical-align: top;\n",
       "}\n",
       "\n",
       ".xr-preview {\n",
       "  color: var(--xr-font-color3);\n",
       "}\n",
       "\n",
       ".xr-array-preview,\n",
       ".xr-array-data {\n",
       "  padding: 0 5px !important;\n",
       "  grid-column: 2;\n",
       "}\n",
       "\n",
       ".xr-array-data,\n",
       ".xr-array-in:checked ~ .xr-array-preview {\n",
       "  display: none;\n",
       "}\n",
       "\n",
       ".xr-array-in:checked ~ .xr-array-data,\n",
       ".xr-array-preview {\n",
       "  display: inline-block;\n",
       "}\n",
       "\n",
       ".xr-dim-list {\n",
       "  display: inline-block !important;\n",
       "  list-style: none;\n",
       "  padding: 0 !important;\n",
       "  margin: 0;\n",
       "}\n",
       "\n",
       ".xr-dim-list li {\n",
       "  display: inline-block;\n",
       "  padding: 0;\n",
       "  margin: 0;\n",
       "}\n",
       "\n",
       ".xr-dim-list:before {\n",
       "  content: '(';\n",
       "}\n",
       "\n",
       ".xr-dim-list:after {\n",
       "  content: ')';\n",
       "}\n",
       "\n",
       ".xr-dim-list li:not(:last-child):after {\n",
       "  content: ',';\n",
       "  padding-right: 5px;\n",
       "}\n",
       "\n",
       ".xr-has-index {\n",
       "  font-weight: bold;\n",
       "}\n",
       "\n",
       ".xr-var-list,\n",
       ".xr-var-item {\n",
       "  display: contents;\n",
       "}\n",
       "\n",
       ".xr-var-item > div,\n",
       ".xr-var-item label,\n",
       ".xr-var-item > .xr-var-name span {\n",
       "  background-color: var(--xr-background-color-row-even);\n",
       "  margin-bottom: 0;\n",
       "}\n",
       "\n",
       ".xr-var-item > .xr-var-name:hover span {\n",
       "  padding-right: 5px;\n",
       "}\n",
       "\n",
       ".xr-var-list > li:nth-child(odd) > div,\n",
       ".xr-var-list > li:nth-child(odd) > label,\n",
       ".xr-var-list > li:nth-child(odd) > .xr-var-name span {\n",
       "  background-color: var(--xr-background-color-row-odd);\n",
       "}\n",
       "\n",
       ".xr-var-name {\n",
       "  grid-column: 1;\n",
       "}\n",
       "\n",
       ".xr-var-dims {\n",
       "  grid-column: 2;\n",
       "}\n",
       "\n",
       ".xr-var-dtype {\n",
       "  grid-column: 3;\n",
       "  text-align: right;\n",
       "  color: var(--xr-font-color2);\n",
       "}\n",
       "\n",
       ".xr-var-preview {\n",
       "  grid-column: 4;\n",
       "}\n",
       "\n",
       ".xr-index-preview {\n",
       "  grid-column: 2 / 5;\n",
       "  color: var(--xr-font-color2);\n",
       "}\n",
       "\n",
       ".xr-var-name,\n",
       ".xr-var-dims,\n",
       ".xr-var-dtype,\n",
       ".xr-preview,\n",
       ".xr-attrs dt {\n",
       "  white-space: nowrap;\n",
       "  overflow: hidden;\n",
       "  text-overflow: ellipsis;\n",
       "  padding-right: 10px;\n",
       "}\n",
       "\n",
       ".xr-var-name:hover,\n",
       ".xr-var-dims:hover,\n",
       ".xr-var-dtype:hover,\n",
       ".xr-attrs dt:hover {\n",
       "  overflow: visible;\n",
       "  width: auto;\n",
       "  z-index: 1;\n",
       "}\n",
       "\n",
       ".xr-var-attrs,\n",
       ".xr-var-data,\n",
       ".xr-index-data {\n",
       "  display: none;\n",
       "  background-color: var(--xr-background-color) !important;\n",
       "  padding-bottom: 5px !important;\n",
       "}\n",
       "\n",
       ".xr-var-attrs-in:checked ~ .xr-var-attrs,\n",
       ".xr-var-data-in:checked ~ .xr-var-data,\n",
       ".xr-index-data-in:checked ~ .xr-index-data {\n",
       "  display: block;\n",
       "}\n",
       "\n",
       ".xr-var-data > table {\n",
       "  float: right;\n",
       "}\n",
       "\n",
       ".xr-var-name span,\n",
       ".xr-var-data,\n",
       ".xr-index-name div,\n",
       ".xr-index-data,\n",
       ".xr-attrs {\n",
       "  padding-left: 25px !important;\n",
       "}\n",
       "\n",
       ".xr-attrs,\n",
       ".xr-var-attrs,\n",
       ".xr-var-data,\n",
       ".xr-index-data {\n",
       "  grid-column: 1 / -1;\n",
       "}\n",
       "\n",
       "dl.xr-attrs {\n",
       "  padding: 0;\n",
       "  margin: 0;\n",
       "  display: grid;\n",
       "  grid-template-columns: 125px auto;\n",
       "}\n",
       "\n",
       ".xr-attrs dt,\n",
       ".xr-attrs dd {\n",
       "  padding: 0;\n",
       "  margin: 0;\n",
       "  float: left;\n",
       "  padding-right: 10px;\n",
       "  width: auto;\n",
       "}\n",
       "\n",
       ".xr-attrs dt {\n",
       "  font-weight: normal;\n",
       "  grid-column: 1;\n",
       "}\n",
       "\n",
       ".xr-attrs dt:hover span {\n",
       "  display: inline-block;\n",
       "  background: var(--xr-background-color);\n",
       "  padding-right: 10px;\n",
       "}\n",
       "\n",
       ".xr-attrs dd {\n",
       "  grid-column: 2;\n",
       "  white-space: pre-wrap;\n",
       "  word-break: break-all;\n",
       "}\n",
       "\n",
       ".xr-icon-database,\n",
       ".xr-icon-file-text2,\n",
       ".xr-no-icon {\n",
       "  display: inline-block;\n",
       "  vertical-align: middle;\n",
       "  width: 1em;\n",
       "  height: 1.5em !important;\n",
       "  stroke-width: 0;\n",
       "  stroke: currentColor;\n",
       "  fill: currentColor;\n",
       "}\n",
       "</style><pre class='xr-text-repr-fallback'>&lt;xarray.Dataset&gt;\n",
       "Dimensions:      (row: 25, column: 10, day: 10)\n",
       "Dimensions without coordinates: row, column, day\n",
       "Data variables:\n",
       "    temperature  (row, column, day) float64 0.6181 9.261 5.98 ... 9.711 1.114</pre><div class='xr-wrap' style='display:none'><div class='xr-header'><div class='xr-obj-type'>xarray.Dataset</div></div><ul class='xr-sections'><li class='xr-section-item'><input id='section-f02b0814-eda7-4ca3-a712-858e6714e8f1' class='xr-section-summary-in' type='checkbox' disabled ><label for='section-f02b0814-eda7-4ca3-a712-858e6714e8f1' class='xr-section-summary'  title='Expand/collapse section'>Dimensions:</label><div class='xr-section-inline-details'><ul class='xr-dim-list'><li><span>row</span>: 25</li><li><span>column</span>: 10</li><li><span>day</span>: 10</li></ul></div><div class='xr-section-details'></div></li><li class='xr-section-item'><input id='section-2dc99c27-763c-47aa-a73f-d0ad0455d701' class='xr-section-summary-in' type='checkbox' disabled ><label for='section-2dc99c27-763c-47aa-a73f-d0ad0455d701' class='xr-section-summary'  title='Expand/collapse section'>Coordinates: <span>(0)</span></label><div class='xr-section-inline-details'></div><div class='xr-section-details'><ul class='xr-var-list'></ul></div></li><li class='xr-section-item'><input id='section-124219b4-0f38-4ed8-896c-9f54cfd8914f' class='xr-section-summary-in' type='checkbox'  checked><label for='section-124219b4-0f38-4ed8-896c-9f54cfd8914f' class='xr-section-summary' >Data variables: <span>(1)</span></label><div class='xr-section-inline-details'></div><div class='xr-section-details'><ul class='xr-var-list'><li class='xr-var-item'><div class='xr-var-name'><span>temperature</span></div><div class='xr-var-dims'>(row, column, day)</div><div class='xr-var-dtype'>float64</div><div class='xr-var-preview xr-preview'>0.6181 9.261 5.98 ... 9.711 1.114</div><input id='attrs-30f86e9a-3f5e-4b31-b6d1-47d3db3c17ad' class='xr-var-attrs-in' type='checkbox' disabled><label for='attrs-30f86e9a-3f5e-4b31-b6d1-47d3db3c17ad' title='Show/Hide attributes'><svg class='icon xr-icon-file-text2'><use xlink:href='#icon-file-text2'></use></svg></label><input id='data-9b0917bb-fbfe-4842-91f8-f17e7fbe0ac9' class='xr-var-data-in' type='checkbox'><label for='data-9b0917bb-fbfe-4842-91f8-f17e7fbe0ac9' title='Show/Hide data repr'><svg class='icon xr-icon-database'><use xlink:href='#icon-database'></use></svg></label><div class='xr-var-attrs'><dl class='xr-attrs'></dl></div><div class='xr-var-data'><pre>array([[[ 0.61810178,  9.2607146 ,  5.97990913, ...,  7.99264219,\n",
       "          4.01672518,  5.62108867],\n",
       "        [-4.69123259,  9.54864778,  7.48663961, ...,  2.87134647,\n",
       "          1.47917528, -0.6315629 ],\n",
       "        [ 4.17779342, -2.90759209, -0.61783027, ...,  2.71351658,\n",
       "          3.88621853, -4.30324381],\n",
       "        ...,\n",
       "        [ 6.58367154, -2.01926478, -4.91716824, ..., -3.88933022,\n",
       "          0.37698593, -3.26196411],\n",
       "        [ 7.94655139,  4.3494719 , -0.03652963, ...,  4.56336207,\n",
       "          8.30819114,  2.08322388],\n",
       "        [-3.20608631,  5.69867181,  6.41177573, ...,  1.41311528,\n",
       "         -4.6187131 , -3.3816286 ]],\n",
       "\n",
       "       [[-4.52856221,  4.54615617, -0.28466028, ...,  6.33326708,\n",
       "         -1.56802752, -3.84530135],\n",
       "        [-0.65372821, -2.58168069,  8.94546479, ..., -2.20144912,\n",
       "          8.38838498,  3.09013363],\n",
       "        [ 7.11160233,  8.4413695 , -0.22994788, ...,  7.91095875,\n",
       "         -4.89571804,  2.66120954],\n",
       "...\n",
       "        [ 4.78437473,  7.68406544,  5.3873924 , ...,  6.8347774 ,\n",
       "          1.69629275,  6.97570511],\n",
       "        [ 7.33633561,  7.86343506,  8.74952854, ...,  4.0161125 ,\n",
       "          5.58378794,  5.32607528],\n",
       "        [ 0.61829331, -2.49709697,  1.45794008, ..., -4.6182836 ,\n",
       "          4.68733579,  4.55353476]],\n",
       "\n",
       "       [[ 0.1090625 , -3.92432167,  1.14443342, ..., -1.73161169,\n",
       "          9.82053949,  1.81002432],\n",
       "        [ 5.32411354, -2.89170549,  2.28384549, ..., -4.41505981,\n",
       "         -4.53566314,  0.8198014 ],\n",
       "        [-2.59962595, -4.64971856,  6.34320421, ...,  9.33878243,\n",
       "         -0.29049924,  8.32605508],\n",
       "        ...,\n",
       "        [-1.58375396,  9.46043271,  8.64181916, ...,  6.85764691,\n",
       "         -3.12768779,  6.91315994],\n",
       "        [-0.86348648,  8.15635872,  9.16063141, ...,  7.95321284,\n",
       "          3.83097283,  0.62994862],\n",
       "        [-0.71324667, -1.95165363,  6.42697287, ...,  7.98365718,\n",
       "          9.71109015,  1.11376313]]])</pre></div></li></ul></div></li><li class='xr-section-item'><input id='section-f7ca04f6-bb6e-4090-a81e-14121e60df62' class='xr-section-summary-in' type='checkbox' disabled ><label for='section-f7ca04f6-bb6e-4090-a81e-14121e60df62' class='xr-section-summary'  title='Expand/collapse section'>Indexes: <span>(0)</span></label><div class='xr-section-inline-details'></div><div class='xr-section-details'><ul class='xr-var-list'></ul></div></li><li class='xr-section-item'><input id='section-689f1907-df14-46b4-bc90-94394d9a66f2' class='xr-section-summary-in' type='checkbox' disabled ><label for='section-689f1907-df14-46b4-bc90-94394d9a66f2' class='xr-section-summary'  title='Expand/collapse section'>Attributes: <span>(0)</span></label><div class='xr-section-inline-details'></div><div class='xr-section-details'><dl class='xr-attrs'></dl></div></li></ul></div></div>"
      ],
      "text/plain": [
       "<xarray.Dataset>\n",
       "Dimensions:      (row: 25, column: 10, day: 10)\n",
       "Dimensions without coordinates: row, column, day\n",
       "Data variables:\n",
       "    temperature  (row, column, day) float64 0.6181 9.261 5.98 ... 9.711 1.114"
      ]
     },
     "execution_count": 59,
     "metadata": {},
     "output_type": "execute_result"
    }
   ],
   "source": [
    "dataset"
   ]
  },
  {
   "cell_type": "code",
   "execution_count": 60,
   "metadata": {},
   "outputs": [],
   "source": [
    "dataset[\"daily_melt\"] = degree_day_model(dataset[\"temperature\"], degree_day_factor)"
   ]
  },
  {
   "cell_type": "code",
   "execution_count": 61,
   "metadata": {},
   "outputs": [
    {
     "data": {
      "text/html": [
       "<div><svg style=\"position: absolute; width: 0; height: 0; overflow: hidden\">\n",
       "<defs>\n",
       "<symbol id=\"icon-database\" viewBox=\"0 0 32 32\">\n",
       "<path d=\"M16 0c-8.837 0-16 2.239-16 5v4c0 2.761 7.163 5 16 5s16-2.239 16-5v-4c0-2.761-7.163-5-16-5z\"></path>\n",
       "<path d=\"M16 17c-8.837 0-16-2.239-16-5v6c0 2.761 7.163 5 16 5s16-2.239 16-5v-6c0 2.761-7.163 5-16 5z\"></path>\n",
       "<path d=\"M16 26c-8.837 0-16-2.239-16-5v6c0 2.761 7.163 5 16 5s16-2.239 16-5v-6c0 2.761-7.163 5-16 5z\"></path>\n",
       "</symbol>\n",
       "<symbol id=\"icon-file-text2\" viewBox=\"0 0 32 32\">\n",
       "<path d=\"M28.681 7.159c-0.694-0.947-1.662-2.053-2.724-3.116s-2.169-2.030-3.116-2.724c-1.612-1.182-2.393-1.319-2.841-1.319h-15.5c-1.378 0-2.5 1.121-2.5 2.5v27c0 1.378 1.122 2.5 2.5 2.5h23c1.378 0 2.5-1.122 2.5-2.5v-19.5c0-0.448-0.137-1.23-1.319-2.841zM24.543 5.457c0.959 0.959 1.712 1.825 2.268 2.543h-4.811v-4.811c0.718 0.556 1.584 1.309 2.543 2.268zM28 29.5c0 0.271-0.229 0.5-0.5 0.5h-23c-0.271 0-0.5-0.229-0.5-0.5v-27c0-0.271 0.229-0.5 0.5-0.5 0 0 15.499-0 15.5 0v7c0 0.552 0.448 1 1 1h7v19.5z\"></path>\n",
       "<path d=\"M23 26h-14c-0.552 0-1-0.448-1-1s0.448-1 1-1h14c0.552 0 1 0.448 1 1s-0.448 1-1 1z\"></path>\n",
       "<path d=\"M23 22h-14c-0.552 0-1-0.448-1-1s0.448-1 1-1h14c0.552 0 1 0.448 1 1s-0.448 1-1 1z\"></path>\n",
       "<path d=\"M23 18h-14c-0.552 0-1-0.448-1-1s0.448-1 1-1h14c0.552 0 1 0.448 1 1s-0.448 1-1 1z\"></path>\n",
       "</symbol>\n",
       "</defs>\n",
       "</svg>\n",
       "<style>/* CSS stylesheet for displaying xarray objects in jupyterlab.\n",
       " *\n",
       " */\n",
       "\n",
       ":root {\n",
       "  --xr-font-color0: var(--jp-content-font-color0, rgba(0, 0, 0, 1));\n",
       "  --xr-font-color2: var(--jp-content-font-color2, rgba(0, 0, 0, 0.54));\n",
       "  --xr-font-color3: var(--jp-content-font-color3, rgba(0, 0, 0, 0.38));\n",
       "  --xr-border-color: var(--jp-border-color2, #e0e0e0);\n",
       "  --xr-disabled-color: var(--jp-layout-color3, #bdbdbd);\n",
       "  --xr-background-color: var(--jp-layout-color0, white);\n",
       "  --xr-background-color-row-even: var(--jp-layout-color1, white);\n",
       "  --xr-background-color-row-odd: var(--jp-layout-color2, #eeeeee);\n",
       "}\n",
       "\n",
       "html[theme=dark],\n",
       "body[data-theme=dark],\n",
       "body.vscode-dark {\n",
       "  --xr-font-color0: rgba(255, 255, 255, 1);\n",
       "  --xr-font-color2: rgba(255, 255, 255, 0.54);\n",
       "  --xr-font-color3: rgba(255, 255, 255, 0.38);\n",
       "  --xr-border-color: #1F1F1F;\n",
       "  --xr-disabled-color: #515151;\n",
       "  --xr-background-color: #111111;\n",
       "  --xr-background-color-row-even: #111111;\n",
       "  --xr-background-color-row-odd: #313131;\n",
       "}\n",
       "\n",
       ".xr-wrap {\n",
       "  display: block !important;\n",
       "  min-width: 300px;\n",
       "  max-width: 700px;\n",
       "}\n",
       "\n",
       ".xr-text-repr-fallback {\n",
       "  /* fallback to plain text repr when CSS is not injected (untrusted notebook) */\n",
       "  display: none;\n",
       "}\n",
       "\n",
       ".xr-header {\n",
       "  padding-top: 6px;\n",
       "  padding-bottom: 6px;\n",
       "  margin-bottom: 4px;\n",
       "  border-bottom: solid 1px var(--xr-border-color);\n",
       "}\n",
       "\n",
       ".xr-header > div,\n",
       ".xr-header > ul {\n",
       "  display: inline;\n",
       "  margin-top: 0;\n",
       "  margin-bottom: 0;\n",
       "}\n",
       "\n",
       ".xr-obj-type,\n",
       ".xr-array-name {\n",
       "  margin-left: 2px;\n",
       "  margin-right: 10px;\n",
       "}\n",
       "\n",
       ".xr-obj-type {\n",
       "  color: var(--xr-font-color2);\n",
       "}\n",
       "\n",
       ".xr-sections {\n",
       "  padding-left: 0 !important;\n",
       "  display: grid;\n",
       "  grid-template-columns: 150px auto auto 1fr 20px 20px;\n",
       "}\n",
       "\n",
       ".xr-section-item {\n",
       "  display: contents;\n",
       "}\n",
       "\n",
       ".xr-section-item input {\n",
       "  display: none;\n",
       "}\n",
       "\n",
       ".xr-section-item input + label {\n",
       "  color: var(--xr-disabled-color);\n",
       "}\n",
       "\n",
       ".xr-section-item input:enabled + label {\n",
       "  cursor: pointer;\n",
       "  color: var(--xr-font-color2);\n",
       "}\n",
       "\n",
       ".xr-section-item input:enabled + label:hover {\n",
       "  color: var(--xr-font-color0);\n",
       "}\n",
       "\n",
       ".xr-section-summary {\n",
       "  grid-column: 1;\n",
       "  color: var(--xr-font-color2);\n",
       "  font-weight: 500;\n",
       "}\n",
       "\n",
       ".xr-section-summary > span {\n",
       "  display: inline-block;\n",
       "  padding-left: 0.5em;\n",
       "}\n",
       "\n",
       ".xr-section-summary-in:disabled + label {\n",
       "  color: var(--xr-font-color2);\n",
       "}\n",
       "\n",
       ".xr-section-summary-in + label:before {\n",
       "  display: inline-block;\n",
       "  content: '►';\n",
       "  font-size: 11px;\n",
       "  width: 15px;\n",
       "  text-align: center;\n",
       "}\n",
       "\n",
       ".xr-section-summary-in:disabled + label:before {\n",
       "  color: var(--xr-disabled-color);\n",
       "}\n",
       "\n",
       ".xr-section-summary-in:checked + label:before {\n",
       "  content: '▼';\n",
       "}\n",
       "\n",
       ".xr-section-summary-in:checked + label > span {\n",
       "  display: none;\n",
       "}\n",
       "\n",
       ".xr-section-summary,\n",
       ".xr-section-inline-details {\n",
       "  padding-top: 4px;\n",
       "  padding-bottom: 4px;\n",
       "}\n",
       "\n",
       ".xr-section-inline-details {\n",
       "  grid-column: 2 / -1;\n",
       "}\n",
       "\n",
       ".xr-section-details {\n",
       "  display: none;\n",
       "  grid-column: 1 / -1;\n",
       "  margin-bottom: 5px;\n",
       "}\n",
       "\n",
       ".xr-section-summary-in:checked ~ .xr-section-details {\n",
       "  display: contents;\n",
       "}\n",
       "\n",
       ".xr-array-wrap {\n",
       "  grid-column: 1 / -1;\n",
       "  display: grid;\n",
       "  grid-template-columns: 20px auto;\n",
       "}\n",
       "\n",
       ".xr-array-wrap > label {\n",
       "  grid-column: 1;\n",
       "  vertical-align: top;\n",
       "}\n",
       "\n",
       ".xr-preview {\n",
       "  color: var(--xr-font-color3);\n",
       "}\n",
       "\n",
       ".xr-array-preview,\n",
       ".xr-array-data {\n",
       "  padding: 0 5px !important;\n",
       "  grid-column: 2;\n",
       "}\n",
       "\n",
       ".xr-array-data,\n",
       ".xr-array-in:checked ~ .xr-array-preview {\n",
       "  display: none;\n",
       "}\n",
       "\n",
       ".xr-array-in:checked ~ .xr-array-data,\n",
       ".xr-array-preview {\n",
       "  display: inline-block;\n",
       "}\n",
       "\n",
       ".xr-dim-list {\n",
       "  display: inline-block !important;\n",
       "  list-style: none;\n",
       "  padding: 0 !important;\n",
       "  margin: 0;\n",
       "}\n",
       "\n",
       ".xr-dim-list li {\n",
       "  display: inline-block;\n",
       "  padding: 0;\n",
       "  margin: 0;\n",
       "}\n",
       "\n",
       ".xr-dim-list:before {\n",
       "  content: '(';\n",
       "}\n",
       "\n",
       ".xr-dim-list:after {\n",
       "  content: ')';\n",
       "}\n",
       "\n",
       ".xr-dim-list li:not(:last-child):after {\n",
       "  content: ',';\n",
       "  padding-right: 5px;\n",
       "}\n",
       "\n",
       ".xr-has-index {\n",
       "  font-weight: bold;\n",
       "}\n",
       "\n",
       ".xr-var-list,\n",
       ".xr-var-item {\n",
       "  display: contents;\n",
       "}\n",
       "\n",
       ".xr-var-item > div,\n",
       ".xr-var-item label,\n",
       ".xr-var-item > .xr-var-name span {\n",
       "  background-color: var(--xr-background-color-row-even);\n",
       "  margin-bottom: 0;\n",
       "}\n",
       "\n",
       ".xr-var-item > .xr-var-name:hover span {\n",
       "  padding-right: 5px;\n",
       "}\n",
       "\n",
       ".xr-var-list > li:nth-child(odd) > div,\n",
       ".xr-var-list > li:nth-child(odd) > label,\n",
       ".xr-var-list > li:nth-child(odd) > .xr-var-name span {\n",
       "  background-color: var(--xr-background-color-row-odd);\n",
       "}\n",
       "\n",
       ".xr-var-name {\n",
       "  grid-column: 1;\n",
       "}\n",
       "\n",
       ".xr-var-dims {\n",
       "  grid-column: 2;\n",
       "}\n",
       "\n",
       ".xr-var-dtype {\n",
       "  grid-column: 3;\n",
       "  text-align: right;\n",
       "  color: var(--xr-font-color2);\n",
       "}\n",
       "\n",
       ".xr-var-preview {\n",
       "  grid-column: 4;\n",
       "}\n",
       "\n",
       ".xr-index-preview {\n",
       "  grid-column: 2 / 5;\n",
       "  color: var(--xr-font-color2);\n",
       "}\n",
       "\n",
       ".xr-var-name,\n",
       ".xr-var-dims,\n",
       ".xr-var-dtype,\n",
       ".xr-preview,\n",
       ".xr-attrs dt {\n",
       "  white-space: nowrap;\n",
       "  overflow: hidden;\n",
       "  text-overflow: ellipsis;\n",
       "  padding-right: 10px;\n",
       "}\n",
       "\n",
       ".xr-var-name:hover,\n",
       ".xr-var-dims:hover,\n",
       ".xr-var-dtype:hover,\n",
       ".xr-attrs dt:hover {\n",
       "  overflow: visible;\n",
       "  width: auto;\n",
       "  z-index: 1;\n",
       "}\n",
       "\n",
       ".xr-var-attrs,\n",
       ".xr-var-data,\n",
       ".xr-index-data {\n",
       "  display: none;\n",
       "  background-color: var(--xr-background-color) !important;\n",
       "  padding-bottom: 5px !important;\n",
       "}\n",
       "\n",
       ".xr-var-attrs-in:checked ~ .xr-var-attrs,\n",
       ".xr-var-data-in:checked ~ .xr-var-data,\n",
       ".xr-index-data-in:checked ~ .xr-index-data {\n",
       "  display: block;\n",
       "}\n",
       "\n",
       ".xr-var-data > table {\n",
       "  float: right;\n",
       "}\n",
       "\n",
       ".xr-var-name span,\n",
       ".xr-var-data,\n",
       ".xr-index-name div,\n",
       ".xr-index-data,\n",
       ".xr-attrs {\n",
       "  padding-left: 25px !important;\n",
       "}\n",
       "\n",
       ".xr-attrs,\n",
       ".xr-var-attrs,\n",
       ".xr-var-data,\n",
       ".xr-index-data {\n",
       "  grid-column: 1 / -1;\n",
       "}\n",
       "\n",
       "dl.xr-attrs {\n",
       "  padding: 0;\n",
       "  margin: 0;\n",
       "  display: grid;\n",
       "  grid-template-columns: 125px auto;\n",
       "}\n",
       "\n",
       ".xr-attrs dt,\n",
       ".xr-attrs dd {\n",
       "  padding: 0;\n",
       "  margin: 0;\n",
       "  float: left;\n",
       "  padding-right: 10px;\n",
       "  width: auto;\n",
       "}\n",
       "\n",
       ".xr-attrs dt {\n",
       "  font-weight: normal;\n",
       "  grid-column: 1;\n",
       "}\n",
       "\n",
       ".xr-attrs dt:hover span {\n",
       "  display: inline-block;\n",
       "  background: var(--xr-background-color);\n",
       "  padding-right: 10px;\n",
       "}\n",
       "\n",
       ".xr-attrs dd {\n",
       "  grid-column: 2;\n",
       "  white-space: pre-wrap;\n",
       "  word-break: break-all;\n",
       "}\n",
       "\n",
       ".xr-icon-database,\n",
       ".xr-icon-file-text2,\n",
       ".xr-no-icon {\n",
       "  display: inline-block;\n",
       "  vertical-align: middle;\n",
       "  width: 1em;\n",
       "  height: 1.5em !important;\n",
       "  stroke-width: 0;\n",
       "  stroke: currentColor;\n",
       "  fill: currentColor;\n",
       "}\n",
       "</style><pre class='xr-text-repr-fallback'>&lt;xarray.Dataset&gt;\n",
       "Dimensions:      (row: 25, column: 10, day: 10)\n",
       "Dimensions without coordinates: row, column, day\n",
       "Data variables:\n",
       "    temperature  (row, column, day) float64 0.6181 9.261 5.98 ... 9.711 1.114\n",
       "    daily_melt   (row, column, day) float64 4.945 74.09 47.84 ... 77.69 8.91</pre><div class='xr-wrap' style='display:none'><div class='xr-header'><div class='xr-obj-type'>xarray.Dataset</div></div><ul class='xr-sections'><li class='xr-section-item'><input id='section-3595103e-1b9a-4830-8664-90fa789cadc1' class='xr-section-summary-in' type='checkbox' disabled ><label for='section-3595103e-1b9a-4830-8664-90fa789cadc1' class='xr-section-summary'  title='Expand/collapse section'>Dimensions:</label><div class='xr-section-inline-details'><ul class='xr-dim-list'><li><span>row</span>: 25</li><li><span>column</span>: 10</li><li><span>day</span>: 10</li></ul></div><div class='xr-section-details'></div></li><li class='xr-section-item'><input id='section-d3e1db41-e62c-4120-ba8e-833272329223' class='xr-section-summary-in' type='checkbox' disabled ><label for='section-d3e1db41-e62c-4120-ba8e-833272329223' class='xr-section-summary'  title='Expand/collapse section'>Coordinates: <span>(0)</span></label><div class='xr-section-inline-details'></div><div class='xr-section-details'><ul class='xr-var-list'></ul></div></li><li class='xr-section-item'><input id='section-3dabecbb-2ac7-4e3f-80a0-a2c0da2b4af7' class='xr-section-summary-in' type='checkbox'  checked><label for='section-3dabecbb-2ac7-4e3f-80a0-a2c0da2b4af7' class='xr-section-summary' >Data variables: <span>(2)</span></label><div class='xr-section-inline-details'></div><div class='xr-section-details'><ul class='xr-var-list'><li class='xr-var-item'><div class='xr-var-name'><span>temperature</span></div><div class='xr-var-dims'>(row, column, day)</div><div class='xr-var-dtype'>float64</div><div class='xr-var-preview xr-preview'>0.6181 9.261 5.98 ... 9.711 1.114</div><input id='attrs-11c20efc-adc2-4886-8352-48a5121c70e0' class='xr-var-attrs-in' type='checkbox' disabled><label for='attrs-11c20efc-adc2-4886-8352-48a5121c70e0' title='Show/Hide attributes'><svg class='icon xr-icon-file-text2'><use xlink:href='#icon-file-text2'></use></svg></label><input id='data-b1595c03-8b77-4cb3-b515-802825bbc29d' class='xr-var-data-in' type='checkbox'><label for='data-b1595c03-8b77-4cb3-b515-802825bbc29d' title='Show/Hide data repr'><svg class='icon xr-icon-database'><use xlink:href='#icon-database'></use></svg></label><div class='xr-var-attrs'><dl class='xr-attrs'></dl></div><div class='xr-var-data'><pre>array([[[ 0.61810178,  9.2607146 ,  5.97990913, ...,  7.99264219,\n",
       "          4.01672518,  5.62108867],\n",
       "        [-4.69123259,  9.54864778,  7.48663961, ...,  2.87134647,\n",
       "          1.47917528, -0.6315629 ],\n",
       "        [ 4.17779342, -2.90759209, -0.61783027, ...,  2.71351658,\n",
       "          3.88621853, -4.30324381],\n",
       "        ...,\n",
       "        [ 6.58367154, -2.01926478, -4.91716824, ..., -3.88933022,\n",
       "          0.37698593, -3.26196411],\n",
       "        [ 7.94655139,  4.3494719 , -0.03652963, ...,  4.56336207,\n",
       "          8.30819114,  2.08322388],\n",
       "        [-3.20608631,  5.69867181,  6.41177573, ...,  1.41311528,\n",
       "         -4.6187131 , -3.3816286 ]],\n",
       "\n",
       "       [[-4.52856221,  4.54615617, -0.28466028, ...,  6.33326708,\n",
       "         -1.56802752, -3.84530135],\n",
       "        [-0.65372821, -2.58168069,  8.94546479, ..., -2.20144912,\n",
       "          8.38838498,  3.09013363],\n",
       "        [ 7.11160233,  8.4413695 , -0.22994788, ...,  7.91095875,\n",
       "         -4.89571804,  2.66120954],\n",
       "...\n",
       "        [ 4.78437473,  7.68406544,  5.3873924 , ...,  6.8347774 ,\n",
       "          1.69629275,  6.97570511],\n",
       "        [ 7.33633561,  7.86343506,  8.74952854, ...,  4.0161125 ,\n",
       "          5.58378794,  5.32607528],\n",
       "        [ 0.61829331, -2.49709697,  1.45794008, ..., -4.6182836 ,\n",
       "          4.68733579,  4.55353476]],\n",
       "\n",
       "       [[ 0.1090625 , -3.92432167,  1.14443342, ..., -1.73161169,\n",
       "          9.82053949,  1.81002432],\n",
       "        [ 5.32411354, -2.89170549,  2.28384549, ..., -4.41505981,\n",
       "         -4.53566314,  0.8198014 ],\n",
       "        [-2.59962595, -4.64971856,  6.34320421, ...,  9.33878243,\n",
       "         -0.29049924,  8.32605508],\n",
       "        ...,\n",
       "        [-1.58375396,  9.46043271,  8.64181916, ...,  6.85764691,\n",
       "         -3.12768779,  6.91315994],\n",
       "        [-0.86348648,  8.15635872,  9.16063141, ...,  7.95321284,\n",
       "          3.83097283,  0.62994862],\n",
       "        [-0.71324667, -1.95165363,  6.42697287, ...,  7.98365718,\n",
       "          9.71109015,  1.11376313]]])</pre></div></li><li class='xr-var-item'><div class='xr-var-name'><span>daily_melt</span></div><div class='xr-var-dims'>(row, column, day)</div><div class='xr-var-dtype'>float64</div><div class='xr-var-preview xr-preview'>4.945 74.09 47.84 ... 77.69 8.91</div><input id='attrs-b3eb18c9-1e4e-4a1d-b81d-f3466de7ab1d' class='xr-var-attrs-in' type='checkbox' disabled><label for='attrs-b3eb18c9-1e4e-4a1d-b81d-f3466de7ab1d' title='Show/Hide attributes'><svg class='icon xr-icon-file-text2'><use xlink:href='#icon-file-text2'></use></svg></label><input id='data-647e5fb1-e0f4-47c7-b236-09647556b66a' class='xr-var-data-in' type='checkbox'><label for='data-647e5fb1-e0f4-47c7-b236-09647556b66a' title='Show/Hide data repr'><svg class='icon xr-icon-database'><use xlink:href='#icon-database'></use></svg></label><div class='xr-var-attrs'><dl class='xr-attrs'></dl></div><div class='xr-var-data'><pre>array([[[ 4.94481426, 74.08571677, 47.83927302, ..., 63.94113749,\n",
       "         32.13380141, 44.96870934],\n",
       "        [ 0.        , 76.38918226, 59.8931169 , ..., 22.9707718 ,\n",
       "         11.83340224,  0.        ],\n",
       "        [33.42234737,  0.        ,  0.        , ..., 21.70813261,\n",
       "         31.08974826,  0.        ],\n",
       "        ...,\n",
       "        [52.66937232,  0.        ,  0.        , ...,  0.        ,\n",
       "          3.01588743,  0.        ],\n",
       "        [63.57241111, 34.79577522,  0.        , ..., 36.50689656,\n",
       "         66.46552911, 16.66579102],\n",
       "        [ 0.        , 45.58937447, 51.29420583, ..., 11.3049222 ,\n",
       "          0.        ,  0.        ]],\n",
       "\n",
       "       [[ 0.        , 36.36924935,  0.        , ..., 50.66613663,\n",
       "          0.        ,  0.        ],\n",
       "        [ 0.        ,  0.        , 71.56371828, ...,  0.        ,\n",
       "         67.10707982, 24.72106903],\n",
       "        [56.89281862, 67.53095599,  0.        , ..., 63.28766999,\n",
       "          0.        , 21.28967631],\n",
       "...\n",
       "        [38.27499783, 61.47252356, 43.0991392 , ..., 54.67821919,\n",
       "         13.57034197, 55.80564086],\n",
       "        [58.69068484, 62.90748052, 69.9962283 , ..., 32.12890002,\n",
       "         44.67030352, 42.60860222],\n",
       "        [ 4.94634644,  0.        , 11.66352062, ...,  0.        ,\n",
       "         37.49868635, 36.42827809]],\n",
       "\n",
       "       [[ 0.87249999,  0.        ,  9.15546739, ...,  0.        ,\n",
       "         78.56431594, 14.48019454],\n",
       "        [42.59290829,  0.        , 18.27076396, ...,  0.        ,\n",
       "          0.        ,  6.55841119],\n",
       "        [ 0.        ,  0.        , 50.74563367, ..., 74.71025947,\n",
       "          0.        , 66.60844068],\n",
       "        ...,\n",
       "        [ 0.        , 75.68346166, 69.13455331, ..., 54.86117531,\n",
       "          0.        , 55.30527951],\n",
       "        [ 0.        , 65.25086972, 73.28505126, ..., 63.6257027 ,\n",
       "         30.64778266,  5.03958895],\n",
       "        [ 0.        ,  0.        , 51.41578297, ..., 63.86925747,\n",
       "         77.68872123,  8.91010503]]])</pre></div></li></ul></div></li><li class='xr-section-item'><input id='section-2cdb474a-1ad6-40ca-8285-b12a2387c230' class='xr-section-summary-in' type='checkbox' disabled ><label for='section-2cdb474a-1ad6-40ca-8285-b12a2387c230' class='xr-section-summary'  title='Expand/collapse section'>Indexes: <span>(0)</span></label><div class='xr-section-inline-details'></div><div class='xr-section-details'><ul class='xr-var-list'></ul></div></li><li class='xr-section-item'><input id='section-96b4f1b8-f79c-418e-8684-bc7aef03a185' class='xr-section-summary-in' type='checkbox' disabled ><label for='section-96b4f1b8-f79c-418e-8684-bc7aef03a185' class='xr-section-summary'  title='Expand/collapse section'>Attributes: <span>(0)</span></label><div class='xr-section-inline-details'></div><div class='xr-section-details'><dl class='xr-attrs'></dl></div></li></ul></div></div>"
      ],
      "text/plain": [
       "<xarray.Dataset>\n",
       "Dimensions:      (row: 25, column: 10, day: 10)\n",
       "Dimensions without coordinates: row, column, day\n",
       "Data variables:\n",
       "    temperature  (row, column, day) float64 0.6181 9.261 5.98 ... 9.711 1.114\n",
       "    daily_melt   (row, column, day) float64 4.945 74.09 47.84 ... 77.69 8.91"
      ]
     },
     "execution_count": 61,
     "metadata": {},
     "output_type": "execute_result"
    }
   ],
   "source": [
    "dataset"
   ]
  },
  {
   "cell_type": "code",
   "execution_count": 63,
   "metadata": {},
   "outputs": [],
   "source": [
    "import plotly.graph_objects as go\n",
    "\n",
    "ds = dataset"
   ]
  },
  {
   "cell_type": "code",
   "execution_count": 64,
   "metadata": {},
   "outputs": [
    {
     "name": "stderr",
     "output_type": "stream",
     "text": [
      "/var/folders/yg/ztd1f9dj7zq2_ndrl23s9c800000gn/T/ipykernel_10471/1353216321.py:4: FutureWarning:\n",
      "\n",
      "The return type of `Dataset.dims` will be changed to return a set of dimension names in future, in order to be more consistent with `DataArray.dims`. To access a mapping from dimension names to lengths, please use `Dataset.sizes`.\n",
      "\n"
     ]
    },
    {
     "data": {
      "application/vnd.plotly.v1+json": {
       "config": {
        "plotlyServerURL": "https://plot.ly"
       },
       "data": [
        {
         "showscale": false,
         "type": "heatmap",
         "x": [
          0,
          1,
          2,
          3,
          4,
          5,
          6,
          7,
          8,
          9
         ],
         "y": [
          0,
          1,
          2,
          3,
          4,
          5,
          6,
          7,
          8,
          9,
          10,
          11,
          12,
          13,
          14,
          15,
          16,
          17,
          18,
          19,
          20,
          21,
          22,
          23,
          24
         ],
         "z": [
          [
           4.944814261683499,
           0,
           33.422347366685536,
           32.905382228172606,
           0,
           76.35015533174703,
           6.641274762737841,
           52.66937231559889,
           63.572411105071225,
           0
          ],
          [
           0,
           0,
           56.8928186196875,
           10.089320377853479,
           75.49367539305335,
           68.99190631599845,
           4.133975926310387,
           41.30772342107389,
           0.9279621260310211,
           0
          ],
          [
           37.04379753851453,
           25.848054723990334,
           38.913547076041205,
           55.377356424997814,
           72.85503012234972,
           0,
           33.80086720390037,
           57.123338657421634,
           66.80064101810795,
           0
          ],
          [
           0,
           12.676570484676333,
           25.907199764734457,
           2.7167214381513904,
           18.993905014019884,
           20.376351029610525,
           6.580391144782629,
           0,
           0,
           78.8606170400808
          ],
          [
           0,
           0,
           54.989485247101825,
           0,
           0,
           53.25762991129241,
           0,
           0,
           35.52783657623151,
           14.678810334285552
          ],
          [
           43.779405682369415,
           33.60982351229478,
           31.295685842256216,
           57.54812109560931,
           74.48612327104668,
           22.419620133439206,
           44.48957217190683,
           21.678738699177295,
           15.096290748591358,
           0
          ],
          [
           0,
           0,
           0,
           45.60195030614629,
           0,
           0,
           2.7316071077415494,
           0,
           58.04864851391359,
           0
          ],
          [
           23.910731906190303,
           51.22734318676238,
           72.60085481852454,
           0,
           15.521574280352773,
           0,
           0,
           0,
           43.273813336052,
           0
          ],
          [
           44.868636117607835,
           78.18094387548015,
           56.34241383176138,
           0,
           0,
           0,
           53.06331400340127,
           4.797117953570353,
           0,
           46.6720318226791
          ],
          [
           0,
           30.83539310177693,
           64.21615710774954,
           0,
           0,
           32.06202325203841,
           0,
           39.64053984351778,
           0.10926689803529843,
           55.92990547627751
          ],
          [
           0,
           0,
           43.69043206962079,
           0,
           24.738955085040466,
           64.96420072210393,
           64.84125370236065,
           0,
           54.361401729866245,
           73.12781289621508
          ],
          [
           0,
           57.899974998874136,
           66.64976958427727,
           46.810413642630195,
           58.9617159110179,
           45.00355720580417,
           59.09801006777152,
           34.03123020508907,
           75.55904046307936,
           0
          ],
          [
           50.99158351148271,
           11.141756268316755,
           74.10362747004925,
           67.29190444149613,
           64.23478015467329,
           55.58447491714116,
           0,
           43.39782633518511,
           34.17868811817429,
           7.630793144191528
          ],
          [
           0,
           0,
           0,
           26.643626112515747,
           0,
           64.04377953469383,
           69.48360147400291,
           76.56741128499675,
           0,
           0
          ],
          [
           0,
           0,
           0,
           14.568782676063092,
           76.38944553287246,
           19.660971681011276,
           7.263728678499017,
           28.041951318400137,
           58.140105941002595,
           0
          ],
          [
           22.289814216346166,
           57.55828864593121,
           0,
           0,
           45.08555140669192,
           74.16840106479884,
           2.410565516326173,
           30.393015581056893,
           0,
           43.092338158924356
          ],
          [
           0,
           65.60949050737499,
           15.824673474046179,
           50.73959946742953,
           24.79485563366715,
           0,
           32.071320003274074,
           5.67479521718961,
           1.5319671845342642,
           0
          ],
          [
           75.8986593383864,
           0,
           0,
           0,
           59.304547468024914,
           24.237215774310997,
           14.525280147195305,
           15.133612208718397,
           0,
           0
          ],
          [
           74.78016779593761,
           39.236326364160576,
           0,
           77.59643952306207,
           4.660042860501599,
           0,
           53.17369357996696,
           58.13423958283341,
           42.66623624601088,
           0
          ],
          [
           26.507181695841993,
           0,
           43.47417757961682,
           29.598054491375756,
           0,
           0,
           0,
           0,
           0,
           51.861547878933166
          ],
          [
           0,
           0,
           75.60733210562606,
           0,
           62.07392694093654,
           14.996076983438776,
           0,
           50.8101806826362,
           0,
           53.0734221110393
          ],
          [
           69.81080820884519,
           0,
           56.43242425298422,
           0,
           58.28762166339873,
           0.22496568450472765,
           38.1377101858009,
           42.359263602331694,
           0,
           0
          ],
          [
           77.21603942127912,
           50.47542843161408,
           44.44231729529549,
           49.18318384779241,
           55.34939344402283,
           0,
           52.865558687618766,
           0,
           0,
           33.29360852909219
          ],
          [
           56.310281549577546,
           20.889432646137067,
           68.91332030678659,
           0,
           50.141365737010176,
           36.331525569145064,
           0,
           38.27499783103276,
           58.69068484019341,
           4.946346442414562
          ],
          [
           0.8724999897550001,
           42.59290829362845,
           0,
           32.35314517753538,
           26.44537824296134,
           0,
           79.26180666796378,
           0,
           0,
           0
          ]
         ]
        },
        {
         "showscale": false,
         "type": "heatmap",
         "x": [
          0,
          1,
          2,
          3,
          4,
          5,
          6,
          7,
          8,
          9
         ],
         "y": [
          0,
          1,
          2,
          3,
          4,
          5,
          6,
          7,
          8,
          9,
          10,
          11,
          12,
          13,
          14,
          15,
          16,
          17,
          18,
          19,
          20,
          21,
          22,
          23,
          24
         ],
         "z": [
          [
           74.08571676918994,
           76.38918225943932,
           0,
           0,
           19.421229213352422,
           53.015938803333746,
           0,
           0,
           34.79577521930695,
           45.5893744667594
          ],
          [
           36.36924935165365,
           0,
           67.5309559908192,
           0,
           0,
           0,
           35.87669967122954,
           0,
           0,
           67.66589095439922
          ],
          [
           0,
           43.02742372312319,
           28.197032400256596,
           20.316451172623054,
           74.47142924031048,
           6.211727432231031,
           78.80646201251159,
           57.21360736150169,
           0.5594188221842966,
           0
          ],
          [
           23.76255578817776,
           0,
           45.75151072400748,
           50.941533255724295,
           16.816612493667883,
           62.77878094259867,
           37.19458621308238,
           0,
           43.60845984369808,
           9.514121229371177
          ],
          [
           68.306348801548,
           74.00743604609659,
           54.75417713534647,
           51.38127580609667,
           78.39674942014105,
           27.008509968296607,
           37.905236253927626,
           76.38545920491669,
           43.48984267815406,
           34.415911736184405
          ],
          [
           24.331563961294446,
           10.189164354874265,
           5.7069027957225815,
           79.96612079433567,
           32.7409561341056,
           62.26178003822481,
           0,
           54.038361528937166,
           77.60390903425724,
           36.90496937638575
          ],
          [
           0,
           55.92924786908512,
           0,
           67.42482052246392,
           0,
           24.452785018225732,
           78.38182985515756,
           67.61185095517102,
           0,
           11.052372633970013
          ],
          [
           0,
           31.47664887294131,
           0,
           57.74896642776585,
           0,
           72.77985483361701,
           0,
           61.57427500814218,
           25.12693320171154,
           30.34757984201567
          ],
          [
           0,
           60.66777037351209,
           0,
           14.292741935923207,
           39.62448464200527,
           49.99525644790133,
           14.394660169763313,
           0,
           40.62712923184741,
           62.683576172754286
          ],
          [
           0,
           0,
           18.491743789941637,
           60.19162841591589,
           26.50136030189521,
           39.804400945550654,
           32.37825313596658,
           72.41956871897096,
           52.50946444949863,
           43.36357650253121
          ],
          [
           25.028113685402978,
           78.52016095959765,
           0,
           31.552385417846367,
           54.886779780675624,
           23.47245608326544,
           78.09001630391542,
           0,
           0,
           37.95759787908422
          ],
          [
           76.29231561689735,
           0,
           74.6781797875704,
           19.505088209452495,
           1.7371049482631662,
           60.441599403640645,
           0,
           77.74234136329082,
           1.0246599246423305,
           29.860455221152794
          ],
          [
           0,
           14.166442919561057,
           0,
           0,
           53.19162233500901,
           17.782682181506008,
           55.70709207646258,
           63.21468766270455,
           44.295796465292476,
           0
          ],
          [
           72.34546954924278,
           67.37799872726332,
           0,
           46.30421339267166,
           15.514754808717957,
           29.44104902868721,
           0,
           0,
           6.929784398211285,
           0
          ],
          [
           0,
           0,
           20.868177042607094,
           21.871523429510027,
           0,
           34.14166882414566,
           38.14795724497905,
           48.61390511015918,
           0,
           4.7902149955208095
          ],
          [
           17.501825315567714,
           46.174769147179326,
           72.13232321666172,
           33.240053997310206,
           0,
           32.19341841755974,
           0,
           0,
           6.90871950866176,
           78.9507192442626
          ],
          [
           0,
           38.1052842856633,
           0,
           1.7085829086778492,
           61.043995325170556,
           0,
           21.881531323579733,
           65.35691845340834,
           77.07322410318979,
           20.30792917561309
          ],
          [
           11.899745399615838,
           0,
           0,
           34.867500354996615,
           48.033725667368245,
           0,
           61.32284992875392,
           54.201985260446826,
           68.21143905625082,
           48.49205224657827
          ],
          [
           48.501003135080836,
           51.72471946660831,
           0,
           32.22579075635865,
           11.84922595330352,
           57.91363267623407,
           38.73942052172858,
           0,
           64.79874990329692,
           8.17931790335459
          ],
          [
           0,
           65.19809141938407,
           0,
           27.378150555142845,
           0.10859824352729586,
           0,
           9.18858676355459,
           59.803645241092816,
           56.31719717548525,
           0
          ],
          [
           0,
           0,
           27.22018201542103,
           27.83963054859319,
           27.34673459390299,
           18.163554455605638,
           21.500317852439803,
           22.326303140472483,
           0,
           75.73719846809739
          ],
          [
           23.963464069536794,
           0,
           20.62481282919659,
           0,
           24.895250598265328,
           0,
           34.51142809741174,
           0,
           0,
           68.86340368469958
          ],
          [
           0,
           56.58881322097264,
           24.88381719738924,
           0,
           0,
           69.15521833239109,
           32.23081172181579,
           6.141359317377506,
           3.422371184616644,
           0
          ],
          [
           28.645837204316102,
           64.90670296222109,
           45.68391733602277,
           0,
           0,
           69.5944337091484,
           10.64411121531668,
           61.47252355878882,
           62.90748051935405,
           0
          ],
          [
           0,
           0,
           0,
           59.2048831689785,
           25.004577489200482,
           75.97008630396888,
           65.63777145787124,
           75.68346165986165,
           65.25086972218267,
           0
          ]
         ]
        },
        {
         "showscale": false,
         "type": "heatmap",
         "x": [
          0,
          1,
          2,
          3,
          4,
          5,
          6,
          7,
          8,
          9
         ],
         "y": [
          0,
          1,
          2,
          3,
          4,
          5,
          6,
          7,
          8,
          9,
          10,
          11,
          12,
          13,
          14,
          15,
          16,
          17,
          18,
          19,
          20,
          21,
          22,
          23,
          24
         ],
         "z": [
          [
           47.83927301736861,
           59.89311689605061,
           0,
           0,
           0,
           72.7398729877027,
           59.44850109823152,
           0,
           0,
           51.29420583402769
          ],
          [
           0,
           71.56371828110876,
           0,
           0,
           19.669820707086252,
           0,
           36.023565291307364,
           21.451166995913717,
           70.96323419342754,
           68.05016685959966
          ],
          [
           0,
           38.23535114031206,
           0,
           29.228466155163094,
           69.78372682645383,
           62.13640058202283,
           0,
           64.04867822961245,
           5.0699543167932815,
           58.71206727915899
          ],
          [
           24.876214593212783,
           0,
           39.223685206127755,
           0,
           0,
           39.0432357942734,
           14.990346858981995,
           0,
           35.47314161358608,
           4.6421702951339805
          ],
          [
           20.63028469374286,
           74.07285763250673,
           0,
           34.186167597951325,
           4.912495490734439,
           10.906641109637153,
           49.52538551185079,
           0,
           14.544927772132787,
           0
          ],
          [
           0,
           71.92741800248159,
           76.38972773775238,
           79.59642044886864,
           0,
           26.228820652938264,
           0,
           7.585133878552419,
           19.11417127914435,
           0
          ],
          [
           0,
           35.348046738908934,
           4.456652334965838,
           21.401293053879936,
           0,
           30.420934162505496,
           32.692978322826455,
           0,
           0,
           20.913245442134603
          ],
          [
           0.3925133832704697,
           16.589142626019004,
           0,
           39.82366648354402,
           49.713125621150134,
           35.324966368570145,
           0,
           0,
           0,
           20.706641466135917
          ],
          [
           29.15460322001758,
           0,
           0.01990060293730167,
           0,
           0,
           0,
           22.926832319309604,
           37.27994518868189,
           0,
           59.62638374803899
          ],
          [
           0,
           34.89786894189608,
           67.34626722729097,
           78.12826168442625,
           38.170446602223706,
           0,
           0,
           47.90865166523004,
           0,
           0
          ],
          [
           64.753500305169,
           73.28712076239358,
           70.92754344518364,
           0,
           0,
           72.68812382154753,
           52.19280966374218,
           0,
           10.109693094191403,
           32.9284153854631
          ],
          [
           66.05430619561108,
           0,
           63.455314071854076,
           0,
           41.36193830708763,
           43.69657540031404,
           0.21426251109702754,
           35.8176232420002,
           35.91462717607377,
           1.5059668343548083
          ],
          [
           0,
           0,
           11.880176125112229,
           0,
           52.51062135728624,
           0,
           0,
           53.582118667201975,
           27.15784201842969,
           28.10490179138698
          ],
          [
           0,
           25.711085138448347,
           64.6140279910642,
           0,
           64.19270064900566,
           12.633850302750854,
           34.75599002761793,
           62.526211204349494,
           76.3294786802345,
           0
          ],
          [
           0,
           0,
           0,
           18.66158963083042,
           40.712254187015155,
           64.26859813744619,
           0,
           65.42186735616174,
           25.338691755301944,
           0
          ],
          [
           0,
           74.66284351459217,
           2.1947224687561295,
           45.93808090678323,
           28.077466355468424,
           58.30266313121483,
           53.66306182926342,
           48.424849393301855,
           31.337160222340763,
           0
          ],
          [
           0,
           23.954934386160236,
           27.475617905349175,
           39.789406938466165,
           22.514957272645063,
           0,
           70.32703678573009,
           64.16680281289405,
           36.916649281439845,
           7.839563332677573
          ],
          [
           0,
           53.691390328212776,
           0,
           23.244975669398194,
           52.31658723696078,
           0,
           0,
           67.05016267282812,
           15.377295754968099,
           21.46663049752094
          ],
          [
           2.390169020247699,
           0,
           33.80155616466399,
           29.89071898486958,
           12.728598763334261,
           63.364399563612324,
           0,
           20.702323154219478,
           36.35496247750977,
           56.00851624389914
          ],
          [
           51.318891203371265,
           79.56012051526967,
           34.35072049518088,
           27.279211329940512,
           54.18763725337611,
           31.787035287648656,
           60.776274276274066,
           0,
           14.982426408547118,
           33.22701793731695
          ],
          [
           68.7505496625244,
           68.77249440132931,
           72.41869544397102,
           15.671898402600345,
           22.806909364923975,
           0,
           56.76843406794074,
           0,
           15.671765217479932,
           0
          ],
          [
           0,
           0,
           76.05519383110045,
           27.17068203660591,
           45.22913583479738,
           45.44168243969369,
           2.2849935931585286,
           0,
           0,
           40.48787742870009
          ],
          [
           10.705811397433354,
           0,
           0,
           68.34739942303847,
           29.936820210018755,
           40.30403155256941,
           67.10279479458153,
           18.52004823455173,
           16.69920260078163,
           0
          ],
          [
           21.52012711476997,
           19.225589640814242,
           32.94862569088445,
           32.45545435392653,
           0,
           33.5088162013783,
           0,
           43.099139200307036,
           69.99622830094488,
           11.663520615464904
          ],
          [
           9.155467387427842,
           18.270763959127734,
           50.74563367402122,
           78.08157958525571,
           51.428217512584396,
           26.92505915000527,
           34.808714979132816,
           69.13455331246904,
           73.28505125904773,
           51.415782965323665
          ]
         ]
        },
        {
         "showscale": false,
         "type": "heatmap",
         "x": [
          0,
          1,
          2,
          3,
          4,
          5,
          6,
          7,
          8,
          9
         ],
         "y": [
          0,
          1,
          2,
          3,
          4,
          5,
          6,
          7,
          8,
          9,
          10,
          11,
          12,
          13,
          14,
          15,
          16,
          17,
          18,
          19,
          20,
          21,
          22,
          23,
          24
         ],
         "z": [
          [
           31.839018103644392,
           0,
           3.9634211952430043,
           73.86626447039998,
           69.11844824945385,
           67.37928205131786,
           2.8103992032307135,
           57.8553714145801,
           0,
           27.353263708339547
          ],
          [
           21.02848293976433,
           56.974445547730035,
           0,
           0.5138205684353547,
           0,
           18.73433123330756,
           24.292962088971016,
           0,
           65.28072240571773,
           35.97217487279215
          ],
          [
           67.82650262324951,
           0,
           4.125896367132023,
           19.102123258263667,
           4.419044030653327,
           0,
           22.199558283648408,
           69.58886630677655,
           0,
           3.222876969351547
          ],
          [
           36.491588179784785,
           75.517809761351,
           0,
           0,
           12.062197908556765,
           0,
           25.47401471791219,
           41.960812809962825,
           65.29664162324636,
           53.16955528903962
          ],
          [
           59.174895932929,
           28.812546574794332,
           19.330436564309778,
           0,
           4.47705764802691,
           68.76252621136831,
           30.004251811659156,
           66.93717364376853,
           35.30696961008761,
           0
          ],
          [
           57.65540236483384,
           63.927666740049006,
           61.054270776285044,
           26.651804672315293,
           40.60408212870281,
           27.31255658424635,
           0,
           34.65040402734482,
           0,
           1.4800739988635847
          ],
          [
           0,
           0,
           18.14275822292256,
           23.853618231837878,
           0,
           49.4527369021196,
           0,
           22.94136674843056,
           40.23718639093172,
           0
          ],
          [
           0,
           9.420909697672224,
           48.93447791480709,
           22.76785097229432,
           20.326446811097497,
           0.1886737588503351,
           49.27355510872124,
           7.674474867244072,
           1.483519220470333,
           33.37450825215774
          ],
          [
           32.805805565942705,
           70.50102591408468,
           7.7802432309131975,
           0,
           75.32843809633462,
           67.76651473288565,
           12.891529632587378,
           9.048100531771567,
           0,
           7.662023554214579
          ],
          [
           29.96498731636306,
           9.12939826294885,
           55.98263071367783,
           23.0828218763223,
           59.5690164448642,
           69.72943351099518,
           6.7154736850371854,
           0,
           0,
           30.82768002429045
          ],
          [
           47.86698636914734,
           0,
           76.52698941984413,
           0,
           35.10696517244109,
           55.853988292839844,
           10.13201386008005,
           0,
           65.49419690745977,
           21.52262132198103
          ],
          [
           71.33027398342556,
           24.43693074720963,
           57.14192896698537,
           0,
           27.887835679494927,
           41.61689261123605,
           49.22099075499293,
           0,
           71.8433726612021,
           34.509862132097254
          ],
          [
           0,
           55.37714584999152,
           73.23391042011187,
           0,
           61.37398737402652,
           0,
           14.626417889816143,
           0,
           0,
           42.73579629647189
          ],
          [
           24.955560236128456,
           58.075732395499244,
           0,
           79.56006992680904,
           47.26028837195696,
           47.03091924981638,
           35.787226411102466,
           19.073342773764175,
           0,
           22.37287382672212
          ],
          [
           48.36824180787686,
           0,
           0,
           40.023710905532525,
           13.250026316548539,
           28.473169596659563,
           38.94143655236432,
           8.496838598123958,
           0,
           0
          ],
          [
           0.9497393151387623,
           0,
           0,
           0,
           0,
           66.10477560180894,
           0,
           63.53564930518743,
           19.612023063100324,
           0
          ],
          [
           2.599556699832477,
           0,
           74.91503414064563,
           55.4539952947675,
           34.83028256033116,
           3.216368896582291,
           19.635617948699633,
           56.71104801411454,
           58.69766763612331,
           0
          ],
          [
           20.73702354082929,
           15.176050852318422,
           0,
           11.130006066844578,
           0,
           0,
           18.58893644261338,
           74.6401623804714,
           36.464177216993654,
           41.6273335050024
          ],
          [
           0,
           0,
           52.95605367653456,
           49.76878153154385,
           33.55274989934306,
           61.58172064283336,
           25.4032302676326,
           60.884363361344,
           51.33458444517896,
           0
          ],
          [
           0,
           4.1971436608218005,
           2.659161252962887,
           32.41851999157458,
           44.92171216890989,
           48.279573708702785,
           6.059954231965281,
           22.16945194865785,
           17.956264650242627,
           0
          ],
          [
           0,
           0,
           0,
           76.64063955578445,
           0,
           73.48377764003388,
           15.108785311634968,
           65.3396093782449,
           69.10642470338722,
           22.799555743368956
          ],
          [
           43.507894180256294,
           67.27876520094445,
           10.131317513011965,
           23.287954654721158,
           0,
           59.11738552496982,
           60.97370637017119,
           62.68847106869436,
           0,
           27.252875717652792
          ],
          [
           0,
           75.53724284888311,
           0,
           62.271664926941774,
           79.4525019429572,
           59.51441591801066,
           13.205601725502527,
           38.266911145456696,
           0,
           21.98871541351749
          ],
          [
           0,
           44.27105192379971,
           0,
           42.390789619112816,
           2.572555020318106,
           64.8438312159614,
           18.320059255712362,
           11.591729286817776,
           11.718226461595549,
           0
          ],
          [
           0,
           0,
           15.02276106582688,
           0,
           60.037995432510264,
           1.673244683660906,
           28.325283341873934,
           46.6571882547087,
           0,
           6.384860818763345
          ]
         ]
        },
        {
         "showscale": false,
         "type": "heatmap",
         "x": [
          0,
          1,
          2,
          3,
          4,
          5,
          6,
          7,
          8,
          9
         ],
         "y": [
          0,
          1,
          2,
          3,
          4,
          5,
          6,
          7,
          8,
          9,
          10,
          11,
          12,
          13,
          14,
          15,
          16,
          17,
          18,
          19,
          20,
          21,
          22,
          23,
          24
         ],
         "z": [
          [
           0,
           0,
           14.728398106044311,
           75.87584396894712,
           0,
           31.747997457330218,
           0,
           44.82288126171405,
           0,
           52.51606159454732
          ],
          [
           68.90797687113117,
           36.008450781250815,
           0,
           73.1491644695023,
           0,
           78.27805449327208,
           0,
           37.420734849133986,
           0,
           0.6835749258440815
          ],
          [
           32.771487159150794,
           45.461506561704304,
           0,
           0,
           0,
           0,
           65.28476863135465,
           21.361087863312534,
           29.393616919540875,
           0
          ],
          [
           47.13096004671939,
           60.3176144614647,
           74.5838336795833,
           0,
           7.820568127684813,
           0,
           72.97577705318302,
           0,
           48.208525256466295,
           0.8964248303621414
          ],
          [
           0,
           35.820465460375914,
           0,
           0,
           57.53594807090031,
           0,
           75.46070581694504,
           23.324133090355982,
           30.11771743077203,
           15.643808592797859
          ],
          [
           42.167740706465516,
           0,
           60.59944456533654,
           52.27848982166126,
           34.1753888549475,
           65.1984323190014,
           2.0705070567916373,
           63.48364504960942,
           36.00810251800709,
           67.61460918872142
          ],
          [
           0,
           64.82943489281327,
           34.190572583635515,
           0,
           0,
           11.799145547561526,
           0,
           9.24761923875938,
           71.5251186953103,
           0
          ],
          [
           0,
           1.8641919851594357,
           28.936773581589428,
           3.059658094820299,
           0,
           0,
           0,
           55.675443893546436,
           0,
           0
          ],
          [
           10.895680556286322,
           64.38756344745539,
           24.487472352550746,
           19.80413272873757,
           0,
           0,
           8.091567305039117,
           0,
           55.98993024478273,
           40.17021638847754
          ],
          [
           10.570946071099755,
           26.245661702237626,
           11.025620536308015,
           0,
           0,
           10.252462987048773,
           0,
           0,
           47.382650744432404,
           3.3168676328032154
          ],
          [
           56.78733774337397,
           44.669020701882616,
           73.31197869361208,
           0,
           66.31732978834246,
           79.7520932640005,
           10.562840273248423,
           78.52668676832378,
           73.36784267496924,
           0
          ],
          [
           79.38893871757223,
           31.15279218100438,
           38.62903767668261,
           41.99105163915151,
           0,
           34.23336538582212,
           0,
           36.08068437195336,
           0,
           0
          ],
          [
           18.63718284855989,
           43.24186709377864,
           10.367278031134678,
           38.2000190451062,
           51.32287891315987,
           42.26783446747656,
           0,
           17.660833670939475,
           0,
           56.070403893089946
          ],
          [
           45.08726233410997,
           14.278194142196018,
           77.10383069829575,
           76.97517945761398,
           49.124782543997725,
           18.40027297096434,
           47.97356268983372,
           0,
           38.80839974495507,
           0.440381171754356
          ],
          [
           39.65654331461661,
           23.74034336012384,
           78.39561475506163,
           0,
           64.17707052530065,
           0,
           79.92964709247998,
           0,
           0,
           32.41383120576535
          ],
          [
           5.623474254302847,
           0,
           18.304611102359075,
           9.625892183042183,
           75.55122502850958,
           0,
           58.71371822164141,
           0,
           78.53426242578648,
           46.92065805544894
          ],
          [
           0,
           0,
           0,
           71.26133833753431,
           0,
           0,
           79.05896177879752,
           54.803652356847365,
           0,
           4.1041306749837725
          ],
          [
           12.741402635949214,
           0,
           43.05936100329583,
           0,
           9.938479781571381,
           77.10485058920645,
           0,
           54.42840635063541,
           39.12247066469392,
           0
          ],
          [
           1.9643875695019464,
           0,
           37.268510424935684,
           57.41237457081651,
           73.16910052936491,
           70.27118403674653,
           78.16036874294099,
           47.936185371950074,
           0,
           26.610193916274348
          ],
          [
           49.488053927747856,
           13.833275714545108,
           55.30367975325011,
           41.17615246716347,
           54.63379576068877,
           79.80170136715395,
           28.624672547262385,
           0,
           0,
           50.16501032348548
          ],
          [
           0,
           23.890481873026054,
           10.255198288899368,
           33.023272723575985,
           63.216763201932196,
           61.99704457767943,
           0,
           65.5498225941835,
           24.644215754325707,
           0
          ],
          [
           55.19136205259053,
           38.515106278995425,
           78.09323828437974,
           46.322434684299026,
           16.540147871937755,
           0,
           16.55446008777975,
           0,
           38.37953486375396,
           0
          ],
          [
           48.788494492031646,
           47.20051904843879,
           0,
           40.13656198716878,
           62.68353126050473,
           65.47746803387209,
           32.85074944625048,
           74.06372631034442,
           0,
           0
          ],
          [
           71.81044633193797,
           79.13802067988844,
           58.854846106555364,
           0,
           73.007085394271,
           46.876766655931256,
           29.263986408146096,
           40.755994687331885,
           0,
           66.811644222057
          ],
          [
           41.25447676820112,
           20.654614149253995,
           0,
           75.33625824891115,
           12.852962037490885,
           29.656112119243517,
           34.47925757895008,
           24.00639545184351,
           15.521072607847222,
           21.35305546409014
          ]
         ]
        },
        {
         "showscale": false,
         "type": "heatmap",
         "x": [
          0,
          1,
          2,
          3,
          4,
          5,
          6,
          7,
          8,
          9
         ],
         "y": [
          0,
          1,
          2,
          3,
          4,
          5,
          6,
          7,
          8,
          9,
          10,
          11,
          12,
          13,
          14,
          15,
          16,
          17,
          18,
          19,
          20,
          21,
          22,
          23,
          24
         ],
         "z": [
          [
           0,
           0,
           54.22111536716163,
           57.007681773975335,
           39.502674122477835,
           70.62490820277402,
           25.123529978989815,
           47.480860164918475,
           0,
           19.25547156372689
          ],
          [
           0,
           64.57527082252612,
           11.252934635150758,
           0,
           0,
           0,
           60.23629947070856,
           0,
           39.19808552410149,
           1.9051489535193067
          ],
          [
           0,
           0,
           0,
           46.694253831380635,
           71.39822751052705,
           26.816151495002018,
           48.892234130504534,
           20.181955362463952,
           0,
           22.669191206576524
          ],
          [
           77.10224953550416,
           43.516904731243756,
           48.54763000349222,
           0,
           33.90201176626598,
           37.09031338475788,
           6.33231653609291,
           0,
           56.41771164618183,
           71.69087907242776
          ],
          [
           67.46278741954406,
           13.813462637398374,
           25.943465878848265,
           44.1162957750944,
           73.66982928606305,
           19.1150125149031,
           4.984469542844487,
           79.15577553431604,
           68.13896125891868,
           2.402267363126338
          ],
          [
           0,
           0,
           16.243179175396435,
           73.37188758589136,
           2.97952616394086,
           8.417943945487645,
           30.79012242255597,
           73.94247483891705,
           0,
           16.875396831544684
          ],
          [
           15.293452163927093,
           70.50468806381758,
           4.269636748372689,
           13.689484018814557,
           66.86327368878739,
           0,
           0,
           77.88543402903277,
           26.811547161671573,
           33.27440509299591
          ],
          [
           78.79522788679343,
           71.5434973097391,
           61.019453210992644,
           65.264064897573,
           67.94894879294822,
           55.28302271243552,
           28.386762184557984,
           0,
           69.0140673600354,
           64.65486907329817
          ],
          [
           48.37330827496674,
           22.260566855128655,
           70.38267396953125,
           10.271053940545748,
           9.754894847242848,
           0,
           27.156839756986145,
           0,
           0,
           0
          ],
          [
           67.12060532923698,
           12.335183496238002,
           0,
           0,
           0,
           5.976623389939695,
           2.680725975793896,
           0,
           19.458957944743815,
           0
          ],
          [
           39.05400400528608,
           71.0297980898799,
           16.90570599889565,
           43.55465310537677,
           33.90358258187655,
           2.085417854205218,
           48.50987619066698,
           11.332776048303481,
           16.088181349984367,
           0
          ],
          [
           0,
           29.610344940537342,
           26.102884473096715,
           0,
           65.43559836261896,
           50.32599674691695,
           58.15604289428747,
           24.798245565902658,
           72.46741846837413,
           64.58441673828516
          ],
          [
           52.448890136935184,
           0,
           36.62311371969027,
           4.223161246851337,
           35.146438595769844,
           11.636707387935523,
           0,
           0,
           22.12539720616537,
           0
          ],
          [
           64.51629484953027,
           37.229323423583,
           0.4274950125328214,
           38.039082361632424,
           11.059200133769043,
           64.81078856979927,
           0,
           64.48998815270137,
           0,
           59.466003905913134
          ],
          [
           16.955705089977666,
           72.39268307539538,
           75.81424357232547,
           0,
           0,
           71.71384346083734,
           0,
           40.111206267630166,
           3.975384184567745,
           40.18553582660195
          ],
          [
           7.858733707628058,
           0,
           0,
           0,
           18.025477606390968,
           0,
           10.84859043785154,
           0,
           0,
           29.40643004076909
          ],
          [
           22.287174908992444,
           40.33843462378282,
           42.80058689847989,
           0,
           50.63245045961695,
           72.43493876372753,
           62.17099492941149,
           0,
           63.44173787271471,
           0
          ],
          [
           0,
           79.38395806037205,
           0,
           66.392505828856,
           17.761298196238833,
           56.18445342595875,
           0,
           0,
           67.41412888478436,
           0
          ],
          [
           52.958423741741825,
           76.14320418140366,
           23.636255989899,
           38.77743287978032,
           0,
           0,
           72.48656797965427,
           25.068464659021792,
           15.386896930374787,
           47.96855552356098
          ],
          [
           0,
           46.648512584328444,
           0,
           56.59867996169237,
           22.072286772993124,
           71.97359976122692,
           30.532323303463787,
           72.88150941384086,
           0,
           38.83461875205674
          ],
          [
           51.127791490155644,
           9.331472312084784,
           0,
           1.940764650418254,
           46.73771638501805,
           40.282680479492996,
           54.35338392608397,
           64.46941100552083,
           19.737500964114826,
           55.142530284060726
          ],
          [
           0,
           0,
           40.15039985643525,
           66.83096636213625,
           58.596427725256596,
           0,
           77.49259256181854,
           60.44493502915281,
           72.59657821381792,
           13.646665256771051
          ],
          [
           70.16918626389807,
           0,
           16.2521558557407,
           31.186588412886117,
           22.573482685230736,
           28.612682245798666,
           35.756906371038646,
           32.0781279858027,
           0,
           0
          ],
          [
           7.641804948463,
           0,
           74.60726137819867,
           6.060665965397538,
           40.22871760674968,
           0,
           0,
           0,
           29.863849591293665,
           1.5052952885428894
          ],
          [
           32.69350993432284,
           75.68208885412429,
           68.00998196197769,
           6.737827388290443,
           0,
           0,
           0,
           64.3962991577222,
           77.7184853795222,
           19.07905760014183
          ]
         ]
        },
        {
         "showscale": false,
         "type": "heatmap",
         "x": [
          0,
          1,
          2,
          3,
          4,
          5,
          6,
          7,
          8,
          9
         ],
         "y": [
          0,
          1,
          2,
          3,
          4,
          5,
          6,
          7,
          8,
          9,
          10,
          11,
          12,
          13,
          14,
          15,
          16,
          17,
          18,
          19,
          20,
          21,
          22,
          23,
          24
         ],
         "z": [
          [
           0,
           0,
           0,
           0,
           0,
           0,
           0,
           52.552441602313486,
           47.55274140056769,
           22.727939525839286
          ],
          [
           9.245950764275568,
           56.440649227893736,
           58.16177191069917,
           22.25487460920393,
           33.14772007758762,
           40.656265688705425,
           0,
           42.91252857229591,
           58.0666640241459,
           47.11468146442873
          ],
          [
           0,
           0,
           76.76126657029347,
           0,
           11.38209779807772,
           72.33857289929372,
           43.641888919432155,
           55.79542147601302,
           15.871762175895219,
           52.3992263718333
          ],
          [
           21.956041796143438,
           9.074353329712386,
           26.522486301368083,
           62.655270081320865,
           36.21123810411726,
           0,
           75.34286765886971,
           61.38503731633455,
           0,
           63.00953022116141
          ],
          [
           6.704201448099574,
           0,
           12.983660164805242,
           0,
           78.32012765874451,
           0,
           0,
           0,
           0,
           30.03873342210465
          ],
          [
           69.31126213926109,
           5.175604025365952,
           9.77834028051982,
           61.957686881289376,
           0,
           0,
           7.069285411967878,
           0,
           0,
           40.10692862252326
          ],
          [
           0,
           0,
           15.504165935977747,
           23.91407197460278,
           31.23109442648584,
           0,
           0,
           0,
           28.593522736387982,
           0
          ],
          [
           0,
           59.674328934527495,
           0,
           7.093412890716246,
           6.066946564785369,
           34.408730711421626,
           51.495042288882864,
           0,
           30.007015371934457,
           71.85419389803349
          ],
          [
           72.12404177228179,
           30.953052289391508,
           1.5615193239153502,
           69.781508128172,
           0,
           0,
           0,
           45.9166674616877,
           38.329532942224965,
           0
          ],
          [
           58.09322740861291,
           0,
           0,
           0,
           0,
           22.270124633940505,
           46.28550862210946,
           31.40935168403058,
           42.608287571328326,
           70.07762905546913
          ],
          [
           43.073187742142295,
           0,
           63.44511811871761,
           0.7849956521679369,
           0,
           52.062594671735226,
           0,
           6.119197659161801,
           33.60936670528493,
           0
          ],
          [
           7.549042268319051,
           0,
           0,
           62.144829685852244,
           55.69112259283137,
           0,
           59.85610135492903,
           53.58144741813723,
           42.5462866760976,
           76.81867630128762
          ],
          [
           41.99544519278062,
           0,
           7.711327755535313,
           63.722989980756445,
           0,
           0,
           7.099226768802178,
           0,
           0,
           0
          ],
          [
           45.69043185589133,
           23.168319312333587,
           0,
           0,
           1.51219910563555,
           68.08422368135102,
           45.89899576185063,
           13.436630600319859,
           52.81677508239208,
           11.706502839416713
          ],
          [
           61.300453876303656,
           0,
           0,
           0,
           43.115114267139745,
           42.743210123787335,
           77.26090210655808,
           56.94151303295103,
           7.540722993110647,
           34.33884152115374
          ],
          [
           29.620684307279873,
           37.69696569855236,
           0,
           0,
           56.71910597301897,
           33.317718662119006,
           40.10598791497645,
           0,
           43.417346485711256,
           0
          ],
          [
           0,
           79.2967233465401,
           0,
           7.917909897116977,
           0,
           26.45626888548515,
           0,
           0,
           70.73086286160732,
           0
          ],
          [
           36.89915776282475,
           0,
           21.130655377974765,
           13.974157858558701,
           0,
           75.149197318524,
           48.48284928653596,
           42.57616473038506,
           36.400361860064876,
           45.95880656752187
          ],
          [
           39.364473328449726,
           0,
           0,
           0,
           0,
           50.605031449553394,
           0,
           30.841722855052748,
           0,
           33.91825403122149
          ],
          [
           74.96881761432563,
           66.34349365580894,
           30.58427203380686,
           0,
           12.823879754658867,
           37.107823944222986,
           0,
           0,
           47.352716836851826,
           74.79375453001495
          ],
          [
           13.968781094064799,
           1.6811991510611213,
           47.69851579768758,
           0,
           0,
           15.475467320072864,
           0,
           0,
           0,
           29.3112039057389
          ],
          [
           62.861510839850354,
           12.838810204201877,
           36.16055279047298,
           0,
           15.111823660785667,
           0,
           36.097056595488425,
           0,
           64.54453787156625,
           15.242992544231155
          ],
          [
           0,
           59.527359783061634,
           0,
           67.07629977675826,
           0,
           22.093562210604954,
           31.00365947675906,
           49.23126994118717,
           76.58392290812608,
           0
          ],
          [
           0,
           0,
           58.54379390602718,
           14.748381074665042,
           41.44039480070778,
           68.294396874301,
           0,
           0,
           4.540690812515309,
           0
          ],
          [
           3.751247383704799,
           6.104805558296027,
           0,
           6.261428568430678,
           0,
           13.285249904264349,
           7.416529191718233,
           0,
           18.008892316777594,
           29.273483507975747
          ]
         ]
        },
        {
         "showscale": false,
         "type": "heatmap",
         "x": [
          0,
          1,
          2,
          3,
          4,
          5,
          6,
          7,
          8,
          9
         ],
         "y": [
          0,
          1,
          2,
          3,
          4,
          5,
          6,
          7,
          8,
          9,
          10,
          11,
          12,
          13,
          14,
          15,
          16,
          17,
          18,
          19,
          20,
          21,
          22,
          23,
          24
         ],
         "z": [
          [
           63.94113749299222,
           22.97077179586854,
           21.70813260963339,
           0,
           22.408162541337298,
           0,
           56.26363769048476,
           0,
           36.50689656262558,
           11.304922203025956
          ],
          [
           50.66613662516584,
           0,
           63.287669990761216,
           44.36227506742134,
           20.321482787463378,
           51.39435383944611,
           0,
           6.408241556064489,
           26.62409739193548,
           67.65323119430926
          ],
          [
           39.6202122929667,
           49.578968614162896,
           7.171726960011249,
           0,
           75.99857828524034,
           43.52357560099676,
           44.298090078453114,
           37.995671693331815,
           25.117356164909197,
           0
          ],
          [
           0,
           0,
           33.406489548122266,
           44.43894312560284,
           0,
           30.293069752815597,
           68.64207703472765,
           0,
           0,
           11.479283285002202
          ],
          [
           0,
           0,
           66.52450193099597,
           58.62320711484274,
           50.40538223107299,
           16.239277039295153,
           64.23189538273523,
           26.462514128158496,
           0,
           0
          ],
          [
           58.70446915078028,
           57.26639969381995,
           0,
           0,
           40.588783471135955,
           0,
           12.496990642847488,
           71.19051501937933,
           0,
           0
          ],
          [
           3.7123833257690553,
           0,
           49.696512576050786,
           0,
           41.49227829733875,
           3.5698755678362115,
           0,
           7.742671885488996,
           0,
           29.748586570713474
          ],
          [
           57.184933502556184,
           75.80322927998151,
           55.432077423186826,
           57.99193273658925,
           25.22634333367863,
           24.01533103715858,
           65.21187641140993,
           46.670308207167956,
           8.102170011636787,
           27.815982030705072
          ],
          [
           71.06822154881316,
           7.880324464415631,
           1.634384227547323,
           3.4872678939959734,
           79.62491022151369,
           16.64803341319991,
           0,
           39.07087302921816,
           0,
           67.56029822253437
          ],
          [
           1.0180822037451165,
           73.81439683545881,
           24.99610575930403,
           69.71585678725988,
           68.00223702177261,
           0,
           0,
           0,
           12.179280632449547,
           0
          ],
          [
           61.90347818783832,
           28.153427666315537,
           61.345927824208445,
           46.972012583451374,
           0,
           8.231709633109059,
           0,
           41.55767392316838,
           0,
           0
          ],
          [
           50.988617084490954,
           65.29530351564564,
           9.014385568483846,
           19.41758324167692,
           39.01422015901106,
           65.70449110387142,
           20.896128051300344,
           0,
           0,
           76.26534263428297
          ],
          [
           13.5083247652098,
           41.65991624896557,
           0,
           16.78518880298686,
           0,
           18.991345608972424,
           17.59266016605482,
           78.39951119205757,
           2.075231745101691,
           0
          ],
          [
           56.20736996837502,
           47.790742610639825,
           54.7638208570975,
           41.62738909175496,
           4.524651558152324,
           10.60651122481465,
           69.08390247987693,
           21.778082471562822,
           0,
           0
          ],
          [
           56.68041835400638,
           0,
           74.21741425078868,
           44.5616915283976,
           60.57383475777323,
           41.18160629326958,
           8.828955286744474,
           51.47421617319389,
           43.45606480278346,
           15.619285256068682
          ],
          [
           24.032305607225414,
           67.76366587399843,
           0,
           41.73414247579794,
           26.027185058751414,
           9.323416376804566,
           0,
           37.03658005319192,
           8.518252172515055,
           0
          ],
          [
           56.042780938683386,
           39.420702781925435,
           24.299322136769753,
           0,
           59.128115630303405,
           0,
           71.67142575726996,
           8.357621451819375,
           18.44743025827231,
           0
          ],
          [
           0,
           43.40422746302638,
           79.60362246235721,
           0,
           0,
           18.542485271163493,
           17.122175524251983,
           12.51237488664703,
           33.67203017120741,
           0
          ],
          [
           0,
           52.30677774057603,
           76.21865331132605,
           0.5921007193398076,
           0,
           15.264739672896802,
           0,
           21.003265629953596,
           0,
           0
          ],
          [
           4.1528901562501375,
           31.1653201024141,
           17.71674678633485,
           59.005929221607445,
           0,
           10.54976639528864,
           3.4682529982746058,
           11.55881752867221,
           19.57533828263597,
           0
          ],
          [
           53.205266834621746,
           67.9800014824727,
           77.7556508596696,
           0,
           44.94021166757224,
           9.411864990141021,
           0,
           14.148721301718572,
           38.81361256691528,
           36.14989010603645
          ],
          [
           68.73719057189197,
           33.83576300837624,
           0,
           47.779578840843484,
           2.9357918390530147,
           1.7529693898599952,
           0,
           37.14582920704492,
           51.92777318423631,
           63.747633142720396
          ],
          [
           63.001001215894505,
           0,
           31.802898115731058,
           0,
           59.76482172628518,
           11.651289238518823,
           44.31605277026196,
           20.751927139424332,
           0,
           0
          ],
          [
           34.04798193413615,
           7.349129071717568,
           0,
           4.286362611309991,
           3.4303989005437963,
           0,
           27.037087574051043,
           54.6782191904952,
           32.128900016027956,
           0
          ],
          [
           0,
           0,
           74.7102594746383,
           0.8464525105406828,
           0,
           35.14811857052766,
           0,
           54.8611753129862,
           63.62570270174542,
           63.86925747494627
          ]
         ]
        },
        {
         "showscale": false,
         "type": "heatmap",
         "x": [
          0,
          1,
          2,
          3,
          4,
          5,
          6,
          7,
          8,
          9
         ],
         "y": [
          0,
          1,
          2,
          3,
          4,
          5,
          6,
          7,
          8,
          9,
          10,
          11,
          12,
          13,
          14,
          15,
          16,
          17,
          18,
          19,
          20,
          21,
          22,
          23,
          24
         ],
         "z": [
          [
           32.133801409185054,
           11.833402237053892,
           31.089748263445095,
           42.10796318145883,
           25.605233521193558,
           0,
           0,
           3.0158874253127133,
           66.46552910915918,
           0
          ],
          [
           0,
           67.10707981879733,
           0,
           3.6355522855152778,
           0,
           0,
           0,
           72.40759864840814,
           23.55806940272078,
           66.45037091181408
          ],
          [
           0,
           37.95594788566576,
           67.04558662125359,
           37.45667550886014,
           75.63439725071034,
           28.407340410723798,
           3.13893814637062,
           44.2360252709244,
           0,
           34.74685709828003
          ],
          [
           55.42234337224444,
           0,
           10.352007491334788,
           16.90085949047902,
           4.953513755176546,
           72.82762897099491,
           0,
           57.736217910672295,
           50.073770196903,
           50.10452813497969
          ],
          [
           68.64583717031164,
           40.70221472924461,
           2.1098015062494424,
           44.74906725877955,
           5.151150263709892,
           0,
           0,
           76.31630427429188,
           74.04937808918704,
           76.92737691993997
          ],
          [
           73.97598959503088,
           78.47313551779334,
           0,
           14.065296237211221,
           22.436924108455194,
           50.61647068083428,
           68.49904333924981,
           19.053955169544583,
           0,
           0
          ],
          [
           20.410072502582825,
           56.74415357516736,
           0,
           0,
           54.7005486328806,
           37.51006895979215,
           0,
           76.33645199304426,
           52.33915198303243,
           0
          ],
          [
           0,
           0,
           0,
           12.696189028426211,
           68.77665331574563,
           67.26710996611492,
           1.0498098459088956,
           46.40438438552892,
           15.440696437295923,
           43.59809886522707
          ],
          [
           14.100724568495853,
           0,
           48.5001497731698,
           29.670602033365213,
           20.26340123974911,
           27.78093599151397,
           63.414274521622076,
           0,
           0,
           0
          ],
          [
           0,
           51.632695299171296,
           36.017386379137676,
           0,
           64.86680930750182,
           0,
           27.968556835627663,
           19.56394966414836,
           0,
           74.02848245849628
          ],
          [
           0,
           69.85859571056503,
           0,
           0,
           64.41186486811159,
           17.58507443646906,
           2.5546589168931844,
           0,
           78.94023513643718,
           53.550136828010395
          ],
          [
           43.52247416645507,
           0,
           4.722622041477678,
           17.67038927919776,
           62.06980749130903,
           64.62122332942783,
           0,
           51.32334830024336,
           0,
           49.95821980915097
          ],
          [
           0,
           38.54134571373623,
           78.0773177551794,
           76.18321134976661,
           70.50174173788243,
           0,
           32.00246577431645,
           0,
           0,
           36.37162994523641
          ],
          [
           0.7340231051367274,
           0,
           39.04493306010514,
           0,
           78.51794764832694,
           0,
           0,
           3.1080043279718828,
           76.37852540942536,
           34.057398392483606
          ],
          [
           30.24252372761026,
           14.263883394012232,
           36.69439253786004,
           0,
           73.3537063368828,
           0,
           64.4904140404711,
           55.73763786303614,
           6.626972152441488,
           5.574293621507578
          ],
          [
           32.948611135213355,
           0,
           56.36310773991961,
           0,
           0,
           60.78335634400644,
           34.86311896118876,
           32.85128433065369,
           11.383953791073772,
           0
          ],
          [
           0,
           26.93401008440299,
           0,
           79.09802025900503,
           53.84337052044631,
           7.63778204891401,
           0,
           0,
           32.75035253011729,
           75.57381339070086
          ],
          [
           34.35055458773955,
           78.04147103160963,
           57.67643234072226,
           4.131122105274754,
           51.2347787746562,
           0,
           5.10659421749232,
           0,
           0,
           0
          ],
          [
           0,
           34.95962826251165,
           55.84570299854895,
           71.37003683912597,
           66.43098802511234,
           61.03982634680739,
           0,
           0,
           47.17540581356058,
           2.6461482422887306
          ],
          [
           0,
           6.983083781339521,
           37.07906310862729,
           19.790681871614435,
           0,
           36.34128376498793,
           0.14135464903185735,
           64.72763005815222,
           12.422084313821546,
           0
          ],
          [
           0,
           0,
           0,
           0,
           25.22458608111753,
           38.1168160581145,
           0,
           78.198758736905,
           58.652379272027055,
           55.74969915390729
          ],
          [
           0,
           0,
           65.83133099655728,
           0,
           19.305493670035986,
           14.042117468649518,
           41.14130744905208,
           43.29806882117972,
           54.613681190395845,
           25.597786422534618
          ],
          [
           0,
           64.73046074793535,
           0,
           0,
           31.877420981265267,
           0,
           0,
           36.092483765159756,
           17.844926973449905,
           0
          ],
          [
           0,
           10.619381424659764,
           36.368164422008846,
           0,
           31.23929494502461,
           24.076096705731654,
           1.1800823807189875,
           13.570341968189862,
           44.67030351725895,
           37.49868635437811
          ],
          [
           78.56431593867103,
           0,
           0,
           24.968912881710224,
           0,
           18.667739815094166,
           17.0655244984192,
           0,
           30.647782655758384,
           77.68872123001152
          ]
         ]
        },
        {
         "showscale": false,
         "type": "heatmap",
         "x": [
          0,
          1,
          2,
          3,
          4,
          5,
          6,
          7,
          8,
          9
         ],
         "y": [
          0,
          1,
          2,
          3,
          4,
          5,
          6,
          7,
          8,
          9,
          10,
          11,
          12,
          13,
          14,
          15,
          16,
          17,
          18,
          19,
          20,
          21,
          22,
          23,
          24
         ],
         "z": [
          [
           44.96870933552546,
           0,
           0,
           12.818299248752156,
           0,
           0,
           78.42643239206208,
           0,
           16.665791019433914,
           0
          ],
          [
           0,
           24.721069029878088,
           21.289676309307886,
           76.61384992651529,
           0,
           47.38596183342315,
           30.907153182589017,
           0,
           0,
           53.585065502914865
          ],
          [
           0,
           61.906809259301355,
           35.73663511967155,
           0,
           62.36113465608321,
           0,
           0,
           55.49512033233213,
           30.89999126828129,
           0
          ],
          [
           0,
           0,
           0,
           0,
           35.10318988570837,
           29.056901345105473,
           0,
           0,
           56.820168712071684,
           50.54514489016188
          ],
          [
           0,
           50.2849435325216,
           0,
           0,
           0,
           0,
           75.58670473287336,
           22.771741300417858,
           66.83165406690996,
           78.34528933755234
          ],
          [
           47.0863410066032,
           0,
           63.766685150606385,
           0,
           52.678207008276715,
           34.43714616241576,
           1.7906560427960416,
           0,
           0,
           0
          ],
          [
           42.847379435523834,
           49.791162846039,
           0,
           5.274099572554718,
           19.813063871486875,
           28.493396560269424,
           0,
           63.86085510727763,
           0,
           17.7368122225781
          ],
          [
           41.78032666687151,
           47.70409702443731,
           0,
           5.2333315309889095,
           34.90855950967905,
           54.63166534694369,
           58.55087656064154,
           36.93771594623568,
           73.67400075341784,
           70.69992574127548
          ],
          [
           0,
           0.22366899750811076,
           14.26615290677686,
           35.87171455034365,
           31.446202078405253,
           0,
           73.53385545603592,
           0,
           0,
           0
          ],
          [
           5.5630889800720285,
           0,
           0,
           29.181977061710427,
           31.689572260436996,
           48.564033971164456,
           17.12604826389196,
           31.621141870026705,
           58.292278120903966,
           13.520692754954688
          ],
          [
           18.730995637176857,
           0,
           59.46985689808128,
           0,
           0,
           35.300655586204414,
           0,
           73.99534207402704,
           0,
           2.0150311000076115
          ],
          [
           0,
           0,
           0,
           31.088934159142113,
           64.07530411517628,
           0,
           0,
           24.951989441133232,
           44.98065063743379,
           0
          ],
          [
           79.65494001892534,
           0,
           9.120080757805162,
           0,
           33.99803774248856,
           29.836568229727852,
           0,
           19.866578414162728,
           0,
           44.77708717842814
          ],
          [
           57.779013649581465,
           0,
           19.783485974376678,
           0,
           0,
           31.08203943120347,
           0,
           31.15410217219129,
           14.45474496603671,
           44.8132660262535
          ],
          [
           64.19255366159103,
           72.06500210334859,
           64.15019534240265,
           40.81189199899008,
           41.989763394757496,
           39.066256427918866,
           53.88625808699282,
           12.26999777755196,
           13.843234714703678,
           63.600037948619025
          ],
          [
           51.78599138505539,
           71.2441453755568,
           24.69935320103054,
           23.019606040047222,
           35.97816507128268,
           68.00277480776134,
           14.212121448467494,
           25.603689525688402,
           46.111731878981146,
           67.30290495969419
          ],
          [
           24.80142975254127,
           47.67806122870953,
           14.044512350982217,
           71.24011615091544,
           45.04936372915717,
           13.664304860580279,
           58.09396501894299,
           43.3941306682954,
           51.777176108359455,
           25.943544307402036
          ],
          [
           38.02413108777841,
           0,
           33.8263325877213,
           9.695570303471243,
           0,
           25.755138676843153,
           7.337153428404237,
           60.904589531110716,
           22.20896263342449,
           0
          ],
          [
           0,
           5.832756758347508,
           0,
           0,
           37.49729751862472,
           47.418881259393586,
           47.11758919823546,
           27.802639143081933,
           79.01719416192361,
           54.055014138247664
          ],
          [
           0,
           9.51462090183485,
           0,
           0,
           12.082323940865031,
           54.27819416962784,
           0,
           61.03202801501703,
           47.54098743828761,
           0
          ],
          [
           18.508543240806116,
           39.65476234107069,
           38.50095217688894,
           0,
           0,
           25.451824328828657,
           0,
           52.64149715719884,
           5.65040090090748,
           7.516456719494586
          ],
          [
           78.02257672582665,
           65.88996420888064,
           11.298762550473818,
           62.98124637885968,
           59.389910292466205,
           49.85916043559678,
           0,
           21.518570377406352,
           39.798188417119434,
           5.648065876449158
          ],
          [
           69.29241939726982,
           0,
           0,
           0,
           0,
           12.151515303045413,
           21.48365330549488,
           0,
           0,
           0.6632779206501915
          ],
          [
           1.4267771362030501,
           9.322529031865493,
           0,
           10.27373482249705,
           0,
           0,
           47.50081850593376,
           55.805640862202296,
           42.60860221905642,
           36.42827809456919
          ],
          [
           14.480194543533784,
           6.558411193624338,
           66.60844067704174,
           0,
           1.0937574601656008,
           8.21345607851891,
           25.162950074919582,
           55.30527950592865,
           5.039588950352223,
           8.910105028858034
          ]
         ]
        }
       ],
       "layout": {
        "autosize": false,
        "height": 600,
        "sliders": [
         {
          "active": 10,
          "currentvalue": {
           "prefix": "Day: "
          },
          "steps": [
           {
            "args": [
             {
              "visible": [
               true,
               false,
               false,
               false,
               false,
               false,
               false,
               false,
               false,
               false
              ]
             },
             {
              "title": "Day: 0"
             }
            ],
            "method": "update"
           },
           {
            "args": [
             {
              "visible": [
               false,
               true,
               false,
               false,
               false,
               false,
               false,
               false,
               false,
               false
              ]
             },
             {
              "title": "Day: 1"
             }
            ],
            "method": "update"
           },
           {
            "args": [
             {
              "visible": [
               false,
               false,
               true,
               false,
               false,
               false,
               false,
               false,
               false,
               false
              ]
             },
             {
              "title": "Day: 2"
             }
            ],
            "method": "update"
           },
           {
            "args": [
             {
              "visible": [
               false,
               false,
               false,
               true,
               false,
               false,
               false,
               false,
               false,
               false
              ]
             },
             {
              "title": "Day: 3"
             }
            ],
            "method": "update"
           },
           {
            "args": [
             {
              "visible": [
               false,
               false,
               false,
               false,
               true,
               false,
               false,
               false,
               false,
               false
              ]
             },
             {
              "title": "Day: 4"
             }
            ],
            "method": "update"
           },
           {
            "args": [
             {
              "visible": [
               false,
               false,
               false,
               false,
               false,
               true,
               false,
               false,
               false,
               false
              ]
             },
             {
              "title": "Day: 5"
             }
            ],
            "method": "update"
           },
           {
            "args": [
             {
              "visible": [
               false,
               false,
               false,
               false,
               false,
               false,
               true,
               false,
               false,
               false
              ]
             },
             {
              "title": "Day: 6"
             }
            ],
            "method": "update"
           },
           {
            "args": [
             {
              "visible": [
               false,
               false,
               false,
               false,
               false,
               false,
               false,
               true,
               false,
               false
              ]
             },
             {
              "title": "Day: 7"
             }
            ],
            "method": "update"
           },
           {
            "args": [
             {
              "visible": [
               false,
               false,
               false,
               false,
               false,
               false,
               false,
               false,
               true,
               false
              ]
             },
             {
              "title": "Day: 8"
             }
            ],
            "method": "update"
           },
           {
            "args": [
             {
              "visible": [
               false,
               false,
               false,
               false,
               false,
               false,
               false,
               false,
               false,
               true
              ]
             },
             {
              "title": "Day: 9"
             }
            ],
            "method": "update"
           }
          ]
         }
        ],
        "template": {
         "data": {
          "bar": [
           {
            "error_x": {
             "color": "#2a3f5f"
            },
            "error_y": {
             "color": "#2a3f5f"
            },
            "marker": {
             "line": {
              "color": "#E5ECF6",
              "width": 0.5
             },
             "pattern": {
              "fillmode": "overlay",
              "size": 10,
              "solidity": 0.2
             }
            },
            "type": "bar"
           }
          ],
          "barpolar": [
           {
            "marker": {
             "line": {
              "color": "#E5ECF6",
              "width": 0.5
             },
             "pattern": {
              "fillmode": "overlay",
              "size": 10,
              "solidity": 0.2
             }
            },
            "type": "barpolar"
           }
          ],
          "carpet": [
           {
            "aaxis": {
             "endlinecolor": "#2a3f5f",
             "gridcolor": "white",
             "linecolor": "white",
             "minorgridcolor": "white",
             "startlinecolor": "#2a3f5f"
            },
            "baxis": {
             "endlinecolor": "#2a3f5f",
             "gridcolor": "white",
             "linecolor": "white",
             "minorgridcolor": "white",
             "startlinecolor": "#2a3f5f"
            },
            "type": "carpet"
           }
          ],
          "choropleth": [
           {
            "colorbar": {
             "outlinewidth": 0,
             "ticks": ""
            },
            "type": "choropleth"
           }
          ],
          "contour": [
           {
            "colorbar": {
             "outlinewidth": 0,
             "ticks": ""
            },
            "colorscale": [
             [
              0,
              "#0d0887"
             ],
             [
              0.1111111111111111,
              "#46039f"
             ],
             [
              0.2222222222222222,
              "#7201a8"
             ],
             [
              0.3333333333333333,
              "#9c179e"
             ],
             [
              0.4444444444444444,
              "#bd3786"
             ],
             [
              0.5555555555555556,
              "#d8576b"
             ],
             [
              0.6666666666666666,
              "#ed7953"
             ],
             [
              0.7777777777777778,
              "#fb9f3a"
             ],
             [
              0.8888888888888888,
              "#fdca26"
             ],
             [
              1,
              "#f0f921"
             ]
            ],
            "type": "contour"
           }
          ],
          "contourcarpet": [
           {
            "colorbar": {
             "outlinewidth": 0,
             "ticks": ""
            },
            "type": "contourcarpet"
           }
          ],
          "heatmap": [
           {
            "colorbar": {
             "outlinewidth": 0,
             "ticks": ""
            },
            "colorscale": [
             [
              0,
              "#0d0887"
             ],
             [
              0.1111111111111111,
              "#46039f"
             ],
             [
              0.2222222222222222,
              "#7201a8"
             ],
             [
              0.3333333333333333,
              "#9c179e"
             ],
             [
              0.4444444444444444,
              "#bd3786"
             ],
             [
              0.5555555555555556,
              "#d8576b"
             ],
             [
              0.6666666666666666,
              "#ed7953"
             ],
             [
              0.7777777777777778,
              "#fb9f3a"
             ],
             [
              0.8888888888888888,
              "#fdca26"
             ],
             [
              1,
              "#f0f921"
             ]
            ],
            "type": "heatmap"
           }
          ],
          "heatmapgl": [
           {
            "colorbar": {
             "outlinewidth": 0,
             "ticks": ""
            },
            "colorscale": [
             [
              0,
              "#0d0887"
             ],
             [
              0.1111111111111111,
              "#46039f"
             ],
             [
              0.2222222222222222,
              "#7201a8"
             ],
             [
              0.3333333333333333,
              "#9c179e"
             ],
             [
              0.4444444444444444,
              "#bd3786"
             ],
             [
              0.5555555555555556,
              "#d8576b"
             ],
             [
              0.6666666666666666,
              "#ed7953"
             ],
             [
              0.7777777777777778,
              "#fb9f3a"
             ],
             [
              0.8888888888888888,
              "#fdca26"
             ],
             [
              1,
              "#f0f921"
             ]
            ],
            "type": "heatmapgl"
           }
          ],
          "histogram": [
           {
            "marker": {
             "pattern": {
              "fillmode": "overlay",
              "size": 10,
              "solidity": 0.2
             }
            },
            "type": "histogram"
           }
          ],
          "histogram2d": [
           {
            "colorbar": {
             "outlinewidth": 0,
             "ticks": ""
            },
            "colorscale": [
             [
              0,
              "#0d0887"
             ],
             [
              0.1111111111111111,
              "#46039f"
             ],
             [
              0.2222222222222222,
              "#7201a8"
             ],
             [
              0.3333333333333333,
              "#9c179e"
             ],
             [
              0.4444444444444444,
              "#bd3786"
             ],
             [
              0.5555555555555556,
              "#d8576b"
             ],
             [
              0.6666666666666666,
              "#ed7953"
             ],
             [
              0.7777777777777778,
              "#fb9f3a"
             ],
             [
              0.8888888888888888,
              "#fdca26"
             ],
             [
              1,
              "#f0f921"
             ]
            ],
            "type": "histogram2d"
           }
          ],
          "histogram2dcontour": [
           {
            "colorbar": {
             "outlinewidth": 0,
             "ticks": ""
            },
            "colorscale": [
             [
              0,
              "#0d0887"
             ],
             [
              0.1111111111111111,
              "#46039f"
             ],
             [
              0.2222222222222222,
              "#7201a8"
             ],
             [
              0.3333333333333333,
              "#9c179e"
             ],
             [
              0.4444444444444444,
              "#bd3786"
             ],
             [
              0.5555555555555556,
              "#d8576b"
             ],
             [
              0.6666666666666666,
              "#ed7953"
             ],
             [
              0.7777777777777778,
              "#fb9f3a"
             ],
             [
              0.8888888888888888,
              "#fdca26"
             ],
             [
              1,
              "#f0f921"
             ]
            ],
            "type": "histogram2dcontour"
           }
          ],
          "mesh3d": [
           {
            "colorbar": {
             "outlinewidth": 0,
             "ticks": ""
            },
            "type": "mesh3d"
           }
          ],
          "parcoords": [
           {
            "line": {
             "colorbar": {
              "outlinewidth": 0,
              "ticks": ""
             }
            },
            "type": "parcoords"
           }
          ],
          "pie": [
           {
            "automargin": true,
            "type": "pie"
           }
          ],
          "scatter": [
           {
            "fillpattern": {
             "fillmode": "overlay",
             "size": 10,
             "solidity": 0.2
            },
            "type": "scatter"
           }
          ],
          "scatter3d": [
           {
            "line": {
             "colorbar": {
              "outlinewidth": 0,
              "ticks": ""
             }
            },
            "marker": {
             "colorbar": {
              "outlinewidth": 0,
              "ticks": ""
             }
            },
            "type": "scatter3d"
           }
          ],
          "scattercarpet": [
           {
            "marker": {
             "colorbar": {
              "outlinewidth": 0,
              "ticks": ""
             }
            },
            "type": "scattercarpet"
           }
          ],
          "scattergeo": [
           {
            "marker": {
             "colorbar": {
              "outlinewidth": 0,
              "ticks": ""
             }
            },
            "type": "scattergeo"
           }
          ],
          "scattergl": [
           {
            "marker": {
             "colorbar": {
              "outlinewidth": 0,
              "ticks": ""
             }
            },
            "type": "scattergl"
           }
          ],
          "scattermapbox": [
           {
            "marker": {
             "colorbar": {
              "outlinewidth": 0,
              "ticks": ""
             }
            },
            "type": "scattermapbox"
           }
          ],
          "scatterpolar": [
           {
            "marker": {
             "colorbar": {
              "outlinewidth": 0,
              "ticks": ""
             }
            },
            "type": "scatterpolar"
           }
          ],
          "scatterpolargl": [
           {
            "marker": {
             "colorbar": {
              "outlinewidth": 0,
              "ticks": ""
             }
            },
            "type": "scatterpolargl"
           }
          ],
          "scatterternary": [
           {
            "marker": {
             "colorbar": {
              "outlinewidth": 0,
              "ticks": ""
             }
            },
            "type": "scatterternary"
           }
          ],
          "surface": [
           {
            "colorbar": {
             "outlinewidth": 0,
             "ticks": ""
            },
            "colorscale": [
             [
              0,
              "#0d0887"
             ],
             [
              0.1111111111111111,
              "#46039f"
             ],
             [
              0.2222222222222222,
              "#7201a8"
             ],
             [
              0.3333333333333333,
              "#9c179e"
             ],
             [
              0.4444444444444444,
              "#bd3786"
             ],
             [
              0.5555555555555556,
              "#d8576b"
             ],
             [
              0.6666666666666666,
              "#ed7953"
             ],
             [
              0.7777777777777778,
              "#fb9f3a"
             ],
             [
              0.8888888888888888,
              "#fdca26"
             ],
             [
              1,
              "#f0f921"
             ]
            ],
            "type": "surface"
           }
          ],
          "table": [
           {
            "cells": {
             "fill": {
              "color": "#EBF0F8"
             },
             "line": {
              "color": "white"
             }
            },
            "header": {
             "fill": {
              "color": "#C8D4E3"
             },
             "line": {
              "color": "white"
             }
            },
            "type": "table"
           }
          ]
         },
         "layout": {
          "annotationdefaults": {
           "arrowcolor": "#2a3f5f",
           "arrowhead": 0,
           "arrowwidth": 1
          },
          "autotypenumbers": "strict",
          "coloraxis": {
           "colorbar": {
            "outlinewidth": 0,
            "ticks": ""
           }
          },
          "colorscale": {
           "diverging": [
            [
             0,
             "#8e0152"
            ],
            [
             0.1,
             "#c51b7d"
            ],
            [
             0.2,
             "#de77ae"
            ],
            [
             0.3,
             "#f1b6da"
            ],
            [
             0.4,
             "#fde0ef"
            ],
            [
             0.5,
             "#f7f7f7"
            ],
            [
             0.6,
             "#e6f5d0"
            ],
            [
             0.7,
             "#b8e186"
            ],
            [
             0.8,
             "#7fbc41"
            ],
            [
             0.9,
             "#4d9221"
            ],
            [
             1,
             "#276419"
            ]
           ],
           "sequential": [
            [
             0,
             "#0d0887"
            ],
            [
             0.1111111111111111,
             "#46039f"
            ],
            [
             0.2222222222222222,
             "#7201a8"
            ],
            [
             0.3333333333333333,
             "#9c179e"
            ],
            [
             0.4444444444444444,
             "#bd3786"
            ],
            [
             0.5555555555555556,
             "#d8576b"
            ],
            [
             0.6666666666666666,
             "#ed7953"
            ],
            [
             0.7777777777777778,
             "#fb9f3a"
            ],
            [
             0.8888888888888888,
             "#fdca26"
            ],
            [
             1,
             "#f0f921"
            ]
           ],
           "sequentialminus": [
            [
             0,
             "#0d0887"
            ],
            [
             0.1111111111111111,
             "#46039f"
            ],
            [
             0.2222222222222222,
             "#7201a8"
            ],
            [
             0.3333333333333333,
             "#9c179e"
            ],
            [
             0.4444444444444444,
             "#bd3786"
            ],
            [
             0.5555555555555556,
             "#d8576b"
            ],
            [
             0.6666666666666666,
             "#ed7953"
            ],
            [
             0.7777777777777778,
             "#fb9f3a"
            ],
            [
             0.8888888888888888,
             "#fdca26"
            ],
            [
             1,
             "#f0f921"
            ]
           ]
          },
          "colorway": [
           "#636efa",
           "#EF553B",
           "#00cc96",
           "#ab63fa",
           "#FFA15A",
           "#19d3f3",
           "#FF6692",
           "#B6E880",
           "#FF97FF",
           "#FECB52"
          ],
          "font": {
           "color": "#2a3f5f"
          },
          "geo": {
           "bgcolor": "white",
           "lakecolor": "white",
           "landcolor": "#E5ECF6",
           "showlakes": true,
           "showland": true,
           "subunitcolor": "white"
          },
          "hoverlabel": {
           "align": "left"
          },
          "hovermode": "closest",
          "mapbox": {
           "style": "light"
          },
          "paper_bgcolor": "white",
          "plot_bgcolor": "#E5ECF6",
          "polar": {
           "angularaxis": {
            "gridcolor": "white",
            "linecolor": "white",
            "ticks": ""
           },
           "bgcolor": "#E5ECF6",
           "radialaxis": {
            "gridcolor": "white",
            "linecolor": "white",
            "ticks": ""
           }
          },
          "scene": {
           "xaxis": {
            "backgroundcolor": "#E5ECF6",
            "gridcolor": "white",
            "gridwidth": 2,
            "linecolor": "white",
            "showbackground": true,
            "ticks": "",
            "zerolinecolor": "white"
           },
           "yaxis": {
            "backgroundcolor": "#E5ECF6",
            "gridcolor": "white",
            "gridwidth": 2,
            "linecolor": "white",
            "showbackground": true,
            "ticks": "",
            "zerolinecolor": "white"
           },
           "zaxis": {
            "backgroundcolor": "#E5ECF6",
            "gridcolor": "white",
            "gridwidth": 2,
            "linecolor": "white",
            "showbackground": true,
            "ticks": "",
            "zerolinecolor": "white"
           }
          },
          "shapedefaults": {
           "line": {
            "color": "#2a3f5f"
           }
          },
          "ternary": {
           "aaxis": {
            "gridcolor": "white",
            "linecolor": "white",
            "ticks": ""
           },
           "baxis": {
            "gridcolor": "white",
            "linecolor": "white",
            "ticks": ""
           },
           "bgcolor": "#E5ECF6",
           "caxis": {
            "gridcolor": "white",
            "linecolor": "white",
            "ticks": ""
           }
          },
          "title": {
           "x": 0.05
          },
          "xaxis": {
           "automargin": true,
           "gridcolor": "white",
           "linecolor": "white",
           "ticks": "",
           "title": {
            "standoff": 15
           },
           "zerolinecolor": "white",
           "zerolinewidth": 2
          },
          "yaxis": {
           "automargin": true,
           "gridcolor": "white",
           "linecolor": "white",
           "ticks": "",
           "title": {
            "standoff": 15
           },
           "zerolinecolor": "white",
           "zerolinewidth": 2
          }
         }
        },
        "title": {
         "text": "Daily Melt Animation"
        },
        "width": 600
       }
      }
     },
     "metadata": {},
     "output_type": "display_data"
    }
   ],
   "source": [
    "fig = go.Figure()\n",
    "\n",
    "# Assuming 'row' and 'column' are your spatial dimensions and 'day' is the time dimension\n",
    "for day in range(ds.dims[\"day\"]):\n",
    "    fig.add_trace(\n",
    "        go.Heatmap(\n",
    "            z=ds[\"daily_melt\"].isel(day=day),\n",
    "            x=ds[\"column\"],\n",
    "            y=ds[\"row\"],\n",
    "            showscale=False,\n",
    "        )\n",
    "    )\n",
    "\n",
    "# Make 10th frame visible\n",
    "# fig.data[9].visible = True\n",
    "\n",
    "# Create and add slider\n",
    "steps = []\n",
    "for i in range(len(fig.data)):\n",
    "    step = dict(\n",
    "        method=\"update\",\n",
    "        args=[{\"visible\": [False] * len(fig.data)}, {\"title\": \"Day: \" + str(i)}],\n",
    "    )\n",
    "    step[\"args\"][0][\"visible\"][i] = True  # Toggle i'th trace to \"visible\"\n",
    "    steps.append(step)\n",
    "\n",
    "sliders = [dict(active=10, currentvalue={\"prefix\": \"Day: \"}, steps=steps)]\n",
    "\n",
    "fig.update_layout(sliders=sliders)\n",
    "\n",
    "# Set up the layout\n",
    "fig.update_layout(title=\"Daily Melt Animation\", width=600, height=600, autosize=False)\n",
    "\n",
    "fig.show()"
   ]
  }
 ],
 "metadata": {
  "kernelspec": {
   "display_name": "Python 3",
   "language": "python",
   "name": "python3"
  },
  "language_info": {
   "codemirror_mode": {
    "name": "ipython",
    "version": 3
   },
   "file_extension": ".py",
   "mimetype": "text/x-python",
   "name": "python",
   "nbconvert_exporter": "python",
   "pygments_lexer": "ipython3",
   "version": "3.11.5"
  }
 },
 "nbformat": 4,
 "nbformat_minor": 2
}
