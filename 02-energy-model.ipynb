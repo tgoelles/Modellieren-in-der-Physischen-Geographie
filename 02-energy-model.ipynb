{
 "cells": [
  {
   "cell_type": "markdown",
   "metadata": {},
   "source": [
    "#  A \"zero-dimensional\" energy balance model of Earth's climate\n",
    "\n",
    "## Acknowledgments\n",
    "\n",
    "A big thank you to [Henri Drake](https://github.com/hdrake) for the insightful lecture!\n",
    "\n",
    "The content is sourced from the MIT course titled [Introduction to Computational Thinking](https://computationalthinking.mit.edu/Fall20/lecture20/). This course is structured around the [Julia programming language](http://www.julialang.org/). \n",
    "\n",
    "The original code corresponding to this lecture is available on GitHub: [simplEarth/1_energy_balance_model.jl](https://github.com/hdrake/simplEarth/blob/master/1_energy_balance_model.jl).\n",
    "\n",
    "Additionally, some content has been adapted from [Brian Rose's Climate Laboratory Book](https://brian-rose.github.io/ClimateLaboratoryBook/courseware/).\n",
    "\n",
    "Adated by Florian Boergel for Python https://florianboergel.github.io/climateoftheocean/2020-11-11-energy-model.html\n",
    "\n",
    "Minor changes to markdown to support generic notebooks by Thomas Gölles. Refactored the the model for clearn input names. Added text about the greenhouse effect after the emission temperature."
   ]
  },
  {
   "cell_type": "code",
   "execution_count": null,
   "metadata": {},
   "outputs": [],
   "source": [
    "import pandas as pd\n",
    "import numpy as np\n",
    "import matplotlib.pyplot as plt"
   ]
  },
  {
   "cell_type": "markdown",
   "metadata": {},
   "source": [
    "## The Observed Global Energy Budget\n",
    "\n",
    "```{note} Reminder\n",
    "The global energy budget is the balance of energy coming into and going out of Earth, influenced mainly by the sun's radiation and Earth's reflective and absorptive properties.\n",
    "```\n",
    "\n",
    "### So, Why Does It Matter?\n",
    "\n",
    "- **Climate Change Connection**: Alterations in the energy budget directly impact global warming and weather patterns. More greenhouse gases mean more trapped energy, leading to a hotter planet.\n",
    "\n",
    "- **Real-world Consequences**:\n",
    "    ```{margin} Quick Fact\n",
    "    Energy imbalances are responsible for unpredictable climate events.\n",
    "    ```\n",
    "    - **Weather Events**: Such as powerful hurricanes and erratic rainfall.\n",
    "    - **Melting Ice Caps**: Increased energy melts polar ice, raising sea levels and altering ocean currents.\n",
    "    - **Biodiversity Risk**: Warmer regions put numerous species' habitats in danger.\n",
    "\n",
    "- **The Role of Humans**: Our actions, like burning fossil fuels and clearing forests, modify the energy budget. This heightens greenhouse gas levels and planetary temperatures. Grasping the energy budget lets us evaluate our environmental impact and consider more sustainable practices.\n",
    "\n",
    "![Alt text](figures/GlobalEnergyBudget.png)\n",
    "\n",
    "In upcoming exercises, we'll build a basic climate model grounded in this energy budget. But first, we need a simpler version of this budget.\n",
    "\n",
    "\n",
    "Our rudimentary climate model can be expressed as\n",
    "\n",
    "- **Heat Content Change** = \n",
    "    - $+$ Energy from the Sun's rays\n",
    "    - $-$ Blackbody cooling to space\n",
    "    - $+$ Radiation trapped due to human activities\n",
    "\n"
   ]
  },
  {
   "cell_type": "markdown",
   "metadata": {},
   "source": [
    "![Alt text](figures/planetary_energy_balance.png)\n"
   ]
  },
  {
   "cell_type": "markdown",
   "metadata": {},
   "source": [
    "```{note} How to build the model?\n",
    "To make this simple conceptual model quantitative, we need a mathematical formulation for each of these four processes.\n",
    "```\n"
   ]
  },
  {
   "cell_type": "markdown",
   "metadata": {},
   "source": [
    "### 1.1 Absorbed solar radiation\n",
    "\n",
    "At Earth's orbital distance from the Sun, the power of the Sun's rays that intercept the Earth is equal to\n"
   ]
  },
  {
   "cell_type": "code",
   "execution_count": null,
   "metadata": {},
   "outputs": [],
   "source": [
    "solar_constant = 1368  # solar insolation [W/m^2]  (energy per unit time per unit area)"
   ]
  },
  {
   "cell_type": "markdown",
   "metadata": {},
   "source": [
    "A small fraction"
   ]
  },
  {
   "cell_type": "code",
   "execution_count": null,
   "metadata": {},
   "outputs": [],
   "source": [
    "albedo = 0.3  # albedo, or planetary reflectivity [unitless]"
   ]
  },
  {
   "cell_type": "markdown",
   "metadata": {},
   "source": [
    "of this incoming solar radiation is reflected back out to space (by reflective surfaces like white clouds, snow, and ice), with the remaining fraction $(1-\\alpha)$ being absorbed.\n",
    "\n",
    "Since the incoming solar rays are all approximately parallel this far from the Sun, the cross-sectional area of the Earth that intercepts them is just a disc of area $\\pi R^{2}$. Since all of the other terms we will consider act on the entire surface area $4\\pi R^{2}$ of the spherical Earth, the absorbed solar radiation *per unit surface area* (averaged over the entire globe) is reduced by a factor of 4.\n",
    "\n",
    "![energy](figures/s250_3_002i.jpg)\n",
    "\n",
    "The absorbed solar radiation per unit area is thus\n",
    "\n",
    "$$\n",
    "\\text{absorbed solar radiation} \\equiv \\frac{S(1-\\alpha)}{4}\n",
    "$$\n"
   ]
  },
  {
   "cell_type": "code",
   "execution_count": null,
   "metadata": {},
   "outputs": [],
   "source": [
    "def absorbed_solar_radiation(solar_constant, albedo):\n",
    "    return solar_constant * (1 - albedo) / 4"
   ]
  },
  {
   "cell_type": "markdown",
   "metadata": {},
   "source": [
    "### 1.2 Outgoing Thermal Radiation\n",
    "Assume that the Earth acts similarly to a blackbody radiator. If we consider the Earth's effective global mean emission temperature as $T_e$ then the relation is given by:\n",
    "\n",
    "$$\n",
    "OLR = \\sigma T_e^4\n",
    "$$\n",
    "\n",
    "In the above equation:\n",
    "- $OLR$ stands for Outgoing Longwave Radiation\n",
    "- $\\sigma$ represents the Stefan-Boltzmann constant and has a value of $5.67\\times 10^{-8} W m^{-2}K^{-4}$\n",
    "\n",
    "From observational data, the average global annual value for $OLR$ is 238.5 W $m^{-2}$.\n",
    "\n",
    "Given this value, we can rearrange the equation to find $T_e$:\n",
    "\n",
    "$$\n",
    "T_e = \\frac{OLR}{\\sigma}^{0.25}\n",
    "$$"
   ]
  },
  {
   "cell_type": "markdown",
   "metadata": {},
   "source": [
    "\n",
    "\n",
    "Determine the value of $T_e$.\n",
    "\n",
    "1. Compute the emission temperature $T_e$. \n",
    "2. Contrast this calculated value of $T_e$ with the real global mean surface temperature. Are they close?\n",
    "3. Evaluate the validity of representing Earth's emission to space using the simple blackbody radiator model.\n",
    "\n"
   ]
  },
  {
   "cell_type": "code",
   "execution_count": null,
   "metadata": {},
   "outputs": [],
   "source": [
    "# define constants and input values\n",
    "from scipy.constants import Stefan_Boltzmann as sigma\n",
    "\n",
    "outgoing_longwave_radiation = 238.5  # [W/m^2]"
   ]
  },
  {
   "cell_type": "code",
   "execution_count": null,
   "metadata": {},
   "outputs": [],
   "source": [
    "Te = (outgoing_longwave_radiation / sigma) ** (0.25)\n",
    "Te"
   ]
  },
  {
   "cell_type": "code",
   "execution_count": null,
   "metadata": {},
   "outputs": [],
   "source": [
    "Te - 273.15  # convert to Celsius"
   ]
  },
  {
   "cell_type": "markdown",
   "metadata": {},
   "source": [
    "\n",
    "\n",
    "The calculated emission temperature (in this case, approximately 254.66 K) represents what the Earth's average surface temperature would be if it were a perfect blackbody radiating energy into space, without an atmosphere to modify the outgoing longwave radiation. This temperature is significantly lower than the actual global mean surface temperature, which is around 288 K (15°C), demonstrating the warming effect of the greenhouse gases in the Earth's atmosphere."
   ]
  },
  {
   "cell_type": "markdown",
   "metadata": {},
   "source": [
    "## 1.3 Feedbacks\n",
    "\n",
    "The outgoing thermal radiation (blackbody cooling to space), denoted as $G(T)$, represents the combined effects of negative feedbacks that *dampen warming*, such as **blackbody radiation**, and positive feedbacks that *amplify warming*, such as the **water vapor feedback**.\n",
    "\n",
    "Since these physics are too complicated to deal with here, we *linearize* the model by combining the incoming and the outgoing radiation.\n",
    "\n",
    "We assume that the preindustrial world was in energy balance and thus that the equilibrium temperature aligns with the preindustrial temperature.\n",
    "\n",
    "Consequently, our focus narrows down to just the first term of a Taylor Series expansion:\n",
    "\n",
    "$$\n",
    "G(T) \\sim G(T_0) + G^{'}(T_0) (T-T_0)\n",
    "$$\n",
    "\n",
    "around the pre-industrial equilibrium temperature $T_0$."
   ]
  },
  {
   "cell_type": "code",
   "execution_count": null,
   "metadata": {},
   "outputs": [],
   "source": [
    "T0 = 14.0  # preindustrial temperature [°C]"
   ]
  },
  {
   "cell_type": "markdown",
   "metadata": {},
   "source": [
    "To simplify the expression, we define:\n",
    "\n",
    "$$ A \\equiv G(T_0) - G^{'}(T_0)T_0 $$\n",
    "$$B \\equiv - G^{'}(T_0) \\text{       (the climate feedback parameter),}$$\n",
    "\n",
    "which gives\n",
    "\n",
    "$$ \\text{outgoing thermal radiation} \\equiv G(T) \\sim A - BT$$"
   ]
  },
  {
   "cell_type": "code",
   "execution_count": null,
   "metadata": {},
   "outputs": [],
   "source": [
    "def outgoing_thermal_radiation(\n",
    "    temperature,\n",
    "    outgoing_thermal_radiation_constant,\n",
    "    temperature_sensitivity_out_radiation,\n",
    "):\n",
    "    return (\n",
    "        outgoing_thermal_radiation_constant\n",
    "        - temperature_sensitivity_out_radiation * temperature\n",
    "    )"
   ]
  },
  {
   "cell_type": "markdown",
   "metadata": {},
   "source": [
    "$B$ comes from a bottom-up estimate based on the best understanding of the various climate feedbacks read more [here](https://www.google.com/url?sa=t&rct=j&q=&esrc=s&source=web&cd=&ved=2ahUKEwikwbfrm9LsAhVjhuAKHQhZCm8QFjAEegQIAhAC&url=https%3A%2F%2Fclimateextremes.org.au%2Fwp-content%2Fuploads%2F2020%2F07%2FWCRP_ECS_Final_manuscript_2019RG000678R_FINAL_200720.pdf&)"
   ]
  },
  {
   "cell_type": "code",
   "execution_count": null,
   "metadata": {},
   "outputs": [],
   "source": [
    "temperature_sensitivity_out_radiation = -1.3  # climate feedback parameter [W/m^2/°C],"
   ]
  },
  {
   "cell_type": "markdown",
   "metadata": {},
   "source": [
    "Since $B<0$, this tells us that the overall climate feedback is negative (i.e., stabilizing). Positive feedbacks cause $B$ to become less negative, reducing the efficiency with which Earth cools itself by radiating thermal energy to space and thus amplifying warming."
   ]
  },
  {
   "cell_type": "markdown",
   "metadata": {},
   "source": [
    "\n",
    "The value $A$ of is given by the definition of a preindustrial equilibrium, i.e., the fact that before human influence, Earth's energy budget was perfectly balanced:\n",
    "\n",
    "$$\\frac{S (1-\\alpha)}{4} \\equiv A - BT_0$$\n",
    "\n",
    "\n",
    "\n",
    "By rearanging this equation, we find that the value of $A$ is given by"
   ]
  },
  {
   "cell_type": "code",
   "execution_count": null,
   "metadata": {},
   "outputs": [],
   "source": [
    "outgoing_thermal_radiation_constant = (\n",
    "    absorbed_solar_radiation(solar_constant, albedo)\n",
    "    + temperature_sensitivity_out_radiation * T0\n",
    ")"
   ]
  },
  {
   "cell_type": "code",
   "execution_count": null,
   "metadata": {},
   "outputs": [],
   "source": [
    "print(outgoing_thermal_radiation_constant)"
   ]
  },
  {
   "cell_type": "markdown",
   "metadata": {},
   "source": [
    "## 1.4 Human-caused greenhouse effect\n",
    "\n",
    "Empirically, the greenhouse effect is known to be a logarithmic function of gaseous carbon dioxide ($CO_2$) concentrations\n",
    "\n",
    "$$ \\text{Human-caused greenhouse effect} = a * ln  \\frac{CO_2}{CO_{2, PI}}  $$\n",
    "\n",
    "where"
   ]
  },
  {
   "cell_type": "code",
   "execution_count": null,
   "metadata": {},
   "outputs": [],
   "source": [
    "ghg_coefficient = 5  # CO2 forcing coefficient [W/m^2]"
   ]
  },
  {
   "cell_type": "code",
   "execution_count": null,
   "metadata": {},
   "outputs": [],
   "source": [
    "co2_pre_industrial = 280  # preindustrial CO2 concentration [parts per million; ppm];"
   ]
  },
  {
   "cell_type": "code",
   "execution_count": null,
   "metadata": {},
   "outputs": [],
   "source": [
    "def greenhouse_effect(co2_function, ghg_coefficient=5, co2_pre_industrial=280):\n",
    "    return ghg_coefficient * np.log(co2_function / co2_pre_industrial)"
   ]
  },
  {
   "cell_type": "code",
   "execution_count": null,
   "metadata": {},
   "outputs": [],
   "source": [
    "co2_present = 420\n",
    "co2_range = 280 * 2 ** np.linspace(-1, 3, 100)\n",
    "\n",
    "plt.plot(co2_range, greenhouse_effect(co2_range), color=\"black\")\n",
    "plt.ylabel(\"Radiative forcing [$W/m^2$]\")\n",
    "plt.xlabel(\"$CO_2$ concentration [ppm]\")\n",
    "plt.plot(\n",
    "    co2_pre_industrial,\n",
    "    greenhouse_effect(co2_pre_industrial),\n",
    "    marker=\".\",\n",
    "    markersize=20,\n",
    "    label=\"pre-industrial (PI)\",\n",
    "    color=\"blue\",\n",
    ")\n",
    "plt.plot(\n",
    "    co2_present,\n",
    "    greenhouse_effect(co2_present),\n",
    "    marker=\".\",\n",
    "    markersize=20,\n",
    "    label=\"present day (2020)\",\n",
    "    color=\"red\",\n",
    ")\n",
    "plt.xticks([280, 280 * 2, 280 * 4, 280 * 8])\n",
    "plt.legend(loc=4)\n",
    "plt.grid()"
   ]
  },
  {
   "cell_type": "markdown",
   "metadata": {},
   "source": [
    "### 1.5) Change in heat content\n",
    "\n",
    "The heat content $C_{temp}$ is determined by the temperature $T$ (in Kelvin) and the heat capacity of the climate system. While we are interested in the temperature of the atmosphere, which has a very small heat capacity, its heat is closely coupled with that of the upper ocean, which has a much larger heat capacity of"
   ]
  },
  {
   "cell_type": "code",
   "execution_count": null,
   "metadata": {},
   "outputs": [],
   "source": [
    "heat_capacity = 51  # atmosphere and upper-ocean heat capacity [J/m^2/°C]"
   ]
  },
  {
   "cell_type": "markdown",
   "metadata": {},
   "source": [
    "**Constant heat-capacity**\n",
    "The change in heat content over time is given by \n",
    "$ \\frac{d(C_{temp})}{dt}$.\n",
    "\n",
    "Since the heat capacity of seawater hardly changes with temperature, we can rewrite this in terms of the change in temperature with time\n",
    "\n",
    "$ \\frac{d(C_{temp})}{dt} = C\\frac{dT}{dt} $\n"
   ]
  },
  {
   "cell_type": "markdown",
   "metadata": {},
   "source": [
    "### 1.6) \"zero-dimensional\" climate model equation\n",
    "\n",
    "Combining all of these subcomponent models, we write the governing equation of the \"zero-dimensional\" energy balance climate model as the Ordinary Differential Equation (ODE)\n",
    "\n",
    "$$ C\\frac{dT}{dt} = \\frac{S (1-\\alpha)}{4} - ( A - BT_0) + a * ln  \\frac{CO_2}{CO{_2}_{PI}} $$\n",
    "\n",
    "which determines the time evolution of Earth's globally-averaged surface temperature."
   ]
  },
  {
   "cell_type": "markdown",
   "metadata": {},
   "source": [
    "## 2) Numerical solution method and data structures"
   ]
  },
  {
   "cell_type": "markdown",
   "metadata": {},
   "source": [
    "### 2.1) Discretization\n",
    "The energy balance model equation above can be discretized in time as\n",
    "\n",
    "$$ C\\frac{T(t+\\Delta t) - T(t)}{\\Delta t} = \\frac{S (1-\\alpha)}{4} - ( A - BT_0) + a * ln  \\frac{CO_2}{CO{_2}_{PI}} $$\n",
    "\n",
    "Our finite difference equation, which results from a first-order truncation of the Taylor series expansion, approximates the exact ordinary differential equation above in the limit that $\\Delta t \\rightarrow 0$. In practice, we can keep decreasing $\\Delta t$ until the solution converges within a tolerable error.\n",
    "\n",
    "Hereafter, we use the subscript $n$ to denote the $n$-th timestep, where $T_{n+1} \\equiv T(t_{n+1})$ denotes the temperature at the next timestep $t_{n+1} = t_n +\\Delta t$.\n",
    "\n",
    "By re-arranging the equation, we can solve for the temperature at the next timestep $n+1$  based on the known temperature at the present timestep $n$:\n",
    "\n",
    "$$ T_{n+1} = T_n + \\frac{\\Delta t}{C} \\bigg[\\frac{S (1-\\alpha)}{4} - ( A - BT_n) + a * ln  \\frac{CO_2}{CO{_2}_{PI}}\\bigg] $$\n",
    "\n",
    "### 2.2) Timestepping\n",
    "More generally, we recognize this equation to be of the form:\n",
    "\n",
    "$$ T_{n+1} = T_n + \\Delta t \\cdot \\text{tendency}(T_n; ...),$$"
   ]
  },
  {
   "cell_type": "markdown",
   "metadata": {},
   "source": [
    "which we implement below (don't forget to update the time as well, $t_{n+1} = t_n + \\Delta t$, which takes in an instance of our anticipated energy balance model EBM type as its only argument."
   ]
  },
  {
   "cell_type": "markdown",
   "metadata": {},
   "source": [
    "Calculate the tendency for \n",
    "\n",
    "$T_n$ = 15°C\n",
    "\n",
    "$\\Delta t$ = 1 [year]"
   ]
  },
  {
   "cell_type": "code",
   "execution_count": null,
   "metadata": {},
   "outputs": [],
   "source": [
    "T_n = 15\n",
    "time_step = 1\n",
    "time = 0\n",
    "\n",
    "tendency = (\n",
    "    1.0\n",
    "    / heat_capacity\n",
    "    * (\n",
    "        +absorbed_solar_radiation(albedo, solar_constant)\n",
    "        - outgoing_thermal_radiation(\n",
    "            T_n,\n",
    "            outgoing_thermal_radiation_constant,\n",
    "            temperature_sensitivity_out_radiation,\n",
    "        )\n",
    "        + greenhouse_effect(280, ghg_coefficient, co2_pre_industrial)\n",
    "    )\n",
    ")"
   ]
  },
  {
   "cell_type": "markdown",
   "metadata": {},
   "source": [
    "Why is the tendency negative?\n",
    "\n",
    "--> Calculate the temperature for the next timestep."
   ]
  },
  {
   "cell_type": "code",
   "execution_count": null,
   "metadata": {},
   "outputs": [],
   "source": [
    "T_n1 = T_n + time_step * tendency"
   ]
  },
  {
   "cell_type": "markdown",
   "metadata": {},
   "source": [
    "Now think about how to calculate the temperature change for the next 150 years? What temperature do you expect after 150 years?"
   ]
  },
  {
   "cell_type": "code",
   "execution_count": null,
   "metadata": {},
   "outputs": [],
   "source": [
    "T_n = np.zeros(150)\n",
    "T_n[0] = 15\n",
    "\n",
    "for year in range(1, 150):\n",
    "    tendency = (\n",
    "        1.0\n",
    "        / heat_capacity\n",
    "        * (\n",
    "            +absorbed_solar_radiation(albedo=albedo, solar_constant=solar_constant)\n",
    "            - outgoing_thermal_radiation(\n",
    "                T_n[year - 1],\n",
    "                outgoing_thermal_radiation_constant,\n",
    "                temperature_sensitivity_out_radiation,\n",
    "            )\n",
    "            + greenhouse_effect(280, ghg_coefficient, co2_pre_industrial)\n",
    "        )\n",
    "    )\n",
    "    T_n[year] = T_n[year - 1] + time_step * tendency"
   ]
  },
  {
   "cell_type": "code",
   "execution_count": null,
   "metadata": {},
   "outputs": [],
   "source": [
    "plt.plot(T_n)\n",
    "plt.ylabel(\"Temperature [°C]\")\n",
    "plt.xlabel(\"Time [years]\")"
   ]
  },
  {
   "cell_type": "markdown",
   "metadata": {},
   "source": [
    "Now we have everything ready. In the next step we will put this into a class called ebm:"
   ]
  },
  {
   "cell_type": "code",
   "execution_count": null,
   "metadata": {},
   "outputs": [],
   "source": [
    "class EBM:\n",
    "    \"\"\"\n",
    "    Zero Order Energy Balance Model (EBM)\n",
    "\n",
    "    The Energy Balance Model (EBM) represents the balance between incoming solar radiation and outgoing thermal radiation.\n",
    "    It also considers the greenhouse effect caused by CO2 levels. This model can simulate the temporal evolution of temperature\n",
    "    based on various parameters like albedo, solar constant, and greenhouse effect coefficients.\n",
    "    \"\"\"\n",
    "\n",
    "    def __init__(\n",
    "        self,\n",
    "        temperature,\n",
    "        time,\n",
    "        time_step,\n",
    "        co2_function,\n",
    "        heat_capacity,\n",
    "        ghg_coefficient,  # a\n",
    "        outgoing_thermal_radiation_constant,  # A\n",
    "        temperature_sensitivity_out_radiation,  # B\n",
    "        co2_pre_industrial,\n",
    "        albedo,\n",
    "        solar_constant,\n",
    "    ):\n",
    "        self.temperature = np.array(temperature)  # temperature in Kelvin\n",
    "        self.time = time\n",
    "        self.time_step = time_step\n",
    "        self.heat_capacity = heat_capacity\n",
    "        self.ghg_coefficient = ghg_coefficient\n",
    "        self.outgoing_thermal_radiation_constant = outgoing_thermal_radiation_constant\n",
    "        self.temperature_sensitivity_out_radiation = temperature_sensitivity_out_radiation  # temperature sensitivity of outgoing radiation\n",
    "        self.co2_pre_industrial = co2_pre_industrial\n",
    "        self.albedo = albedo\n",
    "        self.solar_constant = solar_constant\n",
    "        self.co2_function = co2_function  # Carbon Dioxide function that returns CO2 levels in dependency of time t\n",
    "\n",
    "    def absorbed_solar_radiation(self, solar_constant, albedo):\n",
    "        return solar_constant * (1 - albedo) / 4\n",
    "\n",
    "    def outgoing_thermal_radiation(\n",
    "        self,\n",
    "        temperature,\n",
    "        outgoing_thermal_radiation_constant,\n",
    "        temperature_sensitivity_out_radiation,\n",
    "    ):\n",
    "        return (\n",
    "            outgoing_thermal_radiation_constant\n",
    "            - temperature_sensitivity_out_radiation * temperature\n",
    "        )\n",
    "\n",
    "    def greenhouse_effect(\n",
    "        self, co2_function, ghg_coefficient=5, co2_pre_industrial=280\n",
    "    ):\n",
    "        return ghg_coefficient * np.log(co2_function / co2_pre_industrial)\n",
    "\n",
    "    def tendency(self):\n",
    "        current_T = (\n",
    "            self.temperature[-1] if self.temperature.size > 1 else self.temperature\n",
    "        )\n",
    "        current_t = self.time[-1] if self.temperature.size > 1 else self.time\n",
    "\n",
    "        return (\n",
    "            1.0\n",
    "            / self.heat_capacity\n",
    "            * (\n",
    "                +self.absorbed_solar_radiation(\n",
    "                    solar_constant=self.solar_constant, albedo=self.albedo\n",
    "                )\n",
    "                - self.outgoing_thermal_radiation(\n",
    "                    current_T,\n",
    "                    outgoing_thermal_radiation_constant=self.outgoing_thermal_radiation_constant,\n",
    "                    temperature_sensitivity_out_radiation=self.temperature_sensitivity_out_radiation,\n",
    "                )\n",
    "                + self.greenhouse_effect(\n",
    "                    self.co2_function(current_t),\n",
    "                    ghg_coefficient=self.ghg_coefficient,\n",
    "                    co2_pre_industrial=self.co2_pre_industrial,\n",
    "                )\n",
    "            )\n",
    "        )\n",
    "\n",
    "    @property\n",
    "    def timestep(self):\n",
    "        new_T = (\n",
    "            self.temperature[-1] + self.time_step * self.tendency()\n",
    "            if self.temperature.size > 1\n",
    "            else self.temperature + self.time_step * self.tendency()\n",
    "        )\n",
    "        new_t = (\n",
    "            self.time[-1] + self.time_step\n",
    "            if self.temperature.size > 1\n",
    "            else self.time + self.time_step\n",
    "        )\n",
    "\n",
    "        self.temperature = np.append(self.temperature, new_T)\n",
    "        self.time = np.append(self.time, new_t)"
   ]
  },
  {
   "cell_type": "markdown",
   "metadata": {},
   "source": [
    "### 2.4) Running simulations of the energy balance model\n",
    "\n",
    "Let's define a function that runs an EBM simulation by timestepping forward until a given end_year.\n",
    "\n"
   ]
  },
  {
   "cell_type": "code",
   "execution_count": null,
   "metadata": {},
   "outputs": [],
   "source": [
    "def run_model(model, end_year):\n",
    "    for year in range(end_year):\n",
    "        model.timestep"
   ]
  },
  {
   "cell_type": "markdown",
   "metadata": {},
   "source": [
    "For example, let us consider the case where CO₂ emissions increase by 1% year-over-year from the preindustrial value [CO$_2$] = $280.0$ ppm, starting at T=T₀=14°C in year t=0 and with a timestep Δt = 1 year."
   ]
  },
  {
   "cell_type": "code",
   "execution_count": null,
   "metadata": {},
   "outputs": [],
   "source": [
    "def CO2_test(t, CO2_PI=280):\n",
    "    return CO2_PI ** (1 + 1 / 100) ** t"
   ]
  },
  {
   "cell_type": "code",
   "execution_count": null,
   "metadata": {},
   "outputs": [],
   "source": [
    "model_parameters = {\n",
    "    \"temperature\": T0,\n",
    "    \"time\": 0,\n",
    "    \"time_step\": 1,\n",
    "    \"co2_function\": CO2_test,\n",
    "    \"heat_capacity\": heat_capacity,\n",
    "    \"ghg_coefficient\": ghg_coefficient,\n",
    "    \"outgoing_thermal_radiation_constant\": outgoing_thermal_radiation_constant,\n",
    "    \"temperature_sensitivity_out_radiation\": temperature_sensitivity_out_radiation,\n",
    "    \"co2_pre_industrial\": 280,\n",
    "    \"albedo\": albedo,\n",
    "    \"solar_constant\": solar_constant,\n",
    "}"
   ]
  },
  {
   "cell_type": "markdown",
   "metadata": {},
   "source": [
    "In Python, the ** syntax in a function call is used for unpacking key-value pairs from dictionaries directly into function arguments. This is particularly useful when working with functions that accept a variable number of keyword arguments.\n",
    "\n",
    "In summary, ** in a function call is used to unpack dictionary items as keyword arguments."
   ]
  },
  {
   "cell_type": "code",
   "execution_count": null,
   "metadata": {},
   "outputs": [],
   "source": [
    "model = EBM(**model_parameters)"
   ]
  },
  {
   "cell_type": "code",
   "execution_count": null,
   "metadata": {},
   "outputs": [],
   "source": [
    "model.timestep"
   ]
  },
  {
   "cell_type": "code",
   "execution_count": null,
   "metadata": {},
   "outputs": [],
   "source": [
    "model.temperature"
   ]
  },
  {
   "cell_type": "markdown",
   "metadata": {},
   "source": [
    "## 3) Energy balance model applications\n",
    "### 3.1) Why was Earth's preindustrial climate so stable?\n",
    "Let us consider the simple case where CO₂ concentrations remain at their pre-industrial temperatures."
   ]
  },
  {
   "cell_type": "code",
   "execution_count": null,
   "metadata": {},
   "outputs": [],
   "source": [
    "def CO2_test(t):\n",
    "    return 280\n",
    "\n",
    "\n",
    "model_parameters[\"co2_function\"] = CO2_test"
   ]
  },
  {
   "cell_type": "code",
   "execution_count": null,
   "metadata": {},
   "outputs": [],
   "source": [
    "model = EBM(**model_parameters)"
   ]
  },
  {
   "cell_type": "code",
   "execution_count": null,
   "metadata": {},
   "outputs": [],
   "source": [
    "run_model(model, 200)"
   ]
  },
  {
   "cell_type": "code",
   "execution_count": null,
   "metadata": {},
   "outputs": [],
   "source": [
    "t0s = np.arange(0, 28, 2)\n",
    "\n",
    "for i in t0s:\n",
    "    model_parameters[\"temperature\"] = i\n",
    "    model = EBM(**model_parameters)\n",
    "    run_model(model, 200)\n",
    "    plt.plot(model.temperature)\n",
    "\n",
    "plt.grid()\n",
    "plt.xlabel(\"year\")\n",
    "plt.ylabel(\"temperature [°C]\")"
   ]
  },
  {
   "cell_type": "markdown",
   "metadata": {},
   "source": [
    "This figure shows that, no matter where we start out, the overall negative feedbacks ($B<0$) restore the temperature to the preindustrial equilibrum value of $T_0$ = 14.0 °C, over an exponential timescale of about 100 years."
   ]
  },
  {
   "cell_type": "markdown",
   "metadata": {},
   "source": [
    "### 3.2) Historical global warming fueled by greenhouse gas emissions\n",
    "\n",
    "Human greenhouse gas emissions have fundamentally altered Earth's energy balance, moving us away from the stable preindustrial climate of the past few thousand years.\n",
    "\n",
    "Since human CO₂ emissions are the main driver of global warming, we expect that if we plug historical CO₂ increases into our model (\"forcing\" it), we should roughly reproduce the observed historical global warming.\n",
    "\n",
    "The observed increase of CO2 concentrations can be fairly accurately modelled by the simple cubic formula below."
   ]
  },
  {
   "cell_type": "code",
   "execution_count": null,
   "metadata": {},
   "outputs": [],
   "source": [
    "def co2_hist(t):\n",
    "    return 280 * (1 + ((t - 1850) / 220) ** 3)"
   ]
  },
  {
   "cell_type": "code",
   "execution_count": null,
   "metadata": {},
   "outputs": [],
   "source": [
    "model_parameters[\"co2_function\"] = co2_hist\n",
    "model_parameters[\"temperature\"] = T0\n",
    "model_parameters[\"time\"] = 1850\n",
    "model = EBM(**model_parameters)\n",
    "\n",
    "run_model(model, 170)"
   ]
  },
  {
   "cell_type": "code",
   "execution_count": null,
   "metadata": {},
   "outputs": [],
   "source": [
    "datapath = \"data/graph.txt\"\n",
    "temp = pd.read_csv(datapath, header=None, skiprows=5, index_col=0, delimiter=\"     \")\n",
    "temp = temp + 14.15\n",
    "\n",
    "CO2_url = \"data/monthly_in_situ_co2_mlo.csv\"\n",
    "co2_data = pd.read_csv(CO2_url, header=58, skiprows=8, index_col=0)\n",
    "co2_data = co2_data.iloc[4:]\n",
    "co2_data = pd.to_numeric(co2_data.iloc[:, 5])\n",
    "co2_data[co2_data <= 0] = np.nan\n",
    "co2_data.index = pd.to_datetime(co2_data.index, format=\"%Y\")\n",
    "co2_data = co2_data.groupby(co2_data.index.year).mean()"
   ]
  },
  {
   "cell_type": "code",
   "execution_count": null,
   "metadata": {},
   "outputs": [],
   "source": [
    "f, (ax, bx) = plt.subplots(1, 2, figsize=(8, 4))\n",
    "ax.plot(np.arange(1850, 2020), co2_hist(np.arange(1850, 2020)), label=\"EBM model\")\n",
    "ax.plot(co2_data.index, co2_data.values, label=\"Keeling Curve\")\n",
    "ax.set_ylabel(\"$CO_2$ concentration [ppm]\")\n",
    "ax.grid()\n",
    "ax.set_xlabel(\"Year\")\n",
    "ax.legend()\n",
    "\n",
    "\n",
    "bx.plot(np.arange(1850, 2021), model.temperature, label=\"EBM model\")\n",
    "temp.plot(ax=bx)\n",
    "bx.set_ylabel(\"Temperature [°C]\")\n",
    "bx.grid()\n",
    "bx.legend([\"EBM Model\", \"NASA Observations\", \"NASA Obs roll. mean\"])\n",
    "bx.set_xlabel(\"Year\")\n",
    "\n",
    "f.tight_layout()"
   ]
  },
  {
   "cell_type": "markdown",
   "metadata": {},
   "source": [
    "CO<sub>2</sub> Emissions: Beyond Trend Predictions to Climate Noise\n",
    "\n",
    "While CO<sub>2</sub> emissions can be used to predict the overarching trend in climate, we must also consider the inherent climate noise present in observations. This noise doesn't arise from instrumental inaccuracies but represents genuine signals from the Earth's natural variability.\n",
    "\n",
    "Such natural fluctuations are mainly attributed to the turbulent and chaotic fluid dynamics of both the atmosphere and the ocean. The dynamics are visually represented in the following illustrations:"
   ]
  },
  {
   "cell_type": "markdown",
   "metadata": {},
   "source": [
    "[![Video Thumbnail](https://img.youtube.com/vi/oRsY_UviBPE/maxresdefault.jpg)](https://youtu.be/oRsY_UviBPE)\n"
   ]
  },
  {
   "cell_type": "markdown",
   "metadata": {},
   "source": [
    "Now that we've convinced ourselves that the model accurately reproduces historical warming, we can use it to project how much warming we might expect due to future CO₂ emissions."
   ]
  },
  {
   "cell_type": "markdown",
   "metadata": {},
   "source": [
    "### 3.3) Best- and worst-case projections of future global warming\n",
    "\n",
    "Consider two divergent hypothetical futures:\n",
    "\n",
    "1) a low-emissions world in which emissions decrease such that CO2 concentrations stay below 500 ppm by 2100 (known in climate circles as \"RCP2.6\") and\n",
    "\n",
    "2) a high-emissions world in which emissions continue increasing and CO2 concentrations soar upwards of 1200 ppm (\"RCP8.5\")."
   ]
  },
  {
   "cell_type": "code",
   "execution_count": null,
   "metadata": {},
   "outputs": [],
   "source": [
    "def CO2_RCP26(t):\n",
    "    return 280 * (\n",
    "        1 + ((t - 1850) / 220) ** 3 * np.minimum(1.0, np.exp(-((t - 1850) - 170) / 100))\n",
    "    )\n",
    "\n",
    "\n",
    "def CO2_RCP85(t):\n",
    "    return 280 * (\n",
    "        1 + ((t - 1850) / 220) ** 3 * np.maximum(1.0, np.exp(((t - 1850) - 170) / 100))\n",
    "    )"
   ]
  },
  {
   "cell_type": "markdown",
   "metadata": {},
   "source": [
    "In the low-emissions scenario, the temperature increase stays below $\\Delta T$ = 2 °C by 2100, while in the high-emissions scenario temperatures soar upwards of 3.5ºC above pre-industrial levels."
   ]
  },
  {
   "cell_type": "code",
   "execution_count": null,
   "metadata": {},
   "outputs": [],
   "source": [
    "model_parameters[\"co2_function\"] = CO2_RCP26\n",
    "model1 = EBM(**model_parameters)\n",
    "\n",
    "model_parameters[\"co2_function\"] = CO2_RCP85\n",
    "model2 = EBM(**model_parameters)\n",
    "\n",
    "run_model(model1, 249)\n",
    "run_model(model2, 249)"
   ]
  },
  {
   "cell_type": "code",
   "execution_count": null,
   "metadata": {},
   "outputs": [],
   "source": [
    "f, (ax, bx) = plt.subplots(1, 2, figsize=(8, 4))\n",
    "\n",
    "ax.plot(\n",
    "    np.arange(1850, 2100),\n",
    "    CO2_RCP26(np.arange(1850, 2100)),\n",
    "    color=\"Blue\",\n",
    "    label=\"RCP 2.6 low emissions\",\n",
    ")\n",
    "ax.plot(\n",
    "    np.arange(1850, 2100),\n",
    "    CO2_RCP85(np.arange(1850, 2100)),\n",
    "    color=\"Red\",\n",
    "    label=\"RCP 8.5 High emissions\",\n",
    ")\n",
    "ax.plot(\n",
    "    2023, CO2_RCP26(2023), marker=\".\", markersize=20, label=\"we are here\", color=\"black\"\n",
    ")\n",
    "ax.set_ylabel(\"$CO_2$ concentration [ppm]\")\n",
    "ax.legend()\n",
    "\n",
    "bx.plot(np.arange(1850, 2100), model1.temperature, color=\"Blue\")\n",
    "bx.plot(np.arange(1850, 2100), model2.temperature, color=\"Red\")\n",
    "bx.axhline(\n",
    "    y=16, label=\"Paris Agreement\\n threshold (2°C warming)\", ls=\"--\", color=\"black\"\n",
    ")\n",
    "bx.set_ylabel(\"Temperature [°C]\")\n",
    "bx.plot(\n",
    "    2023,\n",
    "    model1.temperature[173],\n",
    "    marker=\".\",\n",
    "    markersize=20,\n",
    "    label=\"we are here\",\n",
    "    color=\"black\",\n",
    ")\n",
    "bx.legend()\n",
    "\n",
    "f.tight_layout()"
   ]
  }
 ],
 "metadata": {
  "kernelspec": {
   "display_name": "Python 3 (ipykernel)",
   "language": "python",
   "name": "python3"
  },
  "language_info": {
   "codemirror_mode": {
    "name": "ipython",
    "version": 3
   },
   "file_extension": ".py",
   "mimetype": "text/x-python",
   "name": "python",
   "nbconvert_exporter": "python",
   "pygments_lexer": "ipython3",
   "version": "3.11.5"
  }
 },
 "nbformat": 4,
 "nbformat_minor": 4
}
