{
 "cells": [
  {
   "cell_type": "markdown",
   "metadata": {},
   "source": [
    "#  A \"zero-dimensional\" energy balance model of Earth's climate\n",
    "\n",
    "from https://florianboergel.github.io/climateoftheocean/2020-11-11-energy-model.html"
   ]
  },
  {
   "cell_type": "code",
   "execution_count": 74,
   "metadata": {},
   "outputs": [],
   "source": [
    "import xarray as xr\n",
    "import pandas as pd\n",
    "import numpy as np\n",
    "import matplotlib.pyplot as plt"
   ]
  },
  {
   "cell_type": "markdown",
   "metadata": {},
   "source": [
    "## The Observed Global Energy Budget\n",
    "\n",
    "```{note} Reminder\n",
    "The global energy budget is the balance of energy coming into and going out of Earth, influenced mainly by the sun's radiation and Earth's reflective and absorptive properties.\n",
    "```\n",
    "\n",
    "### So, Why Does It Matter?\n",
    "\n",
    "- **Climate Change Connection**: Alterations in the energy budget directly impact global warming and weather patterns. More greenhouse gases mean more trapped energy, leading to a hotter planet.\n",
    "\n",
    "- **Real-world Consequences**:\n",
    "    ```{margin} Quick Fact\n",
    "    Energy imbalances are responsible for unpredictable climate events.\n",
    "    ```\n",
    "    - **Weather Events**: Such as powerful hurricanes and erratic rainfall.\n",
    "    - **Melting Ice Caps**: Increased energy melts polar ice, raising sea levels and altering ocean currents.\n",
    "    - **Biodiversity Risk**: Warmer regions put numerous species' habitats in danger.\n",
    "\n",
    "- **The Role of Humans**: Our actions, like burning fossil fuels and clearing forests, modify the energy budget. This heightens greenhouse gas levels and planetary temperatures. Grasping the energy budget lets us evaluate our environmental impact and consider more sustainable practices.\n",
    "\n",
    "![Alt text](figures/GlobalEnergyBudget.png)\n",
    "\n",
    "In upcoming exercises, we'll build a basic climate model grounded in this energy budget. But first, we need a simpler version of this budget.\n",
    "\n",
    "```{prf:assumption} Climate Model Basics\n",
    "\n",
    "Our rudimentary climate model can be expressed as\n",
    "\n",
    "- **Heat Content Change** = \n",
    "    - $+$ Energy from the Sun's rays\n",
    "    - $-$ Blackbody cooling to space\n",
    "    - $+$ Radiation trapped due to human activities\n",
    "\n",
    "These elements represent a global average, hence the term \"zero-dimensional.\"\n",
    "```\n",
    "\n"
   ]
  },
  {
   "cell_type": "markdown",
   "metadata": {},
   "source": [
    "![Alt text](figures/planetary_energy_balance.png)\n"
   ]
  },
  {
   "cell_type": "markdown",
   "metadata": {},
   "source": [
    "```{note} How to build the model?\n",
    "To make this simple conceptual model quantitative, we need a mathematical formulation for each of these four processes.\n",
    "```\n"
   ]
  },
  {
   "cell_type": "markdown",
   "metadata": {},
   "source": [
    "### 1.1 Absorbed solar radiation\n",
    "\n",
    "At Earth's orbital distance from the Sun, the power of the Sun's rays that intercept the Earth is equal to\n"
   ]
  },
  {
   "cell_type": "code",
   "execution_count": 37,
   "metadata": {},
   "outputs": [],
   "source": [
    "S = 1368  # solar insolation [W/m^2]  (energy per unit time per unit area)"
   ]
  },
  {
   "cell_type": "markdown",
   "metadata": {},
   "source": [
    "A small fraction"
   ]
  },
  {
   "cell_type": "code",
   "execution_count": 38,
   "metadata": {},
   "outputs": [],
   "source": [
    "alpha = 0.3  # albedo, or planetary reflectivity [unitless]"
   ]
  },
  {
   "cell_type": "markdown",
   "metadata": {},
   "source": [
    "of this incoming solar radiation is reflected back out to space (by reflective surfaces like white clouds, snow, and ice), with the remaining fraction $(1-\\alpha)$ being absorbed.\n",
    "\n",
    "Since the incoming solar rays are all approximately parallel this far from the Sun, the cross-sectional area of the Earth that intercepts them is just a disc of area $\\pi R^{2}$. Since all of the other terms we will consider act on the entire surface area $4\\pi R^{2}$ of the spherical Earth, the absorbed solar radiation *per unit surface area* (averaged over the entire globe) is reduced by a factor of 4.\n",
    "\n",
    "![energy](figures/s250_3_002i.jpg)\n",
    "\n",
    "The absorbed solar radiation per unit area is thus\n",
    "```{math}\n",
    "\\text{absorbed solar radiation} \\equiv \\frac{S(1-\\alpha)}{4}\n",
    "```"
   ]
  },
  {
   "cell_type": "code",
   "execution_count": 39,
   "metadata": {},
   "outputs": [],
   "source": [
    "def absorbed_solar_radiation(S=1368, alpha=0.3):\n",
    "    return S * (1 - alpha) / 4"
   ]
  },
  {
   "cell_type": "markdown",
   "metadata": {},
   "source": [
    "### 1.2 Outgoing Thermal Radiation\n",
    "Assume that the Earth acts similarly to a blackbody radiator. If we consider the Earth's effective global mean emission temperature as $T_e$ then the relation is given by:\n",
    "\n",
    "```{math}\n",
    "OLR = \\sigma T_e^4\n",
    "```\n",
    "\n",
    "In the above equation:\n",
    "- $OLR$ stands for Outgoing Longwave Radiation\n",
    "- $\\sigma$ represents the Stefan-Boltzmann constant and has a value of $5.67\\times 10^{-8} W m^{-2}K^{-4}$\n",
    "\n",
    "From observational data, the average global annual value for $OLR$ is 238.5 W $m^{-2}$.\n",
    "\n",
    "Given this value, we can rearrange the equation to find $T_e$:\n",
    "\n",
    "```{math}\n",
    "T_e = \\frac{OLR}{\\sigma}^{0.25}\n",
    "```"
   ]
  },
  {
   "cell_type": "markdown",
   "metadata": {},
   "source": [
    "```{exercise} Earth's Emission Temperature as a Blackbody Radiator\n",
    ":label: earth-blackbody\n",
    "\n",
    "Determine the value of $T_e$.\n",
    "\n",
    "1. Compute the emission temperature $T_e$. \n",
    "2. Contrast this calculated value of $T_e$ with the real global mean surface temperature. Are they close?\n",
    "3. Evaluate the validity of representing Earth's emission to space using the simple blackbody radiator model.\n",
    "```\n"
   ]
  },
  {
   "cell_type": "code",
   "execution_count": 40,
   "metadata": {},
   "outputs": [
    {
     "data": {
      "text/plain": [
       "254.66914551158553"
      ]
     },
     "execution_count": 40,
     "metadata": {},
     "output_type": "execute_result"
    }
   ],
   "source": [
    "Te = (238.5 / (5.67 * 10**-8)) ** (0.25)\n",
    "Te"
   ]
  },
  {
   "cell_type": "markdown",
   "metadata": {},
   "source": [
    "The outgoing thermal radiation (blackbody cooling to space), denoted as $G(T)$, represents the combined effects of negative feedbacks that *dampen warming*, such as **blackbody radiation**, and positive feedbacks that *amplify warming*, such as the **water vapor feedback**.\n",
    "\n",
    "Since these physics are too complicated to deal with here, we *linearize* the model by combining the incoming and the outgoing radiation.\n",
    "\n",
    "We assume that the preindustrial world was in energy balance and thus that the equilibrium temperature aligns with the preindustrial temperature.\n",
    "\n",
    "Consequently, our focus narrows down to just the first term of a Taylor Series expansion:\n",
    "\n",
    "```{math}\n",
    "G(T) \\sim G(T_0) + G^{'}(T_0) (T-T_0)\n",
    "```\n",
    "\n",
    "around the pre-industrial equilibrium temperature $T_0$."
   ]
  },
  {
   "cell_type": "code",
   "execution_count": 41,
   "metadata": {},
   "outputs": [],
   "source": [
    "T0 = 14.0  # preindustrial temperature [°C]"
   ]
  },
  {
   "cell_type": "markdown",
   "metadata": {},
   "source": [
    "To simplify the expression, we define:\n",
    "\n",
    "$$ A \\equiv G(T_0) - G^{'}(T_0)T_0 $$\n",
    "$$B \\equiv - G^{'}(T_0) \\text{       (the climate feedback parameter),}$$\n",
    "\n",
    "which gives\n",
    "\n",
    "$$ \\text{outgoing thermal radiation} \\equiv G(T) \\sim A - BT$$"
   ]
  },
  {
   "cell_type": "code",
   "execution_count": 42,
   "metadata": {},
   "outputs": [],
   "source": [
    "def outgoing_thermal_radiation(T, A, B):\n",
    "    return A - B * T"
   ]
  },
  {
   "cell_type": "markdown",
   "metadata": {},
   "source": [
    "```{important} Value of the climate feedback parameter B\n",
    "$B$ comes from a bottom-up estimate based on the best understanding of the various climate feedbacks (read more [here](https://www.google.com/url?sa=t&rct=j&q=&esrc=s&source=web&cd=&ved=2ahUKEwikwbfrm9LsAhVjhuAKHQhZCm8QFjAEegQIAhAC&url=https%3A%2F%2Fclimateextremes.org.au%2Fwp-content%2Fuploads%2F2020%2F07%2FWCRP_ECS_Final_manuscript_2019RG000678R_FINAL_200720.pdf&usg=AOvVaw0hWIM3t4kJTovxoeobcRIN)).\n",
    "```"
   ]
  },
  {
   "cell_type": "code",
   "execution_count": 43,
   "metadata": {},
   "outputs": [],
   "source": [
    "B = -1.3  # climate feedback parameter [W/m^2/°C],"
   ]
  },
  {
   "cell_type": "markdown",
   "metadata": {},
   "source": [
    "```{note}\n",
    "\n",
    "Since $B<0$, this tells us that the overall climate feedback is negative (i.e., stabilizing). Positive feedbacks cause $B$ to become less negative, reducing the efficiency with which Earth cools itself by radiating thermal energy to space and thus amplifying warming.\n",
    "```"
   ]
  },
  {
   "cell_type": "markdown",
   "metadata": {},
   "source": [
    "```{prf:assumption}\n",
    "The value $A$ of is given by the definition of a preindustrial equilibrium, i.e., the fact that before human influence, Earth's energy budget was perfectly balanced:\n",
    "\n",
    "$$\\frac{S (1-\\alpha)}{4} \\equiv A - BT_0$$\n",
    "\n",
    "```\n",
    "\n",
    "By rearanging this equation, we find that the value of $A$ is given by"
   ]
  },
  {
   "cell_type": "code",
   "execution_count": 44,
   "metadata": {},
   "outputs": [],
   "source": [
    "A = absorbed_solar_radiation() + B * T0"
   ]
  },
  {
   "cell_type": "code",
   "execution_count": 45,
   "metadata": {},
   "outputs": [
    {
     "name": "stdout",
     "output_type": "stream",
     "text": [
      "221.2\n"
     ]
    }
   ],
   "source": [
    "print(A)"
   ]
  },
  {
   "cell_type": "markdown",
   "metadata": {},
   "source": [
    "### Human-caused greenhouse effect\n",
    "\n",
    "Empirically, the greenhouse effect is known to be a logarithmic function of gaseous carbon dioxide ($CO_2$) concentrations\n",
    "\n",
    "$$ \\text{Human-caused greenhouse effect} = a * ln  \\frac{CO_2}{CO_{2, PI}}  $$\n",
    "\n",
    "where"
   ]
  },
  {
   "cell_type": "code",
   "execution_count": 46,
   "metadata": {},
   "outputs": [],
   "source": [
    "a = 5  # CO2 forcing coefficient [W/m^2]"
   ]
  },
  {
   "cell_type": "code",
   "execution_count": 47,
   "metadata": {},
   "outputs": [],
   "source": [
    "CO2_PI = 280  # preindustrial CO2 concentration [parts per million; ppm];"
   ]
  },
  {
   "cell_type": "code",
   "execution_count": 48,
   "metadata": {},
   "outputs": [],
   "source": [
    "def greenhouse_effect(CO2, a=5, CO2_PI=280):\n",
    "    return a * np.log(CO2 / CO2_PI)"
   ]
  },
  {
   "cell_type": "code",
   "execution_count": 49,
   "metadata": {},
   "outputs": [
    {
     "data": {
      "image/png": "[encoded data removed]",
      "text/plain": [
       "<Figure size 640x480 with 1 Axes>"
      ]
     },
     "metadata": {},
     "output_type": "display_data"
    }
   ],
   "source": [
    "co2_present = 420\n",
    "co2_range = 280 * 2 ** np.linspace(-1, 3, 100)\n",
    "\n",
    "plt.plot(co2_range, greenhouse_effect(co2_range), color=\"black\")\n",
    "plt.ylabel(\"Radiative forcing [$W/m^2$]\")\n",
    "plt.xlabel(\"$CO_2$ concentration [ppm]\")\n",
    "plt.plot(\n",
    "    CO2_PI,\n",
    "    greenhouse_effect(CO2_PI),\n",
    "    marker=\".\",\n",
    "    markersize=20,\n",
    "    label=\"pre-industrial (PI)\",\n",
    "    color=\"blue\",\n",
    ")\n",
    "plt.plot(\n",
    "    co2_present,\n",
    "    greenhouse_effect(co2_present),\n",
    "    marker=\".\",\n",
    "    markersize=20,\n",
    "    label=\"present day (2020)\",\n",
    "    color=\"red\",\n",
    ")\n",
    "plt.xticks([280, 280 * 2, 280 * 4, 280 * 8])\n",
    "plt.legend(loc=4)\n",
    "plt.grid()"
   ]
  },
  {
   "cell_type": "markdown",
   "metadata": {},
   "source": [
    "### Observations from Mauna Loa Volcano\n",
    "\n",
    "```{figure} https://i.pinimg.com/originals/df/1a/e7/df1ae72cfd5e6d0d535c0ec99e708f6f.jpg\n",
    ":height: 500px\n",
    ":name: volcano-mauna-loa\n",
    "Mauna Loa Volcano\n",
    "```"
   ]
  },
  {
   "cell_type": "markdown",
   "metadata": {},
   "source": [
    "### 1.4) Change in heat content\n",
    "\n",
    "The heat content $C_{temp}$ is determined by the temperature $T$ (in Kelvin) and the heat capacity of the climate system. While we are interested in the temperature of the atmosphere, which has a very small heat capacity, its heat is closely coupled with that of the upper ocean, which has a much larger heat capacity of"
   ]
  },
  {
   "cell_type": "code",
   "execution_count": 50,
   "metadata": {},
   "outputs": [],
   "source": [
    "C = 51  # atmosphere and upper-ocean heat capacity [J/m^2/°C]"
   ]
  },
  {
   "cell_type": "markdown",
   "metadata": {},
   "source": [
    "```{prf:assumption} Constant heat-capacity\n",
    "The change in heat content over time is given by \n",
    "$$\\frac{d(C_{temp})}{dt}$$.\n",
    "\n",
    "Since the heat capacity of seawater hardly changes with temperature, we can rewrite this in terms of the change in temperature with time\n",
    "\n",
    "$$ \\frac{d(C_{temp})}{dt} = C\\frac{dT}{dt} $$\n",
    "```"
   ]
  },
  {
   "cell_type": "markdown",
   "metadata": {},
   "source": [
    "### 1.5) \"zero-dimensional\" climate model equation\n",
    "\n",
    "Combining all of these subcomponent models, we write the governing equation of the \"zero-dimensional\" energy balance climate model as the Ordinary Differential Equation (ODE)\n",
    "\n",
    "$$ C\\frac{dT}{dt} = \\frac{S (1-\\alpha)}{4} - ( A - BT_0) + a * ln  \\frac{CO_2}{CO{_2}_{PI}} $$\n",
    "\n",
    "which determines the time evolution of Earth's globally-averaged surface temperature."
   ]
  },
  {
   "cell_type": "markdown",
   "metadata": {},
   "source": [
    "## 2) Numerical solution method and data structures"
   ]
  },
  {
   "cell_type": "markdown",
   "metadata": {},
   "source": [
    "### 2.1) Discretization\n",
    "The energy balance model equation above can be discretized in time as\n",
    "\n",
    "$$ C\\frac{T(t+\\Delta t) - T(t)}{\\Delta t} = \\frac{S (1-\\alpha)}{4} - ( A - BT_0) + a * ln  \\frac{CO_2}{CO{_2}_{PI}} $$\n",
    "\n",
    "Our finite difference equation, which results from a first-order truncation of the Taylor series expansion, approximates the exact ordinary differential equation above in the limit that $\\Delta t \\rightarrow 0$. In practice, we can keep decreasing $\\Delta t$ until the solution converges within a tolerable error.\n",
    "\n",
    "Hereafter, we use the subscript $n$ to denote the $n$-th timestep, where $T_{n+1} \\equiv T(t_{n+1})$ denotes the temperature at the next timestep $t_{n+1} = t_n +\\Delta t$.\n",
    "\n",
    "By re-arranging the equation, we can solve for the temperature at the next timestep $n+1$  based on the known temperature at the present timestep $n$:\n",
    "\n",
    "$$ T_{n+1} = T_n + \\frac{\\Delta t}{C} \\bigg[\\frac{S (1-\\alpha)}{4} - ( A - BT_n) + a * ln  \\frac{CO_2}{CO{_2}_{PI}}\\bigg] $$\n",
    "\n",
    "### 2.2) Timestepping\n",
    "More generally, we recognize this equation to be of the form:\n",
    "\n",
    "$$ T_{n+1} = T_n + \\Delta t \\cdot \\text{tendency}(T_n; ...),$$"
   ]
  },
  {
   "cell_type": "markdown",
   "metadata": {},
   "source": [
    "which we implement below (don't forget to update the time as well, $t_{n+1} = t_n + \\Delta t$, which takes in an instance of our anticipated energy balance model EBM type as its only argument."
   ]
  },
  {
   "cell_type": "markdown",
   "metadata": {},
   "source": [
    "Calculate the tendency for \n",
    "\n",
    "$T_n$ = 15°C\n",
    "\n",
    "$\\Delta t$ = 1 [year]"
   ]
  },
  {
   "cell_type": "code",
   "execution_count": 70,
   "metadata": {},
   "outputs": [],
   "source": [
    "T_n = 15\n",
    "deltat = 1\n",
    "t = 0\n",
    "\n",
    "tendency = (\n",
    "    1.0\n",
    "    / C\n",
    "    * (\n",
    "        +absorbed_solar_radiation(alpha=alpha, S=S)\n",
    "        - outgoing_thermal_radiation(T_n, A=A, B=B)\n",
    "        + greenhouse_effect(280, a=a, CO2_PI=CO2_PI)\n",
    "    )\n",
    ")"
   ]
  },
  {
   "cell_type": "markdown",
   "metadata": {},
   "source": [
    "Why is the tendency negative?\n",
    "\n",
    "--> Calculate the temperature for the next timestep."
   ]
  },
  {
   "cell_type": "code",
   "execution_count": 71,
   "metadata": {},
   "outputs": [],
   "source": [
    "T_n1 = T_n + deltat * tendency"
   ]
  },
  {
   "cell_type": "markdown",
   "metadata": {},
   "source": [
    "Now think about how to calculate the temperature change for the next 150 years? What temperature do you expect after 150 years?"
   ]
  },
  {
   "cell_type": "code",
   "execution_count": 72,
   "metadata": {},
   "outputs": [],
   "source": [
    "T_n = np.zeros(150)\n",
    "T_n[0] = 15\n",
    "\n",
    "for year in range(1, 150):\n",
    "    tendency = (\n",
    "        1.0\n",
    "        / C\n",
    "        * (\n",
    "            +absorbed_solar_radiation(alpha=alpha, S=S)\n",
    "            - outgoing_thermal_radiation(T_n[year - 1], A=A, B=B)\n",
    "            + greenhouse_effect(280, a=a, CO2_PI=CO2_PI)\n",
    "        )\n",
    "    )\n",
    "    T_n[year] = T_n[year - 1] + deltat * tendency"
   ]
  },
  {
   "cell_type": "code",
   "execution_count": 54,
   "metadata": {},
   "outputs": [
    {
     "data": {
      "text/plain": [
       "Text(0.5, 0, 'Time [years]')"
      ]
     },
     "execution_count": 54,
     "metadata": {},
     "output_type": "execute_result"
    },
    {
     "data": {
      "image/png": "[encoded data removed]",
      "text/plain": [
       "<Figure size 640x480 with 1 Axes>"
      ]
     },
     "metadata": {},
     "output_type": "display_data"
    }
   ],
   "source": [
    "plt.plot(T_n)\n",
    "plt.ylabel(\"Temperature [°C]\")\n",
    "plt.xlabel(\"Time [years]\")"
   ]
  },
  {
   "cell_type": "markdown",
   "metadata": {},
   "source": [
    "Now we have everything ready. In the next step we will put this into a class called ebm:"
   ]
  },
  {
   "cell_type": "code",
   "execution_count": 55,
   "metadata": {},
   "outputs": [],
   "source": [
    "class EBM:\n",
    "    \"\"\"\n",
    "    Zero Order Energy Balance Model (EBM)\n",
    "\n",
    "    The Energy Balance Model (EBM) represents the balance between incoming solar radiation and outgoing thermal radiation.\n",
    "    It also considers the greenhouse effect caused by CO2 levels. This model can simulate the temporal evolution of temperature\n",
    "    based on various parameters like albedo, solar constant, and greenhouse effect coefficients.\n",
    "\n",
    "    Attributes:\n",
    "    - T : Temperature (in Kelvin)\n",
    "    - t : Time\n",
    "    - deltat : Time step\n",
    "    - CO2 : Carbon Dioxide function that returns CO2 levels in dependency of time t\n",
    "    - C : Heat capacity\n",
    "    - a : Greenhouse effect coefficient\n",
    "    - A : Outgoing thermal radiation constant\n",
    "    - B : Temperature sensitivity of outgoing radiation\n",
    "    - CO2_PI : Pre-industrial CO2 concentration\n",
    "    - alpha : Albedo\n",
    "    - S : Solar constant\n",
    "    \"\"\"\n",
    "\n",
    "    def __init__(self, T, t, deltat, CO2, C, a, A, B, CO2_PI, alpha, S):\n",
    "        self.T = np.array(T)\n",
    "        self.t = t\n",
    "        self.deltat = deltat\n",
    "        self.C = C\n",
    "        self.a = a\n",
    "        self.A = A\n",
    "        self.B = B\n",
    "        self.co2_pi = CO2_PI\n",
    "        self.alpha = alpha\n",
    "        self.S = S\n",
    "        self.co2 = CO2\n",
    "\n",
    "    def absorbed_solar_radiation(self, S, alpha):\n",
    "        return S * (1 - alpha) / 4\n",
    "\n",
    "    def outgoing_thermal_radiation(self, T, A, B):\n",
    "        return A - B * T\n",
    "\n",
    "    def greenhouse_effect(self, CO2, a=5, CO2_PI=280):\n",
    "        return a * np.log(CO2 / CO2_PI)\n",
    "\n",
    "    def tendency(self):\n",
    "        current_T = self.T[-1] if self.T.size > 1 else self.T\n",
    "        current_t = self.t[-1] if self.T.size > 1 else self.t\n",
    "\n",
    "        return (\n",
    "            1.0\n",
    "            / self.C\n",
    "            * (\n",
    "                +self.absorbed_solar_radiation(S=self.S, alpha=self.alpha)\n",
    "                - self.outgoing_thermal_radiation(current_T, A=self.A, B=self.B)\n",
    "                + self.greenhouse_effect(\n",
    "                    self.co2(current_t), a=self.a, CO2_PI=self.co2_pi\n",
    "                )\n",
    "            )\n",
    "        )\n",
    "\n",
    "    @property\n",
    "    def timestep(self):\n",
    "        new_T = (\n",
    "            self.T[-1] + self.deltat * self.tendency()\n",
    "            if self.T.size > 1\n",
    "            else self.T + self.deltat * self.tendency()\n",
    "        )\n",
    "        new_t = self.t[-1] + self.deltat if self.T.size > 1 else self.t + self.deltat\n",
    "\n",
    "        self.T = np.append(self.T, new_T)\n",
    "        self.t = np.append(self.t, new_t)"
   ]
  },
  {
   "cell_type": "markdown",
   "metadata": {},
   "source": [
    "### 2.4) Running simulations of the energy balance model\n",
    "\n",
    "Let's define a function that runs an EBM simulation by timestepping forward until a given end_year.\n",
    "\n"
   ]
  },
  {
   "cell_type": "code",
   "execution_count": 56,
   "metadata": {},
   "outputs": [],
   "source": [
    "def run_model(model, end_year):\n",
    "    for year in range(end_year):\n",
    "        model.timestep"
   ]
  },
  {
   "cell_type": "markdown",
   "metadata": {},
   "source": [
    "For example, let us consider the case where CO₂ emissions increase by 1% year-over-year from the preindustrial value [CO$_2$] = $280.0$ ppm, starting at T=T₀=14°C in year t=0 and with a timestep Δt = 1 year."
   ]
  },
  {
   "cell_type": "code",
   "execution_count": 57,
   "metadata": {},
   "outputs": [],
   "source": [
    "def CO2_test(t, CO2_PI=280):\n",
    "    return CO2_PI ** (1 + 1 / 100) ** t"
   ]
  },
  {
   "cell_type": "code",
   "execution_count": 58,
   "metadata": {},
   "outputs": [],
   "source": [
    "model_parameters = {\n",
    "    \"T\": T0,\n",
    "    \"t\": 0,\n",
    "    \"deltat\": 1,\n",
    "    \"CO2\": CO2_test,\n",
    "    \"C\": C,\n",
    "    \"a\": a,\n",
    "    \"A\": A,\n",
    "    \"B\": B,\n",
    "    \"CO2_PI\": 280,\n",
    "    \"alpha\": alpha,\n",
    "    \"S\": S,\n",
    "}"
   ]
  },
  {
   "cell_type": "markdown",
   "metadata": {},
   "source": [
    "```{note}\n",
    "\n",
    "In Python, the ** syntax in a function call is used for unpacking key-value pairs from dictionaries directly into function arguments. This is particularly useful when working with functions that accept a variable number of keyword arguments.\n",
    "\n",
    "In summary, ** in a function call is used to unpack dictionary items as keyword arguments.\n",
    "```"
   ]
  },
  {
   "cell_type": "code",
   "execution_count": 59,
   "metadata": {},
   "outputs": [],
   "source": [
    "model = EBM(**model_parameters)"
   ]
  },
  {
   "cell_type": "code",
   "execution_count": 60,
   "metadata": {},
   "outputs": [],
   "source": [
    "model.timestep"
   ]
  },
  {
   "cell_type": "code",
   "execution_count": 61,
   "metadata": {},
   "outputs": [
    {
     "data": {
      "text/plain": [
       "array([14., 14.])"
      ]
     },
     "execution_count": 61,
     "metadata": {},
     "output_type": "execute_result"
    }
   ],
   "source": [
    "model.T"
   ]
  },
  {
   "cell_type": "markdown",
   "metadata": {},
   "source": [
    "## 3) Energy balance model applications\n",
    "### 3.1) Why was Earth's preindustrial climate so stable?\n",
    "Let us consider the simple case where CO₂ concentrations remain at their pre-industrial temperatures."
   ]
  },
  {
   "cell_type": "code",
   "execution_count": 62,
   "metadata": {},
   "outputs": [],
   "source": [
    "def CO2_test(t):\n",
    "    return 280\n",
    "\n",
    "\n",
    "model_parameters[\"CO2\"] = CO2_test"
   ]
  },
  {
   "cell_type": "code",
   "execution_count": 63,
   "metadata": {},
   "outputs": [],
   "source": [
    "model = EBM(**model_parameters)"
   ]
  },
  {
   "cell_type": "code",
   "execution_count": 64,
   "metadata": {},
   "outputs": [],
   "source": [
    "run_model(model, 200)"
   ]
  },
  {
   "cell_type": "code",
   "execution_count": 65,
   "metadata": {},
   "outputs": [
    {
     "data": {
      "text/plain": [
       "Text(0, 0.5, 'temperature [°C]')"
      ]
     },
     "execution_count": 65,
     "metadata": {},
     "output_type": "execute_result"
    },
    {
     "data": {
      "image/png": "[encoded data removed]",
      "text/plain": [
       "<Figure size 640x480 with 1 Axes>"
      ]
     },
     "metadata": {},
     "output_type": "display_data"
    }
   ],
   "source": [
    "t0s = np.arange(0, 28, 2)\n",
    "\n",
    "for i in t0s:\n",
    "    model_parameters[\"T\"] = i\n",
    "    model = EBM(**model_parameters)\n",
    "    run_model(model, 200)\n",
    "    plt.plot(model.T)\n",
    "\n",
    "plt.grid()\n",
    "plt.xlabel(\"year\")\n",
    "plt.ylabel(\"temperature [°C]\")"
   ]
  },
  {
   "cell_type": "markdown",
   "metadata": {},
   "source": [
    "This figure shows that, no matter where we start out, the overall negative feedbacks ($B<0$) restore the temperature to the preindustrial equilibrum value of $T_0$ = 14.0 °C, over an exponential timescale of about 100 years."
   ]
  },
  {
   "cell_type": "markdown",
   "metadata": {},
   "source": [
    "### 3.2) Historical global warming fueled by greenhouse gas emissions\n",
    "\n",
    "Human greenhouse gas emissions have fundamentally altered Earth's energy balance, moving us away from the stable preindustrial climate of the past few thousand years.\n",
    "\n",
    "Since human CO₂ emissions are the main driver of global warming, we expect that if we plug historical CO₂ increases into our model (\"forcing\" it), we should roughly reproduce the observed historical global warming.\n",
    "\n",
    "The observed increase of CO2 concentrations can be fairly accurately modelled by the simple cubic formula below."
   ]
  },
  {
   "cell_type": "code",
   "execution_count": 66,
   "metadata": {},
   "outputs": [],
   "source": [
    "def co2_hist(t):\n",
    "    return 280 * (1 + ((t - 1850) / 220) ** 3)"
   ]
  },
  {
   "cell_type": "code",
   "execution_count": 67,
   "metadata": {},
   "outputs": [],
   "source": [
    "model_parameters[\"CO2\"] = co2_hist\n",
    "model_parameters[\"T\"] = T0\n",
    "model_parameters[\"t\"] = 1850\n",
    "model = EBM(**model_parameters)\n",
    "\n",
    "run_model(model, 170)"
   ]
  },
  {
   "cell_type": "code",
   "execution_count": 68,
   "metadata": {},
   "outputs": [
    {
     "name": "stderr",
     "output_type": "stream",
     "text": [
      "/tmp/ipykernel_1965/1293426810.py:2: ParserWarning: Falling back to the 'python' engine because the 'c' engine does not support regex separators (separators > 1 char and different from '\\s+' are interpreted as regex); you can avoid this warning by specifying engine='python'.\n",
      "  temp = pd.read_csv(datapath, header=None, skiprows=5, index_col=0, delimiter=\"     \")\n"
     ]
    },
    {
     "ename": "FileNotFoundError",
     "evalue": "[Errno 2] No such file or directory: 'data/graph.txt'",
     "output_type": "error",
     "traceback": [
      "\u001b[0;31m---------------------------------------------------------------------------\u001b[0m",
      "\u001b[0;31mFileNotFoundError\u001b[0m                         Traceback (most recent call last)",
      "Cell \u001b[0;32mIn[68], line 2\u001b[0m\n\u001b[1;32m      1\u001b[0m datapath \u001b[38;5;241m=\u001b[39m \u001b[38;5;124m\"\u001b[39m\u001b[38;5;124mdata/graph.txt\u001b[39m\u001b[38;5;124m\"\u001b[39m\n\u001b[0;32m----> 2\u001b[0m temp \u001b[38;5;241m=\u001b[39m \u001b[43mpd\u001b[49m\u001b[38;5;241;43m.\u001b[39;49m\u001b[43mread_csv\u001b[49m\u001b[43m(\u001b[49m\u001b[43mdatapath\u001b[49m\u001b[43m,\u001b[49m\u001b[43m \u001b[49m\u001b[43mheader\u001b[49m\u001b[38;5;241;43m=\u001b[39;49m\u001b[38;5;28;43;01mNone\u001b[39;49;00m\u001b[43m,\u001b[49m\u001b[43m \u001b[49m\u001b[43mskiprows\u001b[49m\u001b[38;5;241;43m=\u001b[39;49m\u001b[38;5;241;43m5\u001b[39;49m\u001b[43m,\u001b[49m\u001b[43m \u001b[49m\u001b[43mindex_col\u001b[49m\u001b[38;5;241;43m=\u001b[39;49m\u001b[38;5;241;43m0\u001b[39;49m\u001b[43m,\u001b[49m\u001b[43m \u001b[49m\u001b[43mdelimiter\u001b[49m\u001b[38;5;241;43m=\u001b[39;49m\u001b[38;5;124;43m\"\u001b[39;49m\u001b[38;5;124;43m     \u001b[39;49m\u001b[38;5;124;43m\"\u001b[39;49m\u001b[43m)\u001b[49m\n\u001b[1;32m      3\u001b[0m temp \u001b[38;5;241m=\u001b[39m temp \u001b[38;5;241m+\u001b[39m \u001b[38;5;241m14.15\u001b[39m\n\u001b[1;32m      5\u001b[0m CO2_url \u001b[38;5;241m=\u001b[39m \u001b[38;5;124m\"\u001b[39m\u001b[38;5;124mdata/monthly_in_situ_co2_mlo.csv\u001b[39m\u001b[38;5;124m\"\u001b[39m\n",
      "File \u001b[0;32m/opt/conda/lib/python3.11/site-packages/pandas/io/parsers/readers.py:948\u001b[0m, in \u001b[0;36mread_csv\u001b[0;34m(filepath_or_buffer, sep, delimiter, header, names, index_col, usecols, dtype, engine, converters, true_values, false_values, skipinitialspace, skiprows, skipfooter, nrows, na_values, keep_default_na, na_filter, verbose, skip_blank_lines, parse_dates, infer_datetime_format, keep_date_col, date_parser, date_format, dayfirst, cache_dates, iterator, chunksize, compression, thousands, decimal, lineterminator, quotechar, quoting, doublequote, escapechar, comment, encoding, encoding_errors, dialect, on_bad_lines, delim_whitespace, low_memory, memory_map, float_precision, storage_options, dtype_backend)\u001b[0m\n\u001b[1;32m    935\u001b[0m kwds_defaults \u001b[38;5;241m=\u001b[39m _refine_defaults_read(\n\u001b[1;32m    936\u001b[0m     dialect,\n\u001b[1;32m    937\u001b[0m     delimiter,\n\u001b[0;32m   (...)\u001b[0m\n\u001b[1;32m    944\u001b[0m     dtype_backend\u001b[38;5;241m=\u001b[39mdtype_backend,\n\u001b[1;32m    945\u001b[0m )\n\u001b[1;32m    946\u001b[0m kwds\u001b[38;5;241m.\u001b[39mupdate(kwds_defaults)\n\u001b[0;32m--> 948\u001b[0m \u001b[38;5;28;01mreturn\u001b[39;00m \u001b[43m_read\u001b[49m\u001b[43m(\u001b[49m\u001b[43mfilepath_or_buffer\u001b[49m\u001b[43m,\u001b[49m\u001b[43m \u001b[49m\u001b[43mkwds\u001b[49m\u001b[43m)\u001b[49m\n",
      "File \u001b[0;32m/opt/conda/lib/python3.11/site-packages/pandas/io/parsers/readers.py:611\u001b[0m, in \u001b[0;36m_read\u001b[0;34m(filepath_or_buffer, kwds)\u001b[0m\n\u001b[1;32m    608\u001b[0m _validate_names(kwds\u001b[38;5;241m.\u001b[39mget(\u001b[38;5;124m\"\u001b[39m\u001b[38;5;124mnames\u001b[39m\u001b[38;5;124m\"\u001b[39m, \u001b[38;5;28;01mNone\u001b[39;00m))\n\u001b[1;32m    610\u001b[0m \u001b[38;5;66;03m# Create the parser.\u001b[39;00m\n\u001b[0;32m--> 611\u001b[0m parser \u001b[38;5;241m=\u001b[39m \u001b[43mTextFileReader\u001b[49m\u001b[43m(\u001b[49m\u001b[43mfilepath_or_buffer\u001b[49m\u001b[43m,\u001b[49m\u001b[43m \u001b[49m\u001b[38;5;241;43m*\u001b[39;49m\u001b[38;5;241;43m*\u001b[39;49m\u001b[43mkwds\u001b[49m\u001b[43m)\u001b[49m\n\u001b[1;32m    613\u001b[0m \u001b[38;5;28;01mif\u001b[39;00m chunksize \u001b[38;5;129;01mor\u001b[39;00m iterator:\n\u001b[1;32m    614\u001b[0m     \u001b[38;5;28;01mreturn\u001b[39;00m parser\n",
      "File \u001b[0;32m/opt/conda/lib/python3.11/site-packages/pandas/io/parsers/readers.py:1448\u001b[0m, in \u001b[0;36mTextFileReader.__init__\u001b[0;34m(self, f, engine, **kwds)\u001b[0m\n\u001b[1;32m   1445\u001b[0m     \u001b[38;5;28mself\u001b[39m\u001b[38;5;241m.\u001b[39moptions[\u001b[38;5;124m\"\u001b[39m\u001b[38;5;124mhas_index_names\u001b[39m\u001b[38;5;124m\"\u001b[39m] \u001b[38;5;241m=\u001b[39m kwds[\u001b[38;5;124m\"\u001b[39m\u001b[38;5;124mhas_index_names\u001b[39m\u001b[38;5;124m\"\u001b[39m]\n\u001b[1;32m   1447\u001b[0m \u001b[38;5;28mself\u001b[39m\u001b[38;5;241m.\u001b[39mhandles: IOHandles \u001b[38;5;241m|\u001b[39m \u001b[38;5;28;01mNone\u001b[39;00m \u001b[38;5;241m=\u001b[39m \u001b[38;5;28;01mNone\u001b[39;00m\n\u001b[0;32m-> 1448\u001b[0m \u001b[38;5;28mself\u001b[39m\u001b[38;5;241m.\u001b[39m_engine \u001b[38;5;241m=\u001b[39m \u001b[38;5;28;43mself\u001b[39;49m\u001b[38;5;241;43m.\u001b[39;49m\u001b[43m_make_engine\u001b[49m\u001b[43m(\u001b[49m\u001b[43mf\u001b[49m\u001b[43m,\u001b[49m\u001b[43m \u001b[49m\u001b[38;5;28;43mself\u001b[39;49m\u001b[38;5;241;43m.\u001b[39;49m\u001b[43mengine\u001b[49m\u001b[43m)\u001b[49m\n",
      "File \u001b[0;32m/opt/conda/lib/python3.11/site-packages/pandas/io/parsers/readers.py:1705\u001b[0m, in \u001b[0;36mTextFileReader._make_engine\u001b[0;34m(self, f, engine)\u001b[0m\n\u001b[1;32m   1703\u001b[0m     \u001b[38;5;28;01mif\u001b[39;00m \u001b[38;5;124m\"\u001b[39m\u001b[38;5;124mb\u001b[39m\u001b[38;5;124m\"\u001b[39m \u001b[38;5;129;01mnot\u001b[39;00m \u001b[38;5;129;01min\u001b[39;00m mode:\n\u001b[1;32m   1704\u001b[0m         mode \u001b[38;5;241m+\u001b[39m\u001b[38;5;241m=\u001b[39m \u001b[38;5;124m\"\u001b[39m\u001b[38;5;124mb\u001b[39m\u001b[38;5;124m\"\u001b[39m\n\u001b[0;32m-> 1705\u001b[0m \u001b[38;5;28mself\u001b[39m\u001b[38;5;241m.\u001b[39mhandles \u001b[38;5;241m=\u001b[39m \u001b[43mget_handle\u001b[49m\u001b[43m(\u001b[49m\n\u001b[1;32m   1706\u001b[0m \u001b[43m    \u001b[49m\u001b[43mf\u001b[49m\u001b[43m,\u001b[49m\n\u001b[1;32m   1707\u001b[0m \u001b[43m    \u001b[49m\u001b[43mmode\u001b[49m\u001b[43m,\u001b[49m\n\u001b[1;32m   1708\u001b[0m \u001b[43m    \u001b[49m\u001b[43mencoding\u001b[49m\u001b[38;5;241;43m=\u001b[39;49m\u001b[38;5;28;43mself\u001b[39;49m\u001b[38;5;241;43m.\u001b[39;49m\u001b[43moptions\u001b[49m\u001b[38;5;241;43m.\u001b[39;49m\u001b[43mget\u001b[49m\u001b[43m(\u001b[49m\u001b[38;5;124;43m\"\u001b[39;49m\u001b[38;5;124;43mencoding\u001b[39;49m\u001b[38;5;124;43m\"\u001b[39;49m\u001b[43m,\u001b[49m\u001b[43m \u001b[49m\u001b[38;5;28;43;01mNone\u001b[39;49;00m\u001b[43m)\u001b[49m\u001b[43m,\u001b[49m\n\u001b[1;32m   1709\u001b[0m \u001b[43m    \u001b[49m\u001b[43mcompression\u001b[49m\u001b[38;5;241;43m=\u001b[39;49m\u001b[38;5;28;43mself\u001b[39;49m\u001b[38;5;241;43m.\u001b[39;49m\u001b[43moptions\u001b[49m\u001b[38;5;241;43m.\u001b[39;49m\u001b[43mget\u001b[49m\u001b[43m(\u001b[49m\u001b[38;5;124;43m\"\u001b[39;49m\u001b[38;5;124;43mcompression\u001b[39;49m\u001b[38;5;124;43m\"\u001b[39;49m\u001b[43m,\u001b[49m\u001b[43m \u001b[49m\u001b[38;5;28;43;01mNone\u001b[39;49;00m\u001b[43m)\u001b[49m\u001b[43m,\u001b[49m\n\u001b[1;32m   1710\u001b[0m \u001b[43m    \u001b[49m\u001b[43mmemory_map\u001b[49m\u001b[38;5;241;43m=\u001b[39;49m\u001b[38;5;28;43mself\u001b[39;49m\u001b[38;5;241;43m.\u001b[39;49m\u001b[43moptions\u001b[49m\u001b[38;5;241;43m.\u001b[39;49m\u001b[43mget\u001b[49m\u001b[43m(\u001b[49m\u001b[38;5;124;43m\"\u001b[39;49m\u001b[38;5;124;43mmemory_map\u001b[39;49m\u001b[38;5;124;43m\"\u001b[39;49m\u001b[43m,\u001b[49m\u001b[43m \u001b[49m\u001b[38;5;28;43;01mFalse\u001b[39;49;00m\u001b[43m)\u001b[49m\u001b[43m,\u001b[49m\n\u001b[1;32m   1711\u001b[0m \u001b[43m    \u001b[49m\u001b[43mis_text\u001b[49m\u001b[38;5;241;43m=\u001b[39;49m\u001b[43mis_text\u001b[49m\u001b[43m,\u001b[49m\n\u001b[1;32m   1712\u001b[0m \u001b[43m    \u001b[49m\u001b[43merrors\u001b[49m\u001b[38;5;241;43m=\u001b[39;49m\u001b[38;5;28;43mself\u001b[39;49m\u001b[38;5;241;43m.\u001b[39;49m\u001b[43moptions\u001b[49m\u001b[38;5;241;43m.\u001b[39;49m\u001b[43mget\u001b[49m\u001b[43m(\u001b[49m\u001b[38;5;124;43m\"\u001b[39;49m\u001b[38;5;124;43mencoding_errors\u001b[39;49m\u001b[38;5;124;43m\"\u001b[39;49m\u001b[43m,\u001b[49m\u001b[43m \u001b[49m\u001b[38;5;124;43m\"\u001b[39;49m\u001b[38;5;124;43mstrict\u001b[39;49m\u001b[38;5;124;43m\"\u001b[39;49m\u001b[43m)\u001b[49m\u001b[43m,\u001b[49m\n\u001b[1;32m   1713\u001b[0m \u001b[43m    \u001b[49m\u001b[43mstorage_options\u001b[49m\u001b[38;5;241;43m=\u001b[39;49m\u001b[38;5;28;43mself\u001b[39;49m\u001b[38;5;241;43m.\u001b[39;49m\u001b[43moptions\u001b[49m\u001b[38;5;241;43m.\u001b[39;49m\u001b[43mget\u001b[49m\u001b[43m(\u001b[49m\u001b[38;5;124;43m\"\u001b[39;49m\u001b[38;5;124;43mstorage_options\u001b[39;49m\u001b[38;5;124;43m\"\u001b[39;49m\u001b[43m,\u001b[49m\u001b[43m \u001b[49m\u001b[38;5;28;43;01mNone\u001b[39;49;00m\u001b[43m)\u001b[49m\u001b[43m,\u001b[49m\n\u001b[1;32m   1714\u001b[0m \u001b[43m\u001b[49m\u001b[43m)\u001b[49m\n\u001b[1;32m   1715\u001b[0m \u001b[38;5;28;01massert\u001b[39;00m \u001b[38;5;28mself\u001b[39m\u001b[38;5;241m.\u001b[39mhandles \u001b[38;5;129;01mis\u001b[39;00m \u001b[38;5;129;01mnot\u001b[39;00m \u001b[38;5;28;01mNone\u001b[39;00m\n\u001b[1;32m   1716\u001b[0m f \u001b[38;5;241m=\u001b[39m \u001b[38;5;28mself\u001b[39m\u001b[38;5;241m.\u001b[39mhandles\u001b[38;5;241m.\u001b[39mhandle\n",
      "File \u001b[0;32m/opt/conda/lib/python3.11/site-packages/pandas/io/common.py:863\u001b[0m, in \u001b[0;36mget_handle\u001b[0;34m(path_or_buf, mode, encoding, compression, memory_map, is_text, errors, storage_options)\u001b[0m\n\u001b[1;32m    858\u001b[0m \u001b[38;5;28;01melif\u001b[39;00m \u001b[38;5;28misinstance\u001b[39m(handle, \u001b[38;5;28mstr\u001b[39m):\n\u001b[1;32m    859\u001b[0m     \u001b[38;5;66;03m# Check whether the filename is to be opened in binary mode.\u001b[39;00m\n\u001b[1;32m    860\u001b[0m     \u001b[38;5;66;03m# Binary mode does not support 'encoding' and 'newline'.\u001b[39;00m\n\u001b[1;32m    861\u001b[0m     \u001b[38;5;28;01mif\u001b[39;00m ioargs\u001b[38;5;241m.\u001b[39mencoding \u001b[38;5;129;01mand\u001b[39;00m \u001b[38;5;124m\"\u001b[39m\u001b[38;5;124mb\u001b[39m\u001b[38;5;124m\"\u001b[39m \u001b[38;5;129;01mnot\u001b[39;00m \u001b[38;5;129;01min\u001b[39;00m ioargs\u001b[38;5;241m.\u001b[39mmode:\n\u001b[1;32m    862\u001b[0m         \u001b[38;5;66;03m# Encoding\u001b[39;00m\n\u001b[0;32m--> 863\u001b[0m         handle \u001b[38;5;241m=\u001b[39m \u001b[38;5;28;43mopen\u001b[39;49m\u001b[43m(\u001b[49m\n\u001b[1;32m    864\u001b[0m \u001b[43m            \u001b[49m\u001b[43mhandle\u001b[49m\u001b[43m,\u001b[49m\n\u001b[1;32m    865\u001b[0m \u001b[43m            \u001b[49m\u001b[43mioargs\u001b[49m\u001b[38;5;241;43m.\u001b[39;49m\u001b[43mmode\u001b[49m\u001b[43m,\u001b[49m\n\u001b[1;32m    866\u001b[0m \u001b[43m            \u001b[49m\u001b[43mencoding\u001b[49m\u001b[38;5;241;43m=\u001b[39;49m\u001b[43mioargs\u001b[49m\u001b[38;5;241;43m.\u001b[39;49m\u001b[43mencoding\u001b[49m\u001b[43m,\u001b[49m\n\u001b[1;32m    867\u001b[0m \u001b[43m            \u001b[49m\u001b[43merrors\u001b[49m\u001b[38;5;241;43m=\u001b[39;49m\u001b[43merrors\u001b[49m\u001b[43m,\u001b[49m\n\u001b[1;32m    868\u001b[0m \u001b[43m            \u001b[49m\u001b[43mnewline\u001b[49m\u001b[38;5;241;43m=\u001b[39;49m\u001b[38;5;124;43m\"\u001b[39;49m\u001b[38;5;124;43m\"\u001b[39;49m\u001b[43m,\u001b[49m\n\u001b[1;32m    869\u001b[0m \u001b[43m        \u001b[49m\u001b[43m)\u001b[49m\n\u001b[1;32m    870\u001b[0m     \u001b[38;5;28;01melse\u001b[39;00m:\n\u001b[1;32m    871\u001b[0m         \u001b[38;5;66;03m# Binary mode\u001b[39;00m\n\u001b[1;32m    872\u001b[0m         handle \u001b[38;5;241m=\u001b[39m \u001b[38;5;28mopen\u001b[39m(handle, ioargs\u001b[38;5;241m.\u001b[39mmode)\n",
      "\u001b[0;31mFileNotFoundError\u001b[0m: [Errno 2] No such file or directory: 'data/graph.txt'"
     ]
    }
   ],
   "source": [
    "datapath = \"data/graph.txt\"\n",
    "temp = pd.read_csv(datapath, header=None, skiprows=5, index_col=0, delimiter=\"     \")\n",
    "temp = temp + 14.15\n",
    "\n",
    "CO2_url = \"data/monthly_in_situ_co2_mlo.csv\"\n",
    "co2_data = pd.read_csv(CO2_url, header=58, skiprows=8, index_col=0)\n",
    "co2_data = co2_data.iloc[4:]\n",
    "co2_data = pd.to_numeric(co2_data.iloc[:, 5])\n",
    "co2_data[co2_data <= 0] = np.nan\n",
    "co2_data.index = pd.to_datetime(co2_data.index, format=\"%Y\")\n",
    "co2_data = co2_data.groupby(co2_data.index.year).mean()"
   ]
  },
  {
   "cell_type": "code",
   "execution_count": null,
   "metadata": {},
   "outputs": [],
   "source": [
    "f, (ax, bx) = plt.subplots(1, 2, figsize=(8, 4))\n",
    "ax.plot(np.arange(1850, 2020), co2_hist(np.arange(1850, 2020)), label=\"EBM model\")\n",
    "ax.plot(co2_data.index, co2_data.values, label=\"Keeling Curve\")\n",
    "ax.set_ylabel(\"$CO_2$ concentration [ppm]\")\n",
    "ax.grid()\n",
    "ax.set_xlabel(\"Year\")\n",
    "ax.legend()\n",
    "\n",
    "\n",
    "bx.plot(np.arange(1850, 2021), model.T, label=\"EBM model\")\n",
    "temp.plot(ax=bx)\n",
    "bx.set_ylabel(\"Temperature [°C]\")\n",
    "bx.grid()\n",
    "bx.legend([\"EBM Model\", \"NASA Observations\", \"NASA Obs roll. mean\"])\n",
    "bx.set_xlabel(\"Year\")\n",
    "\n",
    "f.tight_layout()"
   ]
  },
  {
   "cell_type": "markdown",
   "metadata": {},
   "source": [
    "```{warning} CO<sub>2</sub> Emissions: Beyond Trend Predictions to Climate Noise\n",
    "\n",
    "While CO<sub>2</sub> emissions can be used to predict the overarching trend in climate, we must also consider the inherent climate noise present in observations. This noise doesn't arise from instrumental inaccuracies but represents genuine signals from the Earth's natural variability.\n",
    "\n",
    "Such natural fluctuations are mainly attributed to the turbulent and chaotic fluid dynamics of both the atmosphere and the ocean. We will delve deeper into this topic in **Lecture 4**. The dynamics are visually represented in the following illustrations:\n",
    "```"
   ]
  },
  {
   "cell_type": "markdown",
   "metadata": {},
   "source": [
    "[![Video Thumbnail](https://img.youtube.com/vi/oRsY_UviBPE/maxresdefault.jpg)](https://youtu.be/oRsY_UviBPE)\n"
   ]
  },
  {
   "cell_type": "markdown",
   "metadata": {},
   "source": [
    "Now that we've convinced ourselves that the model accurately reproduces historical warming, we can use it to project how much warming we might expect due to future CO₂ emissions."
   ]
  },
  {
   "cell_type": "markdown",
   "metadata": {},
   "source": [
    "### 3.3) Best- and worst-case projections of future global warming\n",
    "\n",
    "Consider two divergent hypothetical futures:\n",
    "\n",
    "1) a low-emissions world in which emissions decrease such that CO2 concentrations stay below 500 ppm by 2100 (known in climate circles as \"RCP2.6\") and\n",
    "\n",
    "2) a high-emissions world in which emissions continue increasing and CO2 concentrations soar upwards of 1200 ppm (\"RCP8.5\")."
   ]
  },
  {
   "cell_type": "code",
   "execution_count": null,
   "metadata": {},
   "outputs": [],
   "source": [
    "def CO2_RCP26(t):\n",
    "    return 280 * (\n",
    "        1 + ((t - 1850) / 220) ** 3 * np.minimum(1.0, np.exp(-((t - 1850) - 170) / 100))\n",
    "    )\n",
    "\n",
    "\n",
    "def CO2_RCP85(t):\n",
    "    return 280 * (\n",
    "        1 + ((t - 1850) / 220) ** 3 * np.maximum(1.0, np.exp(((t - 1850) - 170) / 100))\n",
    "    )"
   ]
  },
  {
   "cell_type": "markdown",
   "metadata": {},
   "source": [
    "In the low-emissions scenario, the temperature increase stays below $\\Delta T$ = 2 °C by 2100, while in the high-emissions scenario temperatures soar upwards of 3.5ºC above pre-industrial levels."
   ]
  },
  {
   "cell_type": "code",
   "execution_count": null,
   "metadata": {},
   "outputs": [],
   "source": [
    "model_parameters[\"CO2\"] = CO2_RCP26\n",
    "model1 = EBM(**model_parameters)\n",
    "\n",
    "model_parameters[\"CO2\"] = CO2_RCP85\n",
    "model2 = EBM(**model_parameters)\n",
    "\n",
    "run_model(model1, 249)\n",
    "run_model(model2, 249)"
   ]
  },
  {
   "cell_type": "code",
   "execution_count": null,
   "metadata": {},
   "outputs": [],
   "source": [
    "f, (ax, bx) = plt.subplots(1, 2, figsize=(8, 4))\n",
    "\n",
    "ax.plot(\n",
    "    np.arange(1850, 2100),\n",
    "    CO2_RCP26(np.arange(1850, 2100)),\n",
    "    color=\"Blue\",\n",
    "    label=\"RCP 2.6 low emissions\",\n",
    ")\n",
    "ax.plot(\n",
    "    np.arange(1850, 2100),\n",
    "    CO2_RCP85(np.arange(1850, 2100)),\n",
    "    color=\"Red\",\n",
    "    label=\"RCP 8.5 High emissions\",\n",
    ")\n",
    "ax.plot(\n",
    "    2023, CO2_RCP26(2023), marker=\".\", markersize=20, label=\"we are here\", color=\"black\"\n",
    ")\n",
    "ax.set_ylabel(\"$CO_2$ concentration [ppm]\")\n",
    "ax.legend()\n",
    "\n",
    "bx.plot(np.arange(1850, 2100), model1.T, color=\"Blue\")\n",
    "bx.plot(np.arange(1850, 2100), model2.T, color=\"Red\")\n",
    "bx.axhline(\n",
    "    y=16, label=\"Paris Agreement\\n threshold (2°C warming)\", ls=\"--\", color=\"black\"\n",
    ")\n",
    "bx.set_ylabel(\"Temperature [°C]\")\n",
    "bx.plot(\n",
    "    2023, model1.T[173], marker=\".\", markersize=20, label=\"we are here\", color=\"black\"\n",
    ")\n",
    "bx.legend()\n",
    "\n",
    "f.tight_layout()"
   ]
  },
  {
   "cell_type": "markdown",
   "metadata": {},
   "source": [
    "```{note}\n",
    "A big thank you to [Henri Drake](https://github.com/hdrake) for the insightful lecture!\n",
    "\n",
    "The content is sourced from the MIT course titled [Introduction to Computational Thinking](https://computationalthinking.mit.edu/Fall20/lecture20/). This course is structured around the [Julia programming language](http://www.julialang.org/). \n",
    "\n",
    "The original code corresponding to this lecture is available on GitHub: [simplEarth/1_energy_balance_model.jl](https://github.com/hdrake/simplEarth/blob/master/1_energy_balance_model.jl).\n",
    "\n",
    "Additionally, some content has been adapted from [Brian Rose's Climate Laboratory Book](https://brian-rose.github.io/ClimateLaboratoryBook/courseware/).\n",
    "```\n"
   ]
  }
 ],
 "metadata": {
  "kernelspec": {
   "display_name": "Python 3 (ipykernel)",
   "language": "python",
   "name": "python3"
  },
  "language_info": {
   "codemirror_mode": {
    "name": "ipython",
    "version": 3
   },
   "file_extension": ".py",
   "mimetype": "text/x-python",
   "name": "python",
   "nbconvert_exporter": "python",
   "pygments_lexer": "ipython3",
   "version": "3.11.5"
  }
 },
 "nbformat": 4,
 "nbformat_minor": 4
}
