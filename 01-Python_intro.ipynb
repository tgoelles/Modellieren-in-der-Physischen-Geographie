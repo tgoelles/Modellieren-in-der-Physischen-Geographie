{
 "cells": [
  {
   "cell_type": "markdown",
   "metadata": {},
   "source": [
    "# Introduction to python\n",
    "\n",
    "## Acknowledgment\n",
    "\n",
    "Adapted from https://florianboergel.github.io/climateoftheocean/intro.html#\n",
    "* changed prints to use f-strings"
   ]
  },
  {
   "cell_type": "markdown",
   "metadata": {},
   "source": [
    "# Getting started\n",
    "\n",
    "\n",
    "## What are we doing during the course?\n",
    "\n",
    "The course aims to introduce you to the first steps of data analysis\n",
    "\n",
    "If you never coded before than starting with Python is perfect! Python is one of the easiest and most straight forward languages."
   ]
  },
  {
   "cell_type": "code",
   "execution_count": null,
   "metadata": {},
   "outputs": [],
   "source": [
    "x = 1"
   ]
  },
  {
   "cell_type": "code",
   "execution_count": null,
   "metadata": {},
   "outputs": [],
   "source": [
    "x"
   ]
  },
  {
   "cell_type": "code",
   "execution_count": null,
   "metadata": {},
   "outputs": [],
   "source": [
    "x = \"abcd\""
   ]
  },
  {
   "cell_type": "code",
   "execution_count": null,
   "metadata": {},
   "outputs": [],
   "source": [
    "x"
   ]
  },
  {
   "cell_type": "markdown",
   "metadata": {},
   "source": [
    "x as an integer and then a string? The same concept is applicable for many other different examples. Python has a minimalistic approech and follows a simple syntax. This is why source code is very easy to read."
   ]
  },
  {
   "cell_type": "code",
   "execution_count": null,
   "metadata": {},
   "outputs": [],
   "source": [
    "x = 0\n",
    "if x > 0:\n",
    "    statement = \"x is positive\"\n",
    "elif x < 0:\n",
    "    statement = \"x is negative\"\n",
    "else:\n",
    "    statement = \"x is zero or none\"\n",
    "\n",
    "print(statement)"
   ]
  },
  {
   "cell_type": "code",
   "execution_count": null,
   "metadata": {},
   "outputs": [],
   "source": [
    "x = 5 - 4  # Comments are made with a hash Raute\n",
    "y = \"Hello\"  # Everything after the hash will be a comment\n",
    "if y == \"hallo\":\n",
    "    z = x * 2\n",
    "    y = y + \" World\"  # This is how you combine strings!\n",
    "\n",
    "print(\"x :\", x)  # The letter x and the our variable x\n",
    "print(\"y :\", y)"
   ]
  },
  {
   "cell_type": "markdown",
   "metadata": {},
   "source": [
    "**First summary:**\n",
    "- Indenting of the source code has a meaning!\n",
    "    -  the indentation of your code organizes it into blocks within blocks within blocks. \n",
    "- the first assignment of a variable creates it\n",
    "    - we don't care if it is an integer, float or string\n",
    "- assignments of variables use *=*, to compare two variables we use *==*\n",
    "- also: logical operators are words (and, or, not) *not* symbols"
   ]
  },
  {
   "cell_type": "markdown",
   "metadata": {},
   "source": [
    "## Variables and types\n",
    "### Variable\n",
    "The value of a variable can be obtained by writing its name."
   ]
  },
  {
   "cell_type": "code",
   "execution_count": null,
   "metadata": {},
   "outputs": [],
   "source": [
    "pi = 3.14\n",
    "\n",
    "radius = 68.7"
   ]
  },
  {
   "cell_type": "markdown",
   "metadata": {},
   "source": [
    "**Example:**\n",
    "\n",
    "Calculate the area of the circle \n",
    "\n",
    "A = $\\pi r^2$ \n",
    "\n",
    "Exponentiation in Python is defined as\n",
    "\n",
    "r**2 \n",
    "\n"
   ]
  },
  {
   "cell_type": "code",
   "execution_count": null,
   "metadata": {},
   "outputs": [],
   "source": [
    "area =\n",
    "print(\n",
    "    f\"the area is = {area}\"\n",
    ")  # This usies the f-string to print the value of area. Everything in the curly braces will be replaced by the value of the variable"
   ]
  },
  {
   "cell_type": "markdown",
   "metadata": {},
   "source": [
    "### Types\n",
    "\n",
    "Without going into detail:"
   ]
  },
  {
   "cell_type": "code",
   "execution_count": null,
   "metadata": {},
   "outputs": [],
   "source": [
    "pi = 3.141516546859754674896794\n",
    "days_of_week = 5\n",
    "x = \"Hey Guys\"\n",
    "y = \"Also works this way ...\"\n",
    "z = True\n",
    "\n",
    "print(f\"pi: {type(pi)}\")\n",
    "print(f\"days_of_week: {type(days_of_week)}\")\n",
    "print(f\"x: {type(x)}\")\n",
    "print(f\"y: {type(y)}\")\n",
    "print(f\"z: {type(z)}\")"
   ]
  },
  {
   "cell_type": "markdown",
   "metadata": {},
   "source": [
    "Does this really matter? Actually, no, since Python's use of variables is very intuitive. Still, keep in mind that a different variable type can lead to different behaviour:"
   ]
  },
  {
   "cell_type": "code",
   "execution_count": null,
   "metadata": {},
   "outputs": [],
   "source": [
    "2 + 3"
   ]
  },
  {
   "cell_type": "code",
   "execution_count": null,
   "metadata": {},
   "outputs": [],
   "source": [
    "\"ab\" + \"cd\""
   ]
  },
  {
   "cell_type": "code",
   "execution_count": null,
   "metadata": {},
   "outputs": [],
   "source": [
    "# We define two integers and assign the division to c\n",
    "a = 1\n",
    "b = 5\n",
    "\n",
    "c = a / b"
   ]
  },
  {
   "cell_type": "markdown",
   "metadata": {},
   "source": [
    "What is the value of c?"
   ]
  },
  {
   "cell_type": "code",
   "execution_count": null,
   "metadata": {},
   "outputs": [],
   "source": [
    "print(c)"
   ]
  },
  {
   "cell_type": "markdown",
   "metadata": {},
   "source": [
    "### Lists\n",
    "As opposed to int, bool etc., a list is a compound data type; you can group values together:\n",
    "\n",
    "\n",
    "```python\n",
    "a = \"is\"\n",
    "b = \"nice\"\n",
    "my_list = [\"my\", \"list\", a, b]\n",
    "```\n",
    "After measuring the height of your family, you decide to collect some information on the house you're living in. The areas of the different parts of your house are stored in separate variables for now, as shown in the script."
   ]
  },
  {
   "cell_type": "markdown",
   "metadata": {},
   "source": [
    "### List of lists\n",
    "As a data scientist, you'll often be dealing with a lot of data, and it will make sense to group some of this data.\n",
    "\n",
    "Instead of creating a flat list containing strings and floats, representing the names and areas of the rooms in your house, you can create a list of lists. The script on the right can already give you an idea.\n",
    "\n",
    "Don't get confused here: \"hallway\" is a string, while hall is a variable that represents the float 11.25 you specified earlier."
   ]
  },
  {
   "cell_type": "code",
   "execution_count": null,
   "metadata": {},
   "outputs": [],
   "source": [
    "# area variables (in square meters)\n",
    "hall = 11.25\n",
    "kit = 18.0\n",
    "liv = 20.0\n",
    "bed = 10.75\n",
    "bath = 9.50\n",
    "\n",
    "# house information as list of lists\n",
    "house = [[\"hallway\", hall], [\"kitchen\", kit], [\"living room\", liv], [\"bedroom\"], bed]"
   ]
  },
  {
   "cell_type": "markdown",
   "metadata": {},
   "source": [
    "### Example\n",
    "\n",
    "- Print out house\n",
    "- Print out the type of house\n",
    "- Add the the bath to the house\n"
   ]
  },
  {
   "cell_type": "code",
   "execution_count": null,
   "metadata": {},
   "outputs": [],
   "source": []
  },
  {
   "cell_type": "markdown",
   "metadata": {},
   "source": [
    "## Subset and conquer\n",
    "Subsetting Python lists is a piece of cake. Take the code sample below, which creates a list x and then selects \"b\" from it. Remember that this is the second element, so it has index 1. You can also use negative indexing.\n",
    "\n",
    "```python\n",
    "x = [\"a\", \"b\", \"c\", \"d\"]\n",
    "x[1]\n",
    "x[-3] # same result!\n",
    "```"
   ]
  },
  {
   "cell_type": "code",
   "execution_count": null,
   "metadata": {},
   "outputs": [],
   "source": [
    "# Feel free to test:\n",
    "\n",
    "x = [\"a\", \"b\", \"c\", \"d\"]"
   ]
  },
  {
   "cell_type": "markdown",
   "metadata": {},
   "source": [
    "### Example\n",
    "Remember the areas list from before, containing both strings and floats? Its definition is already in the script. Can you add the correct code to do some Python subsetting?\n",
    "\n",
    "Print out the area of the living room."
   ]
  },
  {
   "cell_type": "code",
   "execution_count": null,
   "metadata": {},
   "outputs": [],
   "source": []
  },
  {
   "cell_type": "markdown",
   "metadata": {},
   "source": [
    "### Tip\n",
    "\n",
    "Some times it makes sense to avoid lists of lists and instead use dictionaries.\n",
    "\n",
    "```python\n",
    "house = {\n",
    "    \"hallway\": hall,\n",
    "    \"kitchen\": kit,\n",
    "    \"living room\": liv,\n",
    "    \"bedroom\": bed\n",
    "}\n",
    "```"
   ]
  },
  {
   "cell_type": "code",
   "execution_count": null,
   "metadata": {},
   "outputs": [],
   "source": [
    "house = {\"hallway\": hall, \"kitchen\": kit, \"living room\": liv, \"bedroom\": bed}"
   ]
  },
  {
   "cell_type": "code",
   "execution_count": null,
   "metadata": {},
   "outputs": [],
   "source": [
    "house.keys()"
   ]
  },
  {
   "cell_type": "code",
   "execution_count": null,
   "metadata": {},
   "outputs": [],
   "source": [
    "house[\"hallway\"]"
   ]
  },
  {
   "cell_type": "markdown",
   "metadata": {},
   "source": [
    "### Familiar functions\n",
    "Out of the box, Python offers a bunch of built-in functions to make your life as a data scientist easier. You already know two such functions: print() and type(). You've also used the functions str(), int(), bool() and float() to switch between data types. These are built-in functions as well.\n",
    "\n",
    "Calling a function is easy. To get the type of 3.0 and store the output as a new variable, result, you can use the following:\n",
    "\n",
    "result = type(3.0)\n",
    "\n",
    "The general recipe for calling functions and saving the result to a variable is thus:\n",
    "\n",
    "output = function_name(input)"
   ]
  },
  {
   "cell_type": "code",
   "execution_count": null,
   "metadata": {},
   "outputs": [],
   "source": [
    "# Create variables var1 and var2\n",
    "var1 = [1, 2, 3, 4]\n",
    "var2 = False\n",
    "\n",
    "# Print out type of var1\n",
    "print(type(var1))\n",
    "# Print out length of var1\n",
    "print(len(var1))\n",
    "\n",
    "# Convert var2 to an integer: out2\n",
    "int(var2)"
   ]
  },
  {
   "cell_type": "markdown",
   "metadata": {},
   "source": [
    "## Numpy\n",
    "\n",
    " Numpy is a library, adding support for large, multi-dimensional arrays and matrices, along with a large collection of high-level mathematical functions to operate on these arrays."
   ]
  },
  {
   "cell_type": "code",
   "execution_count": null,
   "metadata": {},
   "outputs": [],
   "source": [
    "import numpy as np  # This is how you import a package in python. It is common to use an abbreviation for the package name.\n",
    "# In this case we use np for numpy. Packages are usually imported at the very beginning.\n",
    "\n",
    "# List\n",
    "a = [1, 2, 3, 4, 5, 6, 7, 8, 9]\n",
    "\n",
    "# numpy array\n",
    "A = np.array([1, 2, 3, 4, 5, 6, 7, 8, 9])\n",
    "\n",
    "print(\"This is a list: {} and looks like \\n {}\".format(type(a), a))\n",
    "print(\"This is an array: {} and looks like \\n {}\".format(type(A), A))"
   ]
  },
  {
   "cell_type": "markdown",
   "metadata": {},
   "source": [
    "### Create arrays of a give length"
   ]
  },
  {
   "cell_type": "code",
   "execution_count": null,
   "metadata": {},
   "outputs": [],
   "source": [
    "y_ar = np.arange(0, 1, 0.1)\n",
    "print(\"Lenght of array y_ar is {}.\".format(len(y_ar)))\n",
    "print(y_ar)\n",
    "\n",
    "x_ar = np.linspace(1, 10, 5)  # creates an array of length 5 between 1 and 10\n",
    "\n",
    "print(\"Lenght of array x_ar is {}.\".format(len(x_ar)))\n",
    "print(x_ar)"
   ]
  },
  {
   "cell_type": "markdown",
   "metadata": {},
   "source": [
    "### Multidimensional arrays"
   ]
  },
  {
   "cell_type": "code",
   "execution_count": null,
   "metadata": {},
   "outputs": [],
   "source": [
    "z_ar = np.zeros((100))  # creates an array of shape (100,) with zeros\n",
    "\n",
    "print(\"Shape of z_ar is {}\".format(z_ar.shape))\n",
    "\n",
    "z_ar = np.zeros((100, 1))\n",
    "\n",
    "print(\"Shape of z_ar is {}\".format(z_ar.shape))\n",
    "\n",
    "z_ar = np.zeros((100, 1, 3, 5))\n",
    "\n",
    "print(\"Shape of z_ar is {}\".format(z_ar.shape))\n",
    "\n",
    "z_ar[0, 0, 1, 2]"
   ]
  },
  {
   "cell_type": "markdown",
   "metadata": {},
   "source": [
    ".shape gives you the dimensions of the array, while len() only returns the lenght of the first dimension!"
   ]
  },
  {
   "cell_type": "code",
   "execution_count": null,
   "metadata": {},
   "outputs": [],
   "source": [
    "a = [1, 2, 3]\n",
    "b = [3, 4, 5]\n",
    "\n",
    "print(a + b)\n",
    "\n",
    "c = []\n",
    "\n",
    "for count in range(len(a)):\n",
    "    c.append(a[count] + b[count])\n",
    "\n",
    "print(c)"
   ]
  },
  {
   "cell_type": "code",
   "execution_count": null,
   "metadata": {},
   "outputs": [],
   "source": [
    "a = np.array([1.0, 2.0, 3.0])\n",
    "b = np.array([3.0, 4.0, 5.0])\n",
    "\n",
    "print(a + b)"
   ]
  },
  {
   "cell_type": "markdown",
   "metadata": {},
   "source": [
    "### For loops"
   ]
  },
  {
   "cell_type": "code",
   "execution_count": null,
   "metadata": {},
   "outputs": [],
   "source": [
    "# If you are not familiar with for loops please try yourself:\n",
    "\n",
    "for i in range(0, 5):\n",
    "    print(f\"for loop version 1: {i}\")\n",
    "\n",
    "for i in range(5):\n",
    "    print(f\"for loop version 2: {i}\")\n",
    "\n",
    "for i in [0, 1, 2, 3, 4]:\n",
    "    print(f\"for loop version 3: {i}\")"
   ]
  },
  {
   "cell_type": "markdown",
   "metadata": {},
   "source": [
    "### Useful functions:\n"
   ]
  },
  {
   "cell_type": "code",
   "execution_count": null,
   "metadata": {},
   "outputs": [],
   "source": [
    "z = np.random.rand(10, 20, 30)\n",
    "\n",
    "print(z.shape)"
   ]
  },
  {
   "cell_type": "code",
   "execution_count": null,
   "metadata": {},
   "outputs": [],
   "source": [
    "z_mean = np.nanmean(z, axis=1)\n",
    "\n",
    "print(z_mean.shape)\n",
    "\n",
    "z_mean = np.nanmean(z, axis=(1, 2))\n",
    "\n",
    "print(z_mean.shape)\n",
    "\n",
    "z_mean_sqrt = np.sqrt(z_mean)  # square root"
   ]
  },
  {
   "cell_type": "markdown",
   "metadata": {},
   "source": [
    "## Functions"
   ]
  },
  {
   "cell_type": "code",
   "execution_count": null,
   "metadata": {},
   "outputs": [],
   "source": [
    "def multiply_constant(x, constant=5):\n",
    "    return x * constant\n",
    "\n",
    "\n",
    "print(multiply_constant(5))\n",
    "print(multiply_constant(5, 3))\n",
    "print(multiply_constant(x=5, constant=3))\n",
    "print(multiply_constant(a, constant=2.5))"
   ]
  },
  {
   "cell_type": "markdown",
   "metadata": {},
   "source": [
    "# Data visualization"
   ]
  },
  {
   "cell_type": "markdown",
   "metadata": {},
   "source": [
    "## 1D Plot"
   ]
  },
  {
   "cell_type": "code",
   "execution_count": null,
   "metadata": {},
   "outputs": [],
   "source": [
    "import numpy as np\n",
    "import matplotlib.pyplot as plt\n",
    "import pandas as pd\n",
    "\n",
    "x = np.arange(0, 300)  # Numbers from 0 to 30 (30 not included)\n",
    "y = np.sin(np.arange(0, 300)) + np.random.normal(0, 5, 300)  # Create sinus\n",
    "##signal and add noise\n",
    "\n",
    "dataFrame = pd.DataFrame({\"Intervals\": x, \"values\": y})\n",
    "\n",
    "rolling_mean = dataFrame[\"values\"].rolling(10, min_periods=1, center=True).mean()\n",
    "\n",
    "plt.plot(x, y, label=\"Kurve\", alpha=0.5)\n",
    "plt.plot(x, rolling_mean.values, label=\"Rolling Mean\")\n",
    "plt.title(\"Sinus + Random\")\n",
    "plt.xlabel(\"Interval\")\n",
    "plt.ylabel(\"Values\")\n",
    "plt.legend()"
   ]
  },
  {
   "cell_type": "markdown",
   "metadata": {},
   "source": [
    "## 2D Plots"
   ]
  },
  {
   "cell_type": "code",
   "execution_count": null,
   "metadata": {},
   "outputs": [],
   "source": [
    "z = np.random.rand(20, 20)\n",
    "\n",
    "levels = np.linspace(0, 1, 10)\n",
    "f, ax = plt.subplots(1)\n",
    "im = ax.pcolor(z)\n",
    "# im = ax.contourf(z, levels = levels)\n",
    "# ax.contour(z)\n",
    "ax.set_title(\"Random Noise from 0 - 1\")\n",
    "f.colorbar(im)"
   ]
  },
  {
   "cell_type": "markdown",
   "metadata": {},
   "source": [
    "# xarray for multidimensioanl data"
   ]
  },
  {
   "cell_type": "code",
   "execution_count": null,
   "metadata": {},
   "outputs": [],
   "source": [
    "import xarray as xr\n",
    "from pathlib import Path\n",
    "\n",
    "netcdf_file = Path(\"data\", \"sresa1b_ncar_ccsm3-example.nc\")\n",
    "\n",
    "ds = xr.open_dataset(netcdf_file)"
   ]
  },
  {
   "cell_type": "code",
   "execution_count": null,
   "metadata": {},
   "outputs": [],
   "source": [
    "ds"
   ]
  },
  {
   "cell_type": "code",
   "execution_count": null,
   "metadata": {},
   "outputs": [],
   "source": [
    "ds.isel(time=0)"
   ]
  },
  {
   "cell_type": "code",
   "execution_count": null,
   "metadata": {},
   "outputs": [],
   "source": [
    "ds.isel(time=0).tas.plot()"
   ]
  }
 ],
 "metadata": {
  "interpreter": {
   "hash": "d5f83bbddec2fad62f798bddde282a6482dd60734d4bf269b14c3a8e72d12866"
  },
  "kernelspec": {
   "display_name": "Python 3.9.7 64-bit ('gui': conda)",
   "name": "python3"
  },
  "language_info": {
   "codemirror_mode": {
    "name": "ipython",
    "version": 3
   },
   "file_extension": ".py",
   "mimetype": "text/x-python",
   "name": "python",
   "nbconvert_exporter": "python",
   "pygments_lexer": "ipython3",
   "version": "3.11.5"
  },
  "toc": {
   "base_numbering": 1,
   "nav_menu": {},
   "number_sections": true,
   "sideBar": true,
   "skip_h1_title": false,
   "title_cell": "Table of Contents",
   "title_sidebar": "Contents",
   "toc_cell": true,
   "toc_position": {
    "height": "calc(100% - 180px)",
    "left": "10px",
    "top": "150px",
    "width": "192px"
   },
   "toc_section_display": true,
   "toc_window_display": true
  }
 },
 "nbformat": 4,
 "nbformat_minor": 4
}
